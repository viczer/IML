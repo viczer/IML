{
 "cells": [
  {
   "cell_type": "markdown",
   "metadata": {},
   "source": [
    "**Auteur** : Viktoriya Zeruk<br>\n",
    "**Date dernière version** : 18/05/2022<br>\n",
    "\n",
    "---"
   ]
  },
  {
   "cell_type": "markdown",
   "metadata": {},
   "source": [
    "\n",
    "<div style=\"display: flex; background: rgb(75,0,130);\n",
    "background: linear-gradient(90deg, rgba(75,0,130,1) 47%, rgba(216,191,216,1) 89%, rgba(230,230,250,1) 100%);\">\n",
    "<h2 style=\"margin: auto; font-weight: bold; padding: 30px 30px 0px 30px;\" align=\"center\">Project 4 : Segmentez des clients d'un site e-commerce\n",
    " </br>  | Notebook 3 :  RFM  | <br></h2> </div>    \n",
    "\n",
    "\n",
    "<div style=\"display: flex; background: rgb(75,0,130);\n",
    "background: linear-gradient(90deg, rgba(75,0,130,1) 47%, rgba(216,191,216,1) 89%, rgba(230,230,250,1) 100%);\">\n",
    "<h4 style=\"margin: auto; font-weight: bold; padding: 30px 30px 0px 30px;\" align=\"center\"> _______________________________________________________________________________________________</h4> \n",
    "</div>    "
   ]
  },
  {
   "cell_type": "markdown",
   "metadata": {},
   "source": [
    "###  Marketing Analytics - Segmentation client RFM avec K Means\n",
    "\n",
    "En matière de marketing, si vous essayez de parler à tout le monde, vous aurez du mal à joindre qui que ce soit. Les messages vagues et génériques sont beaucoup moins susceptibles de trouver un écho auprès du public qu'une communication directe spécifique - c'est pourquoi le ciblage en marketing est si important. Les spécialistes du marketing intelligents comprennent l'importance de \"connaître le client\". Au lieu de simplement se concentrer sur la génération de plus de clics, les spécialistes du marketing doivent suivre le changement de paradigme de l'augmentation des CTR (taux de clics) vers la rétention, la fidélité et l'établissement de relations avec les clients.\n",
    "\n",
    "Au lieu d'analyser l'ensemble de la clientèle dans son ensemble, il est préférable de les segmenter en groupes homogènes, de comprendre les caractéristiques/comportements de chaque groupe et de les engager avec des campagnes ciblées pertinentes.\n",
    "\n",
    "##### L'analyse RFM est l'une des méthodes de segmentation les plus populaires, les plus faciles à utiliser et les plus efficaces qui permettent aux spécialistes du marketing d'analyser le comportement des clients.\n",
    "\n",
    "RFM signifie récence, fréquence et valeur monétaire, chacune correspondant à un trait clé du client. Ces mesures RFM sont des indicateurs importants du comportement d'un client, car la fréquence et la valeur monétaire affectent la valeur à vie d'un client, et la récence affecte la rétention, une mesure de l'engagement.\n",
    "\n",
    "Les entreprises qui n'ont pas l'aspect monétaire, comme l'audience, le lectorat ou les produits axés sur le surf, pourraient utiliser des paramètres d'engagement au lieu de paramètres monétaires. Cela se traduit par l'utilisation de RFE (récence, fréquence, engagement) - une variante de RFM. De plus, ce paramètre d'engagement pourrait être défini comme une valeur composite basée sur des mesures telles que le taux de rebond, la durée de la visite, le nombre de pages visitées, le temps passé par page, etc.\n",
    "\n",
    "Les caractéristiques RFM des clients illustrent ces caractéristiques :\n",
    "\n",
    "1. Plus leurs achats sont récents, plus ils sont sensibles aux promotions.\n",
    "2. Plus ils achètent fréquemment, plus ils sont engagés et satisfaits.\n",
    "3. Plus la valeur monétaire aide à différencier les grands dépensiers des petits dépensiers."
   ]
  },
  {
   "cell_type": "markdown",
   "metadata": {},
   "source": [
    "Nous voulons également être en mesure de segmenter nos données en fonction de leur comportement."
   ]
  },
  {
   "cell_type": "code",
   "execution_count": 15,
   "metadata": {},
   "outputs": [],
   "source": [
    "import pandas as pd # for dataframes\n",
    "import matplotlib.pyplot as plt # for plotting graphs\n",
    "import seaborn as sns # for plotting graphs\n",
    "import datetime as dt\n",
    "import re\n",
    "from pandas.plotting import scatter_matrix\n",
    "import time, warnings\n",
    "import datetime as dt\n",
    "import plotly.offline as py\n",
    "import plotly.graph_objs as go\n",
    "import os"
   ]
  },
  {
   "cell_type": "code",
   "execution_count": 16,
   "metadata": {},
   "outputs": [],
   "source": [
    "def configure_plotly_browser_state():\n",
    "    import IPython\n",
    "    display(IPython.core.display.HTML('''\n",
    "        <script src=\"/static/components/requirejs/require.js\"></script>\n",
    "        <script>\n",
    "          requirejs.config({\n",
    "            paths: {\n",
    "              base: '/static/base',\n",
    "              plotly: 'https://cdn.plot.ly/plotly-latest.min.js?noext',\n",
    "            },\n",
    "          });\n",
    "        </script>\n",
    "        '''))"
   ]
  },
  {
   "cell_type": "code",
   "execution_count": 17,
   "metadata": {},
   "outputs": [],
   "source": [
    "# Reading all the files\n",
    "raw_path = 'data/'\n",
    "olist_customer = pd.read_csv(raw_path + 'olist_customers_dataset.csv')\n",
    "olist_geolocation = pd.read_csv(raw_path + 'olist_geolocation_dataset.csv')\n",
    "olist_orders = pd.read_csv(raw_path + 'olist_orders_dataset.csv')\n",
    "olist_order_items = pd.read_csv(raw_path + 'olist_order_items_dataset.csv')\n",
    "olist_order_payments = pd.read_csv(raw_path + 'olist_order_payments_dataset.csv')\n",
    "olist_order_reviews = pd.read_csv(raw_path + 'olist_order_reviews_dataset.csv')\n",
    "olist_products = pd.read_csv(raw_path + 'olist_products_dataset.csv')\n",
    "olist_sellers = pd.read_csv(raw_path + 'olist_sellers_dataset.csv')\n",
    "olist_product_translation = pd.read_csv(raw_path + 'product_category_name_translation.csv')"
   ]
  },
  {
   "cell_type": "code",
   "execution_count": 18,
   "metadata": {},
   "outputs": [],
   "source": [
    "datasets = [olist_customer, olist_geolocation, olist_orders, olist_order_items, olist_order_payments, \n",
    "            olist_order_reviews, olist_products, olist_sellers]\n",
    "names = ['olist_customer', 'olist_geolocation', 'olist_orders', 'olist_order_items', 'olist_order_payments', \n",
    "            'olist_order_reviews', 'olist_products', 'olist_sellers']"
   ]
  },
  {
   "cell_type": "code",
   "execution_count": 19,
   "metadata": {},
   "outputs": [
    {
     "data": {
      "text/html": [
       "<style type=\"text/css\">\n",
       "#T_9e864_row0_col1, #T_9e864_row2_col1, #T_9e864_row5_col1 {\n",
       "  background-color: #f1ebf4;\n",
       "  color: #000000;\n",
       "}\n",
       "#T_9e864_row0_col2, #T_9e864_row1_col2, #T_9e864_row4_col2 {\n",
       "  background-color: #dbdaeb;\n",
       "  color: #000000;\n",
       "}\n",
       "#T_9e864_row0_col3, #T_9e864_row0_col4, #T_9e864_row1_col3, #T_9e864_row1_col4, #T_9e864_row3_col3, #T_9e864_row3_col4, #T_9e864_row4_col3, #T_9e864_row4_col4, #T_9e864_row7_col1, #T_9e864_row7_col2, #T_9e864_row7_col3, #T_9e864_row7_col4 {\n",
       "  background-color: #fff7fb;\n",
       "  color: #000000;\n",
       "}\n",
       "#T_9e864_row1_col1, #T_9e864_row5_col3, #T_9e864_row6_col2, #T_9e864_row6_col4 {\n",
       "  background-color: #023858;\n",
       "  color: #f1f1f1;\n",
       "}\n",
       "#T_9e864_row2_col2 {\n",
       "  background-color: #0567a2;\n",
       "  color: #f1f1f1;\n",
       "}\n",
       "#T_9e864_row2_col3 {\n",
       "  background-color: #faf3f9;\n",
       "  color: #000000;\n",
       "}\n",
       "#T_9e864_row2_col4 {\n",
       "  background-color: #a5bddb;\n",
       "  color: #000000;\n",
       "}\n",
       "#T_9e864_row3_col1 {\n",
       "  background-color: #eee9f3;\n",
       "  color: #000000;\n",
       "}\n",
       "#T_9e864_row3_col2, #T_9e864_row5_col2 {\n",
       "  background-color: #4295c3;\n",
       "  color: #f1f1f1;\n",
       "}\n",
       "#T_9e864_row4_col1 {\n",
       "  background-color: #f0eaf4;\n",
       "  color: #000000;\n",
       "}\n",
       "#T_9e864_row5_col4 {\n",
       "  background-color: #d0d1e6;\n",
       "  color: #000000;\n",
       "}\n",
       "#T_9e864_row6_col1 {\n",
       "  background-color: #fbf3f9;\n",
       "  color: #000000;\n",
       "}\n",
       "#T_9e864_row6_col3 {\n",
       "  background-color: #fdf5fa;\n",
       "  color: #000000;\n",
       "}\n",
       "</style>\n",
       "<table id=\"T_9e864\">\n",
       "  <thead>\n",
       "    <tr>\n",
       "      <th class=\"blank level0\" >&nbsp;</th>\n",
       "      <th id=\"T_9e864_level0_col0\" class=\"col_heading level0 col0\" >dataset</th>\n",
       "      <th id=\"T_9e864_level0_col1\" class=\"col_heading level0 col1\" >n_rows</th>\n",
       "      <th id=\"T_9e864_level0_col2\" class=\"col_heading level0 col2\" >n_cols</th>\n",
       "      <th id=\"T_9e864_level0_col3\" class=\"col_heading level0 col3\" >null_amount</th>\n",
       "      <th id=\"T_9e864_level0_col4\" class=\"col_heading level0 col4\" >null_columns_qty</th>\n",
       "      <th id=\"T_9e864_level0_col5\" class=\"col_heading level0 col5\" >null_columns_names</th>\n",
       "    </tr>\n",
       "  </thead>\n",
       "  <tbody>\n",
       "    <tr>\n",
       "      <th id=\"T_9e864_level0_row0\" class=\"row_heading level0 row0\" >0</th>\n",
       "      <td id=\"T_9e864_row0_col0\" class=\"data row0 col0\" >olist_customer</td>\n",
       "      <td id=\"T_9e864_row0_col1\" class=\"data row0 col1\" >99441</td>\n",
       "      <td id=\"T_9e864_row0_col2\" class=\"data row0 col2\" >5</td>\n",
       "      <td id=\"T_9e864_row0_col3\" class=\"data row0 col3\" >0</td>\n",
       "      <td id=\"T_9e864_row0_col4\" class=\"data row0 col4\" >0</td>\n",
       "      <td id=\"T_9e864_row0_col5\" class=\"data row0 col5\" ></td>\n",
       "    </tr>\n",
       "    <tr>\n",
       "      <th id=\"T_9e864_level0_row1\" class=\"row_heading level0 row1\" >1</th>\n",
       "      <td id=\"T_9e864_row1_col0\" class=\"data row1 col0\" >olist_geolocation</td>\n",
       "      <td id=\"T_9e864_row1_col1\" class=\"data row1 col1\" >1000163</td>\n",
       "      <td id=\"T_9e864_row1_col2\" class=\"data row1 col2\" >5</td>\n",
       "      <td id=\"T_9e864_row1_col3\" class=\"data row1 col3\" >0</td>\n",
       "      <td id=\"T_9e864_row1_col4\" class=\"data row1 col4\" >0</td>\n",
       "      <td id=\"T_9e864_row1_col5\" class=\"data row1 col5\" ></td>\n",
       "    </tr>\n",
       "    <tr>\n",
       "      <th id=\"T_9e864_level0_row2\" class=\"row_heading level0 row2\" >2</th>\n",
       "      <td id=\"T_9e864_row2_col0\" class=\"data row2 col0\" >olist_orders</td>\n",
       "      <td id=\"T_9e864_row2_col1\" class=\"data row2 col1\" >99441</td>\n",
       "      <td id=\"T_9e864_row2_col2\" class=\"data row2 col2\" >8</td>\n",
       "      <td id=\"T_9e864_row2_col3\" class=\"data row2 col3\" >4908</td>\n",
       "      <td id=\"T_9e864_row2_col4\" class=\"data row2 col4\" >3</td>\n",
       "      <td id=\"T_9e864_row2_col5\" class=\"data row2 col5\" >order_approved_at, order_delivered_carrier_date, order_delivered_customer_date</td>\n",
       "    </tr>\n",
       "    <tr>\n",
       "      <th id=\"T_9e864_level0_row3\" class=\"row_heading level0 row3\" >3</th>\n",
       "      <td id=\"T_9e864_row3_col0\" class=\"data row3 col0\" >olist_order_items</td>\n",
       "      <td id=\"T_9e864_row3_col1\" class=\"data row3 col1\" >112650</td>\n",
       "      <td id=\"T_9e864_row3_col2\" class=\"data row3 col2\" >7</td>\n",
       "      <td id=\"T_9e864_row3_col3\" class=\"data row3 col3\" >0</td>\n",
       "      <td id=\"T_9e864_row3_col4\" class=\"data row3 col4\" >0</td>\n",
       "      <td id=\"T_9e864_row3_col5\" class=\"data row3 col5\" ></td>\n",
       "    </tr>\n",
       "    <tr>\n",
       "      <th id=\"T_9e864_level0_row4\" class=\"row_heading level0 row4\" >4</th>\n",
       "      <td id=\"T_9e864_row4_col0\" class=\"data row4 col0\" >olist_order_payments</td>\n",
       "      <td id=\"T_9e864_row4_col1\" class=\"data row4 col1\" >103886</td>\n",
       "      <td id=\"T_9e864_row4_col2\" class=\"data row4 col2\" >5</td>\n",
       "      <td id=\"T_9e864_row4_col3\" class=\"data row4 col3\" >0</td>\n",
       "      <td id=\"T_9e864_row4_col4\" class=\"data row4 col4\" >0</td>\n",
       "      <td id=\"T_9e864_row4_col5\" class=\"data row4 col5\" ></td>\n",
       "    </tr>\n",
       "    <tr>\n",
       "      <th id=\"T_9e864_level0_row5\" class=\"row_heading level0 row5\" >5</th>\n",
       "      <td id=\"T_9e864_row5_col0\" class=\"data row5 col0\" >olist_order_reviews</td>\n",
       "      <td id=\"T_9e864_row5_col1\" class=\"data row5 col1\" >99224</td>\n",
       "      <td id=\"T_9e864_row5_col2\" class=\"data row5 col2\" >7</td>\n",
       "      <td id=\"T_9e864_row5_col3\" class=\"data row5 col3\" >145903</td>\n",
       "      <td id=\"T_9e864_row5_col4\" class=\"data row5 col4\" >2</td>\n",
       "      <td id=\"T_9e864_row5_col5\" class=\"data row5 col5\" >review_comment_title, review_comment_message</td>\n",
       "    </tr>\n",
       "    <tr>\n",
       "      <th id=\"T_9e864_level0_row6\" class=\"row_heading level0 row6\" >6</th>\n",
       "      <td id=\"T_9e864_row6_col0\" class=\"data row6 col0\" >olist_products</td>\n",
       "      <td id=\"T_9e864_row6_col1\" class=\"data row6 col1\" >32951</td>\n",
       "      <td id=\"T_9e864_row6_col2\" class=\"data row6 col2\" >9</td>\n",
       "      <td id=\"T_9e864_row6_col3\" class=\"data row6 col3\" >2448</td>\n",
       "      <td id=\"T_9e864_row6_col4\" class=\"data row6 col4\" >8</td>\n",
       "      <td id=\"T_9e864_row6_col5\" class=\"data row6 col5\" >product_category_name, product_name_lenght, product_description_lenght, product_photos_qty, product_weight_g, product_length_cm, product_height_cm, product_width_cm</td>\n",
       "    </tr>\n",
       "    <tr>\n",
       "      <th id=\"T_9e864_level0_row7\" class=\"row_heading level0 row7\" >7</th>\n",
       "      <td id=\"T_9e864_row7_col0\" class=\"data row7 col0\" >olist_sellers</td>\n",
       "      <td id=\"T_9e864_row7_col1\" class=\"data row7 col1\" >3095</td>\n",
       "      <td id=\"T_9e864_row7_col2\" class=\"data row7 col2\" >4</td>\n",
       "      <td id=\"T_9e864_row7_col3\" class=\"data row7 col3\" >0</td>\n",
       "      <td id=\"T_9e864_row7_col4\" class=\"data row7 col4\" >0</td>\n",
       "      <td id=\"T_9e864_row7_col5\" class=\"data row7 col5\" ></td>\n",
       "    </tr>\n",
       "  </tbody>\n",
       "</table>\n"
      ],
      "text/plain": [
       "<pandas.io.formats.style.Styler at 0x24d1b56d090>"
      ]
     },
     "execution_count": 19,
     "metadata": {},
     "output_type": "execute_result"
    }
   ],
   "source": [
    "# Creating a DataFrame with useful information about all datasets\n",
    "df_info = pd.DataFrame({})\n",
    "df_info['dataset'] = names\n",
    "df_info['n_rows'] = [df.shape[0] for df in datasets]\n",
    "df_info['n_cols'] = [df.shape[1] for df in datasets]\n",
    "df_info['null_amount'] = [df.isnull().sum().sum() for df in datasets]\n",
    "df_info['null_columns_qty'] = [len([col for col, null in df.isnull().sum().items() if null > 0]) for df in datasets]\n",
    "df_info['null_columns_names'] = [', '.join([col for col, null in df.isnull().sum().items() if null > 0]) for df in datasets]\n",
    "\n",
    "df_info.style.background_gradient()"
   ]
  },
  {
   "cell_type": "markdown",
   "metadata": {},
   "source": [
    "Missing values"
   ]
  },
  {
   "cell_type": "code",
   "execution_count": 20,
   "metadata": {},
   "outputs": [],
   "source": [
    "olist_orders = olist_orders.drop(columns=['order_approved_at' , 'order_delivered_customer_date', 'order_delivered_carrier_date'])\n",
    "olist_products = olist_products.drop(columns=[\"product_weight_g\",\"product_name_lenght\", \"product_description_lenght\", \"product_photos_qty\", \"product_height_cm\", \"product_width_cm\", \"product_length_cm\"])\n",
    "olist_order_reviews = olist_order_reviews.drop(columns=['review_comment_title', 'review_comment_message'])"
   ]
  },
  {
   "cell_type": "code",
   "execution_count": 21,
   "metadata": {},
   "outputs": [
    {
     "data": {
      "text/html": [
       "<div>\n",
       "<style scoped>\n",
       "    .dataframe tbody tr th:only-of-type {\n",
       "        vertical-align: middle;\n",
       "    }\n",
       "\n",
       "    .dataframe tbody tr th {\n",
       "        vertical-align: top;\n",
       "    }\n",
       "\n",
       "    .dataframe thead th {\n",
       "        text-align: right;\n",
       "    }\n",
       "</style>\n",
       "<table border=\"1\" class=\"dataframe\">\n",
       "  <thead>\n",
       "    <tr style=\"text-align: right;\">\n",
       "      <th></th>\n",
       "      <th>product_id</th>\n",
       "      <th>product_category_name</th>\n",
       "    </tr>\n",
       "  </thead>\n",
       "  <tbody>\n",
       "    <tr>\n",
       "      <th>0</th>\n",
       "      <td>1e9e8ef04dbcff4541ed26657ea517e5</td>\n",
       "      <td>perfumery</td>\n",
       "    </tr>\n",
       "    <tr>\n",
       "      <th>1</th>\n",
       "      <td>6a2fb4dd53d2cdb88e0432f1284a004c</td>\n",
       "      <td>perfumery</td>\n",
       "    </tr>\n",
       "    <tr>\n",
       "      <th>2</th>\n",
       "      <td>0d009643171aee696f4733340bc2fdd0</td>\n",
       "      <td>perfumery</td>\n",
       "    </tr>\n",
       "    <tr>\n",
       "      <th>3</th>\n",
       "      <td>b1eae565a61935e0011ee7682fef9dc9</td>\n",
       "      <td>perfumery</td>\n",
       "    </tr>\n",
       "    <tr>\n",
       "      <th>4</th>\n",
       "      <td>8da90b37f0fb171b4877c124f965b1f6</td>\n",
       "      <td>perfumery</td>\n",
       "    </tr>\n",
       "  </tbody>\n",
       "</table>\n",
       "</div>"
      ],
      "text/plain": [
       "                         product_id product_category_name\n",
       "0  1e9e8ef04dbcff4541ed26657ea517e5             perfumery\n",
       "1  6a2fb4dd53d2cdb88e0432f1284a004c             perfumery\n",
       "2  0d009643171aee696f4733340bc2fdd0             perfumery\n",
       "3  b1eae565a61935e0011ee7682fef9dc9             perfumery\n",
       "4  8da90b37f0fb171b4877c124f965b1f6             perfumery"
      ]
     },
     "execution_count": 21,
     "metadata": {},
     "output_type": "execute_result"
    }
   ],
   "source": [
    "olist_products = olist_products.merge(olist_product_translation, on='product_category_name')\n",
    "olist_products = olist_products.rename(columns={'product_category_name_english':'product_category_name', 'product_category_name':'product_category_name_old'})\n",
    "olist_products = olist_products.drop(columns=['product_category_name_old'])\n",
    "olist_products.head()"
   ]
  },
  {
   "cell_type": "markdown",
   "metadata": {},
   "source": [
    "Creation Master Dataframe"
   ]
  },
  {
   "cell_type": "code",
   "execution_count": 22,
   "metadata": {},
   "outputs": [
    {
     "name": "stdout",
     "output_type": "stream",
     "text": [
      "(117601, 11)\n",
      "(115878, 12)\n",
      "(115878, 15)\n",
      "(115609, 19)\n",
      "(115609, 23)\n",
      "(115609, 27)\n"
     ]
    }
   ],
   "source": [
    "df1 = olist_order_items.merge(olist_order_payments, on='order_id')\n",
    "print(df1.shape)\n",
    "df2 = df1.merge(olist_products, on='product_id')\n",
    "print(df2.shape)\n",
    "df3 = df2.merge(olist_sellers, on='seller_id')\n",
    "print(df3.shape)\n",
    "df4 = df3.merge(olist_order_reviews, on='order_id')\n",
    "print(df4.shape)\n",
    "df5 = df4.merge(olist_orders, on='order_id')\n",
    "print(df5.shape)\n",
    "#df6 = df5.merge(olist_product_translation, on='product_category_name')\n",
    "#print(df6.shape)\n",
    "Olist_db = df5.merge(olist_customer, on='customer_id')\n",
    "print(Olist_db.shape)"
   ]
  },
  {
   "cell_type": "code",
   "execution_count": 23,
   "metadata": {},
   "outputs": [
    {
     "data": {
      "text/plain": [
       "Index(['order_id', 'order_item_id', 'product_id', 'seller_id',\n",
       "       'shipping_limit_date', 'price', 'freight_value', 'payment_sequential',\n",
       "       'payment_type', 'payment_installments', 'payment_value',\n",
       "       'product_category_name', 'seller_zip_code_prefix', 'seller_city',\n",
       "       'seller_state', 'review_id', 'review_score', 'review_creation_date',\n",
       "       'review_answer_timestamp', 'customer_id', 'order_status',\n",
       "       'order_purchase_timestamp', 'order_estimated_delivery_date',\n",
       "       'customer_unique_id', 'customer_zip_code_prefix', 'customer_city',\n",
       "       'customer_state'],\n",
       "      dtype='object')"
      ]
     },
     "execution_count": 23,
     "metadata": {},
     "output_type": "execute_result"
    }
   ],
   "source": [
    "Olist_db.columns"
   ]
  },
  {
   "cell_type": "code",
   "execution_count": 24,
   "metadata": {},
   "outputs": [],
   "source": [
    "# converting date columns to datetime\n",
    "date_columns = ['shipping_limit_date', 'review_creation_date', 'review_answer_timestamp', 'order_purchase_timestamp', 'order_estimated_delivery_date']\n",
    "for col in date_columns:\n",
    "    Olist_db[col] = pd.to_datetime(Olist_db[col], format='%Y-%m-%d %H:%M:%S')"
   ]
  },
  {
   "cell_type": "code",
   "execution_count": 25,
   "metadata": {},
   "outputs": [],
   "source": [
    "# cleaning up name columns, and engineering new/essential columns\n",
    "Olist_db['customer_city'] = Olist_db['customer_city'].str.title()\n",
    "Olist_db['seller_city'] = Olist_db['seller_city'].str.title()\n",
    "Olist_db['product_category_name'] = Olist_db['product_category_name'].str.title()\n",
    "Olist_db['payment_type'] = Olist_db['payment_type'].str.replace('_', ' ').str.title()\n",
    "Olist_db['product_category_name'] = Olist_db['product_category_name'].str.replace('_', ' ')\n",
    "Olist_db['review_response_time'] = (Olist_db['review_answer_timestamp'] - Olist_db['review_creation_date']).dt.days\n",
    "#Olist_db['delivery_against_estimated'] = (Olist_db['order_estimated_delivery_date'] - Olist_db['order_delivered_customer_date']).dt.days\n",
    "#Olist_db['product_size_cm'] = Olist_db['product_length_cm'] * Olist_db['product_height_cm'] * Olist_db['product_width_cm']\n",
    "Olist_db['order_purchase_year'] = Olist_db.order_purchase_timestamp.apply(lambda x: x.year)\n",
    "Olist_db['order_purchase_month'] = Olist_db.order_purchase_timestamp.apply(lambda x: x.month)\n",
    "Olist_db['order_purchase_dayofweek'] = Olist_db.order_purchase_timestamp.apply(lambda x: x.dayofweek)\n",
    "Olist_db['order_purchase_hour'] = Olist_db.order_purchase_timestamp.apply(lambda x: x.hour)\n",
    "Olist_db['order_purchase_day'] = Olist_db['order_purchase_dayofweek'].map({0:'Mon',1:'Tue',2:'Wed',3:'Thu',4:'Fri',5:'Sat',6:'Sun'})\n",
    "Olist_db['order_purchase_mon'] = Olist_db.order_purchase_timestamp.apply(lambda x: x.month).map({1:'Jan',2:'Feb',3:'Mar',4:'Apr',5:'May',6:'Jun',7:'Jul',8:'Aug',9:'Sep',10:'Oct',11:'Nov',12:'Dec'})"
   ]
  },
  {
   "cell_type": "code",
   "execution_count": 26,
   "metadata": {},
   "outputs": [],
   "source": [
    "Olist_db.to_csv('Olist_Master.csv', index=False)"
   ]
  },
  {
   "cell_type": "code",
   "execution_count": 27,
   "metadata": {},
   "outputs": [
    {
     "data": {
      "text/html": [
       "<div>\n",
       "<style scoped>\n",
       "    .dataframe tbody tr th:only-of-type {\n",
       "        vertical-align: middle;\n",
       "    }\n",
       "\n",
       "    .dataframe tbody tr th {\n",
       "        vertical-align: top;\n",
       "    }\n",
       "\n",
       "    .dataframe thead th {\n",
       "        text-align: right;\n",
       "    }\n",
       "</style>\n",
       "<table border=\"1\" class=\"dataframe\">\n",
       "  <thead>\n",
       "    <tr style=\"text-align: right;\">\n",
       "      <th></th>\n",
       "      <th>order_id</th>\n",
       "      <th>order_item_id</th>\n",
       "      <th>product_id</th>\n",
       "      <th>seller_id</th>\n",
       "      <th>shipping_limit_date</th>\n",
       "      <th>price</th>\n",
       "      <th>freight_value</th>\n",
       "      <th>payment_sequential</th>\n",
       "      <th>payment_type</th>\n",
       "      <th>payment_installments</th>\n",
       "      <th>...</th>\n",
       "      <th>customer_zip_code_prefix</th>\n",
       "      <th>customer_city</th>\n",
       "      <th>customer_state</th>\n",
       "      <th>review_response_time</th>\n",
       "      <th>order_purchase_year</th>\n",
       "      <th>order_purchase_month</th>\n",
       "      <th>order_purchase_dayofweek</th>\n",
       "      <th>order_purchase_hour</th>\n",
       "      <th>order_purchase_day</th>\n",
       "      <th>order_purchase_mon</th>\n",
       "    </tr>\n",
       "  </thead>\n",
       "  <tbody>\n",
       "    <tr>\n",
       "      <th>0</th>\n",
       "      <td>00010242fe8c5a6d1ba2dd792cb16214</td>\n",
       "      <td>1</td>\n",
       "      <td>4244733e06e7ecb4970a6e2683c13e61</td>\n",
       "      <td>48436dade18ac8b2bce089ec2a041202</td>\n",
       "      <td>2017-09-19 09:45:35</td>\n",
       "      <td>58.90</td>\n",
       "      <td>13.29</td>\n",
       "      <td>1</td>\n",
       "      <td>Credit Card</td>\n",
       "      <td>2</td>\n",
       "      <td>...</td>\n",
       "      <td>28013</td>\n",
       "      <td>Campos Dos Goytacazes</td>\n",
       "      <td>RJ</td>\n",
       "      <td>1</td>\n",
       "      <td>2017</td>\n",
       "      <td>9</td>\n",
       "      <td>2</td>\n",
       "      <td>8</td>\n",
       "      <td>Wed</td>\n",
       "      <td>Sep</td>\n",
       "    </tr>\n",
       "    <tr>\n",
       "      <th>1</th>\n",
       "      <td>130898c0987d1801452a8ed92a670612</td>\n",
       "      <td>1</td>\n",
       "      <td>4244733e06e7ecb4970a6e2683c13e61</td>\n",
       "      <td>48436dade18ac8b2bce089ec2a041202</td>\n",
       "      <td>2017-07-05 02:44:11</td>\n",
       "      <td>55.90</td>\n",
       "      <td>17.96</td>\n",
       "      <td>1</td>\n",
       "      <td>Boleto</td>\n",
       "      <td>1</td>\n",
       "      <td>...</td>\n",
       "      <td>75800</td>\n",
       "      <td>Jatai</td>\n",
       "      <td>GO</td>\n",
       "      <td>3</td>\n",
       "      <td>2017</td>\n",
       "      <td>6</td>\n",
       "      <td>2</td>\n",
       "      <td>11</td>\n",
       "      <td>Wed</td>\n",
       "      <td>Jun</td>\n",
       "    </tr>\n",
       "    <tr>\n",
       "      <th>2</th>\n",
       "      <td>532ed5e14e24ae1f0d735b91524b98b9</td>\n",
       "      <td>1</td>\n",
       "      <td>4244733e06e7ecb4970a6e2683c13e61</td>\n",
       "      <td>48436dade18ac8b2bce089ec2a041202</td>\n",
       "      <td>2018-05-23 10:56:25</td>\n",
       "      <td>64.90</td>\n",
       "      <td>18.33</td>\n",
       "      <td>1</td>\n",
       "      <td>Credit Card</td>\n",
       "      <td>2</td>\n",
       "      <td>...</td>\n",
       "      <td>30720</td>\n",
       "      <td>Belo Horizonte</td>\n",
       "      <td>MG</td>\n",
       "      <td>1</td>\n",
       "      <td>2018</td>\n",
       "      <td>5</td>\n",
       "      <td>4</td>\n",
       "      <td>10</td>\n",
       "      <td>Fri</td>\n",
       "      <td>May</td>\n",
       "    </tr>\n",
       "    <tr>\n",
       "      <th>3</th>\n",
       "      <td>6f8c31653edb8c83e1a739408b5ff750</td>\n",
       "      <td>1</td>\n",
       "      <td>4244733e06e7ecb4970a6e2683c13e61</td>\n",
       "      <td>48436dade18ac8b2bce089ec2a041202</td>\n",
       "      <td>2017-08-07 18:55:08</td>\n",
       "      <td>58.90</td>\n",
       "      <td>16.17</td>\n",
       "      <td>1</td>\n",
       "      <td>Credit Card</td>\n",
       "      <td>3</td>\n",
       "      <td>...</td>\n",
       "      <td>83070</td>\n",
       "      <td>Sao Jose Dos Pinhais</td>\n",
       "      <td>PR</td>\n",
       "      <td>3</td>\n",
       "      <td>2017</td>\n",
       "      <td>8</td>\n",
       "      <td>1</td>\n",
       "      <td>18</td>\n",
       "      <td>Tue</td>\n",
       "      <td>Aug</td>\n",
       "    </tr>\n",
       "    <tr>\n",
       "      <th>4</th>\n",
       "      <td>7d19f4ef4d04461989632411b7e588b9</td>\n",
       "      <td>1</td>\n",
       "      <td>4244733e06e7ecb4970a6e2683c13e61</td>\n",
       "      <td>48436dade18ac8b2bce089ec2a041202</td>\n",
       "      <td>2017-08-16 22:05:11</td>\n",
       "      <td>58.90</td>\n",
       "      <td>13.29</td>\n",
       "      <td>1</td>\n",
       "      <td>Credit Card</td>\n",
       "      <td>4</td>\n",
       "      <td>...</td>\n",
       "      <td>36400</td>\n",
       "      <td>Conselheiro Lafaiete</td>\n",
       "      <td>MG</td>\n",
       "      <td>3</td>\n",
       "      <td>2017</td>\n",
       "      <td>8</td>\n",
       "      <td>3</td>\n",
       "      <td>21</td>\n",
       "      <td>Thu</td>\n",
       "      <td>Aug</td>\n",
       "    </tr>\n",
       "    <tr>\n",
       "      <th>...</th>\n",
       "      <td>...</td>\n",
       "      <td>...</td>\n",
       "      <td>...</td>\n",
       "      <td>...</td>\n",
       "      <td>...</td>\n",
       "      <td>...</td>\n",
       "      <td>...</td>\n",
       "      <td>...</td>\n",
       "      <td>...</td>\n",
       "      <td>...</td>\n",
       "      <td>...</td>\n",
       "      <td>...</td>\n",
       "      <td>...</td>\n",
       "      <td>...</td>\n",
       "      <td>...</td>\n",
       "      <td>...</td>\n",
       "      <td>...</td>\n",
       "      <td>...</td>\n",
       "      <td>...</td>\n",
       "      <td>...</td>\n",
       "      <td>...</td>\n",
       "    </tr>\n",
       "    <tr>\n",
       "      <th>115604</th>\n",
       "      <td>fd607d0a02cb276bc764a15f80f0423f</td>\n",
       "      <td>2</td>\n",
       "      <td>02ad78835ec3f72e750d1dfa6a7e11b3</td>\n",
       "      <td>2a73cba571d90c694b7caca072ccf6ce</td>\n",
       "      <td>2018-08-02 02:24:15</td>\n",
       "      <td>171.39</td>\n",
       "      <td>19.35</td>\n",
       "      <td>1</td>\n",
       "      <td>Boleto</td>\n",
       "      <td>1</td>\n",
       "      <td>...</td>\n",
       "      <td>41820</td>\n",
       "      <td>Salvador</td>\n",
       "      <td>BA</td>\n",
       "      <td>2</td>\n",
       "      <td>2018</td>\n",
       "      <td>7</td>\n",
       "      <td>3</td>\n",
       "      <td>9</td>\n",
       "      <td>Thu</td>\n",
       "      <td>Jul</td>\n",
       "    </tr>\n",
       "    <tr>\n",
       "      <th>115605</th>\n",
       "      <td>fdaf98feac227eb978d8f33f36e0231d</td>\n",
       "      <td>1</td>\n",
       "      <td>f739e9151702508b18f796c53005e5e9</td>\n",
       "      <td>d1aa1ec0839dcab73a6161130eb1f94a</td>\n",
       "      <td>2017-04-27 05:10:28</td>\n",
       "      <td>119.90</td>\n",
       "      <td>16.14</td>\n",
       "      <td>1</td>\n",
       "      <td>Boleto</td>\n",
       "      <td>1</td>\n",
       "      <td>...</td>\n",
       "      <td>22793</td>\n",
       "      <td>Rio De Janeiro</td>\n",
       "      <td>RJ</td>\n",
       "      <td>1</td>\n",
       "      <td>2017</td>\n",
       "      <td>4</td>\n",
       "      <td>2</td>\n",
       "      <td>10</td>\n",
       "      <td>Wed</td>\n",
       "      <td>Apr</td>\n",
       "    </tr>\n",
       "    <tr>\n",
       "      <th>115606</th>\n",
       "      <td>fe68b52db13993f58175fa589125d345</td>\n",
       "      <td>1</td>\n",
       "      <td>f4135cbdece8245560f7be179533797a</td>\n",
       "      <td>3fefda3299e6dfaea3466ef346a3571a</td>\n",
       "      <td>2017-08-17 02:55:27</td>\n",
       "      <td>209.00</td>\n",
       "      <td>16.21</td>\n",
       "      <td>1</td>\n",
       "      <td>Boleto</td>\n",
       "      <td>1</td>\n",
       "      <td>...</td>\n",
       "      <td>13485</td>\n",
       "      <td>Limeira</td>\n",
       "      <td>SP</td>\n",
       "      <td>1</td>\n",
       "      <td>2017</td>\n",
       "      <td>8</td>\n",
       "      <td>4</td>\n",
       "      <td>10</td>\n",
       "      <td>Fri</td>\n",
       "      <td>Aug</td>\n",
       "    </tr>\n",
       "    <tr>\n",
       "      <th>115607</th>\n",
       "      <td>ff701a7c869ad21de22a6994237c8a00</td>\n",
       "      <td>1</td>\n",
       "      <td>5ff4076c0f01eeba4f728c9e3fa2653c</td>\n",
       "      <td>3e35a8bb43569389d3cebef0ce820f69</td>\n",
       "      <td>2018-04-18 20:10:33</td>\n",
       "      <td>27.90</td>\n",
       "      <td>14.44</td>\n",
       "      <td>1</td>\n",
       "      <td>Credit Card</td>\n",
       "      <td>1</td>\n",
       "      <td>...</td>\n",
       "      <td>12280</td>\n",
       "      <td>Cacapava</td>\n",
       "      <td>SP</td>\n",
       "      <td>3</td>\n",
       "      <td>2018</td>\n",
       "      <td>4</td>\n",
       "      <td>3</td>\n",
       "      <td>19</td>\n",
       "      <td>Thu</td>\n",
       "      <td>Apr</td>\n",
       "    </tr>\n",
       "    <tr>\n",
       "      <th>115608</th>\n",
       "      <td>ff701a7c869ad21de22a6994237c8a00</td>\n",
       "      <td>2</td>\n",
       "      <td>5ff4076c0f01eeba4f728c9e3fa2653c</td>\n",
       "      <td>3e35a8bb43569389d3cebef0ce820f69</td>\n",
       "      <td>2018-04-18 20:10:33</td>\n",
       "      <td>27.90</td>\n",
       "      <td>14.44</td>\n",
       "      <td>1</td>\n",
       "      <td>Credit Card</td>\n",
       "      <td>1</td>\n",
       "      <td>...</td>\n",
       "      <td>12280</td>\n",
       "      <td>Cacapava</td>\n",
       "      <td>SP</td>\n",
       "      <td>3</td>\n",
       "      <td>2018</td>\n",
       "      <td>4</td>\n",
       "      <td>3</td>\n",
       "      <td>19</td>\n",
       "      <td>Thu</td>\n",
       "      <td>Apr</td>\n",
       "    </tr>\n",
       "  </tbody>\n",
       "</table>\n",
       "<p>115609 rows × 34 columns</p>\n",
       "</div>"
      ],
      "text/plain": [
       "                                order_id  order_item_id  \\\n",
       "0       00010242fe8c5a6d1ba2dd792cb16214              1   \n",
       "1       130898c0987d1801452a8ed92a670612              1   \n",
       "2       532ed5e14e24ae1f0d735b91524b98b9              1   \n",
       "3       6f8c31653edb8c83e1a739408b5ff750              1   \n",
       "4       7d19f4ef4d04461989632411b7e588b9              1   \n",
       "...                                  ...            ...   \n",
       "115604  fd607d0a02cb276bc764a15f80f0423f              2   \n",
       "115605  fdaf98feac227eb978d8f33f36e0231d              1   \n",
       "115606  fe68b52db13993f58175fa589125d345              1   \n",
       "115607  ff701a7c869ad21de22a6994237c8a00              1   \n",
       "115608  ff701a7c869ad21de22a6994237c8a00              2   \n",
       "\n",
       "                              product_id                         seller_id  \\\n",
       "0       4244733e06e7ecb4970a6e2683c13e61  48436dade18ac8b2bce089ec2a041202   \n",
       "1       4244733e06e7ecb4970a6e2683c13e61  48436dade18ac8b2bce089ec2a041202   \n",
       "2       4244733e06e7ecb4970a6e2683c13e61  48436dade18ac8b2bce089ec2a041202   \n",
       "3       4244733e06e7ecb4970a6e2683c13e61  48436dade18ac8b2bce089ec2a041202   \n",
       "4       4244733e06e7ecb4970a6e2683c13e61  48436dade18ac8b2bce089ec2a041202   \n",
       "...                                  ...                               ...   \n",
       "115604  02ad78835ec3f72e750d1dfa6a7e11b3  2a73cba571d90c694b7caca072ccf6ce   \n",
       "115605  f739e9151702508b18f796c53005e5e9  d1aa1ec0839dcab73a6161130eb1f94a   \n",
       "115606  f4135cbdece8245560f7be179533797a  3fefda3299e6dfaea3466ef346a3571a   \n",
       "115607  5ff4076c0f01eeba4f728c9e3fa2653c  3e35a8bb43569389d3cebef0ce820f69   \n",
       "115608  5ff4076c0f01eeba4f728c9e3fa2653c  3e35a8bb43569389d3cebef0ce820f69   \n",
       "\n",
       "       shipping_limit_date   price  freight_value  payment_sequential  \\\n",
       "0      2017-09-19 09:45:35   58.90          13.29                   1   \n",
       "1      2017-07-05 02:44:11   55.90          17.96                   1   \n",
       "2      2018-05-23 10:56:25   64.90          18.33                   1   \n",
       "3      2017-08-07 18:55:08   58.90          16.17                   1   \n",
       "4      2017-08-16 22:05:11   58.90          13.29                   1   \n",
       "...                    ...     ...            ...                 ...   \n",
       "115604 2018-08-02 02:24:15  171.39          19.35                   1   \n",
       "115605 2017-04-27 05:10:28  119.90          16.14                   1   \n",
       "115606 2017-08-17 02:55:27  209.00          16.21                   1   \n",
       "115607 2018-04-18 20:10:33   27.90          14.44                   1   \n",
       "115608 2018-04-18 20:10:33   27.90          14.44                   1   \n",
       "\n",
       "       payment_type  payment_installments  ...  customer_zip_code_prefix  \\\n",
       "0       Credit Card                     2  ...                     28013   \n",
       "1            Boleto                     1  ...                     75800   \n",
       "2       Credit Card                     2  ...                     30720   \n",
       "3       Credit Card                     3  ...                     83070   \n",
       "4       Credit Card                     4  ...                     36400   \n",
       "...             ...                   ...  ...                       ...   \n",
       "115604       Boleto                     1  ...                     41820   \n",
       "115605       Boleto                     1  ...                     22793   \n",
       "115606       Boleto                     1  ...                     13485   \n",
       "115607  Credit Card                     1  ...                     12280   \n",
       "115608  Credit Card                     1  ...                     12280   \n",
       "\n",
       "                customer_city  customer_state review_response_time  \\\n",
       "0       Campos Dos Goytacazes              RJ                    1   \n",
       "1                       Jatai              GO                    3   \n",
       "2              Belo Horizonte              MG                    1   \n",
       "3        Sao Jose Dos Pinhais              PR                    3   \n",
       "4        Conselheiro Lafaiete              MG                    3   \n",
       "...                       ...             ...                  ...   \n",
       "115604               Salvador              BA                    2   \n",
       "115605         Rio De Janeiro              RJ                    1   \n",
       "115606                Limeira              SP                    1   \n",
       "115607               Cacapava              SP                    3   \n",
       "115608               Cacapava              SP                    3   \n",
       "\n",
       "       order_purchase_year order_purchase_month  order_purchase_dayofweek  \\\n",
       "0                     2017                    9                         2   \n",
       "1                     2017                    6                         2   \n",
       "2                     2018                    5                         4   \n",
       "3                     2017                    8                         1   \n",
       "4                     2017                    8                         3   \n",
       "...                    ...                  ...                       ...   \n",
       "115604                2018                    7                         3   \n",
       "115605                2017                    4                         2   \n",
       "115606                2017                    8                         4   \n",
       "115607                2018                    4                         3   \n",
       "115608                2018                    4                         3   \n",
       "\n",
       "       order_purchase_hour order_purchase_day order_purchase_mon  \n",
       "0                        8                Wed                Sep  \n",
       "1                       11                Wed                Jun  \n",
       "2                       10                Fri                May  \n",
       "3                       18                Tue                Aug  \n",
       "4                       21                Thu                Aug  \n",
       "...                    ...                ...                ...  \n",
       "115604                   9                Thu                Jul  \n",
       "115605                  10                Wed                Apr  \n",
       "115606                  10                Fri                Aug  \n",
       "115607                  19                Thu                Apr  \n",
       "115608                  19                Thu                Apr  \n",
       "\n",
       "[115609 rows x 34 columns]"
      ]
     },
     "execution_count": 27,
     "metadata": {},
     "output_type": "execute_result"
    }
   ],
   "source": [
    "Olist_db"
   ]
  },
  {
   "cell_type": "code",
   "execution_count": 28,
   "metadata": {},
   "outputs": [
    {
     "data": {
      "text/plain": [
       "(115609, 8)"
      ]
     },
     "execution_count": 28,
     "metadata": {},
     "output_type": "execute_result"
    }
   ],
   "source": [
    "features = ['order_id', 'order_status', 'order_purchase_timestamp',\n",
    "       'payment_value', 'customer_unique_id', 'customer_zip_code_prefix',\n",
    "       'customer_city', 'customer_state']\n",
    "Olist_db = Olist_db[features]\n",
    "Olist_db.shape"
   ]
  },
  {
   "cell_type": "code",
   "execution_count": 29,
   "metadata": {},
   "outputs": [
    {
     "name": "stderr",
     "output_type": "stream",
     "text": [
      "C:\\Users\\victo\\AppData\\Local\\Temp\\ipykernel_21380\\2965964461.py:2: SettingWithCopyWarning:\n",
      "\n",
      "\n",
      "A value is trying to be set on a copy of a slice from a DataFrame.\n",
      "Try using .loc[row_indexer,col_indexer] = value instead\n",
      "\n",
      "See the caveats in the documentation: https://pandas.pydata.org/pandas-docs/stable/user_guide/indexing.html#returning-a-view-versus-a-copy\n",
      "\n"
     ]
    }
   ],
   "source": [
    "df = Olist_db.copy()\n",
    "Olist_db['order_purchase_date'] = Olist_db.order_purchase_timestamp.apply(lambda x: pd.to_datetime(x, format=\"%Y-%m-%d\"))"
   ]
  },
  {
   "cell_type": "code",
   "execution_count": 30,
   "metadata": {},
   "outputs": [],
   "source": [
    "Olist_db = Olist_db.drop_duplicates()"
   ]
  },
  {
   "cell_type": "code",
   "execution_count": 31,
   "metadata": {},
   "outputs": [],
   "source": [
    "cond = Olist_db[\"order_status\"] == \"delivered\"\n",
    "Olist_db = Olist_db.loc[cond]"
   ]
  },
  {
   "cell_type": "code",
   "execution_count": 32,
   "metadata": {},
   "outputs": [
    {
     "data": {
      "text/html": [
       "<div>\n",
       "<style scoped>\n",
       "    .dataframe tbody tr th:only-of-type {\n",
       "        vertical-align: middle;\n",
       "    }\n",
       "\n",
       "    .dataframe tbody tr th {\n",
       "        vertical-align: top;\n",
       "    }\n",
       "\n",
       "    .dataframe thead th {\n",
       "        text-align: right;\n",
       "    }\n",
       "</style>\n",
       "<table border=\"1\" class=\"dataframe\">\n",
       "  <thead>\n",
       "    <tr style=\"text-align: right;\">\n",
       "      <th></th>\n",
       "      <th>order_id</th>\n",
       "      <th>order_status</th>\n",
       "      <th>order_purchase_timestamp</th>\n",
       "      <th>payment_value</th>\n",
       "      <th>customer_unique_id</th>\n",
       "      <th>customer_zip_code_prefix</th>\n",
       "      <th>customer_city</th>\n",
       "      <th>customer_state</th>\n",
       "      <th>order_purchase_date</th>\n",
       "    </tr>\n",
       "  </thead>\n",
       "  <tbody>\n",
       "    <tr>\n",
       "      <th>0</th>\n",
       "      <td>00010242fe8c5a6d1ba2dd792cb16214</td>\n",
       "      <td>delivered</td>\n",
       "      <td>2017-09-13 08:59:02</td>\n",
       "      <td>72.19</td>\n",
       "      <td>871766c5855e863f6eccc05f988b23cb</td>\n",
       "      <td>28013</td>\n",
       "      <td>Campos Dos Goytacazes</td>\n",
       "      <td>RJ</td>\n",
       "      <td>2017-09-13 08:59:02</td>\n",
       "    </tr>\n",
       "    <tr>\n",
       "      <th>1</th>\n",
       "      <td>130898c0987d1801452a8ed92a670612</td>\n",
       "      <td>delivered</td>\n",
       "      <td>2017-06-28 11:52:20</td>\n",
       "      <td>73.86</td>\n",
       "      <td>0fb8e3eab2d3e79d92bb3fffbb97f188</td>\n",
       "      <td>75800</td>\n",
       "      <td>Jatai</td>\n",
       "      <td>GO</td>\n",
       "      <td>2017-06-28 11:52:20</td>\n",
       "    </tr>\n",
       "    <tr>\n",
       "      <th>2</th>\n",
       "      <td>532ed5e14e24ae1f0d735b91524b98b9</td>\n",
       "      <td>delivered</td>\n",
       "      <td>2018-05-18 10:25:53</td>\n",
       "      <td>83.23</td>\n",
       "      <td>3419052c8c6b45daf79c1e426f9e9bcb</td>\n",
       "      <td>30720</td>\n",
       "      <td>Belo Horizonte</td>\n",
       "      <td>MG</td>\n",
       "      <td>2018-05-18 10:25:53</td>\n",
       "    </tr>\n",
       "    <tr>\n",
       "      <th>3</th>\n",
       "      <td>6f8c31653edb8c83e1a739408b5ff750</td>\n",
       "      <td>delivered</td>\n",
       "      <td>2017-08-01 18:38:42</td>\n",
       "      <td>75.07</td>\n",
       "      <td>e7c828d22c0682c1565252deefbe334d</td>\n",
       "      <td>83070</td>\n",
       "      <td>Sao Jose Dos Pinhais</td>\n",
       "      <td>PR</td>\n",
       "      <td>2017-08-01 18:38:42</td>\n",
       "    </tr>\n",
       "    <tr>\n",
       "      <th>4</th>\n",
       "      <td>7d19f4ef4d04461989632411b7e588b9</td>\n",
       "      <td>delivered</td>\n",
       "      <td>2017-08-10 21:48:40</td>\n",
       "      <td>72.19</td>\n",
       "      <td>0bb98ba72dcc08e95f9d8cc434e9a2cc</td>\n",
       "      <td>36400</td>\n",
       "      <td>Conselheiro Lafaiete</td>\n",
       "      <td>MG</td>\n",
       "      <td>2017-08-10 21:48:40</td>\n",
       "    </tr>\n",
       "  </tbody>\n",
       "</table>\n",
       "</div>"
      ],
      "text/plain": [
       "                           order_id order_status order_purchase_timestamp  \\\n",
       "0  00010242fe8c5a6d1ba2dd792cb16214    delivered      2017-09-13 08:59:02   \n",
       "1  130898c0987d1801452a8ed92a670612    delivered      2017-06-28 11:52:20   \n",
       "2  532ed5e14e24ae1f0d735b91524b98b9    delivered      2018-05-18 10:25:53   \n",
       "3  6f8c31653edb8c83e1a739408b5ff750    delivered      2017-08-01 18:38:42   \n",
       "4  7d19f4ef4d04461989632411b7e588b9    delivered      2017-08-10 21:48:40   \n",
       "\n",
       "   payment_value                customer_unique_id  customer_zip_code_prefix  \\\n",
       "0          72.19  871766c5855e863f6eccc05f988b23cb                     28013   \n",
       "1          73.86  0fb8e3eab2d3e79d92bb3fffbb97f188                     75800   \n",
       "2          83.23  3419052c8c6b45daf79c1e426f9e9bcb                     30720   \n",
       "3          75.07  e7c828d22c0682c1565252deefbe334d                     83070   \n",
       "4          72.19  0bb98ba72dcc08e95f9d8cc434e9a2cc                     36400   \n",
       "\n",
       "           customer_city customer_state order_purchase_date  \n",
       "0  Campos Dos Goytacazes             RJ 2017-09-13 08:59:02  \n",
       "1                  Jatai             GO 2017-06-28 11:52:20  \n",
       "2         Belo Horizonte             MG 2018-05-18 10:25:53  \n",
       "3   Sao Jose Dos Pinhais             PR 2017-08-01 18:38:42  \n",
       "4   Conselheiro Lafaiete             MG 2017-08-10 21:48:40  "
      ]
     },
     "execution_count": 32,
     "metadata": {},
     "output_type": "execute_result"
    }
   ],
   "source": [
    "Olist_db.head()"
   ]
  },
  {
   "cell_type": "markdown",
   "metadata": {},
   "source": [
    "## Clustering\n",
    "La fonction ci-dessous effectue la création d'un clustering hiérarchique défini par les règles suivantes :\n",
    "\n",
    "#### Segment:\n",
    "\n",
    "1. Inactif : Client qui n'a effectué aucun achat ou dont le dernier achat a été supérieur à trois fois la période définie en paramètre.\n",
    "\n",
    "2. Froid : dernier achat a été supérieur à deux fois la période et inférieur à trois fois la période.\n",
    "\n",
    "3. Chaud : dernier achat était supérieur à la période et inférieur au double de la période.\n",
    "\n",
    "4. Actif : dernier achat est inférieur à la période.\n",
    "\n",
    "#### Sous-segment :\n",
    "\n",
    "1. inactif : Client qui n'a effectué aucun achat ou dont le dernier achat a été supérieur à trois fois la période définie en paramètre.\n",
    "\n",
    "2. cold_high_payment_value : client dont le segment est égal à cold et dont les achats sont supérieurs ou égaux à la médiane de tous les achats.\n",
    "\n",
    "3. cold_low_payment_value : client dont le segment est égal à cold et dont les achats sont inférieurs à la médiane de tous les achats.\n",
    "\n",
    "4. hot_high_payment_value : client dont le segment est égal à hot et dont les achats sont supérieurs ou égaux à la médiane de tous les achats.\n",
    "\n",
    "5. hot_low_payment_value : client dont le segment est égal à hot et dont les achats sont inférieurs à la médiane de tous les achats.\n",
    "\n",
    "6. active_high_payment_value : le segment de clientèle est égal à actif et a des achats supérieurs ou égaux à la médiane de tous les achats.\n",
    "\n",
    "7. active_low_payment_value : le segment de clientèle est égal à actif et a moins que les achats médians de tous les achats.\n",
    "\n",
    "\n",
    "#### Nouveau client\n",
    "\n",
    "1. new_customer : Clients dont le premier achat est inférieur au double de la période.\n",
    "\n",
    "2. période : nombre de jours"
   ]
  },
  {
   "cell_type": "code",
   "execution_count": 33,
   "metadata": {},
   "outputs": [],
   "source": [
    "def clustering_customers(df, date_max, date_min=False, group_range_days=False):\n",
    "    df = df.copy()\n",
    "\n",
    "    if(date_min == False):\n",
    "        cond_f = df[\"order_purchase_date\"] <= pd.to_datetime(date_max)\n",
    "    else:\n",
    "        cond_1 = df[\"order_purchase_date\"] <= pd.to_datetime(date_max)\n",
    "        cond_2 = df[\"order_purchase_date\"] >= pd.to_datetime(date_min)\n",
    "        cond_f = cond_1 & cond_2\n",
    "\n",
    "    df = df.loc[cond_f]\n",
    "\n",
    "    df[\"today\"] = df[\"order_purchase_date\"].max()\n",
    "\n",
    "    df[\"today\"] = df[\"today\"].dt.date\n",
    "    df[\"today\"] = pd.to_datetime(df[\"today\"], format=\"%Y-%m-%d\")\n",
    "\n",
    "    df[\"order_purchase_days_since\"] = df[\"today\"]  - df[\"order_purchase_date\"]\n",
    "    df[\"order_purchase_days_since\"] = df[\"order_purchase_days_since\"].astype(str)\n",
    "    df[\"order_purchase_days_since\"] = df[\"order_purchase_days_since\"].str.replace(r'\\s+days.*', '', regex=True)\n",
    "    df[\"order_purchase_days_since\"] = df[\"order_purchase_days_since\"].astype(int)\n",
    "    df[\"order_purchase_year\"] = df[\"order_purchase_date\"].dt.year\n",
    "\n",
    "    agg_group = {\n",
    "        \"order_purchase_days_since\": [\"min\", \"max\", \"count\"],\n",
    "        \"payment_value\": [\"sum\",\"mean\"]\n",
    "    }\n",
    "\n",
    "    df_group = df.groupby([\"customer_unique_id\"]).agg(agg_group).reset_index()\n",
    "\n",
    "    df_group.columns = [' '.join(col).strip() for col in df_group.columns.values]\n",
    "\n",
    "    columns_rename = {\n",
    "        \"order_purchase_days_since min\": \"first_order_purchase\",\n",
    "        \"order_purchase_days_since max\": \"last_order_purchase\",\n",
    "        \"order_purchase_days_since count\": \"order_purchase_qty\",\n",
    "        \"payment_value mean\": \"payment_value_mean\",\n",
    "        \"payment_value sum\": \"payment_value_sum\"\n",
    "    }\n",
    "\n",
    "    \n",
    "    df_group.rename(columns_rename, axis=1, inplace=True)\n",
    "\n",
    "    median_payment = df_group[\"payment_value_mean\"].median()\n",
    "\n",
    "    if(group_range_days == False):\n",
    "        major_group = 4\n",
    "        range_days = str(df[\"order_purchase_date\"].max() - df[\"order_purchase_date\"].min()) \n",
    "        group_range_days = int(re.sub(r'\\s+days.*', '', range_days))/major_group\n",
    "\n",
    "    cond_payment_zero = df_group['payment_value_mean'] == 0.0\n",
    "\n",
    "    cond_inactive_1 = df_group['last_order_purchase'] > group_range_days*3\n",
    "    cond_inactive = cond_inactive_1 | cond_payment_zero\n",
    "\n",
    "    cond_cold_1 = df_group['last_order_purchase'] > group_range_days*2\n",
    "    cond_cold_2 = df_group['last_order_purchase'] <= group_range_days*3\n",
    "    cond_cold = cond_cold_1 & cond_cold_2 & ~(cond_payment_zero)\n",
    "\n",
    "    cond_hot_1 = df_group['last_order_purchase'] > group_range_days\n",
    "    cond_hot_2 = df_group['last_order_purchase'] <= group_range_days*2\n",
    "    cond_hot = cond_hot_1 & cond_hot_2 & ~(cond_payment_zero)\n",
    "\n",
    "    cond_active_1 = df_group['last_order_purchase'] <= group_range_days\n",
    "    cond_active = cond_active_1 & ~(cond_payment_zero)\n",
    "\n",
    "    df_group.loc[cond_inactive, \"segment\"] = \"inactive\"\n",
    "    df_group.loc[cond_cold, \"segment\"] = \"cold\"\n",
    "    df_group.loc[cond_hot, \"segment\"] = \"hot\"\n",
    "    df_group.loc[cond_active, \"segment\"] = \"active\"\n",
    "    \n",
    "    cond_hot_high_payment_1 = df_group[\"segment\"] == \"hot\"\n",
    "    cond_hot_high_payment_2 = df_group[\"payment_value_mean\"] >= median_payment\n",
    "    cond_hot_high_payment = cond_hot_high_payment_1 & cond_hot_high_payment_2\n",
    "    \n",
    "    cond_hot_low_payment_1 = df_group[\"segment\"] == \"hot\"\n",
    "    cond_hot_low_payment_2 = df_group[\"payment_value_mean\"] < median_payment\n",
    "    cond_hot_low_payment = cond_hot_low_payment_1 & cond_hot_low_payment_2\n",
    "    \n",
    "    cond_active_high_payment_1 = df_group[\"segment\"] == \"active\"\n",
    "    cond_active_high_payment_2 = df_group[\"payment_value_mean\"] >= median_payment\n",
    "    cond_active_high_payment = cond_active_high_payment_1 & cond_active_high_payment_2\n",
    "    \n",
    "    cond_active_low_payment_1 = df_group[\"segment\"] == \"active\"\n",
    "    cond_active_low_payment_2 = df_group[\"payment_value_mean\"] < median_payment\n",
    "    cond_active_low_payment = cond_active_low_payment_1 & cond_active_low_payment_2\n",
    "\n",
    "    cond_cold_high_payment_1 = df_group[\"segment\"] == \"cold\"\n",
    "    cond_cold_high_payment_2 = df_group[\"payment_value_mean\"] >= median_payment\n",
    "    cond_cold_high_payment = cond_cold_high_payment_1 & cond_cold_high_payment_2\n",
    "\n",
    "    cond_cold_low_payment_1 = df_group[\"segment\"] == \"cold\"\n",
    "    cond_cold_low_payment_2 = df_group[\"payment_value_mean\"] < median_payment\n",
    "    cond_cold_low_payment = cond_cold_low_payment_1 & cond_cold_low_payment_2\n",
    "\n",
    "    df_group[\"sub_segment\"] = \"inactive\"\n",
    "    df_group.loc[cond_hot_high_payment, \"sub_segment\"] = \"hot_high_payment_value\"\n",
    "    df_group.loc[cond_hot_low_payment, \"sub_segment\"] = \"hot_low_payment_value\"\n",
    "    df_group.loc[cond_active_high_payment, \"sub_segment\"] = \"active_high_payment_value\"\n",
    "    df_group.loc[cond_active_low_payment, \"sub_segment\"] = \"active_low_payment_value\"\n",
    "    df_group.loc[cond_cold_high_payment, \"sub_segment\"] = \"cold_high_payment_value\"\n",
    "    df_group.loc[cond_cold_low_payment, \"sub_segment\"] = \"cold_low_payment_value\"\n",
    "\n",
    "    cond_new_customer = df_group[\"first_order_purchase\"] <= group_range_days*2\n",
    "    df_group[\"new_customer\"] = 0\n",
    "    df_group.loc[cond_new_customer, \"new_customer\"] = 1\n",
    "    \n",
    "    return group_range_days, df_group"
   ]
  },
  {
   "cell_type": "markdown",
   "metadata": {},
   "source": [
    "#### DESCRIPTIVE ANALYSIS"
   ]
  },
  {
   "cell_type": "code",
   "execution_count": 34,
   "metadata": {
    "scrolled": true
   },
   "outputs": [
    {
     "data": {
      "text/html": [
       "<div>\n",
       "<style scoped>\n",
       "    .dataframe tbody tr th:only-of-type {\n",
       "        vertical-align: middle;\n",
       "    }\n",
       "\n",
       "    .dataframe tbody tr th {\n",
       "        vertical-align: top;\n",
       "    }\n",
       "\n",
       "    .dataframe thead th {\n",
       "        text-align: right;\n",
       "    }\n",
       "</style>\n",
       "<table border=\"1\" class=\"dataframe\">\n",
       "  <thead>\n",
       "    <tr style=\"text-align: right;\">\n",
       "      <th></th>\n",
       "      <th>customer_unique_id</th>\n",
       "      <th>first_order_purchase</th>\n",
       "      <th>last_order_purchase</th>\n",
       "      <th>order_purchase_qty</th>\n",
       "      <th>payment_value_sum</th>\n",
       "      <th>payment_value_mean</th>\n",
       "      <th>segment</th>\n",
       "      <th>sub_segment</th>\n",
       "      <th>new_customer</th>\n",
       "    </tr>\n",
       "  </thead>\n",
       "  <tbody>\n",
       "    <tr>\n",
       "      <th>0</th>\n",
       "      <td>0000366f3b9a7992bf8c76cfdf3221e2</td>\n",
       "      <td>110</td>\n",
       "      <td>110</td>\n",
       "      <td>1</td>\n",
       "      <td>141.90</td>\n",
       "      <td>141.90</td>\n",
       "      <td>active</td>\n",
       "      <td>active_high_payment_value</td>\n",
       "      <td>1</td>\n",
       "    </tr>\n",
       "    <tr>\n",
       "      <th>1</th>\n",
       "      <td>0000b849f77a49e4a4ce2b2a4ca5be3f</td>\n",
       "      <td>113</td>\n",
       "      <td>113</td>\n",
       "      <td>1</td>\n",
       "      <td>27.19</td>\n",
       "      <td>27.19</td>\n",
       "      <td>active</td>\n",
       "      <td>active_low_payment_value</td>\n",
       "      <td>1</td>\n",
       "    </tr>\n",
       "    <tr>\n",
       "      <th>2</th>\n",
       "      <td>0000f46a3911fa3c0805444483337064</td>\n",
       "      <td>536</td>\n",
       "      <td>536</td>\n",
       "      <td>1</td>\n",
       "      <td>86.22</td>\n",
       "      <td>86.22</td>\n",
       "      <td>inactive</td>\n",
       "      <td>inactive</td>\n",
       "      <td>0</td>\n",
       "    </tr>\n",
       "    <tr>\n",
       "      <th>3</th>\n",
       "      <td>0000f6ccb0745a6a4b88665a16c9f078</td>\n",
       "      <td>320</td>\n",
       "      <td>320</td>\n",
       "      <td>1</td>\n",
       "      <td>43.62</td>\n",
       "      <td>43.62</td>\n",
       "      <td>hot</td>\n",
       "      <td>hot_low_payment_value</td>\n",
       "      <td>1</td>\n",
       "    </tr>\n",
       "    <tr>\n",
       "      <th>4</th>\n",
       "      <td>0004aac84e0df4da2b147fca70cf8255</td>\n",
       "      <td>287</td>\n",
       "      <td>287</td>\n",
       "      <td>1</td>\n",
       "      <td>196.89</td>\n",
       "      <td>196.89</td>\n",
       "      <td>hot</td>\n",
       "      <td>hot_high_payment_value</td>\n",
       "      <td>1</td>\n",
       "    </tr>\n",
       "  </tbody>\n",
       "</table>\n",
       "</div>"
      ],
      "text/plain": [
       "                 customer_unique_id  first_order_purchase  \\\n",
       "0  0000366f3b9a7992bf8c76cfdf3221e2                   110   \n",
       "1  0000b849f77a49e4a4ce2b2a4ca5be3f                   113   \n",
       "2  0000f46a3911fa3c0805444483337064                   536   \n",
       "3  0000f6ccb0745a6a4b88665a16c9f078                   320   \n",
       "4  0004aac84e0df4da2b147fca70cf8255                   287   \n",
       "\n",
       "   last_order_purchase  order_purchase_qty  payment_value_sum  \\\n",
       "0                  110                   1             141.90   \n",
       "1                  113                   1              27.19   \n",
       "2                  536                   1              86.22   \n",
       "3                  320                   1              43.62   \n",
       "4                  287                   1             196.89   \n",
       "\n",
       "   payment_value_mean   segment                sub_segment  new_customer  \n",
       "0              141.90    active  active_high_payment_value             1  \n",
       "1               27.19    active   active_low_payment_value             1  \n",
       "2               86.22  inactive                   inactive             0  \n",
       "3               43.62       hot      hot_low_payment_value             1  \n",
       "4              196.89       hot     hot_high_payment_value             1  "
      ]
     },
     "execution_count": 34,
     "metadata": {},
     "output_type": "execute_result"
    }
   ],
   "source": [
    "period_2018, df_clustering_2018 = clustering_customers(Olist_db, \"2018-12-31\")\n",
    "df_clustering_2018.head()"
   ]
  },
  {
   "cell_type": "markdown",
   "metadata": {},
   "source": [
    "##### Revenue Billing by segment 2018"
   ]
  },
  {
   "cell_type": "code",
   "execution_count": 35,
   "metadata": {},
   "outputs": [
    {
     "data": {
      "text/html": [
       "\n",
       "        <script src=\"/static/components/requirejs/require.js\"></script>\n",
       "        <script>\n",
       "          requirejs.config({\n",
       "            paths: {\n",
       "              base: '/static/base',\n",
       "              plotly: 'https://cdn.plot.ly/plotly-latest.min.js?noext',\n",
       "            },\n",
       "          });\n",
       "        </script>\n",
       "        "
      ],
      "text/plain": [
       "<IPython.core.display.HTML object>"
      ]
     },
     "metadata": {},
     "output_type": "display_data"
    },
    {
     "data": {
      "application/vnd.plotly.v1+json": {
       "config": {
        "linkText": "Export to plot.ly",
        "plotlyServerURL": "https://plot.ly",
        "showLink": false
       },
       "data": [
        {
         "marker": {
          "color": [
           "rgba(36,123,160,1)",
           "rgba(75,147,177,1)",
           "rgba(112,193,179,1)",
           "rgba(138,204,192,1)",
           "rgba(243,255,189,1)",
           "rgba(247,255,213,1)",
           "rgba(255,22,84,1)"
          ]
         },
         "type": "bar",
         "x": [
          "cold_low_payment_value",
          "inactive",
          "hot_low_payment_value",
          "active_low_payment_value",
          "cold_high_payment_value",
          "hot_high_payment_value",
          "active_high_payment_value"
         ],
         "y": [
          649395.16,
          770021.81,
          1079685.03,
          1123536.14,
          2439228,
          4201451.21,
          4817847.62
         ]
        }
       ],
       "layout": {
        "template": {
         "data": {
          "bar": [
           {
            "error_x": {
             "color": "#2a3f5f"
            },
            "error_y": {
             "color": "#2a3f5f"
            },
            "marker": {
             "line": {
              "color": "#E5ECF6",
              "width": 0.5
             },
             "pattern": {
              "fillmode": "overlay",
              "size": 10,
              "solidity": 0.2
             }
            },
            "type": "bar"
           }
          ],
          "barpolar": [
           {
            "marker": {
             "line": {
              "color": "#E5ECF6",
              "width": 0.5
             },
             "pattern": {
              "fillmode": "overlay",
              "size": 10,
              "solidity": 0.2
             }
            },
            "type": "barpolar"
           }
          ],
          "carpet": [
           {
            "aaxis": {
             "endlinecolor": "#2a3f5f",
             "gridcolor": "white",
             "linecolor": "white",
             "minorgridcolor": "white",
             "startlinecolor": "#2a3f5f"
            },
            "baxis": {
             "endlinecolor": "#2a3f5f",
             "gridcolor": "white",
             "linecolor": "white",
             "minorgridcolor": "white",
             "startlinecolor": "#2a3f5f"
            },
            "type": "carpet"
           }
          ],
          "choropleth": [
           {
            "colorbar": {
             "outlinewidth": 0,
             "ticks": ""
            },
            "type": "choropleth"
           }
          ],
          "contour": [
           {
            "colorbar": {
             "outlinewidth": 0,
             "ticks": ""
            },
            "colorscale": [
             [
              0,
              "#0d0887"
             ],
             [
              0.1111111111111111,
              "#46039f"
             ],
             [
              0.2222222222222222,
              "#7201a8"
             ],
             [
              0.3333333333333333,
              "#9c179e"
             ],
             [
              0.4444444444444444,
              "#bd3786"
             ],
             [
              0.5555555555555556,
              "#d8576b"
             ],
             [
              0.6666666666666666,
              "#ed7953"
             ],
             [
              0.7777777777777778,
              "#fb9f3a"
             ],
             [
              0.8888888888888888,
              "#fdca26"
             ],
             [
              1,
              "#f0f921"
             ]
            ],
            "type": "contour"
           }
          ],
          "contourcarpet": [
           {
            "colorbar": {
             "outlinewidth": 0,
             "ticks": ""
            },
            "type": "contourcarpet"
           }
          ],
          "heatmap": [
           {
            "colorbar": {
             "outlinewidth": 0,
             "ticks": ""
            },
            "colorscale": [
             [
              0,
              "#0d0887"
             ],
             [
              0.1111111111111111,
              "#46039f"
             ],
             [
              0.2222222222222222,
              "#7201a8"
             ],
             [
              0.3333333333333333,
              "#9c179e"
             ],
             [
              0.4444444444444444,
              "#bd3786"
             ],
             [
              0.5555555555555556,
              "#d8576b"
             ],
             [
              0.6666666666666666,
              "#ed7953"
             ],
             [
              0.7777777777777778,
              "#fb9f3a"
             ],
             [
              0.8888888888888888,
              "#fdca26"
             ],
             [
              1,
              "#f0f921"
             ]
            ],
            "type": "heatmap"
           }
          ],
          "heatmapgl": [
           {
            "colorbar": {
             "outlinewidth": 0,
             "ticks": ""
            },
            "colorscale": [
             [
              0,
              "#0d0887"
             ],
             [
              0.1111111111111111,
              "#46039f"
             ],
             [
              0.2222222222222222,
              "#7201a8"
             ],
             [
              0.3333333333333333,
              "#9c179e"
             ],
             [
              0.4444444444444444,
              "#bd3786"
             ],
             [
              0.5555555555555556,
              "#d8576b"
             ],
             [
              0.6666666666666666,
              "#ed7953"
             ],
             [
              0.7777777777777778,
              "#fb9f3a"
             ],
             [
              0.8888888888888888,
              "#fdca26"
             ],
             [
              1,
              "#f0f921"
             ]
            ],
            "type": "heatmapgl"
           }
          ],
          "histogram": [
           {
            "marker": {
             "pattern": {
              "fillmode": "overlay",
              "size": 10,
              "solidity": 0.2
             }
            },
            "type": "histogram"
           }
          ],
          "histogram2d": [
           {
            "colorbar": {
             "outlinewidth": 0,
             "ticks": ""
            },
            "colorscale": [
             [
              0,
              "#0d0887"
             ],
             [
              0.1111111111111111,
              "#46039f"
             ],
             [
              0.2222222222222222,
              "#7201a8"
             ],
             [
              0.3333333333333333,
              "#9c179e"
             ],
             [
              0.4444444444444444,
              "#bd3786"
             ],
             [
              0.5555555555555556,
              "#d8576b"
             ],
             [
              0.6666666666666666,
              "#ed7953"
             ],
             [
              0.7777777777777778,
              "#fb9f3a"
             ],
             [
              0.8888888888888888,
              "#fdca26"
             ],
             [
              1,
              "#f0f921"
             ]
            ],
            "type": "histogram2d"
           }
          ],
          "histogram2dcontour": [
           {
            "colorbar": {
             "outlinewidth": 0,
             "ticks": ""
            },
            "colorscale": [
             [
              0,
              "#0d0887"
             ],
             [
              0.1111111111111111,
              "#46039f"
             ],
             [
              0.2222222222222222,
              "#7201a8"
             ],
             [
              0.3333333333333333,
              "#9c179e"
             ],
             [
              0.4444444444444444,
              "#bd3786"
             ],
             [
              0.5555555555555556,
              "#d8576b"
             ],
             [
              0.6666666666666666,
              "#ed7953"
             ],
             [
              0.7777777777777778,
              "#fb9f3a"
             ],
             [
              0.8888888888888888,
              "#fdca26"
             ],
             [
              1,
              "#f0f921"
             ]
            ],
            "type": "histogram2dcontour"
           }
          ],
          "mesh3d": [
           {
            "colorbar": {
             "outlinewidth": 0,
             "ticks": ""
            },
            "type": "mesh3d"
           }
          ],
          "parcoords": [
           {
            "line": {
             "colorbar": {
              "outlinewidth": 0,
              "ticks": ""
             }
            },
            "type": "parcoords"
           }
          ],
          "pie": [
           {
            "automargin": true,
            "type": "pie"
           }
          ],
          "scatter": [
           {
            "marker": {
             "colorbar": {
              "outlinewidth": 0,
              "ticks": ""
             }
            },
            "type": "scatter"
           }
          ],
          "scatter3d": [
           {
            "line": {
             "colorbar": {
              "outlinewidth": 0,
              "ticks": ""
             }
            },
            "marker": {
             "colorbar": {
              "outlinewidth": 0,
              "ticks": ""
             }
            },
            "type": "scatter3d"
           }
          ],
          "scattercarpet": [
           {
            "marker": {
             "colorbar": {
              "outlinewidth": 0,
              "ticks": ""
             }
            },
            "type": "scattercarpet"
           }
          ],
          "scattergeo": [
           {
            "marker": {
             "colorbar": {
              "outlinewidth": 0,
              "ticks": ""
             }
            },
            "type": "scattergeo"
           }
          ],
          "scattergl": [
           {
            "marker": {
             "colorbar": {
              "outlinewidth": 0,
              "ticks": ""
             }
            },
            "type": "scattergl"
           }
          ],
          "scattermapbox": [
           {
            "marker": {
             "colorbar": {
              "outlinewidth": 0,
              "ticks": ""
             }
            },
            "type": "scattermapbox"
           }
          ],
          "scatterpolar": [
           {
            "marker": {
             "colorbar": {
              "outlinewidth": 0,
              "ticks": ""
             }
            },
            "type": "scatterpolar"
           }
          ],
          "scatterpolargl": [
           {
            "marker": {
             "colorbar": {
              "outlinewidth": 0,
              "ticks": ""
             }
            },
            "type": "scatterpolargl"
           }
          ],
          "scatterternary": [
           {
            "marker": {
             "colorbar": {
              "outlinewidth": 0,
              "ticks": ""
             }
            },
            "type": "scatterternary"
           }
          ],
          "surface": [
           {
            "colorbar": {
             "outlinewidth": 0,
             "ticks": ""
            },
            "colorscale": [
             [
              0,
              "#0d0887"
             ],
             [
              0.1111111111111111,
              "#46039f"
             ],
             [
              0.2222222222222222,
              "#7201a8"
             ],
             [
              0.3333333333333333,
              "#9c179e"
             ],
             [
              0.4444444444444444,
              "#bd3786"
             ],
             [
              0.5555555555555556,
              "#d8576b"
             ],
             [
              0.6666666666666666,
              "#ed7953"
             ],
             [
              0.7777777777777778,
              "#fb9f3a"
             ],
             [
              0.8888888888888888,
              "#fdca26"
             ],
             [
              1,
              "#f0f921"
             ]
            ],
            "type": "surface"
           }
          ],
          "table": [
           {
            "cells": {
             "fill": {
              "color": "#EBF0F8"
             },
             "line": {
              "color": "white"
             }
            },
            "header": {
             "fill": {
              "color": "#C8D4E3"
             },
             "line": {
              "color": "white"
             }
            },
            "type": "table"
           }
          ]
         },
         "layout": {
          "annotationdefaults": {
           "arrowcolor": "#2a3f5f",
           "arrowhead": 0,
           "arrowwidth": 1
          },
          "autotypenumbers": "strict",
          "coloraxis": {
           "colorbar": {
            "outlinewidth": 0,
            "ticks": ""
           }
          },
          "colorscale": {
           "diverging": [
            [
             0,
             "#8e0152"
            ],
            [
             0.1,
             "#c51b7d"
            ],
            [
             0.2,
             "#de77ae"
            ],
            [
             0.3,
             "#f1b6da"
            ],
            [
             0.4,
             "#fde0ef"
            ],
            [
             0.5,
             "#f7f7f7"
            ],
            [
             0.6,
             "#e6f5d0"
            ],
            [
             0.7,
             "#b8e186"
            ],
            [
             0.8,
             "#7fbc41"
            ],
            [
             0.9,
             "#4d9221"
            ],
            [
             1,
             "#276419"
            ]
           ],
           "sequential": [
            [
             0,
             "#0d0887"
            ],
            [
             0.1111111111111111,
             "#46039f"
            ],
            [
             0.2222222222222222,
             "#7201a8"
            ],
            [
             0.3333333333333333,
             "#9c179e"
            ],
            [
             0.4444444444444444,
             "#bd3786"
            ],
            [
             0.5555555555555556,
             "#d8576b"
            ],
            [
             0.6666666666666666,
             "#ed7953"
            ],
            [
             0.7777777777777778,
             "#fb9f3a"
            ],
            [
             0.8888888888888888,
             "#fdca26"
            ],
            [
             1,
             "#f0f921"
            ]
           ],
           "sequentialminus": [
            [
             0,
             "#0d0887"
            ],
            [
             0.1111111111111111,
             "#46039f"
            ],
            [
             0.2222222222222222,
             "#7201a8"
            ],
            [
             0.3333333333333333,
             "#9c179e"
            ],
            [
             0.4444444444444444,
             "#bd3786"
            ],
            [
             0.5555555555555556,
             "#d8576b"
            ],
            [
             0.6666666666666666,
             "#ed7953"
            ],
            [
             0.7777777777777778,
             "#fb9f3a"
            ],
            [
             0.8888888888888888,
             "#fdca26"
            ],
            [
             1,
             "#f0f921"
            ]
           ]
          },
          "colorway": [
           "#636efa",
           "#EF553B",
           "#00cc96",
           "#ab63fa",
           "#FFA15A",
           "#19d3f3",
           "#FF6692",
           "#B6E880",
           "#FF97FF",
           "#FECB52"
          ],
          "font": {
           "color": "#2a3f5f"
          },
          "geo": {
           "bgcolor": "white",
           "lakecolor": "white",
           "landcolor": "#E5ECF6",
           "showlakes": true,
           "showland": true,
           "subunitcolor": "white"
          },
          "hoverlabel": {
           "align": "left"
          },
          "hovermode": "closest",
          "mapbox": {
           "style": "light"
          },
          "paper_bgcolor": "white",
          "plot_bgcolor": "#E5ECF6",
          "polar": {
           "angularaxis": {
            "gridcolor": "white",
            "linecolor": "white",
            "ticks": ""
           },
           "bgcolor": "#E5ECF6",
           "radialaxis": {
            "gridcolor": "white",
            "linecolor": "white",
            "ticks": ""
           }
          },
          "scene": {
           "xaxis": {
            "backgroundcolor": "#E5ECF6",
            "gridcolor": "white",
            "gridwidth": 2,
            "linecolor": "white",
            "showbackground": true,
            "ticks": "",
            "zerolinecolor": "white"
           },
           "yaxis": {
            "backgroundcolor": "#E5ECF6",
            "gridcolor": "white",
            "gridwidth": 2,
            "linecolor": "white",
            "showbackground": true,
            "ticks": "",
            "zerolinecolor": "white"
           },
           "zaxis": {
            "backgroundcolor": "#E5ECF6",
            "gridcolor": "white",
            "gridwidth": 2,
            "linecolor": "white",
            "showbackground": true,
            "ticks": "",
            "zerolinecolor": "white"
           }
          },
          "shapedefaults": {
           "line": {
            "color": "#2a3f5f"
           }
          },
          "ternary": {
           "aaxis": {
            "gridcolor": "white",
            "linecolor": "white",
            "ticks": ""
           },
           "baxis": {
            "gridcolor": "white",
            "linecolor": "white",
            "ticks": ""
           },
           "bgcolor": "#E5ECF6",
           "caxis": {
            "gridcolor": "white",
            "linecolor": "white",
            "ticks": ""
           }
          },
          "title": {
           "x": 0.05
          },
          "xaxis": {
           "automargin": true,
           "gridcolor": "white",
           "linecolor": "white",
           "ticks": "",
           "title": {
            "standoff": 15
           },
           "zerolinecolor": "white",
           "zerolinewidth": 2
          },
          "yaxis": {
           "automargin": true,
           "gridcolor": "white",
           "linecolor": "white",
           "ticks": "",
           "title": {
            "standoff": 15
           },
           "zerolinecolor": "white",
           "zerolinewidth": 2
          }
         }
        },
        "title": {
         "text": "Revenue 2018"
        }
       }
      }
     },
     "metadata": {},
     "output_type": "display_data"
    }
   ],
   "source": [
    "df_revenue_subsegment_2018 = df_clustering_2018.groupby(['sub_segment']).agg({'payment_value_sum':'sum'}).sort_values(by=['payment_value_sum']).reset_index()\n",
    "configure_plotly_browser_state()\n",
    "trace0 = go.Bar(\n",
    "    x=df_revenue_subsegment_2018[\"sub_segment\"].values,\n",
    "    y=df_revenue_subsegment_2018[\"payment_value_sum\"].values,\n",
    "    marker=dict(\n",
    "        color=['rgba(36,123,160,1)', \n",
    "               'rgba(75,147,177,1)',\n",
    "               'rgba(112,193,179,1)', \n",
    "               'rgba(138,204,192,1)',\n",
    "               'rgba(243,255,189,1)',\n",
    "               'rgba(247,255,213,1)',\n",
    "               'rgba(255,22,84,1)']),\n",
    ")\n",
    "\n",
    "data = [trace0]\n",
    "\n",
    "layout = go.Layout(\n",
    "    title='Revenue 2018',\n",
    ")\n",
    "\n",
    "fig = go.Figure(data=data, layout=layout)\n",
    "py.iplot(fig)"
   ]
  },
  {
   "cell_type": "markdown",
   "metadata": {},
   "source": [
    "##### Repurchase Amount by segment 2018"
   ]
  },
  {
   "cell_type": "code",
   "execution_count": 36,
   "metadata": {},
   "outputs": [
    {
     "data": {
      "text/html": [
       "<div>\n",
       "<style scoped>\n",
       "    .dataframe tbody tr th:only-of-type {\n",
       "        vertical-align: middle;\n",
       "    }\n",
       "\n",
       "    .dataframe tbody tr th {\n",
       "        vertical-align: top;\n",
       "    }\n",
       "\n",
       "    .dataframe thead th {\n",
       "        text-align: right;\n",
       "    }\n",
       "</style>\n",
       "<table border=\"1\" class=\"dataframe\">\n",
       "  <thead>\n",
       "    <tr style=\"text-align: right;\">\n",
       "      <th></th>\n",
       "      <th>customer_unique_id</th>\n",
       "      <th>first_order_purchase</th>\n",
       "      <th>last_order_purchase</th>\n",
       "      <th>order_purchase_qty</th>\n",
       "      <th>payment_value_sum</th>\n",
       "      <th>payment_value_mean</th>\n",
       "      <th>segment</th>\n",
       "      <th>sub_segment</th>\n",
       "      <th>new_customer</th>\n",
       "    </tr>\n",
       "  </thead>\n",
       "  <tbody>\n",
       "    <tr>\n",
       "      <th>0</th>\n",
       "      <td>0000366f3b9a7992bf8c76cfdf3221e2</td>\n",
       "      <td>110</td>\n",
       "      <td>110</td>\n",
       "      <td>1</td>\n",
       "      <td>141.90</td>\n",
       "      <td>141.90</td>\n",
       "      <td>active</td>\n",
       "      <td>active_high_payment_value</td>\n",
       "      <td>1</td>\n",
       "    </tr>\n",
       "    <tr>\n",
       "      <th>1</th>\n",
       "      <td>0000b849f77a49e4a4ce2b2a4ca5be3f</td>\n",
       "      <td>113</td>\n",
       "      <td>113</td>\n",
       "      <td>1</td>\n",
       "      <td>27.19</td>\n",
       "      <td>27.19</td>\n",
       "      <td>active</td>\n",
       "      <td>active_low_payment_value</td>\n",
       "      <td>1</td>\n",
       "    </tr>\n",
       "    <tr>\n",
       "      <th>2</th>\n",
       "      <td>0000f46a3911fa3c0805444483337064</td>\n",
       "      <td>536</td>\n",
       "      <td>536</td>\n",
       "      <td>1</td>\n",
       "      <td>86.22</td>\n",
       "      <td>86.22</td>\n",
       "      <td>inactive</td>\n",
       "      <td>inactive</td>\n",
       "      <td>0</td>\n",
       "    </tr>\n",
       "    <tr>\n",
       "      <th>3</th>\n",
       "      <td>0000f6ccb0745a6a4b88665a16c9f078</td>\n",
       "      <td>320</td>\n",
       "      <td>320</td>\n",
       "      <td>1</td>\n",
       "      <td>43.62</td>\n",
       "      <td>43.62</td>\n",
       "      <td>hot</td>\n",
       "      <td>hot_low_payment_value</td>\n",
       "      <td>1</td>\n",
       "    </tr>\n",
       "    <tr>\n",
       "      <th>4</th>\n",
       "      <td>0004aac84e0df4da2b147fca70cf8255</td>\n",
       "      <td>287</td>\n",
       "      <td>287</td>\n",
       "      <td>1</td>\n",
       "      <td>196.89</td>\n",
       "      <td>196.89</td>\n",
       "      <td>hot</td>\n",
       "      <td>hot_high_payment_value</td>\n",
       "      <td>1</td>\n",
       "    </tr>\n",
       "  </tbody>\n",
       "</table>\n",
       "</div>"
      ],
      "text/plain": [
       "                 customer_unique_id  first_order_purchase  \\\n",
       "0  0000366f3b9a7992bf8c76cfdf3221e2                   110   \n",
       "1  0000b849f77a49e4a4ce2b2a4ca5be3f                   113   \n",
       "2  0000f46a3911fa3c0805444483337064                   536   \n",
       "3  0000f6ccb0745a6a4b88665a16c9f078                   320   \n",
       "4  0004aac84e0df4da2b147fca70cf8255                   287   \n",
       "\n",
       "   last_order_purchase  order_purchase_qty  payment_value_sum  \\\n",
       "0                  110                   1             141.90   \n",
       "1                  113                   1              27.19   \n",
       "2                  536                   1              86.22   \n",
       "3                  320                   1              43.62   \n",
       "4                  287                   1             196.89   \n",
       "\n",
       "   payment_value_mean   segment                sub_segment  new_customer  \n",
       "0              141.90    active  active_high_payment_value             1  \n",
       "1               27.19    active   active_low_payment_value             1  \n",
       "2               86.22  inactive                   inactive             0  \n",
       "3               43.62       hot      hot_low_payment_value             1  \n",
       "4              196.89       hot     hot_high_payment_value             1  "
      ]
     },
     "execution_count": 36,
     "metadata": {},
     "output_type": "execute_result"
    }
   ],
   "source": [
    "df_clustering_2018.head()"
   ]
  },
  {
   "cell_type": "code",
   "execution_count": 37,
   "metadata": {},
   "outputs": [],
   "source": [
    "df_clustering_2018_qty = df_clustering_2018.loc[df_clustering_2018[\"order_purchase_qty\"] > 1]\n",
    "df_qty_subsegment_2018 = df_clustering_2018_qty.groupby(['sub_segment']).agg({'order_purchase_qty':'count'}).sort_values(by=['order_purchase_qty']).reset_index()"
   ]
  },
  {
   "cell_type": "code",
   "execution_count": 38,
   "metadata": {},
   "outputs": [
    {
     "data": {
      "text/html": [
       "\n",
       "        <script src=\"/static/components/requirejs/require.js\"></script>\n",
       "        <script>\n",
       "          requirejs.config({\n",
       "            paths: {\n",
       "              base: '/static/base',\n",
       "              plotly: 'https://cdn.plot.ly/plotly-latest.min.js?noext',\n",
       "            },\n",
       "          });\n",
       "        </script>\n",
       "        "
      ],
      "text/plain": [
       "<IPython.core.display.HTML object>"
      ]
     },
     "metadata": {},
     "output_type": "display_data"
    },
    {
     "data": {
      "application/vnd.plotly.v1+json": {
       "config": {
        "linkText": "Export to plot.ly",
        "plotlyServerURL": "https://plot.ly",
        "showLink": false
       },
       "data": [
        {
         "marker": {
          "color": [
           "rgba(36,123,160,1)",
           "rgba(75,147,177,1)",
           "rgba(112,193,179,1)",
           "rgba(138,204,192,1)",
           "rgba(243,255,189,1)",
           "rgba(247,255,213,1)",
           "rgba(255,22,84,1)"
          ]
         },
         "type": "bar",
         "x": [
          "inactive",
          "active_high_payment_value",
          "cold_high_payment_value",
          "hot_high_payment_value",
          "cold_low_payment_value",
          "active_low_payment_value",
          "hot_low_payment_value"
         ],
         "y": [
          356,
          443,
          561,
          712,
          976,
          989,
          1264
         ]
        }
       ],
       "layout": {
        "template": {
         "data": {
          "bar": [
           {
            "error_x": {
             "color": "#2a3f5f"
            },
            "error_y": {
             "color": "#2a3f5f"
            },
            "marker": {
             "line": {
              "color": "#E5ECF6",
              "width": 0.5
             },
             "pattern": {
              "fillmode": "overlay",
              "size": 10,
              "solidity": 0.2
             }
            },
            "type": "bar"
           }
          ],
          "barpolar": [
           {
            "marker": {
             "line": {
              "color": "#E5ECF6",
              "width": 0.5
             },
             "pattern": {
              "fillmode": "overlay",
              "size": 10,
              "solidity": 0.2
             }
            },
            "type": "barpolar"
           }
          ],
          "carpet": [
           {
            "aaxis": {
             "endlinecolor": "#2a3f5f",
             "gridcolor": "white",
             "linecolor": "white",
             "minorgridcolor": "white",
             "startlinecolor": "#2a3f5f"
            },
            "baxis": {
             "endlinecolor": "#2a3f5f",
             "gridcolor": "white",
             "linecolor": "white",
             "minorgridcolor": "white",
             "startlinecolor": "#2a3f5f"
            },
            "type": "carpet"
           }
          ],
          "choropleth": [
           {
            "colorbar": {
             "outlinewidth": 0,
             "ticks": ""
            },
            "type": "choropleth"
           }
          ],
          "contour": [
           {
            "colorbar": {
             "outlinewidth": 0,
             "ticks": ""
            },
            "colorscale": [
             [
              0,
              "#0d0887"
             ],
             [
              0.1111111111111111,
              "#46039f"
             ],
             [
              0.2222222222222222,
              "#7201a8"
             ],
             [
              0.3333333333333333,
              "#9c179e"
             ],
             [
              0.4444444444444444,
              "#bd3786"
             ],
             [
              0.5555555555555556,
              "#d8576b"
             ],
             [
              0.6666666666666666,
              "#ed7953"
             ],
             [
              0.7777777777777778,
              "#fb9f3a"
             ],
             [
              0.8888888888888888,
              "#fdca26"
             ],
             [
              1,
              "#f0f921"
             ]
            ],
            "type": "contour"
           }
          ],
          "contourcarpet": [
           {
            "colorbar": {
             "outlinewidth": 0,
             "ticks": ""
            },
            "type": "contourcarpet"
           }
          ],
          "heatmap": [
           {
            "colorbar": {
             "outlinewidth": 0,
             "ticks": ""
            },
            "colorscale": [
             [
              0,
              "#0d0887"
             ],
             [
              0.1111111111111111,
              "#46039f"
             ],
             [
              0.2222222222222222,
              "#7201a8"
             ],
             [
              0.3333333333333333,
              "#9c179e"
             ],
             [
              0.4444444444444444,
              "#bd3786"
             ],
             [
              0.5555555555555556,
              "#d8576b"
             ],
             [
              0.6666666666666666,
              "#ed7953"
             ],
             [
              0.7777777777777778,
              "#fb9f3a"
             ],
             [
              0.8888888888888888,
              "#fdca26"
             ],
             [
              1,
              "#f0f921"
             ]
            ],
            "type": "heatmap"
           }
          ],
          "heatmapgl": [
           {
            "colorbar": {
             "outlinewidth": 0,
             "ticks": ""
            },
            "colorscale": [
             [
              0,
              "#0d0887"
             ],
             [
              0.1111111111111111,
              "#46039f"
             ],
             [
              0.2222222222222222,
              "#7201a8"
             ],
             [
              0.3333333333333333,
              "#9c179e"
             ],
             [
              0.4444444444444444,
              "#bd3786"
             ],
             [
              0.5555555555555556,
              "#d8576b"
             ],
             [
              0.6666666666666666,
              "#ed7953"
             ],
             [
              0.7777777777777778,
              "#fb9f3a"
             ],
             [
              0.8888888888888888,
              "#fdca26"
             ],
             [
              1,
              "#f0f921"
             ]
            ],
            "type": "heatmapgl"
           }
          ],
          "histogram": [
           {
            "marker": {
             "pattern": {
              "fillmode": "overlay",
              "size": 10,
              "solidity": 0.2
             }
            },
            "type": "histogram"
           }
          ],
          "histogram2d": [
           {
            "colorbar": {
             "outlinewidth": 0,
             "ticks": ""
            },
            "colorscale": [
             [
              0,
              "#0d0887"
             ],
             [
              0.1111111111111111,
              "#46039f"
             ],
             [
              0.2222222222222222,
              "#7201a8"
             ],
             [
              0.3333333333333333,
              "#9c179e"
             ],
             [
              0.4444444444444444,
              "#bd3786"
             ],
             [
              0.5555555555555556,
              "#d8576b"
             ],
             [
              0.6666666666666666,
              "#ed7953"
             ],
             [
              0.7777777777777778,
              "#fb9f3a"
             ],
             [
              0.8888888888888888,
              "#fdca26"
             ],
             [
              1,
              "#f0f921"
             ]
            ],
            "type": "histogram2d"
           }
          ],
          "histogram2dcontour": [
           {
            "colorbar": {
             "outlinewidth": 0,
             "ticks": ""
            },
            "colorscale": [
             [
              0,
              "#0d0887"
             ],
             [
              0.1111111111111111,
              "#46039f"
             ],
             [
              0.2222222222222222,
              "#7201a8"
             ],
             [
              0.3333333333333333,
              "#9c179e"
             ],
             [
              0.4444444444444444,
              "#bd3786"
             ],
             [
              0.5555555555555556,
              "#d8576b"
             ],
             [
              0.6666666666666666,
              "#ed7953"
             ],
             [
              0.7777777777777778,
              "#fb9f3a"
             ],
             [
              0.8888888888888888,
              "#fdca26"
             ],
             [
              1,
              "#f0f921"
             ]
            ],
            "type": "histogram2dcontour"
           }
          ],
          "mesh3d": [
           {
            "colorbar": {
             "outlinewidth": 0,
             "ticks": ""
            },
            "type": "mesh3d"
           }
          ],
          "parcoords": [
           {
            "line": {
             "colorbar": {
              "outlinewidth": 0,
              "ticks": ""
             }
            },
            "type": "parcoords"
           }
          ],
          "pie": [
           {
            "automargin": true,
            "type": "pie"
           }
          ],
          "scatter": [
           {
            "marker": {
             "colorbar": {
              "outlinewidth": 0,
              "ticks": ""
             }
            },
            "type": "scatter"
           }
          ],
          "scatter3d": [
           {
            "line": {
             "colorbar": {
              "outlinewidth": 0,
              "ticks": ""
             }
            },
            "marker": {
             "colorbar": {
              "outlinewidth": 0,
              "ticks": ""
             }
            },
            "type": "scatter3d"
           }
          ],
          "scattercarpet": [
           {
            "marker": {
             "colorbar": {
              "outlinewidth": 0,
              "ticks": ""
             }
            },
            "type": "scattercarpet"
           }
          ],
          "scattergeo": [
           {
            "marker": {
             "colorbar": {
              "outlinewidth": 0,
              "ticks": ""
             }
            },
            "type": "scattergeo"
           }
          ],
          "scattergl": [
           {
            "marker": {
             "colorbar": {
              "outlinewidth": 0,
              "ticks": ""
             }
            },
            "type": "scattergl"
           }
          ],
          "scattermapbox": [
           {
            "marker": {
             "colorbar": {
              "outlinewidth": 0,
              "ticks": ""
             }
            },
            "type": "scattermapbox"
           }
          ],
          "scatterpolar": [
           {
            "marker": {
             "colorbar": {
              "outlinewidth": 0,
              "ticks": ""
             }
            },
            "type": "scatterpolar"
           }
          ],
          "scatterpolargl": [
           {
            "marker": {
             "colorbar": {
              "outlinewidth": 0,
              "ticks": ""
             }
            },
            "type": "scatterpolargl"
           }
          ],
          "scatterternary": [
           {
            "marker": {
             "colorbar": {
              "outlinewidth": 0,
              "ticks": ""
             }
            },
            "type": "scatterternary"
           }
          ],
          "surface": [
           {
            "colorbar": {
             "outlinewidth": 0,
             "ticks": ""
            },
            "colorscale": [
             [
              0,
              "#0d0887"
             ],
             [
              0.1111111111111111,
              "#46039f"
             ],
             [
              0.2222222222222222,
              "#7201a8"
             ],
             [
              0.3333333333333333,
              "#9c179e"
             ],
             [
              0.4444444444444444,
              "#bd3786"
             ],
             [
              0.5555555555555556,
              "#d8576b"
             ],
             [
              0.6666666666666666,
              "#ed7953"
             ],
             [
              0.7777777777777778,
              "#fb9f3a"
             ],
             [
              0.8888888888888888,
              "#fdca26"
             ],
             [
              1,
              "#f0f921"
             ]
            ],
            "type": "surface"
           }
          ],
          "table": [
           {
            "cells": {
             "fill": {
              "color": "#EBF0F8"
             },
             "line": {
              "color": "white"
             }
            },
            "header": {
             "fill": {
              "color": "#C8D4E3"
             },
             "line": {
              "color": "white"
             }
            },
            "type": "table"
           }
          ]
         },
         "layout": {
          "annotationdefaults": {
           "arrowcolor": "#2a3f5f",
           "arrowhead": 0,
           "arrowwidth": 1
          },
          "autotypenumbers": "strict",
          "coloraxis": {
           "colorbar": {
            "outlinewidth": 0,
            "ticks": ""
           }
          },
          "colorscale": {
           "diverging": [
            [
             0,
             "#8e0152"
            ],
            [
             0.1,
             "#c51b7d"
            ],
            [
             0.2,
             "#de77ae"
            ],
            [
             0.3,
             "#f1b6da"
            ],
            [
             0.4,
             "#fde0ef"
            ],
            [
             0.5,
             "#f7f7f7"
            ],
            [
             0.6,
             "#e6f5d0"
            ],
            [
             0.7,
             "#b8e186"
            ],
            [
             0.8,
             "#7fbc41"
            ],
            [
             0.9,
             "#4d9221"
            ],
            [
             1,
             "#276419"
            ]
           ],
           "sequential": [
            [
             0,
             "#0d0887"
            ],
            [
             0.1111111111111111,
             "#46039f"
            ],
            [
             0.2222222222222222,
             "#7201a8"
            ],
            [
             0.3333333333333333,
             "#9c179e"
            ],
            [
             0.4444444444444444,
             "#bd3786"
            ],
            [
             0.5555555555555556,
             "#d8576b"
            ],
            [
             0.6666666666666666,
             "#ed7953"
            ],
            [
             0.7777777777777778,
             "#fb9f3a"
            ],
            [
             0.8888888888888888,
             "#fdca26"
            ],
            [
             1,
             "#f0f921"
            ]
           ],
           "sequentialminus": [
            [
             0,
             "#0d0887"
            ],
            [
             0.1111111111111111,
             "#46039f"
            ],
            [
             0.2222222222222222,
             "#7201a8"
            ],
            [
             0.3333333333333333,
             "#9c179e"
            ],
            [
             0.4444444444444444,
             "#bd3786"
            ],
            [
             0.5555555555555556,
             "#d8576b"
            ],
            [
             0.6666666666666666,
             "#ed7953"
            ],
            [
             0.7777777777777778,
             "#fb9f3a"
            ],
            [
             0.8888888888888888,
             "#fdca26"
            ],
            [
             1,
             "#f0f921"
            ]
           ]
          },
          "colorway": [
           "#636efa",
           "#EF553B",
           "#00cc96",
           "#ab63fa",
           "#FFA15A",
           "#19d3f3",
           "#FF6692",
           "#B6E880",
           "#FF97FF",
           "#FECB52"
          ],
          "font": {
           "color": "#2a3f5f"
          },
          "geo": {
           "bgcolor": "white",
           "lakecolor": "white",
           "landcolor": "#E5ECF6",
           "showlakes": true,
           "showland": true,
           "subunitcolor": "white"
          },
          "hoverlabel": {
           "align": "left"
          },
          "hovermode": "closest",
          "mapbox": {
           "style": "light"
          },
          "paper_bgcolor": "white",
          "plot_bgcolor": "#E5ECF6",
          "polar": {
           "angularaxis": {
            "gridcolor": "white",
            "linecolor": "white",
            "ticks": ""
           },
           "bgcolor": "#E5ECF6",
           "radialaxis": {
            "gridcolor": "white",
            "linecolor": "white",
            "ticks": ""
           }
          },
          "scene": {
           "xaxis": {
            "backgroundcolor": "#E5ECF6",
            "gridcolor": "white",
            "gridwidth": 2,
            "linecolor": "white",
            "showbackground": true,
            "ticks": "",
            "zerolinecolor": "white"
           },
           "yaxis": {
            "backgroundcolor": "#E5ECF6",
            "gridcolor": "white",
            "gridwidth": 2,
            "linecolor": "white",
            "showbackground": true,
            "ticks": "",
            "zerolinecolor": "white"
           },
           "zaxis": {
            "backgroundcolor": "#E5ECF6",
            "gridcolor": "white",
            "gridwidth": 2,
            "linecolor": "white",
            "showbackground": true,
            "ticks": "",
            "zerolinecolor": "white"
           }
          },
          "shapedefaults": {
           "line": {
            "color": "#2a3f5f"
           }
          },
          "ternary": {
           "aaxis": {
            "gridcolor": "white",
            "linecolor": "white",
            "ticks": ""
           },
           "baxis": {
            "gridcolor": "white",
            "linecolor": "white",
            "ticks": ""
           },
           "bgcolor": "#E5ECF6",
           "caxis": {
            "gridcolor": "white",
            "linecolor": "white",
            "ticks": ""
           }
          },
          "title": {
           "x": 0.05
          },
          "xaxis": {
           "automargin": true,
           "gridcolor": "white",
           "linecolor": "white",
           "ticks": "",
           "title": {
            "standoff": 15
           },
           "zerolinecolor": "white",
           "zerolinewidth": 2
          },
          "yaxis": {
           "automargin": true,
           "gridcolor": "white",
           "linecolor": "white",
           "ticks": "",
           "title": {
            "standoff": 15
           },
           "zerolinecolor": "white",
           "zerolinewidth": 2
          }
         }
        },
        "title": {
         "text": "Repurchase Amount 2018"
        }
       }
      }
     },
     "metadata": {},
     "output_type": "display_data"
    }
   ],
   "source": [
    "configure_plotly_browser_state()\n",
    "trace0 = go.Bar(\n",
    "    x=df_qty_subsegment_2018[\"sub_segment\"].values,\n",
    "    y=df_qty_subsegment_2018[\"order_purchase_qty\"].values,\n",
    "    marker=dict(\n",
    "        color=['rgba(36,123,160,1)', \n",
    "               'rgba(75,147,177,1)',\n",
    "               'rgba(112,193,179,1)', \n",
    "               'rgba(138,204,192,1)',\n",
    "               'rgba(243,255,189,1)',\n",
    "               'rgba(247,255,213,1)',\n",
    "               'rgba(255,22,84,1)']),\n",
    ")\n",
    "\n",
    "data = [trace0]\n",
    "\n",
    "layout = go.Layout(\n",
    "    title='Repurchase Amount 2018',\n",
    ")\n",
    "\n",
    "fig = go.Figure(data=data, layout=layout)\n",
    "py.iplot(fig)"
   ]
  },
  {
   "cell_type": "markdown",
   "metadata": {},
   "source": [
    "#### Nombre moyen de jours entre le premier et le dernier achat par segment 2018"
   ]
  },
  {
   "cell_type": "code",
   "execution_count": 39,
   "metadata": {},
   "outputs": [],
   "source": [
    "df_days_repurchase_subsegment_2018 = df_clustering_2018_qty.groupby([\"sub_segment\"]).agg({'first_order_purchase': \"mean\", 'last_order_purchase' : \"mean\"}).reset_index()\n",
    "df_days_repurchase_subsegment_2018[\"diff_order_purchase\"] = df_days_repurchase_subsegment_2018[\"last_order_purchase\"].values - df_days_repurchase_subsegment_2018[\"first_order_purchase\"].values\n",
    "df_days_repurchase_subsegment_2018[\"diff_order_purchase\"] = df_days_repurchase_subsegment_2018[\"diff_order_purchase\"].round(0)"
   ]
  },
  {
   "cell_type": "code",
   "execution_count": 40,
   "metadata": {},
   "outputs": [
    {
     "data": {
      "text/html": [
       "\n",
       "        <script src=\"/static/components/requirejs/require.js\"></script>\n",
       "        <script>\n",
       "          requirejs.config({\n",
       "            paths: {\n",
       "              base: '/static/base',\n",
       "              plotly: 'https://cdn.plot.ly/plotly-latest.min.js?noext',\n",
       "            },\n",
       "          });\n",
       "        </script>\n",
       "        "
      ],
      "text/plain": [
       "<IPython.core.display.HTML object>"
      ]
     },
     "metadata": {},
     "output_type": "display_data"
    },
    {
     "data": {
      "application/vnd.plotly.v1+json": {
       "config": {
        "linkText": "Export to plot.ly",
        "plotlyServerURL": "https://plot.ly",
        "showLink": false
       },
       "data": [
        {
         "marker": {
          "color": [
           "rgba(36,123,160,1)",
           "rgba(75,147,177,1)",
           "rgba(112,193,179,1)",
           "rgba(138,204,192,1)",
           "rgba(243,255,189,1)",
           "rgba(247,255,213,1)",
           "rgba(255,22,84,1)"
          ]
         },
         "type": "bar",
         "x": [
          "active_high_payment_value",
          "active_low_payment_value",
          "cold_high_payment_value",
          "cold_low_payment_value",
          "hot_high_payment_value",
          "hot_low_payment_value",
          "inactive"
         ],
         "y": [
          18,
          7,
          115,
          52,
          56,
          24,
          104
         ]
        }
       ],
       "layout": {
        "template": {
         "data": {
          "bar": [
           {
            "error_x": {
             "color": "#2a3f5f"
            },
            "error_y": {
             "color": "#2a3f5f"
            },
            "marker": {
             "line": {
              "color": "#E5ECF6",
              "width": 0.5
             },
             "pattern": {
              "fillmode": "overlay",
              "size": 10,
              "solidity": 0.2
             }
            },
            "type": "bar"
           }
          ],
          "barpolar": [
           {
            "marker": {
             "line": {
              "color": "#E5ECF6",
              "width": 0.5
             },
             "pattern": {
              "fillmode": "overlay",
              "size": 10,
              "solidity": 0.2
             }
            },
            "type": "barpolar"
           }
          ],
          "carpet": [
           {
            "aaxis": {
             "endlinecolor": "#2a3f5f",
             "gridcolor": "white",
             "linecolor": "white",
             "minorgridcolor": "white",
             "startlinecolor": "#2a3f5f"
            },
            "baxis": {
             "endlinecolor": "#2a3f5f",
             "gridcolor": "white",
             "linecolor": "white",
             "minorgridcolor": "white",
             "startlinecolor": "#2a3f5f"
            },
            "type": "carpet"
           }
          ],
          "choropleth": [
           {
            "colorbar": {
             "outlinewidth": 0,
             "ticks": ""
            },
            "type": "choropleth"
           }
          ],
          "contour": [
           {
            "colorbar": {
             "outlinewidth": 0,
             "ticks": ""
            },
            "colorscale": [
             [
              0,
              "#0d0887"
             ],
             [
              0.1111111111111111,
              "#46039f"
             ],
             [
              0.2222222222222222,
              "#7201a8"
             ],
             [
              0.3333333333333333,
              "#9c179e"
             ],
             [
              0.4444444444444444,
              "#bd3786"
             ],
             [
              0.5555555555555556,
              "#d8576b"
             ],
             [
              0.6666666666666666,
              "#ed7953"
             ],
             [
              0.7777777777777778,
              "#fb9f3a"
             ],
             [
              0.8888888888888888,
              "#fdca26"
             ],
             [
              1,
              "#f0f921"
             ]
            ],
            "type": "contour"
           }
          ],
          "contourcarpet": [
           {
            "colorbar": {
             "outlinewidth": 0,
             "ticks": ""
            },
            "type": "contourcarpet"
           }
          ],
          "heatmap": [
           {
            "colorbar": {
             "outlinewidth": 0,
             "ticks": ""
            },
            "colorscale": [
             [
              0,
              "#0d0887"
             ],
             [
              0.1111111111111111,
              "#46039f"
             ],
             [
              0.2222222222222222,
              "#7201a8"
             ],
             [
              0.3333333333333333,
              "#9c179e"
             ],
             [
              0.4444444444444444,
              "#bd3786"
             ],
             [
              0.5555555555555556,
              "#d8576b"
             ],
             [
              0.6666666666666666,
              "#ed7953"
             ],
             [
              0.7777777777777778,
              "#fb9f3a"
             ],
             [
              0.8888888888888888,
              "#fdca26"
             ],
             [
              1,
              "#f0f921"
             ]
            ],
            "type": "heatmap"
           }
          ],
          "heatmapgl": [
           {
            "colorbar": {
             "outlinewidth": 0,
             "ticks": ""
            },
            "colorscale": [
             [
              0,
              "#0d0887"
             ],
             [
              0.1111111111111111,
              "#46039f"
             ],
             [
              0.2222222222222222,
              "#7201a8"
             ],
             [
              0.3333333333333333,
              "#9c179e"
             ],
             [
              0.4444444444444444,
              "#bd3786"
             ],
             [
              0.5555555555555556,
              "#d8576b"
             ],
             [
              0.6666666666666666,
              "#ed7953"
             ],
             [
              0.7777777777777778,
              "#fb9f3a"
             ],
             [
              0.8888888888888888,
              "#fdca26"
             ],
             [
              1,
              "#f0f921"
             ]
            ],
            "type": "heatmapgl"
           }
          ],
          "histogram": [
           {
            "marker": {
             "pattern": {
              "fillmode": "overlay",
              "size": 10,
              "solidity": 0.2
             }
            },
            "type": "histogram"
           }
          ],
          "histogram2d": [
           {
            "colorbar": {
             "outlinewidth": 0,
             "ticks": ""
            },
            "colorscale": [
             [
              0,
              "#0d0887"
             ],
             [
              0.1111111111111111,
              "#46039f"
             ],
             [
              0.2222222222222222,
              "#7201a8"
             ],
             [
              0.3333333333333333,
              "#9c179e"
             ],
             [
              0.4444444444444444,
              "#bd3786"
             ],
             [
              0.5555555555555556,
              "#d8576b"
             ],
             [
              0.6666666666666666,
              "#ed7953"
             ],
             [
              0.7777777777777778,
              "#fb9f3a"
             ],
             [
              0.8888888888888888,
              "#fdca26"
             ],
             [
              1,
              "#f0f921"
             ]
            ],
            "type": "histogram2d"
           }
          ],
          "histogram2dcontour": [
           {
            "colorbar": {
             "outlinewidth": 0,
             "ticks": ""
            },
            "colorscale": [
             [
              0,
              "#0d0887"
             ],
             [
              0.1111111111111111,
              "#46039f"
             ],
             [
              0.2222222222222222,
              "#7201a8"
             ],
             [
              0.3333333333333333,
              "#9c179e"
             ],
             [
              0.4444444444444444,
              "#bd3786"
             ],
             [
              0.5555555555555556,
              "#d8576b"
             ],
             [
              0.6666666666666666,
              "#ed7953"
             ],
             [
              0.7777777777777778,
              "#fb9f3a"
             ],
             [
              0.8888888888888888,
              "#fdca26"
             ],
             [
              1,
              "#f0f921"
             ]
            ],
            "type": "histogram2dcontour"
           }
          ],
          "mesh3d": [
           {
            "colorbar": {
             "outlinewidth": 0,
             "ticks": ""
            },
            "type": "mesh3d"
           }
          ],
          "parcoords": [
           {
            "line": {
             "colorbar": {
              "outlinewidth": 0,
              "ticks": ""
             }
            },
            "type": "parcoords"
           }
          ],
          "pie": [
           {
            "automargin": true,
            "type": "pie"
           }
          ],
          "scatter": [
           {
            "marker": {
             "colorbar": {
              "outlinewidth": 0,
              "ticks": ""
             }
            },
            "type": "scatter"
           }
          ],
          "scatter3d": [
           {
            "line": {
             "colorbar": {
              "outlinewidth": 0,
              "ticks": ""
             }
            },
            "marker": {
             "colorbar": {
              "outlinewidth": 0,
              "ticks": ""
             }
            },
            "type": "scatter3d"
           }
          ],
          "scattercarpet": [
           {
            "marker": {
             "colorbar": {
              "outlinewidth": 0,
              "ticks": ""
             }
            },
            "type": "scattercarpet"
           }
          ],
          "scattergeo": [
           {
            "marker": {
             "colorbar": {
              "outlinewidth": 0,
              "ticks": ""
             }
            },
            "type": "scattergeo"
           }
          ],
          "scattergl": [
           {
            "marker": {
             "colorbar": {
              "outlinewidth": 0,
              "ticks": ""
             }
            },
            "type": "scattergl"
           }
          ],
          "scattermapbox": [
           {
            "marker": {
             "colorbar": {
              "outlinewidth": 0,
              "ticks": ""
             }
            },
            "type": "scattermapbox"
           }
          ],
          "scatterpolar": [
           {
            "marker": {
             "colorbar": {
              "outlinewidth": 0,
              "ticks": ""
             }
            },
            "type": "scatterpolar"
           }
          ],
          "scatterpolargl": [
           {
            "marker": {
             "colorbar": {
              "outlinewidth": 0,
              "ticks": ""
             }
            },
            "type": "scatterpolargl"
           }
          ],
          "scatterternary": [
           {
            "marker": {
             "colorbar": {
              "outlinewidth": 0,
              "ticks": ""
             }
            },
            "type": "scatterternary"
           }
          ],
          "surface": [
           {
            "colorbar": {
             "outlinewidth": 0,
             "ticks": ""
            },
            "colorscale": [
             [
              0,
              "#0d0887"
             ],
             [
              0.1111111111111111,
              "#46039f"
             ],
             [
              0.2222222222222222,
              "#7201a8"
             ],
             [
              0.3333333333333333,
              "#9c179e"
             ],
             [
              0.4444444444444444,
              "#bd3786"
             ],
             [
              0.5555555555555556,
              "#d8576b"
             ],
             [
              0.6666666666666666,
              "#ed7953"
             ],
             [
              0.7777777777777778,
              "#fb9f3a"
             ],
             [
              0.8888888888888888,
              "#fdca26"
             ],
             [
              1,
              "#f0f921"
             ]
            ],
            "type": "surface"
           }
          ],
          "table": [
           {
            "cells": {
             "fill": {
              "color": "#EBF0F8"
             },
             "line": {
              "color": "white"
             }
            },
            "header": {
             "fill": {
              "color": "#C8D4E3"
             },
             "line": {
              "color": "white"
             }
            },
            "type": "table"
           }
          ]
         },
         "layout": {
          "annotationdefaults": {
           "arrowcolor": "#2a3f5f",
           "arrowhead": 0,
           "arrowwidth": 1
          },
          "autotypenumbers": "strict",
          "coloraxis": {
           "colorbar": {
            "outlinewidth": 0,
            "ticks": ""
           }
          },
          "colorscale": {
           "diverging": [
            [
             0,
             "#8e0152"
            ],
            [
             0.1,
             "#c51b7d"
            ],
            [
             0.2,
             "#de77ae"
            ],
            [
             0.3,
             "#f1b6da"
            ],
            [
             0.4,
             "#fde0ef"
            ],
            [
             0.5,
             "#f7f7f7"
            ],
            [
             0.6,
             "#e6f5d0"
            ],
            [
             0.7,
             "#b8e186"
            ],
            [
             0.8,
             "#7fbc41"
            ],
            [
             0.9,
             "#4d9221"
            ],
            [
             1,
             "#276419"
            ]
           ],
           "sequential": [
            [
             0,
             "#0d0887"
            ],
            [
             0.1111111111111111,
             "#46039f"
            ],
            [
             0.2222222222222222,
             "#7201a8"
            ],
            [
             0.3333333333333333,
             "#9c179e"
            ],
            [
             0.4444444444444444,
             "#bd3786"
            ],
            [
             0.5555555555555556,
             "#d8576b"
            ],
            [
             0.6666666666666666,
             "#ed7953"
            ],
            [
             0.7777777777777778,
             "#fb9f3a"
            ],
            [
             0.8888888888888888,
             "#fdca26"
            ],
            [
             1,
             "#f0f921"
            ]
           ],
           "sequentialminus": [
            [
             0,
             "#0d0887"
            ],
            [
             0.1111111111111111,
             "#46039f"
            ],
            [
             0.2222222222222222,
             "#7201a8"
            ],
            [
             0.3333333333333333,
             "#9c179e"
            ],
            [
             0.4444444444444444,
             "#bd3786"
            ],
            [
             0.5555555555555556,
             "#d8576b"
            ],
            [
             0.6666666666666666,
             "#ed7953"
            ],
            [
             0.7777777777777778,
             "#fb9f3a"
            ],
            [
             0.8888888888888888,
             "#fdca26"
            ],
            [
             1,
             "#f0f921"
            ]
           ]
          },
          "colorway": [
           "#636efa",
           "#EF553B",
           "#00cc96",
           "#ab63fa",
           "#FFA15A",
           "#19d3f3",
           "#FF6692",
           "#B6E880",
           "#FF97FF",
           "#FECB52"
          ],
          "font": {
           "color": "#2a3f5f"
          },
          "geo": {
           "bgcolor": "white",
           "lakecolor": "white",
           "landcolor": "#E5ECF6",
           "showlakes": true,
           "showland": true,
           "subunitcolor": "white"
          },
          "hoverlabel": {
           "align": "left"
          },
          "hovermode": "closest",
          "mapbox": {
           "style": "light"
          },
          "paper_bgcolor": "white",
          "plot_bgcolor": "#E5ECF6",
          "polar": {
           "angularaxis": {
            "gridcolor": "white",
            "linecolor": "white",
            "ticks": ""
           },
           "bgcolor": "#E5ECF6",
           "radialaxis": {
            "gridcolor": "white",
            "linecolor": "white",
            "ticks": ""
           }
          },
          "scene": {
           "xaxis": {
            "backgroundcolor": "#E5ECF6",
            "gridcolor": "white",
            "gridwidth": 2,
            "linecolor": "white",
            "showbackground": true,
            "ticks": "",
            "zerolinecolor": "white"
           },
           "yaxis": {
            "backgroundcolor": "#E5ECF6",
            "gridcolor": "white",
            "gridwidth": 2,
            "linecolor": "white",
            "showbackground": true,
            "ticks": "",
            "zerolinecolor": "white"
           },
           "zaxis": {
            "backgroundcolor": "#E5ECF6",
            "gridcolor": "white",
            "gridwidth": 2,
            "linecolor": "white",
            "showbackground": true,
            "ticks": "",
            "zerolinecolor": "white"
           }
          },
          "shapedefaults": {
           "line": {
            "color": "#2a3f5f"
           }
          },
          "ternary": {
           "aaxis": {
            "gridcolor": "white",
            "linecolor": "white",
            "ticks": ""
           },
           "baxis": {
            "gridcolor": "white",
            "linecolor": "white",
            "ticks": ""
           },
           "bgcolor": "#E5ECF6",
           "caxis": {
            "gridcolor": "white",
            "linecolor": "white",
            "ticks": ""
           }
          },
          "title": {
           "x": 0.05
          },
          "xaxis": {
           "automargin": true,
           "gridcolor": "white",
           "linecolor": "white",
           "ticks": "",
           "title": {
            "standoff": 15
           },
           "zerolinecolor": "white",
           "zerolinewidth": 2
          },
          "yaxis": {
           "automargin": true,
           "gridcolor": "white",
           "linecolor": "white",
           "ticks": "",
           "title": {
            "standoff": 15
           },
           "zerolinecolor": "white",
           "zerolinewidth": 2
          }
         }
        },
        "title": {
         "text": "Avg days between first and last purchase"
        }
       }
      }
     },
     "metadata": {},
     "output_type": "display_data"
    }
   ],
   "source": [
    "configure_plotly_browser_state()\n",
    "trace0 = go.Bar(\n",
    "    x=df_days_repurchase_subsegment_2018[\"sub_segment\"].values,\n",
    "    y=df_days_repurchase_subsegment_2018[\"diff_order_purchase\"].values,\n",
    "    marker=dict(\n",
    "        color=['rgba(36,123,160,1)', \n",
    "               'rgba(75,147,177,1)',\n",
    "               'rgba(112,193,179,1)', \n",
    "               'rgba(138,204,192,1)',\n",
    "               'rgba(243,255,189,1)',\n",
    "               'rgba(247,255,213,1)',\n",
    "               'rgba(255,22,84,1)']),\n",
    ")\n",
    "\n",
    "data = [trace0]\n",
    "\n",
    "layout = go.Layout(\n",
    "    title='Avg days between first and last purchase',\n",
    ")\n",
    "\n",
    "fig = go.Figure(data=data, layout=layout)\n",
    "py.iplot(fig)"
   ]
  },
  {
   "cell_type": "markdown",
   "metadata": {},
   "source": [
    "## RFM Modeling\n",
    "#### Segmentation comportementale par 3 caractéristiques importantes :\n",
    "1. Récence - nombre de jours depuis le dernier achat\n",
    "2. Fréquence - nombre de transactions effectuées sur une période donnée\n",
    "3. Monétaire - montant dépensé sur une période donnée"
   ]
  },
  {
   "cell_type": "code",
   "execution_count": 41,
   "metadata": {},
   "outputs": [],
   "source": [
    "from datetime import timedelta, datetime\n",
    "import squarify"
   ]
  },
  {
   "cell_type": "code",
   "execution_count": 42,
   "metadata": {},
   "outputs": [
    {
     "data": {
      "text/plain": [
       "Index(['order_id', 'order_status', 'order_purchase_timestamp', 'payment_value',\n",
       "       'customer_unique_id', 'customer_zip_code_prefix', 'customer_city',\n",
       "       'customer_state', 'order_purchase_date'],\n",
       "      dtype='object')"
      ]
     },
     "execution_count": 42,
     "metadata": {},
     "output_type": "execute_result"
    }
   ],
   "source": [
    "Olist_db.columns"
   ]
  },
  {
   "cell_type": "code",
   "execution_count": 43,
   "metadata": {},
   "outputs": [
    {
     "data": {
      "text/html": [
       "<div>\n",
       "<style scoped>\n",
       "    .dataframe tbody tr th:only-of-type {\n",
       "        vertical-align: middle;\n",
       "    }\n",
       "\n",
       "    .dataframe tbody tr th {\n",
       "        vertical-align: top;\n",
       "    }\n",
       "\n",
       "    .dataframe thead th {\n",
       "        text-align: right;\n",
       "    }\n",
       "</style>\n",
       "<table border=\"1\" class=\"dataframe\">\n",
       "  <thead>\n",
       "    <tr style=\"text-align: right;\">\n",
       "      <th></th>\n",
       "      <th>order_id</th>\n",
       "      <th>order_status</th>\n",
       "      <th>order_purchase_timestamp</th>\n",
       "      <th>payment_value</th>\n",
       "      <th>customer_unique_id</th>\n",
       "      <th>customer_zip_code_prefix</th>\n",
       "      <th>customer_city</th>\n",
       "      <th>customer_state</th>\n",
       "      <th>order_purchase_date</th>\n",
       "    </tr>\n",
       "  </thead>\n",
       "  <tbody>\n",
       "    <tr>\n",
       "      <th>0</th>\n",
       "      <td>00010242fe8c5a6d1ba2dd792cb16214</td>\n",
       "      <td>delivered</td>\n",
       "      <td>2017-09-13 08:59:02</td>\n",
       "      <td>72.19</td>\n",
       "      <td>871766c5855e863f6eccc05f988b23cb</td>\n",
       "      <td>28013</td>\n",
       "      <td>Campos Dos Goytacazes</td>\n",
       "      <td>RJ</td>\n",
       "      <td>2017-09-13 08:59:02</td>\n",
       "    </tr>\n",
       "    <tr>\n",
       "      <th>1</th>\n",
       "      <td>130898c0987d1801452a8ed92a670612</td>\n",
       "      <td>delivered</td>\n",
       "      <td>2017-06-28 11:52:20</td>\n",
       "      <td>73.86</td>\n",
       "      <td>0fb8e3eab2d3e79d92bb3fffbb97f188</td>\n",
       "      <td>75800</td>\n",
       "      <td>Jatai</td>\n",
       "      <td>GO</td>\n",
       "      <td>2017-06-28 11:52:20</td>\n",
       "    </tr>\n",
       "    <tr>\n",
       "      <th>2</th>\n",
       "      <td>532ed5e14e24ae1f0d735b91524b98b9</td>\n",
       "      <td>delivered</td>\n",
       "      <td>2018-05-18 10:25:53</td>\n",
       "      <td>83.23</td>\n",
       "      <td>3419052c8c6b45daf79c1e426f9e9bcb</td>\n",
       "      <td>30720</td>\n",
       "      <td>Belo Horizonte</td>\n",
       "      <td>MG</td>\n",
       "      <td>2018-05-18 10:25:53</td>\n",
       "    </tr>\n",
       "    <tr>\n",
       "      <th>3</th>\n",
       "      <td>6f8c31653edb8c83e1a739408b5ff750</td>\n",
       "      <td>delivered</td>\n",
       "      <td>2017-08-01 18:38:42</td>\n",
       "      <td>75.07</td>\n",
       "      <td>e7c828d22c0682c1565252deefbe334d</td>\n",
       "      <td>83070</td>\n",
       "      <td>Sao Jose Dos Pinhais</td>\n",
       "      <td>PR</td>\n",
       "      <td>2017-08-01 18:38:42</td>\n",
       "    </tr>\n",
       "    <tr>\n",
       "      <th>4</th>\n",
       "      <td>7d19f4ef4d04461989632411b7e588b9</td>\n",
       "      <td>delivered</td>\n",
       "      <td>2017-08-10 21:48:40</td>\n",
       "      <td>72.19</td>\n",
       "      <td>0bb98ba72dcc08e95f9d8cc434e9a2cc</td>\n",
       "      <td>36400</td>\n",
       "      <td>Conselheiro Lafaiete</td>\n",
       "      <td>MG</td>\n",
       "      <td>2017-08-10 21:48:40</td>\n",
       "    </tr>\n",
       "  </tbody>\n",
       "</table>\n",
       "</div>"
      ],
      "text/plain": [
       "                           order_id order_status order_purchase_timestamp  \\\n",
       "0  00010242fe8c5a6d1ba2dd792cb16214    delivered      2017-09-13 08:59:02   \n",
       "1  130898c0987d1801452a8ed92a670612    delivered      2017-06-28 11:52:20   \n",
       "2  532ed5e14e24ae1f0d735b91524b98b9    delivered      2018-05-18 10:25:53   \n",
       "3  6f8c31653edb8c83e1a739408b5ff750    delivered      2017-08-01 18:38:42   \n",
       "4  7d19f4ef4d04461989632411b7e588b9    delivered      2017-08-10 21:48:40   \n",
       "\n",
       "   payment_value                customer_unique_id  customer_zip_code_prefix  \\\n",
       "0          72.19  871766c5855e863f6eccc05f988b23cb                     28013   \n",
       "1          73.86  0fb8e3eab2d3e79d92bb3fffbb97f188                     75800   \n",
       "2          83.23  3419052c8c6b45daf79c1e426f9e9bcb                     30720   \n",
       "3          75.07  e7c828d22c0682c1565252deefbe334d                     83070   \n",
       "4          72.19  0bb98ba72dcc08e95f9d8cc434e9a2cc                     36400   \n",
       "\n",
       "           customer_city customer_state order_purchase_date  \n",
       "0  Campos Dos Goytacazes             RJ 2017-09-13 08:59:02  \n",
       "1                  Jatai             GO 2017-06-28 11:52:20  \n",
       "2         Belo Horizonte             MG 2018-05-18 10:25:53  \n",
       "3   Sao Jose Dos Pinhais             PR 2017-08-01 18:38:42  \n",
       "4   Conselheiro Lafaiete             MG 2017-08-10 21:48:40  "
      ]
     },
     "execution_count": 43,
     "metadata": {},
     "output_type": "execute_result"
    }
   ],
   "source": [
    "Olist_db.head()"
   ]
  },
  {
   "cell_type": "code",
   "execution_count": 44,
   "metadata": {},
   "outputs": [],
   "source": [
    "Olist_db['InvoiceDate'] = Olist_db['order_purchase_date'].apply(lambda x: datetime.strftime(x, '%Y-%m-%d'))"
   ]
  },
  {
   "cell_type": "code",
   "execution_count": 45,
   "metadata": {},
   "outputs": [
    {
     "name": "stdout",
     "output_type": "stream",
     "text": [
      "98,105 rows; 10 columns\n",
      "0 transactions don't have a customer id\n",
      "Transactions timeframe from 2016-10-03 to 2018-08-29\n",
      "Payment value range from 0.0 to 13664.08\n"
     ]
    }
   ],
   "source": [
    "print('{:,} rows; {:,} columns'\n",
    "      .format(Olist_db.shape[0], Olist_db.shape[1]))\n",
    "print('{:,} transactions don\\'t have a customer id'\n",
    "      .format(Olist_db[Olist_db.customer_unique_id.isnull()].shape[0]))\n",
    "print('Transactions timeframe from {} to {}'.format(Olist_db['InvoiceDate'].min(),\n",
    "                                    Olist_db['InvoiceDate'].max()))\n",
    "print('Payment value range from {} to {}'.format(Olist_db['payment_value'].min(), Olist_db['payment_value'].max()))"
   ]
  },
  {
   "cell_type": "code",
   "execution_count": 46,
   "metadata": {},
   "outputs": [],
   "source": [
    "Olist_db['InvoiceDate'] = pd.to_datetime(Olist_db['InvoiceDate'])"
   ]
  },
  {
   "cell_type": "code",
   "execution_count": 47,
   "metadata": {},
   "outputs": [
    {
     "data": {
      "text/plain": [
       "Timestamp('2018-08-30 00:00:00')"
      ]
     },
     "execution_count": 47,
     "metadata": {},
     "output_type": "execute_result"
    }
   ],
   "source": [
    "# Create snapshot date\n",
    "snapshot_date = Olist_db['InvoiceDate'].max() + timedelta(days=1)\n",
    "snapshot_date"
   ]
  },
  {
   "cell_type": "code",
   "execution_count": 48,
   "metadata": {},
   "outputs": [
    {
     "data": {
      "text/html": [
       "<div>\n",
       "<style scoped>\n",
       "    .dataframe tbody tr th:only-of-type {\n",
       "        vertical-align: middle;\n",
       "    }\n",
       "\n",
       "    .dataframe tbody tr th {\n",
       "        vertical-align: top;\n",
       "    }\n",
       "\n",
       "    .dataframe thead th {\n",
       "        text-align: right;\n",
       "    }\n",
       "</style>\n",
       "<table border=\"1\" class=\"dataframe\">\n",
       "  <thead>\n",
       "    <tr style=\"text-align: right;\">\n",
       "      <th></th>\n",
       "      <th>order_id</th>\n",
       "      <th>order_status</th>\n",
       "      <th>order_purchase_timestamp</th>\n",
       "      <th>payment_value</th>\n",
       "      <th>customer_unique_id</th>\n",
       "      <th>customer_zip_code_prefix</th>\n",
       "      <th>customer_city</th>\n",
       "      <th>customer_state</th>\n",
       "      <th>order_purchase_date</th>\n",
       "      <th>InvoiceDate</th>\n",
       "    </tr>\n",
       "  </thead>\n",
       "  <tbody>\n",
       "    <tr>\n",
       "      <th>0</th>\n",
       "      <td>00010242fe8c5a6d1ba2dd792cb16214</td>\n",
       "      <td>delivered</td>\n",
       "      <td>2017-09-13 08:59:02</td>\n",
       "      <td>72.19</td>\n",
       "      <td>871766c5855e863f6eccc05f988b23cb</td>\n",
       "      <td>28013</td>\n",
       "      <td>Campos Dos Goytacazes</td>\n",
       "      <td>RJ</td>\n",
       "      <td>2017-09-13 08:59:02</td>\n",
       "      <td>2017-09-13</td>\n",
       "    </tr>\n",
       "    <tr>\n",
       "      <th>1</th>\n",
       "      <td>130898c0987d1801452a8ed92a670612</td>\n",
       "      <td>delivered</td>\n",
       "      <td>2017-06-28 11:52:20</td>\n",
       "      <td>73.86</td>\n",
       "      <td>0fb8e3eab2d3e79d92bb3fffbb97f188</td>\n",
       "      <td>75800</td>\n",
       "      <td>Jatai</td>\n",
       "      <td>GO</td>\n",
       "      <td>2017-06-28 11:52:20</td>\n",
       "      <td>2017-06-28</td>\n",
       "    </tr>\n",
       "    <tr>\n",
       "      <th>2</th>\n",
       "      <td>532ed5e14e24ae1f0d735b91524b98b9</td>\n",
       "      <td>delivered</td>\n",
       "      <td>2018-05-18 10:25:53</td>\n",
       "      <td>83.23</td>\n",
       "      <td>3419052c8c6b45daf79c1e426f9e9bcb</td>\n",
       "      <td>30720</td>\n",
       "      <td>Belo Horizonte</td>\n",
       "      <td>MG</td>\n",
       "      <td>2018-05-18 10:25:53</td>\n",
       "      <td>2018-05-18</td>\n",
       "    </tr>\n",
       "    <tr>\n",
       "      <th>3</th>\n",
       "      <td>6f8c31653edb8c83e1a739408b5ff750</td>\n",
       "      <td>delivered</td>\n",
       "      <td>2017-08-01 18:38:42</td>\n",
       "      <td>75.07</td>\n",
       "      <td>e7c828d22c0682c1565252deefbe334d</td>\n",
       "      <td>83070</td>\n",
       "      <td>Sao Jose Dos Pinhais</td>\n",
       "      <td>PR</td>\n",
       "      <td>2017-08-01 18:38:42</td>\n",
       "      <td>2017-08-01</td>\n",
       "    </tr>\n",
       "    <tr>\n",
       "      <th>4</th>\n",
       "      <td>7d19f4ef4d04461989632411b7e588b9</td>\n",
       "      <td>delivered</td>\n",
       "      <td>2017-08-10 21:48:40</td>\n",
       "      <td>72.19</td>\n",
       "      <td>0bb98ba72dcc08e95f9d8cc434e9a2cc</td>\n",
       "      <td>36400</td>\n",
       "      <td>Conselheiro Lafaiete</td>\n",
       "      <td>MG</td>\n",
       "      <td>2017-08-10 21:48:40</td>\n",
       "      <td>2017-08-10</td>\n",
       "    </tr>\n",
       "  </tbody>\n",
       "</table>\n",
       "</div>"
      ],
      "text/plain": [
       "                           order_id order_status order_purchase_timestamp  \\\n",
       "0  00010242fe8c5a6d1ba2dd792cb16214    delivered      2017-09-13 08:59:02   \n",
       "1  130898c0987d1801452a8ed92a670612    delivered      2017-06-28 11:52:20   \n",
       "2  532ed5e14e24ae1f0d735b91524b98b9    delivered      2018-05-18 10:25:53   \n",
       "3  6f8c31653edb8c83e1a739408b5ff750    delivered      2017-08-01 18:38:42   \n",
       "4  7d19f4ef4d04461989632411b7e588b9    delivered      2017-08-10 21:48:40   \n",
       "\n",
       "   payment_value                customer_unique_id  customer_zip_code_prefix  \\\n",
       "0          72.19  871766c5855e863f6eccc05f988b23cb                     28013   \n",
       "1          73.86  0fb8e3eab2d3e79d92bb3fffbb97f188                     75800   \n",
       "2          83.23  3419052c8c6b45daf79c1e426f9e9bcb                     30720   \n",
       "3          75.07  e7c828d22c0682c1565252deefbe334d                     83070   \n",
       "4          72.19  0bb98ba72dcc08e95f9d8cc434e9a2cc                     36400   \n",
       "\n",
       "           customer_city customer_state order_purchase_date InvoiceDate  \n",
       "0  Campos Dos Goytacazes             RJ 2017-09-13 08:59:02  2017-09-13  \n",
       "1                  Jatai             GO 2017-06-28 11:52:20  2017-06-28  \n",
       "2         Belo Horizonte             MG 2018-05-18 10:25:53  2018-05-18  \n",
       "3   Sao Jose Dos Pinhais             PR 2017-08-01 18:38:42  2017-08-01  \n",
       "4   Conselheiro Lafaiete             MG 2017-08-10 21:48:40  2017-08-10  "
      ]
     },
     "execution_count": 48,
     "metadata": {},
     "output_type": "execute_result"
    }
   ],
   "source": [
    "Olist_db.head()"
   ]
  },
  {
   "cell_type": "code",
   "execution_count": 49,
   "metadata": {},
   "outputs": [],
   "source": [
    "#GROUPING BY CUSTOMER ID\n",
    "data_process = Olist_db.groupby(['customer_unique_id']).agg({\n",
    "        'InvoiceDate': lambda x: (snapshot_date - x.max()).days,\n",
    "        'order_id': 'count',\n",
    "        'payment_value': 'sum'})"
   ]
  },
  {
   "cell_type": "code",
   "execution_count": 50,
   "metadata": {},
   "outputs": [
    {
     "data": {
      "text/html": [
       "<div>\n",
       "<style scoped>\n",
       "    .dataframe tbody tr th:only-of-type {\n",
       "        vertical-align: middle;\n",
       "    }\n",
       "\n",
       "    .dataframe tbody tr th {\n",
       "        vertical-align: top;\n",
       "    }\n",
       "\n",
       "    .dataframe thead th {\n",
       "        text-align: right;\n",
       "    }\n",
       "</style>\n",
       "<table border=\"1\" class=\"dataframe\">\n",
       "  <thead>\n",
       "    <tr style=\"text-align: right;\">\n",
       "      <th></th>\n",
       "      <th>Recency</th>\n",
       "      <th>Frequency</th>\n",
       "      <th>Monetary</th>\n",
       "    </tr>\n",
       "    <tr>\n",
       "      <th>customer_unique_id</th>\n",
       "      <th></th>\n",
       "      <th></th>\n",
       "      <th></th>\n",
       "    </tr>\n",
       "  </thead>\n",
       "  <tbody>\n",
       "    <tr>\n",
       "      <th>0000366f3b9a7992bf8c76cfdf3221e2</th>\n",
       "      <td>112</td>\n",
       "      <td>1</td>\n",
       "      <td>141.90</td>\n",
       "    </tr>\n",
       "    <tr>\n",
       "      <th>0000b849f77a49e4a4ce2b2a4ca5be3f</th>\n",
       "      <td>115</td>\n",
       "      <td>1</td>\n",
       "      <td>27.19</td>\n",
       "    </tr>\n",
       "    <tr>\n",
       "      <th>0000f46a3911fa3c0805444483337064</th>\n",
       "      <td>538</td>\n",
       "      <td>1</td>\n",
       "      <td>86.22</td>\n",
       "    </tr>\n",
       "    <tr>\n",
       "      <th>0000f6ccb0745a6a4b88665a16c9f078</th>\n",
       "      <td>322</td>\n",
       "      <td>1</td>\n",
       "      <td>43.62</td>\n",
       "    </tr>\n",
       "    <tr>\n",
       "      <th>0004aac84e0df4da2b147fca70cf8255</th>\n",
       "      <td>289</td>\n",
       "      <td>1</td>\n",
       "      <td>196.89</td>\n",
       "    </tr>\n",
       "    <tr>\n",
       "      <th>...</th>\n",
       "      <td>...</td>\n",
       "      <td>...</td>\n",
       "      <td>...</td>\n",
       "    </tr>\n",
       "    <tr>\n",
       "      <th>fffcf5a5ff07b0908bd4e2dbc735a684</th>\n",
       "      <td>448</td>\n",
       "      <td>1</td>\n",
       "      <td>2067.42</td>\n",
       "    </tr>\n",
       "    <tr>\n",
       "      <th>fffea47cd6d3cc0a88bd621562a9d061</th>\n",
       "      <td>263</td>\n",
       "      <td>1</td>\n",
       "      <td>84.58</td>\n",
       "    </tr>\n",
       "    <tr>\n",
       "      <th>ffff371b4d645b6ecea244b27531430a</th>\n",
       "      <td>569</td>\n",
       "      <td>1</td>\n",
       "      <td>112.46</td>\n",
       "    </tr>\n",
       "    <tr>\n",
       "      <th>ffff5962728ec6157033ef9805bacc48</th>\n",
       "      <td>120</td>\n",
       "      <td>1</td>\n",
       "      <td>133.69</td>\n",
       "    </tr>\n",
       "    <tr>\n",
       "      <th>ffffd2657e2aad2907e67c3e9daecbeb</th>\n",
       "      <td>485</td>\n",
       "      <td>1</td>\n",
       "      <td>71.56</td>\n",
       "    </tr>\n",
       "  </tbody>\n",
       "</table>\n",
       "<p>91481 rows × 3 columns</p>\n",
       "</div>"
      ],
      "text/plain": [
       "                                  Recency  Frequency  Monetary\n",
       "customer_unique_id                                            \n",
       "0000366f3b9a7992bf8c76cfdf3221e2      112          1    141.90\n",
       "0000b849f77a49e4a4ce2b2a4ca5be3f      115          1     27.19\n",
       "0000f46a3911fa3c0805444483337064      538          1     86.22\n",
       "0000f6ccb0745a6a4b88665a16c9f078      322          1     43.62\n",
       "0004aac84e0df4da2b147fca70cf8255      289          1    196.89\n",
       "...                                   ...        ...       ...\n",
       "fffcf5a5ff07b0908bd4e2dbc735a684      448          1   2067.42\n",
       "fffea47cd6d3cc0a88bd621562a9d061      263          1     84.58\n",
       "ffff371b4d645b6ecea244b27531430a      569          1    112.46\n",
       "ffff5962728ec6157033ef9805bacc48      120          1    133.69\n",
       "ffffd2657e2aad2907e67c3e9daecbeb      485          1     71.56\n",
       "\n",
       "[91481 rows x 3 columns]"
      ]
     },
     "execution_count": 50,
     "metadata": {},
     "output_type": "execute_result"
    }
   ],
   "source": [
    "data_process.rename(columns={'InvoiceDate': 'Recency',\n",
    "                         'order_id': 'Frequency',\n",
    "                         'payment_value': 'Monetary'}, inplace=True)\n",
    "data_process"
   ]
  },
  {
   "cell_type": "markdown",
   "metadata": {},
   "source": [
    "Great, we have 92,078 customer records grouped by recency of their purchase, the frequency by their quantity, and the monetary value of the purchases. Now we can use the .qcut() method to assign the relative percentile to their RFM features. But before that, let’s examine the distribution of our Recency, Frequency, and Monetary."
   ]
  },
  {
   "cell_type": "code",
   "execution_count": 51,
   "metadata": {},
   "outputs": [
    {
     "name": "stderr",
     "output_type": "stream",
     "text": [
      "c:\\Python3\\lib\\site-packages\\seaborn\\distributions.py:2619: FutureWarning:\n",
      "\n",
      "`distplot` is a deprecated function and will be removed in a future version. Please adapt your code to use either `displot` (a figure-level function with similar flexibility) or `histplot` (an axes-level function for histograms).\n",
      "\n",
      "c:\\Python3\\lib\\site-packages\\seaborn\\distributions.py:2619: FutureWarning:\n",
      "\n",
      "`distplot` is a deprecated function and will be removed in a future version. Please adapt your code to use either `displot` (a figure-level function with similar flexibility) or `histplot` (an axes-level function for histograms).\n",
      "\n",
      "c:\\Python3\\lib\\site-packages\\seaborn\\distributions.py:2619: FutureWarning:\n",
      "\n",
      "`distplot` is a deprecated function and will be removed in a future version. Please adapt your code to use either `displot` (a figure-level function with similar flexibility) or `histplot` (an axes-level function for histograms).\n",
      "\n"
     ]
    },
    {
     "data": {
      "image/png": "[encoded data removed]",
      "text/plain": [
       "<Figure size 864x720 with 3 Axes>"
      ]
     },
     "metadata": {
      "needs_background": "light"
     },
     "output_type": "display_data"
    }
   ],
   "source": [
    "plt.figure(figsize=(12,10))\n",
    "# Plot distribution of Recency\n",
    "plt.subplot(3, 1, 1)\n",
    "sns.distplot(data_process['Recency'])\n",
    "# Plot distribution of Frequency\n",
    "plt.subplot(3, 1, 2)\n",
    "sns.distplot(data_process['Frequency'])\n",
    "# Plot distribution of Monetary\n",
    "plt.subplot(3, 1, 3)\n",
    "sns.distplot(data_process['Monetary'])\n",
    "# Show the plot\n",
    "plt.show()"
   ]
  },
  {
   "cell_type": "code",
   "execution_count": 52,
   "metadata": {},
   "outputs": [],
   "source": [
    "def pct_rank_qcut(series, n):\n",
    "    edges = pd.Series([float(i) / n for i in range(n + 1)])\n",
    "    f = lambda x: (edges >= x).values.argmax()\n",
    "    return series.rank(pct=1).apply(f)"
   ]
  },
  {
   "cell_type": "code",
   "execution_count": 53,
   "metadata": {},
   "outputs": [],
   "source": [
    "# Create labels for Recency and Frequency\n",
    "r_labels = range(4, 0, -1); f_labels = range(1, 2)\n",
    "# Assign these labels to 4 equal percentile groups \n",
    "r_groups = pd.qcut(data_process['Recency'], q=4, labels=r_labels)\n",
    "# Assign these labels to 4 equal percentile groups \n",
    "f_groups = pct_rank_qcut(data_process['Frequency'], 4)\n",
    "# Create new columns R and F \n",
    "data_process = data_process.assign(R = r_groups.values, F = f_groups.values)"
   ]
  },
  {
   "cell_type": "code",
   "execution_count": 54,
   "metadata": {},
   "outputs": [],
   "source": [
    "# Create labels for MonetaryValue\n",
    "m_labels = range(1, 5)\n",
    "# Assign these labels to three equal percentile groups \n",
    "m_groups = pd.qcut(data_process['Monetary'], q=4, labels=m_labels)\n",
    "# Create new column M\n",
    "data_process = data_process.assign(M = m_groups.values)"
   ]
  },
  {
   "cell_type": "markdown",
   "metadata": {},
   "source": [
    "with these 3 scores in place, R, F, and M, we can create our first RFM segment by concatenating the values together below"
   ]
  },
  {
   "cell_type": "code",
   "execution_count": 68,
   "metadata": {},
   "outputs": [
    {
     "data": {
      "text/html": [
       "<div>\n",
       "<style scoped>\n",
       "    .dataframe tbody tr th:only-of-type {\n",
       "        vertical-align: middle;\n",
       "    }\n",
       "\n",
       "    .dataframe tbody tr th {\n",
       "        vertical-align: top;\n",
       "    }\n",
       "\n",
       "    .dataframe thead th {\n",
       "        text-align: right;\n",
       "    }\n",
       "</style>\n",
       "<table border=\"1\" class=\"dataframe\">\n",
       "  <thead>\n",
       "    <tr style=\"text-align: right;\">\n",
       "      <th></th>\n",
       "      <th>Recency</th>\n",
       "      <th>Frequency</th>\n",
       "      <th>Monetary</th>\n",
       "      <th>R</th>\n",
       "      <th>F</th>\n",
       "      <th>M</th>\n",
       "      <th>RFM_segment</th>\n",
       "      <th>RFM_Score</th>\n",
       "    </tr>\n",
       "    <tr>\n",
       "      <th>customer_unique_id</th>\n",
       "      <th></th>\n",
       "      <th></th>\n",
       "      <th></th>\n",
       "      <th></th>\n",
       "      <th></th>\n",
       "      <th></th>\n",
       "      <th></th>\n",
       "      <th></th>\n",
       "    </tr>\n",
       "  </thead>\n",
       "  <tbody>\n",
       "    <tr>\n",
       "      <th>0000366f3b9a7992bf8c76cfdf3221e2</th>\n",
       "      <td>112</td>\n",
       "      <td>1</td>\n",
       "      <td>141.90</td>\n",
       "      <td>4</td>\n",
       "      <td>2</td>\n",
       "      <td>3</td>\n",
       "      <td>9</td>\n",
       "      <td>9</td>\n",
       "    </tr>\n",
       "    <tr>\n",
       "      <th>0000b849f77a49e4a4ce2b2a4ca5be3f</th>\n",
       "      <td>115</td>\n",
       "      <td>1</td>\n",
       "      <td>27.19</td>\n",
       "      <td>3</td>\n",
       "      <td>2</td>\n",
       "      <td>1</td>\n",
       "      <td>6</td>\n",
       "      <td>6</td>\n",
       "    </tr>\n",
       "    <tr>\n",
       "      <th>0000f46a3911fa3c0805444483337064</th>\n",
       "      <td>538</td>\n",
       "      <td>1</td>\n",
       "      <td>86.22</td>\n",
       "      <td>1</td>\n",
       "      <td>2</td>\n",
       "      <td>2</td>\n",
       "      <td>5</td>\n",
       "      <td>5</td>\n",
       "    </tr>\n",
       "    <tr>\n",
       "      <th>0000f6ccb0745a6a4b88665a16c9f078</th>\n",
       "      <td>322</td>\n",
       "      <td>1</td>\n",
       "      <td>43.62</td>\n",
       "      <td>2</td>\n",
       "      <td>2</td>\n",
       "      <td>1</td>\n",
       "      <td>5</td>\n",
       "      <td>5</td>\n",
       "    </tr>\n",
       "    <tr>\n",
       "      <th>0004aac84e0df4da2b147fca70cf8255</th>\n",
       "      <td>289</td>\n",
       "      <td>1</td>\n",
       "      <td>196.89</td>\n",
       "      <td>2</td>\n",
       "      <td>2</td>\n",
       "      <td>4</td>\n",
       "      <td>8</td>\n",
       "      <td>8</td>\n",
       "    </tr>\n",
       "  </tbody>\n",
       "</table>\n",
       "</div>"
      ],
      "text/plain": [
       "                                  Recency  Frequency  Monetary  R  F  M  \\\n",
       "customer_unique_id                                                        \n",
       "0000366f3b9a7992bf8c76cfdf3221e2      112          1    141.90  4  2  3   \n",
       "0000b849f77a49e4a4ce2b2a4ca5be3f      115          1     27.19  3  2  1   \n",
       "0000f46a3911fa3c0805444483337064      538          1     86.22  1  2  2   \n",
       "0000f6ccb0745a6a4b88665a16c9f078      322          1     43.62  2  2  1   \n",
       "0004aac84e0df4da2b147fca70cf8255      289          1    196.89  2  2  4   \n",
       "\n",
       "                                  RFM_segment  RFM_Score  \n",
       "customer_unique_id                                        \n",
       "0000366f3b9a7992bf8c76cfdf3221e2            9          9  \n",
       "0000b849f77a49e4a4ce2b2a4ca5be3f            6          6  \n",
       "0000f46a3911fa3c0805444483337064            5          5  \n",
       "0000f6ccb0745a6a4b88665a16c9f078            5          5  \n",
       "0004aac84e0df4da2b147fca70cf8255            8          8  "
      ]
     },
     "execution_count": 68,
     "metadata": {},
     "output_type": "execute_result"
    }
   ],
   "source": [
    "#CONCAT RFM QUARTILE VALUES TO CREATE RFM SEGMENT\n",
    "def join_rfm(x):\n",
    "    return int(x['R']) + int(x['F']) + int(x['M'])\n",
    "\n",
    "data_process['RFM_segment'] = data_process.apply(join_rfm, axis=1)\n",
    "rfm = data_process\n",
    "rfm.head()"
   ]
  },
  {
   "cell_type": "code",
   "execution_count": 69,
   "metadata": {},
   "outputs": [
    {
     "name": "stdout",
     "output_type": "stream",
     "text": [
      "9\n"
     ]
    }
   ],
   "source": [
    "# Count num of unique segments\n",
    "rfm_count_unique = rfm.groupby('RFM_segment')['RFM_segment'].nunique()\n",
    "print(rfm_count_unique.sum())"
   ]
  },
  {
   "cell_type": "code",
   "execution_count": 70,
   "metadata": {},
   "outputs": [
    {
     "name": "stdout",
     "output_type": "stream",
     "text": [
      "customer_unique_id\n",
      "0000366f3b9a7992bf8c76cfdf3221e2    9\n",
      "0000b849f77a49e4a4ce2b2a4ca5be3f    6\n",
      "0000f46a3911fa3c0805444483337064    5\n",
      "0000f6ccb0745a6a4b88665a16c9f078    5\n",
      "0004aac84e0df4da2b147fca70cf8255    8\n",
      "Name: RFM_Score, dtype: int64\n"
     ]
    }
   ],
   "source": [
    "rfm['RFM_Score'] = rfm[['R','F','M']].sum(axis=1)\n",
    "print(rfm['RFM_Score'].head())"
   ]
  },
  {
   "cell_type": "markdown",
   "metadata": {},
   "source": [
    "### Segmentation using RFM Analysis | Identify Upselling and Cross selling opportunities¶"
   ]
  },
  {
   "cell_type": "code",
   "execution_count": 71,
   "metadata": {},
   "outputs": [],
   "source": [
    "# Define rfm_level function\n",
    "def rfm_level(df):\n",
    "    if (df['RFM_segment'] >= 434 | (df['RFM_Score'] >= 9)) :\n",
    "        return 'VVIP - Can\\'t Loose Them'\n",
    "    elif ((df['RFM_Score'] >= 8) & (df['M'] == 4)):\n",
    "        return 'Champions Big Spenders'\n",
    "    elif ((df['RFM_Score'] >= 6) & (df['F'] >= 2)):\n",
    "        return 'Loyal Customers'\n",
    "    elif ((df['RFM_Score'] <= 4) & (df['R'] == 1)):\n",
    "        return 'Hibernating Almost Lost'\n",
    "    elif ((df['RFM_segment'] >= 221) | (df['RFM_Score'] >= 6)):\n",
    "        return 'Potential Loyalists'\n",
    "    elif ((df['RFM_segment'] >= 121) & (df['R'] == 1) | (df['RFM_Score'] == 5)):\n",
    "        return 'Needs Attention'\n",
    "    else:\n",
    "        return 'Lost Customers'"
   ]
  },
  {
   "cell_type": "code",
   "execution_count": 72,
   "metadata": {},
   "outputs": [],
   "source": [
    "# Define rfm marketing action function\n",
    "def rfm_action(df):\n",
    "    if (df['RFM_segment'] >= 434 | (df['RFM_Score'] >= 9)) :\n",
    "        return 'No Price Incentives; Offer Limited edition and Loyality programs'\n",
    "    elif ((df['RFM_Score'] >= 8) & (df['M'] == 4)):\n",
    "        return 'Upsell most expensive items'\n",
    "    elif ((df['RFM_Score'] >= 6) & (df['F'] >= 2)):\n",
    "        return 'Loyality programs;Cross Sell'\n",
    "    elif ((df['RFM_Score'] <= 4) & (df['R'] == 1)):\n",
    "        return 'Aggressive price incentives'\n",
    "    elif ((df['RFM_segment'] >= 221) | (df['RFM_Score'] >= 6)):\n",
    "        return 'Cross Sell Recommendations and Discount coupons'\n",
    "    elif (((df['RFM_segment'] >= 121) & (df['R'] == 1)) | (df['RFM_Score'] == 5)):\n",
    "        return 'Price incentives and Limited time offer'\n",
    "    else:\n",
    "        return 'Don\\'t spend too much trying to re-acquire'"
   ]
  },
  {
   "cell_type": "code",
   "execution_count": 73,
   "metadata": {},
   "outputs": [
    {
     "data": {
      "text/html": [
       "<div>\n",
       "<style scoped>\n",
       "    .dataframe tbody tr th:only-of-type {\n",
       "        vertical-align: middle;\n",
       "    }\n",
       "\n",
       "    .dataframe tbody tr th {\n",
       "        vertical-align: top;\n",
       "    }\n",
       "\n",
       "    .dataframe thead th {\n",
       "        text-align: right;\n",
       "    }\n",
       "</style>\n",
       "<table border=\"1\" class=\"dataframe\">\n",
       "  <thead>\n",
       "    <tr style=\"text-align: right;\">\n",
       "      <th></th>\n",
       "      <th>Recency</th>\n",
       "      <th>Frequency</th>\n",
       "      <th>Monetary</th>\n",
       "      <th>R</th>\n",
       "      <th>F</th>\n",
       "      <th>M</th>\n",
       "      <th>RFM_segment</th>\n",
       "      <th>RFM_Score</th>\n",
       "      <th>Customer Segment</th>\n",
       "      <th>Marketing Action</th>\n",
       "    </tr>\n",
       "    <tr>\n",
       "      <th>customer_unique_id</th>\n",
       "      <th></th>\n",
       "      <th></th>\n",
       "      <th></th>\n",
       "      <th></th>\n",
       "      <th></th>\n",
       "      <th></th>\n",
       "      <th></th>\n",
       "      <th></th>\n",
       "      <th></th>\n",
       "      <th></th>\n",
       "    </tr>\n",
       "  </thead>\n",
       "  <tbody>\n",
       "    <tr>\n",
       "      <th>0000366f3b9a7992bf8c76cfdf3221e2</th>\n",
       "      <td>112</td>\n",
       "      <td>1</td>\n",
       "      <td>141.90</td>\n",
       "      <td>4</td>\n",
       "      <td>2</td>\n",
       "      <td>3</td>\n",
       "      <td>9</td>\n",
       "      <td>9</td>\n",
       "      <td>Loyal Customers</td>\n",
       "      <td>Loyality programs;Cross Sell</td>\n",
       "    </tr>\n",
       "    <tr>\n",
       "      <th>0000b849f77a49e4a4ce2b2a4ca5be3f</th>\n",
       "      <td>115</td>\n",
       "      <td>1</td>\n",
       "      <td>27.19</td>\n",
       "      <td>3</td>\n",
       "      <td>2</td>\n",
       "      <td>1</td>\n",
       "      <td>6</td>\n",
       "      <td>6</td>\n",
       "      <td>Loyal Customers</td>\n",
       "      <td>Loyality programs;Cross Sell</td>\n",
       "    </tr>\n",
       "    <tr>\n",
       "      <th>0000f46a3911fa3c0805444483337064</th>\n",
       "      <td>538</td>\n",
       "      <td>1</td>\n",
       "      <td>86.22</td>\n",
       "      <td>1</td>\n",
       "      <td>2</td>\n",
       "      <td>2</td>\n",
       "      <td>5</td>\n",
       "      <td>5</td>\n",
       "      <td>Needs Attention</td>\n",
       "      <td>Price incentives and Limited time offer</td>\n",
       "    </tr>\n",
       "    <tr>\n",
       "      <th>0000f6ccb0745a6a4b88665a16c9f078</th>\n",
       "      <td>322</td>\n",
       "      <td>1</td>\n",
       "      <td>43.62</td>\n",
       "      <td>2</td>\n",
       "      <td>2</td>\n",
       "      <td>1</td>\n",
       "      <td>5</td>\n",
       "      <td>5</td>\n",
       "      <td>Needs Attention</td>\n",
       "      <td>Price incentives and Limited time offer</td>\n",
       "    </tr>\n",
       "    <tr>\n",
       "      <th>0004aac84e0df4da2b147fca70cf8255</th>\n",
       "      <td>289</td>\n",
       "      <td>1</td>\n",
       "      <td>196.89</td>\n",
       "      <td>2</td>\n",
       "      <td>2</td>\n",
       "      <td>4</td>\n",
       "      <td>8</td>\n",
       "      <td>8</td>\n",
       "      <td>Champions Big Spenders</td>\n",
       "      <td>Upsell most expensive items</td>\n",
       "    </tr>\n",
       "  </tbody>\n",
       "</table>\n",
       "</div>"
      ],
      "text/plain": [
       "                                  Recency  Frequency  Monetary  R  F  M  \\\n",
       "customer_unique_id                                                        \n",
       "0000366f3b9a7992bf8c76cfdf3221e2      112          1    141.90  4  2  3   \n",
       "0000b849f77a49e4a4ce2b2a4ca5be3f      115          1     27.19  3  2  1   \n",
       "0000f46a3911fa3c0805444483337064      538          1     86.22  1  2  2   \n",
       "0000f6ccb0745a6a4b88665a16c9f078      322          1     43.62  2  2  1   \n",
       "0004aac84e0df4da2b147fca70cf8255      289          1    196.89  2  2  4   \n",
       "\n",
       "                                  RFM_segment  RFM_Score  \\\n",
       "customer_unique_id                                         \n",
       "0000366f3b9a7992bf8c76cfdf3221e2            9          9   \n",
       "0000b849f77a49e4a4ce2b2a4ca5be3f            6          6   \n",
       "0000f46a3911fa3c0805444483337064            5          5   \n",
       "0000f6ccb0745a6a4b88665a16c9f078            5          5   \n",
       "0004aac84e0df4da2b147fca70cf8255            8          8   \n",
       "\n",
       "                                        Customer Segment  \\\n",
       "customer_unique_id                                         \n",
       "0000366f3b9a7992bf8c76cfdf3221e2         Loyal Customers   \n",
       "0000b849f77a49e4a4ce2b2a4ca5be3f         Loyal Customers   \n",
       "0000f46a3911fa3c0805444483337064         Needs Attention   \n",
       "0000f6ccb0745a6a4b88665a16c9f078         Needs Attention   \n",
       "0004aac84e0df4da2b147fca70cf8255  Champions Big Spenders   \n",
       "\n",
       "                                                         Marketing Action  \n",
       "customer_unique_id                                                         \n",
       "0000366f3b9a7992bf8c76cfdf3221e2             Loyality programs;Cross Sell  \n",
       "0000b849f77a49e4a4ce2b2a4ca5be3f             Loyality programs;Cross Sell  \n",
       "0000f46a3911fa3c0805444483337064  Price incentives and Limited time offer  \n",
       "0000f6ccb0745a6a4b88665a16c9f078  Price incentives and Limited time offer  \n",
       "0004aac84e0df4da2b147fca70cf8255              Upsell most expensive items  "
      ]
     },
     "execution_count": 73,
     "metadata": {},
     "output_type": "execute_result"
    }
   ],
   "source": [
    "# Create a new variable RFM_Level\n",
    "rfm['RFM_segment'] = rfm.RFM_segment.apply(lambda x:int(x))\n",
    "rfm['Customer Segment'] = rfm.apply(rfm_level, axis=1)\n",
    "# Create a new variable RFM_Level\n",
    "rfm['Marketing Action'] = rfm.apply(rfm_action, axis=1)\n",
    "rfm.head()"
   ]
  },
  {
   "cell_type": "code",
   "execution_count": 74,
   "metadata": {},
   "outputs": [
    {
     "data": {
      "text/plain": [
       "Loyal Customers            57065\n",
       "Champions Big Spenders     17775\n",
       "Needs Attention            11083\n",
       "Hibernating Almost Lost     5558\n",
       "Name: Customer Segment, dtype: int64"
      ]
     },
     "execution_count": 74,
     "metadata": {},
     "output_type": "execute_result"
    }
   ],
   "source": [
    "rfm['Customer Segment'].value_counts()"
   ]
  },
  {
   "cell_type": "markdown",
   "metadata": {},
   "source": [
    "### Regrouper les clients par leur segment de clientèle"
   ]
  },
  {
   "cell_type": "code",
   "execution_count": 75,
   "metadata": {},
   "outputs": [
    {
     "name": "stdout",
     "output_type": "stream",
     "text": [
      "                        Recency Frequency Monetary         \\\n",
      "                           mean      mean     mean  count   \n",
      "Customer Segment                                            \n",
      "Champions Big Spenders    173.3       1.2    390.3  17775   \n",
      "Hibernating Almost Lost   454.8       1.0     43.6   5558   \n",
      "Loyal Customers           212.2       1.1    126.1  57065   \n",
      "Needs Attention           363.0       1.0     63.8  11083   \n",
      "\n",
      "                                                  Marketing Action  \n",
      "                                                            unique  \n",
      "Customer Segment                                                    \n",
      "Champions Big Spenders               [Upsell most expensive items]  \n",
      "Hibernating Almost Lost              [Aggressive price incentives]  \n",
      "Loyal Customers                     [Loyality programs;Cross Sell]  \n",
      "Needs Attention          [Price incentives and Limited time offer]  \n"
     ]
    }
   ],
   "source": [
    "#Calculate Average values for each customer segment and return size of each segment\n",
    "rfm_level_agg = rfm.groupby(['Customer Segment']).agg({\n",
    "        'Recency': 'mean',\n",
    "        'Frequency' : 'mean',\n",
    "        'Monetary': ['mean', 'count'],\n",
    "        'Marketing Action' : 'unique'\n",
    "}).round(1)\n",
    "#print the aggregated dataset\n",
    "print(rfm_level_agg)"
   ]
  },
  {
   "cell_type": "code",
   "execution_count": 76,
   "metadata": {},
   "outputs": [
    {
     "data": {
      "text/html": [
       "<div>\n",
       "<style scoped>\n",
       "    .dataframe tbody tr th:only-of-type {\n",
       "        vertical-align: middle;\n",
       "    }\n",
       "\n",
       "    .dataframe tbody tr th {\n",
       "        vertical-align: top;\n",
       "    }\n",
       "\n",
       "    .dataframe thead tr th {\n",
       "        text-align: left;\n",
       "    }\n",
       "</style>\n",
       "<table border=\"1\" class=\"dataframe\">\n",
       "  <thead>\n",
       "    <tr>\n",
       "      <th></th>\n",
       "      <th>Customer Segment</th>\n",
       "      <th>Recency</th>\n",
       "      <th>Frequency</th>\n",
       "      <th colspan=\"2\" halign=\"left\">Monetary</th>\n",
       "      <th>Marketing Action</th>\n",
       "    </tr>\n",
       "    <tr>\n",
       "      <th></th>\n",
       "      <th></th>\n",
       "      <th>mean</th>\n",
       "      <th>mean</th>\n",
       "      <th>mean</th>\n",
       "      <th>count</th>\n",
       "      <th>unique</th>\n",
       "    </tr>\n",
       "  </thead>\n",
       "  <tbody>\n",
       "    <tr>\n",
       "      <th>0</th>\n",
       "      <td>Champions Big Spenders</td>\n",
       "      <td>173.3</td>\n",
       "      <td>1.2</td>\n",
       "      <td>390.3</td>\n",
       "      <td>17775</td>\n",
       "      <td>[Upsell most expensive items]</td>\n",
       "    </tr>\n",
       "    <tr>\n",
       "      <th>1</th>\n",
       "      <td>Hibernating Almost Lost</td>\n",
       "      <td>454.8</td>\n",
       "      <td>1.0</td>\n",
       "      <td>43.6</td>\n",
       "      <td>5558</td>\n",
       "      <td>[Aggressive price incentives]</td>\n",
       "    </tr>\n",
       "    <tr>\n",
       "      <th>2</th>\n",
       "      <td>Loyal Customers</td>\n",
       "      <td>212.2</td>\n",
       "      <td>1.1</td>\n",
       "      <td>126.1</td>\n",
       "      <td>57065</td>\n",
       "      <td>[Loyality programs;Cross Sell]</td>\n",
       "    </tr>\n",
       "    <tr>\n",
       "      <th>3</th>\n",
       "      <td>Needs Attention</td>\n",
       "      <td>363.0</td>\n",
       "      <td>1.0</td>\n",
       "      <td>63.8</td>\n",
       "      <td>11083</td>\n",
       "      <td>[Price incentives and Limited time offer]</td>\n",
       "    </tr>\n",
       "  </tbody>\n",
       "</table>\n",
       "</div>"
      ],
      "text/plain": [
       "          Customer Segment Recency Frequency Monetary         \\\n",
       "                              mean      mean     mean  count   \n",
       "0   Champions Big Spenders   173.3       1.2    390.3  17775   \n",
       "1  Hibernating Almost Lost   454.8       1.0     43.6   5558   \n",
       "2          Loyal Customers   212.2       1.1    126.1  57065   \n",
       "3          Needs Attention   363.0       1.0     63.8  11083   \n",
       "\n",
       "                            Marketing Action  \n",
       "                                      unique  \n",
       "0              [Upsell most expensive items]  \n",
       "1              [Aggressive price incentives]  \n",
       "2             [Loyality programs;Cross Sell]  \n",
       "3  [Price incentives and Limited time offer]  "
      ]
     },
     "execution_count": 76,
     "metadata": {},
     "output_type": "execute_result"
    }
   ],
   "source": [
    "rfm_level_ag = pd.DataFrame(rfm_level_agg)\n",
    "rfm_level_ag = rfm_level_ag.reset_index()\n",
    "rfm_level_ag"
   ]
  },
  {
   "cell_type": "markdown",
   "metadata": {},
   "source": [
    "À partir de là, nous pouvons voir qu'un pourcentage suffisant (~ 45 %) de nos clients se situent dans les niveaux RFM les plus élevés. Olist doit faire quelque chose de bien pour maintenir sa loyauté ! Les 55% restants auront besoin de quelques travaux.\n",
    "\n",
    "1. Loyalistes potentiels - Fort potentiel d'entrer dans nos segments de clients fidèles, pourquoi ne pas ajouter des cadeaux lors de leur prochain achat pour montrer que vous les appréciez !\n",
    "\n",
    "2. Besoin d'attention - Montre des signes prometteurs avec la quantité et la valeur de leurs achats, mais cela fait un moment qu'ils n'ont pas acheté chez vous. Ciblons-les avec leurs articles de liste de souhaits et une réduction d'offre à durée limitée.\n",
    "\n",
    "3. Hibernant presque perdu - J'ai fait quelques achats initiaux mais je ne les ai pas revus depuis. Était-ce une mauvaise expérience client ? Ou adéquation produit-marché ? Consacrons quelques ressources à renforcer la notoriété de notre marque avec eux.\n",
    "\n",
    "4. Clients fidèles - Ce sont les clients les plus fidèles. Ils sont actifs avec des achats fréquents et une valeur monétaire élevée. Ils pourraient être les évangélistes de la marque et devraient se concentrer sur leur bon service. Ils pourraient être les meilleurs clients pour obtenir des commentaires sur les lancements de nouveaux produits ou être les premiers à adopter ou à promouvoir.\n",
    "\n",
    "5. Champions gros dépensiers - C'est toujours une bonne idée \"d'incuber\" soigneusement tous les nouveaux clients, mais parce que ces clients ont dépensé beaucoup pour leur achat, c'est encore plus important. Comme pour le groupe des meilleurs clients, il est important de les faire se sentir valorisés et appréciés - et de leur donner de formidables incitations à continuer à interagir avec la marque."
   ]
  },
  {
   "cell_type": "code",
   "execution_count": 77,
   "metadata": {},
   "outputs": [
    {
     "data": {
      "image/png": "[encoded data removed]",
      "text/plain": [
       "<Figure size 1152x720 with 1 Axes>"
      ]
     },
     "metadata": {
      "needs_background": "light"
     },
     "output_type": "display_data"
    }
   ],
   "source": [
    "#rfm_level_agg.columns = rfm_level_agg.columns.droplevel()\n",
    "rfm_level_agg.columns = ['RecencyMean','FrequencyMean','MonetaryMean', 'Count', 'MarketingAction']\n",
    "#Create our plot and resize it.\n",
    "fig = plt.gcf()\n",
    "ax = fig.add_subplot()\n",
    "fig.set_size_inches(16, 10)\n",
    "squarify.plot(sizes=rfm_level_agg['Count'], \n",
    "              label=['Champions Big Spenders',\n",
    "                     'Hibernating Almost Lost',\n",
    "                     'Loyal Customers',\n",
    "                     'Needs Attention',\n",
    "                     'Potential Loyalists',\n",
    "                     'VVIP - Can\\'t Loose Them'], alpha=.6 )\n",
    "plt.title(\"RFM Segments\",fontsize=40,fontweight=\"bold\")\n",
    "plt.axis('on')\n",
    "plt.show()"
   ]
  },
  {
   "cell_type": "markdown",
   "metadata": {},
   "source": [
    "#### Graphique interactif pour visualiser les segments de clientèle"
   ]
  },
  {
   "cell_type": "code",
   "execution_count": 78,
   "metadata": {},
   "outputs": [
    {
     "data": {
      "application/vnd.plotly.v1+json": {
       "config": {
        "plotlyServerURL": "https://plot.ly"
       },
       "data": [
        {
         "labels": [
          "Champions Big Spenders",
          "Hibernating Almost Lost",
          "Loyal Customers",
          "Needs Attention"
         ],
         "parents": [
          "Customer Segmentation",
          "Customer Segmentation",
          "Customer Segmentation",
          "Customer Segmentation",
          "Customer Segmentation",
          "Customer Segmentation",
          "Customer Segmentation"
         ],
         "type": "treemap",
         "values": [
          17775,
          5558,
          57065,
          11083
         ]
        }
       ],
       "layout": {
        "template": {
         "data": {
          "bar": [
           {
            "error_x": {
             "color": "#2a3f5f"
            },
            "error_y": {
             "color": "#2a3f5f"
            },
            "marker": {
             "line": {
              "color": "#E5ECF6",
              "width": 0.5
             },
             "pattern": {
              "fillmode": "overlay",
              "size": 10,
              "solidity": 0.2
             }
            },
            "type": "bar"
           }
          ],
          "barpolar": [
           {
            "marker": {
             "line": {
              "color": "#E5ECF6",
              "width": 0.5
             },
             "pattern": {
              "fillmode": "overlay",
              "size": 10,
              "solidity": 0.2
             }
            },
            "type": "barpolar"
           }
          ],
          "carpet": [
           {
            "aaxis": {
             "endlinecolor": "#2a3f5f",
             "gridcolor": "white",
             "linecolor": "white",
             "minorgridcolor": "white",
             "startlinecolor": "#2a3f5f"
            },
            "baxis": {
             "endlinecolor": "#2a3f5f",
             "gridcolor": "white",
             "linecolor": "white",
             "minorgridcolor": "white",
             "startlinecolor": "#2a3f5f"
            },
            "type": "carpet"
           }
          ],
          "choropleth": [
           {
            "colorbar": {
             "outlinewidth": 0,
             "ticks": ""
            },
            "type": "choropleth"
           }
          ],
          "contour": [
           {
            "colorbar": {
             "outlinewidth": 0,
             "ticks": ""
            },
            "colorscale": [
             [
              0,
              "#0d0887"
             ],
             [
              0.1111111111111111,
              "#46039f"
             ],
             [
              0.2222222222222222,
              "#7201a8"
             ],
             [
              0.3333333333333333,
              "#9c179e"
             ],
             [
              0.4444444444444444,
              "#bd3786"
             ],
             [
              0.5555555555555556,
              "#d8576b"
             ],
             [
              0.6666666666666666,
              "#ed7953"
             ],
             [
              0.7777777777777778,
              "#fb9f3a"
             ],
             [
              0.8888888888888888,
              "#fdca26"
             ],
             [
              1,
              "#f0f921"
             ]
            ],
            "type": "contour"
           }
          ],
          "contourcarpet": [
           {
            "colorbar": {
             "outlinewidth": 0,
             "ticks": ""
            },
            "type": "contourcarpet"
           }
          ],
          "heatmap": [
           {
            "colorbar": {
             "outlinewidth": 0,
             "ticks": ""
            },
            "colorscale": [
             [
              0,
              "#0d0887"
             ],
             [
              0.1111111111111111,
              "#46039f"
             ],
             [
              0.2222222222222222,
              "#7201a8"
             ],
             [
              0.3333333333333333,
              "#9c179e"
             ],
             [
              0.4444444444444444,
              "#bd3786"
             ],
             [
              0.5555555555555556,
              "#d8576b"
             ],
             [
              0.6666666666666666,
              "#ed7953"
             ],
             [
              0.7777777777777778,
              "#fb9f3a"
             ],
             [
              0.8888888888888888,
              "#fdca26"
             ],
             [
              1,
              "#f0f921"
             ]
            ],
            "type": "heatmap"
           }
          ],
          "heatmapgl": [
           {
            "colorbar": {
             "outlinewidth": 0,
             "ticks": ""
            },
            "colorscale": [
             [
              0,
              "#0d0887"
             ],
             [
              0.1111111111111111,
              "#46039f"
             ],
             [
              0.2222222222222222,
              "#7201a8"
             ],
             [
              0.3333333333333333,
              "#9c179e"
             ],
             [
              0.4444444444444444,
              "#bd3786"
             ],
             [
              0.5555555555555556,
              "#d8576b"
             ],
             [
              0.6666666666666666,
              "#ed7953"
             ],
             [
              0.7777777777777778,
              "#fb9f3a"
             ],
             [
              0.8888888888888888,
              "#fdca26"
             ],
             [
              1,
              "#f0f921"
             ]
            ],
            "type": "heatmapgl"
           }
          ],
          "histogram": [
           {
            "marker": {
             "pattern": {
              "fillmode": "overlay",
              "size": 10,
              "solidity": 0.2
             }
            },
            "type": "histogram"
           }
          ],
          "histogram2d": [
           {
            "colorbar": {
             "outlinewidth": 0,
             "ticks": ""
            },
            "colorscale": [
             [
              0,
              "#0d0887"
             ],
             [
              0.1111111111111111,
              "#46039f"
             ],
             [
              0.2222222222222222,
              "#7201a8"
             ],
             [
              0.3333333333333333,
              "#9c179e"
             ],
             [
              0.4444444444444444,
              "#bd3786"
             ],
             [
              0.5555555555555556,
              "#d8576b"
             ],
             [
              0.6666666666666666,
              "#ed7953"
             ],
             [
              0.7777777777777778,
              "#fb9f3a"
             ],
             [
              0.8888888888888888,
              "#fdca26"
             ],
             [
              1,
              "#f0f921"
             ]
            ],
            "type": "histogram2d"
           }
          ],
          "histogram2dcontour": [
           {
            "colorbar": {
             "outlinewidth": 0,
             "ticks": ""
            },
            "colorscale": [
             [
              0,
              "#0d0887"
             ],
             [
              0.1111111111111111,
              "#46039f"
             ],
             [
              0.2222222222222222,
              "#7201a8"
             ],
             [
              0.3333333333333333,
              "#9c179e"
             ],
             [
              0.4444444444444444,
              "#bd3786"
             ],
             [
              0.5555555555555556,
              "#d8576b"
             ],
             [
              0.6666666666666666,
              "#ed7953"
             ],
             [
              0.7777777777777778,
              "#fb9f3a"
             ],
             [
              0.8888888888888888,
              "#fdca26"
             ],
             [
              1,
              "#f0f921"
             ]
            ],
            "type": "histogram2dcontour"
           }
          ],
          "mesh3d": [
           {
            "colorbar": {
             "outlinewidth": 0,
             "ticks": ""
            },
            "type": "mesh3d"
           }
          ],
          "parcoords": [
           {
            "line": {
             "colorbar": {
              "outlinewidth": 0,
              "ticks": ""
             }
            },
            "type": "parcoords"
           }
          ],
          "pie": [
           {
            "automargin": true,
            "type": "pie"
           }
          ],
          "scatter": [
           {
            "marker": {
             "colorbar": {
              "outlinewidth": 0,
              "ticks": ""
             }
            },
            "type": "scatter"
           }
          ],
          "scatter3d": [
           {
            "line": {
             "colorbar": {
              "outlinewidth": 0,
              "ticks": ""
             }
            },
            "marker": {
             "colorbar": {
              "outlinewidth": 0,
              "ticks": ""
             }
            },
            "type": "scatter3d"
           }
          ],
          "scattercarpet": [
           {
            "marker": {
             "colorbar": {
              "outlinewidth": 0,
              "ticks": ""
             }
            },
            "type": "scattercarpet"
           }
          ],
          "scattergeo": [
           {
            "marker": {
             "colorbar": {
              "outlinewidth": 0,
              "ticks": ""
             }
            },
            "type": "scattergeo"
           }
          ],
          "scattergl": [
           {
            "marker": {
             "colorbar": {
              "outlinewidth": 0,
              "ticks": ""
             }
            },
            "type": "scattergl"
           }
          ],
          "scattermapbox": [
           {
            "marker": {
             "colorbar": {
              "outlinewidth": 0,
              "ticks": ""
             }
            },
            "type": "scattermapbox"
           }
          ],
          "scatterpolar": [
           {
            "marker": {
             "colorbar": {
              "outlinewidth": 0,
              "ticks": ""
             }
            },
            "type": "scatterpolar"
           }
          ],
          "scatterpolargl": [
           {
            "marker": {
             "colorbar": {
              "outlinewidth": 0,
              "ticks": ""
             }
            },
            "type": "scatterpolargl"
           }
          ],
          "scatterternary": [
           {
            "marker": {
             "colorbar": {
              "outlinewidth": 0,
              "ticks": ""
             }
            },
            "type": "scatterternary"
           }
          ],
          "surface": [
           {
            "colorbar": {
             "outlinewidth": 0,
             "ticks": ""
            },
            "colorscale": [
             [
              0,
              "#0d0887"
             ],
             [
              0.1111111111111111,
              "#46039f"
             ],
             [
              0.2222222222222222,
              "#7201a8"
             ],
             [
              0.3333333333333333,
              "#9c179e"
             ],
             [
              0.4444444444444444,
              "#bd3786"
             ],
             [
              0.5555555555555556,
              "#d8576b"
             ],
             [
              0.6666666666666666,
              "#ed7953"
             ],
             [
              0.7777777777777778,
              "#fb9f3a"
             ],
             [
              0.8888888888888888,
              "#fdca26"
             ],
             [
              1,
              "#f0f921"
             ]
            ],
            "type": "surface"
           }
          ],
          "table": [
           {
            "cells": {
             "fill": {
              "color": "#EBF0F8"
             },
             "line": {
              "color": "white"
             }
            },
            "header": {
             "fill": {
              "color": "#C8D4E3"
             },
             "line": {
              "color": "white"
             }
            },
            "type": "table"
           }
          ]
         },
         "layout": {
          "annotationdefaults": {
           "arrowcolor": "#2a3f5f",
           "arrowhead": 0,
           "arrowwidth": 1
          },
          "autotypenumbers": "strict",
          "coloraxis": {
           "colorbar": {
            "outlinewidth": 0,
            "ticks": ""
           }
          },
          "colorscale": {
           "diverging": [
            [
             0,
             "#8e0152"
            ],
            [
             0.1,
             "#c51b7d"
            ],
            [
             0.2,
             "#de77ae"
            ],
            [
             0.3,
             "#f1b6da"
            ],
            [
             0.4,
             "#fde0ef"
            ],
            [
             0.5,
             "#f7f7f7"
            ],
            [
             0.6,
             "#e6f5d0"
            ],
            [
             0.7,
             "#b8e186"
            ],
            [
             0.8,
             "#7fbc41"
            ],
            [
             0.9,
             "#4d9221"
            ],
            [
             1,
             "#276419"
            ]
           ],
           "sequential": [
            [
             0,
             "#0d0887"
            ],
            [
             0.1111111111111111,
             "#46039f"
            ],
            [
             0.2222222222222222,
             "#7201a8"
            ],
            [
             0.3333333333333333,
             "#9c179e"
            ],
            [
             0.4444444444444444,
             "#bd3786"
            ],
            [
             0.5555555555555556,
             "#d8576b"
            ],
            [
             0.6666666666666666,
             "#ed7953"
            ],
            [
             0.7777777777777778,
             "#fb9f3a"
            ],
            [
             0.8888888888888888,
             "#fdca26"
            ],
            [
             1,
             "#f0f921"
            ]
           ],
           "sequentialminus": [
            [
             0,
             "#0d0887"
            ],
            [
             0.1111111111111111,
             "#46039f"
            ],
            [
             0.2222222222222222,
             "#7201a8"
            ],
            [
             0.3333333333333333,
             "#9c179e"
            ],
            [
             0.4444444444444444,
             "#bd3786"
            ],
            [
             0.5555555555555556,
             "#d8576b"
            ],
            [
             0.6666666666666666,
             "#ed7953"
            ],
            [
             0.7777777777777778,
             "#fb9f3a"
            ],
            [
             0.8888888888888888,
             "#fdca26"
            ],
            [
             1,
             "#f0f921"
            ]
           ]
          },
          "colorway": [
           "#636efa",
           "#EF553B",
           "#00cc96",
           "#ab63fa",
           "#FFA15A",
           "#19d3f3",
           "#FF6692",
           "#B6E880",
           "#FF97FF",
           "#FECB52"
          ],
          "font": {
           "color": "#2a3f5f"
          },
          "geo": {
           "bgcolor": "white",
           "lakecolor": "white",
           "landcolor": "#E5ECF6",
           "showlakes": true,
           "showland": true,
           "subunitcolor": "white"
          },
          "hoverlabel": {
           "align": "left"
          },
          "hovermode": "closest",
          "mapbox": {
           "style": "light"
          },
          "paper_bgcolor": "white",
          "plot_bgcolor": "#E5ECF6",
          "polar": {
           "angularaxis": {
            "gridcolor": "white",
            "linecolor": "white",
            "ticks": ""
           },
           "bgcolor": "#E5ECF6",
           "radialaxis": {
            "gridcolor": "white",
            "linecolor": "white",
            "ticks": ""
           }
          },
          "scene": {
           "xaxis": {
            "backgroundcolor": "#E5ECF6",
            "gridcolor": "white",
            "gridwidth": 2,
            "linecolor": "white",
            "showbackground": true,
            "ticks": "",
            "zerolinecolor": "white"
           },
           "yaxis": {
            "backgroundcolor": "#E5ECF6",
            "gridcolor": "white",
            "gridwidth": 2,
            "linecolor": "white",
            "showbackground": true,
            "ticks": "",
            "zerolinecolor": "white"
           },
           "zaxis": {
            "backgroundcolor": "#E5ECF6",
            "gridcolor": "white",
            "gridwidth": 2,
            "linecolor": "white",
            "showbackground": true,
            "ticks": "",
            "zerolinecolor": "white"
           }
          },
          "shapedefaults": {
           "line": {
            "color": "#2a3f5f"
           }
          },
          "ternary": {
           "aaxis": {
            "gridcolor": "white",
            "linecolor": "white",
            "ticks": ""
           },
           "baxis": {
            "gridcolor": "white",
            "linecolor": "white",
            "ticks": ""
           },
           "bgcolor": "#E5ECF6",
           "caxis": {
            "gridcolor": "white",
            "linecolor": "white",
            "ticks": ""
           }
          },
          "title": {
           "x": 0.05
          },
          "xaxis": {
           "automargin": true,
           "gridcolor": "white",
           "linecolor": "white",
           "ticks": "",
           "title": {
            "standoff": 15
           },
           "zerolinecolor": "white",
           "zerolinewidth": 2
          },
          "yaxis": {
           "automargin": true,
           "gridcolor": "white",
           "linecolor": "white",
           "ticks": "",
           "title": {
            "standoff": 15
           },
           "zerolinecolor": "white",
           "zerolinewidth": 2
          }
         }
        }
       }
      }
     },
     "metadata": {},
     "output_type": "display_data"
    }
   ],
   "source": [
    "import plotly.graph_objects as go\n",
    "\n",
    "fig =go.Figure(go.Treemap(\n",
    "    labels = rfm_level_ag['Customer Segment'],\n",
    "    parents = ['Customer Segmentation', 'Customer Segmentation', 'Customer Segmentation', 'Customer Segmentation', 'Customer Segmentation', 'Customer Segmentation', 'Customer Segmentation'],   #rfm_level_ag[('Marketing Action', 'unique')].tolist(), \n",
    "    values= rfm_level_ag[('Monetary', 'count')]\n",
    "))\n",
    "\n",
    "fig.show()"
   ]
  },
  {
   "cell_type": "markdown",
   "metadata": {},
   "source": [
    "#### Nous pouvons former nos campagnes marketing et nos stratégies de ciblage sur la base de la segmentation client ci-dessus.\n",
    "1. Nous pouvons vendre des produits haut de gamme aux grands dépensiers\n",
    "2. Nous pouvons effectuer des ventes croisées de produits complémentaires aux clients fidèles et aux meilleurs clients"
   ]
  },
  {
   "cell_type": "markdown",
   "metadata": {},
   "source": [
    "### K-Means Clustering"
   ]
  },
  {
   "cell_type": "markdown",
   "metadata": {},
   "source": [
    "Nous avons conçu les clusters en fonction du score RFM et des clients segmentés. Maintenant, appliquons une approche d'apprentissage automatique pour identifier s'il y a des segments cachés que nous pouvons trouver à partir des clusters"
   ]
  },
  {
   "cell_type": "code",
   "execution_count": 79,
   "metadata": {},
   "outputs": [
    {
     "data": {
      "text/plain": [
       "Recency      1.00\n",
       "Frequency    1.00\n",
       "Monetary     8.86\n",
       "dtype: float64"
      ]
     },
     "execution_count": 79,
     "metadata": {},
     "output_type": "execute_result"
    }
   ],
   "source": [
    "data_rfm = rfm[['Recency', 'Frequency', 'Monetary']]\n",
    "data_rfm.min()"
   ]
  },
  {
   "cell_type": "code",
   "execution_count": 80,
   "metadata": {},
   "outputs": [],
   "source": [
    "import numpy as np\n",
    "from sklearn.preprocessing import StandardScaler\n",
    "\n",
    "data_log = np.log(data_rfm)\n",
    "scaler = StandardScaler()\n",
    "scaler.fit(data_log)\n",
    "data_normalized = scaler.transform(data_log)\n",
    "data_normalized = pd.DataFrame(data=data_normalized, index=data_rfm.index, columns=data_rfm.columns)"
   ]
  },
  {
   "cell_type": "code",
   "execution_count": 81,
   "metadata": {},
   "outputs": [
    {
     "data": {
      "text/html": [
       "<div>\n",
       "<style scoped>\n",
       "    .dataframe tbody tr th:only-of-type {\n",
       "        vertical-align: middle;\n",
       "    }\n",
       "\n",
       "    .dataframe tbody tr th {\n",
       "        vertical-align: top;\n",
       "    }\n",
       "\n",
       "    .dataframe thead th {\n",
       "        text-align: right;\n",
       "    }\n",
       "</style>\n",
       "<table border=\"1\" class=\"dataframe\">\n",
       "  <thead>\n",
       "    <tr style=\"text-align: right;\">\n",
       "      <th></th>\n",
       "      <th>Recency</th>\n",
       "      <th>Frequency</th>\n",
       "      <th>Monetary</th>\n",
       "    </tr>\n",
       "    <tr>\n",
       "      <th>customer_unique_id</th>\n",
       "      <th></th>\n",
       "      <th></th>\n",
       "      <th></th>\n",
       "    </tr>\n",
       "  </thead>\n",
       "  <tbody>\n",
       "    <tr>\n",
       "      <th>0000366f3b9a7992bf8c76cfdf3221e2</th>\n",
       "      <td>-0.463579</td>\n",
       "      <td>-0.236734</td>\n",
       "      <td>0.293602</td>\n",
       "    </tr>\n",
       "    <tr>\n",
       "      <th>0000b849f77a49e4a4ce2b2a4ca5be3f</th>\n",
       "      <td>-0.435561</td>\n",
       "      <td>-0.236734</td>\n",
       "      <td>-1.728286</td>\n",
       "    </tr>\n",
       "    <tr>\n",
       "      <th>0000f46a3911fa3c0805444483337064</th>\n",
       "      <td>1.199873</td>\n",
       "      <td>-0.236734</td>\n",
       "      <td>-0.316071</td>\n",
       "    </tr>\n",
       "    <tr>\n",
       "      <th>0000f6ccb0745a6a4b88665a16c9f078</th>\n",
       "      <td>0.655791</td>\n",
       "      <td>-0.236734</td>\n",
       "      <td>-1.149884</td>\n",
       "    </tr>\n",
       "    <tr>\n",
       "      <th>0004aac84e0df4da2b147fca70cf8255</th>\n",
       "      <td>0.541183</td>\n",
       "      <td>-0.236734</td>\n",
       "      <td>0.694392</td>\n",
       "    </tr>\n",
       "  </tbody>\n",
       "</table>\n",
       "</div>"
      ],
      "text/plain": [
       "                                   Recency  Frequency  Monetary\n",
       "customer_unique_id                                             \n",
       "0000366f3b9a7992bf8c76cfdf3221e2 -0.463579  -0.236734  0.293602\n",
       "0000b849f77a49e4a4ce2b2a4ca5be3f -0.435561  -0.236734 -1.728286\n",
       "0000f46a3911fa3c0805444483337064  1.199873  -0.236734 -0.316071\n",
       "0000f6ccb0745a6a4b88665a16c9f078  0.655791  -0.236734 -1.149884\n",
       "0004aac84e0df4da2b147fca70cf8255  0.541183  -0.236734  0.694392"
      ]
     },
     "execution_count": 81,
     "metadata": {},
     "output_type": "execute_result"
    }
   ],
   "source": [
    "data_normalized.head()"
   ]
  },
  {
   "cell_type": "code",
   "execution_count": 85,
   "metadata": {},
   "outputs": [
    {
     "data": {
      "text/html": [
       "<div>\n",
       "<style scoped>\n",
       "    .dataframe tbody tr th:only-of-type {\n",
       "        vertical-align: middle;\n",
       "    }\n",
       "\n",
       "    .dataframe tbody tr th {\n",
       "        vertical-align: top;\n",
       "    }\n",
       "\n",
       "    .dataframe thead tr th {\n",
       "        text-align: left;\n",
       "    }\n",
       "\n",
       "    .dataframe thead tr:last-of-type th {\n",
       "        text-align: right;\n",
       "    }\n",
       "</style>\n",
       "<table border=\"1\" class=\"dataframe\">\n",
       "  <thead>\n",
       "    <tr>\n",
       "      <th></th>\n",
       "      <th>Recency</th>\n",
       "      <th>Frequency</th>\n",
       "      <th colspan=\"2\" halign=\"left\">Monetary</th>\n",
       "    </tr>\n",
       "    <tr>\n",
       "      <th></th>\n",
       "      <th>mean</th>\n",
       "      <th>mean</th>\n",
       "      <th>mean</th>\n",
       "      <th>count</th>\n",
       "    </tr>\n",
       "    <tr>\n",
       "      <th>Cluster</th>\n",
       "      <th></th>\n",
       "      <th></th>\n",
       "      <th></th>\n",
       "      <th></th>\n",
       "    </tr>\n",
       "  </thead>\n",
       "  <tbody>\n",
       "    <tr>\n",
       "      <th>0</th>\n",
       "      <td>239.8</td>\n",
       "      <td>2.2</td>\n",
       "      <td>235.7</td>\n",
       "      <td>5297</td>\n",
       "    </tr>\n",
       "    <tr>\n",
       "      <th>1</th>\n",
       "      <td>291.1</td>\n",
       "      <td>1.0</td>\n",
       "      <td>142.2</td>\n",
       "      <td>32848</td>\n",
       "    </tr>\n",
       "    <tr>\n",
       "      <th>2</th>\n",
       "      <td>41.3</td>\n",
       "      <td>1.0</td>\n",
       "      <td>124.4</td>\n",
       "      <td>14806</td>\n",
       "    </tr>\n",
       "    <tr>\n",
       "      <th>3</th>\n",
       "      <td>241.2</td>\n",
       "      <td>1.0</td>\n",
       "      <td>518.2</td>\n",
       "      <td>11394</td>\n",
       "    </tr>\n",
       "    <tr>\n",
       "      <th>4</th>\n",
       "      <td>278.2</td>\n",
       "      <td>1.0</td>\n",
       "      <td>52.2</td>\n",
       "      <td>27136</td>\n",
       "    </tr>\n",
       "  </tbody>\n",
       "</table>\n",
       "</div>"
      ],
      "text/plain": [
       "        Recency Frequency Monetary       \n",
       "           mean      mean     mean  count\n",
       "Cluster                                  \n",
       "0         239.8       2.2    235.7   5297\n",
       "1         291.1       1.0    142.2  32848\n",
       "2          41.3       1.0    124.4  14806\n",
       "3         241.2       1.0    518.2  11394\n",
       "4         278.2       1.0     52.2  27136"
      ]
     },
     "execution_count": 85,
     "metadata": {},
     "output_type": "execute_result"
    }
   ],
   "source": [
    "from sklearn.cluster import KMeans\n",
    "kmeans = KMeans(n_clusters = 5, random_state=1)\n",
    "kmeans.fit(data_normalized)\n",
    "cluster_labels = kmeans.labels_\n",
    "data_rfm_k5 = data_rfm.assign(Cluster=cluster_labels)\n",
    "grouped = data_rfm_k5.groupby(['Cluster'])\n",
    "grouped.agg({\n",
    "    'Recency': 'mean',\n",
    "    'Frequency': 'mean',\n",
    "    'Monetary': ['mean', 'count']\n",
    "  }).round(1)"
   ]
  },
  {
   "cell_type": "code",
   "execution_count": 86,
   "metadata": {},
   "outputs": [
    {
     "data": {
      "image/png": "[encoded data removed]",
      "text/plain": [
       "<Figure size 1296x648 with 1 Axes>"
      ]
     },
     "metadata": {
      "needs_background": "light"
     },
     "output_type": "display_data"
    }
   ],
   "source": [
    "sse = {}\n",
    "for k in range(1, 8):  \n",
    "    kmeans = KMeans(n_clusters=k, random_state=1)\n",
    "    kmeans.fit(data_normalized)\n",
    "    sse[k] = kmeans.inertia_\n",
    "plt.figure(figsize=(18,9))\n",
    "\n",
    "plt.title('The Elbow Method')\n",
    "plt.xlabel('k')\n",
    "plt.ylabel('SSE')\n",
    "sns.pointplot(x=list(sse.keys()), y=list(sse.values()))\n",
    "plt.show()"
   ]
  },
  {
   "cell_type": "code",
   "execution_count": 87,
   "metadata": {},
   "outputs": [
    {
     "data": {
      "text/html": [
       "<div>\n",
       "<style scoped>\n",
       "    .dataframe tbody tr th:only-of-type {\n",
       "        vertical-align: middle;\n",
       "    }\n",
       "\n",
       "    .dataframe tbody tr th {\n",
       "        vertical-align: top;\n",
       "    }\n",
       "\n",
       "    .dataframe thead tr th {\n",
       "        text-align: left;\n",
       "    }\n",
       "\n",
       "    .dataframe thead tr:last-of-type th {\n",
       "        text-align: right;\n",
       "    }\n",
       "</style>\n",
       "<table border=\"1\" class=\"dataframe\">\n",
       "  <thead>\n",
       "    <tr>\n",
       "      <th></th>\n",
       "      <th>Recency</th>\n",
       "      <th>Frequency</th>\n",
       "      <th colspan=\"2\" halign=\"left\">Monetary</th>\n",
       "    </tr>\n",
       "    <tr>\n",
       "      <th></th>\n",
       "      <th>mean</th>\n",
       "      <th>mean</th>\n",
       "      <th>mean</th>\n",
       "      <th>count</th>\n",
       "    </tr>\n",
       "    <tr>\n",
       "      <th>Cluster</th>\n",
       "      <th></th>\n",
       "      <th></th>\n",
       "      <th></th>\n",
       "      <th></th>\n",
       "    </tr>\n",
       "  </thead>\n",
       "  <tbody>\n",
       "    <tr>\n",
       "      <th>0</th>\n",
       "      <td>285.6</td>\n",
       "      <td>1.0</td>\n",
       "      <td>68.0</td>\n",
       "      <td>40086</td>\n",
       "    </tr>\n",
       "    <tr>\n",
       "      <th>1</th>\n",
       "      <td>42.0</td>\n",
       "      <td>1.0</td>\n",
       "      <td>134.2</td>\n",
       "      <td>15389</td>\n",
       "    </tr>\n",
       "    <tr>\n",
       "      <th>2</th>\n",
       "      <td>239.8</td>\n",
       "      <td>2.2</td>\n",
       "      <td>235.7</td>\n",
       "      <td>5297</td>\n",
       "    </tr>\n",
       "    <tr>\n",
       "      <th>3</th>\n",
       "      <td>272.6</td>\n",
       "      <td>1.0</td>\n",
       "      <td>294.4</td>\n",
       "      <td>30709</td>\n",
       "    </tr>\n",
       "  </tbody>\n",
       "</table>\n",
       "</div>"
      ],
      "text/plain": [
       "        Recency Frequency Monetary       \n",
       "           mean      mean     mean  count\n",
       "Cluster                                  \n",
       "0         285.6       1.0     68.0  40086\n",
       "1          42.0       1.0    134.2  15389\n",
       "2         239.8       2.2    235.7   5297\n",
       "3         272.6       1.0    294.4  30709"
      ]
     },
     "execution_count": 87,
     "metadata": {},
     "output_type": "execute_result"
    }
   ],
   "source": [
    "kmeans = KMeans(n_clusters=4, random_state=1) \n",
    "kmeans.fit(data_normalized)\n",
    "cluster_labels = kmeans.labels_\n",
    "data_rfm_k4 = data_rfm.assign(Cluster=cluster_labels)\n",
    "grouped = data_rfm_k4.groupby(['Cluster'])\n",
    "grouped.agg({\n",
    "    'Recency': 'mean',\n",
    "    'Frequency': 'mean',\n",
    "    'Monetary': ['mean', 'count']\n",
    "  }).round(1)"
   ]
  },
  {
   "cell_type": "code",
   "execution_count": 88,
   "metadata": {},
   "outputs": [
    {
     "data": {
      "text/html": [
       "<div>\n",
       "<style scoped>\n",
       "    .dataframe tbody tr th:only-of-type {\n",
       "        vertical-align: middle;\n",
       "    }\n",
       "\n",
       "    .dataframe tbody tr th {\n",
       "        vertical-align: top;\n",
       "    }\n",
       "\n",
       "    .dataframe thead th {\n",
       "        text-align: right;\n",
       "    }\n",
       "</style>\n",
       "<table border=\"1\" class=\"dataframe\">\n",
       "  <thead>\n",
       "    <tr style=\"text-align: right;\">\n",
       "      <th></th>\n",
       "      <th>customer_unique_id</th>\n",
       "      <th>Cluster</th>\n",
       "      <th>Metric</th>\n",
       "      <th>Value</th>\n",
       "    </tr>\n",
       "  </thead>\n",
       "  <tbody>\n",
       "    <tr>\n",
       "      <th>0</th>\n",
       "      <td>0000366f3b9a7992bf8c76cfdf3221e2</td>\n",
       "      <td>3</td>\n",
       "      <td>Recency</td>\n",
       "      <td>112.0</td>\n",
       "    </tr>\n",
       "    <tr>\n",
       "      <th>1</th>\n",
       "      <td>0000b849f77a49e4a4ce2b2a4ca5be3f</td>\n",
       "      <td>0</td>\n",
       "      <td>Recency</td>\n",
       "      <td>115.0</td>\n",
       "    </tr>\n",
       "    <tr>\n",
       "      <th>2</th>\n",
       "      <td>0000f46a3911fa3c0805444483337064</td>\n",
       "      <td>0</td>\n",
       "      <td>Recency</td>\n",
       "      <td>538.0</td>\n",
       "    </tr>\n",
       "    <tr>\n",
       "      <th>3</th>\n",
       "      <td>0000f6ccb0745a6a4b88665a16c9f078</td>\n",
       "      <td>0</td>\n",
       "      <td>Recency</td>\n",
       "      <td>322.0</td>\n",
       "    </tr>\n",
       "    <tr>\n",
       "      <th>4</th>\n",
       "      <td>0004aac84e0df4da2b147fca70cf8255</td>\n",
       "      <td>3</td>\n",
       "      <td>Recency</td>\n",
       "      <td>289.0</td>\n",
       "    </tr>\n",
       "    <tr>\n",
       "      <th>5</th>\n",
       "      <td>0004bd2a26a76fe21f786e4fbd80607f</td>\n",
       "      <td>3</td>\n",
       "      <td>Recency</td>\n",
       "      <td>147.0</td>\n",
       "    </tr>\n",
       "    <tr>\n",
       "      <th>6</th>\n",
       "      <td>00050ab1314c0e55a6ca13cf7181fecf</td>\n",
       "      <td>0</td>\n",
       "      <td>Recency</td>\n",
       "      <td>132.0</td>\n",
       "    </tr>\n",
       "    <tr>\n",
       "      <th>7</th>\n",
       "      <td>00053a61a98854899e70ed204dd4bafe</td>\n",
       "      <td>3</td>\n",
       "      <td>Recency</td>\n",
       "      <td>183.0</td>\n",
       "    </tr>\n",
       "    <tr>\n",
       "      <th>8</th>\n",
       "      <td>0005e1862207bf6ccc02e4228effd9a0</td>\n",
       "      <td>3</td>\n",
       "      <td>Recency</td>\n",
       "      <td>544.0</td>\n",
       "    </tr>\n",
       "    <tr>\n",
       "      <th>9</th>\n",
       "      <td>0005ef4cd20d2893f0d9fbd94d3c0d97</td>\n",
       "      <td>3</td>\n",
       "      <td>Recency</td>\n",
       "      <td>171.0</td>\n",
       "    </tr>\n",
       "  </tbody>\n",
       "</table>\n",
       "</div>"
      ],
      "text/plain": [
       "                 customer_unique_id  Cluster   Metric  Value\n",
       "0  0000366f3b9a7992bf8c76cfdf3221e2        3  Recency  112.0\n",
       "1  0000b849f77a49e4a4ce2b2a4ca5be3f        0  Recency  115.0\n",
       "2  0000f46a3911fa3c0805444483337064        0  Recency  538.0\n",
       "3  0000f6ccb0745a6a4b88665a16c9f078        0  Recency  322.0\n",
       "4  0004aac84e0df4da2b147fca70cf8255        3  Recency  289.0\n",
       "5  0004bd2a26a76fe21f786e4fbd80607f        3  Recency  147.0\n",
       "6  00050ab1314c0e55a6ca13cf7181fecf        0  Recency  132.0\n",
       "7  00053a61a98854899e70ed204dd4bafe        3  Recency  183.0\n",
       "8  0005e1862207bf6ccc02e4228effd9a0        3  Recency  544.0\n",
       "9  0005ef4cd20d2893f0d9fbd94d3c0d97        3  Recency  171.0"
      ]
     },
     "execution_count": 88,
     "metadata": {},
     "output_type": "execute_result"
    }
   ],
   "source": [
    "data_melt = pd.melt(\n",
    "                    data_rfm_k4.reset_index(),               \n",
    "                    id_vars=['customer_unique_id', 'Cluster'],\n",
    "                    value_vars=['Recency', 'Frequency', 'Monetary'], \n",
    "                    var_name='Metric', value_name='Value'\n",
    "                    )\n",
    "data_melt.head(10)"
   ]
  },
  {
   "cell_type": "code",
   "execution_count": 89,
   "metadata": {},
   "outputs": [
    {
     "data": {
      "image/png": "[encoded data removed]",
      "text/plain": [
       "<Figure size 1296x648 with 1 Axes>"
      ]
     },
     "metadata": {
      "needs_background": "light"
     },
     "output_type": "display_data"
    }
   ],
   "source": [
    "# Snake Plot\n",
    "plt.figure(figsize = (18,9))\n",
    "plt.title('Snake plot of normalized variables')\n",
    "plt.xlabel('Metric')\n",
    "plt.ylabel('Value')\n",
    "sns.lineplot(data=data_melt, x='Metric', y='Value', hue='Cluster')\n",
    "plt.show()"
   ]
  },
  {
   "cell_type": "markdown",
   "metadata": {},
   "source": [
    "#### Calculer l'importance relative de chaque attribut\n",
    "Nous allons maintenant calculer l'importance relative des valeurs RFM dans chaque cluster"
   ]
  },
  {
   "cell_type": "code",
   "execution_count": 90,
   "metadata": {},
   "outputs": [
    {
     "data": {
      "text/html": [
       "<div>\n",
       "<style scoped>\n",
       "    .dataframe tbody tr th:only-of-type {\n",
       "        vertical-align: middle;\n",
       "    }\n",
       "\n",
       "    .dataframe tbody tr th {\n",
       "        vertical-align: top;\n",
       "    }\n",
       "\n",
       "    .dataframe thead th {\n",
       "        text-align: right;\n",
       "    }\n",
       "</style>\n",
       "<table border=\"1\" class=\"dataframe\">\n",
       "  <thead>\n",
       "    <tr style=\"text-align: right;\">\n",
       "      <th></th>\n",
       "      <th>Recency</th>\n",
       "      <th>Frequency</th>\n",
       "      <th>Monetary</th>\n",
       "    </tr>\n",
       "    <tr>\n",
       "      <th>Cluster</th>\n",
       "      <th></th>\n",
       "      <th></th>\n",
       "      <th></th>\n",
       "    </tr>\n",
       "  </thead>\n",
       "  <tbody>\n",
       "    <tr>\n",
       "      <th>0</th>\n",
       "      <td>0.20</td>\n",
       "      <td>-0.07</td>\n",
       "      <td>-0.59</td>\n",
       "    </tr>\n",
       "    <tr>\n",
       "      <th>1</th>\n",
       "      <td>-0.82</td>\n",
       "      <td>-0.07</td>\n",
       "      <td>-0.19</td>\n",
       "    </tr>\n",
       "    <tr>\n",
       "      <th>2</th>\n",
       "      <td>0.01</td>\n",
       "      <td>1.10</td>\n",
       "      <td>0.43</td>\n",
       "    </tr>\n",
       "    <tr>\n",
       "      <th>3</th>\n",
       "      <td>0.15</td>\n",
       "      <td>-0.07</td>\n",
       "      <td>0.79</td>\n",
       "    </tr>\n",
       "  </tbody>\n",
       "</table>\n",
       "</div>"
      ],
      "text/plain": [
       "         Recency  Frequency  Monetary\n",
       "Cluster                              \n",
       "0           0.20      -0.07     -0.59\n",
       "1          -0.82      -0.07     -0.19\n",
       "2           0.01       1.10      0.43\n",
       "3           0.15      -0.07      0.79"
      ]
     },
     "execution_count": 90,
     "metadata": {},
     "output_type": "execute_result"
    }
   ],
   "source": [
    "cluster_avg = data_rfm_k4.groupby(['Cluster']).mean() \n",
    "population_avg = data_rfm.mean()\n",
    "relative_imp = cluster_avg / population_avg - 1\n",
    "relative_imp.round(2)"
   ]
  },
  {
   "cell_type": "code",
   "execution_count": 91,
   "metadata": {},
   "outputs": [
    {
     "data": {
      "image/png": "[encoded data removed]",
      "text/plain": [
       "<Figure size 936x360 with 2 Axes>"
      ]
     },
     "metadata": {
      "needs_background": "light"
     },
     "output_type": "display_data"
    }
   ],
   "source": [
    "plt.figure(figsize=(13, 5))\n",
    "plt.title('Relative importance of attributes')\n",
    "sns.heatmap(data=relative_imp, annot=True, fmt='.2f', cmap='RdYlGn')\n",
    "plt.show()"
   ]
  },
  {
   "cell_type": "markdown",
   "metadata": {},
   "source": [
    "\n",
    "### Importance relative du RFM parmi les clusters K-Means\n",
    "Nous pouvons voir que notre résumé groupé de la moyenne de R, F, M que chaque groupe de clients met un accent différent sur nos 4 caractéristiques :\n",
    "\n",
    "#### Cluster 0\n",
    "Il a la moyenne de récence la plus basse et la moyenne de fréquence et monétaire équitable. Il fonctionne mal sur R, F et M. nous devrons concevoir des campagnes pour les réactiver.\n",
    "\n",
    "#### Cluster 1\n",
    "Ils ont acheté chez nous récemment, mais n'ont pas dépensé autant ou aussi souvent que nous le souhaiterions. Peut-être qu'une certaine personnalisation des produits qui leur sont destinés peut aider à maximiser leur valeur à vie et à revenir acheter ?\n",
    "\n",
    "#### Cluster 2\n",
    "Il a une moyenne MontaryValue élevée et une moyenne de récence faible et la moyenne de fréquence la plus élevée - C'est notre segment de clientèle idéal\n",
    "\n",
    "#### Cluster 3\n",
    "Il a dépensé pas mal d'argent avec nous mais n'a pas acheté avec nous depuis 3 à 4 mois - Nous devrons faire quelque chose avant de les perdre !"
   ]
  }
 ],
 "metadata": {
  "interpreter": {
   "hash": "3bd13bc16400e16874b7ce28af58a129343287e94248a182c1f06fbb6b76ef8e"
  },
  "kernelspec": {
   "display_name": "Python 3.10.2 64-bit",
   "language": "python",
   "name": "python3"
  },
  "language_info": {
   "codemirror_mode": {
    "name": "ipython",
    "version": 3
   },
   "file_extension": ".py",
   "mimetype": "text/x-python",
   "name": "python",
   "nbconvert_exporter": "python",
   "pygments_lexer": "ipython3",
   "version": "3.10.2"
  },
  "varInspector": {
   "cols": {
    "lenName": 16,
    "lenType": 16,
    "lenVar": 40
   },
   "kernels_config": {
    "python": {
     "delete_cmd_postfix": "",
     "delete_cmd_prefix": "del ",
     "library": "var_list.py",
     "varRefreshCmd": "print(var_dic_list())"
    },
    "r": {
     "delete_cmd_postfix": ") ",
     "delete_cmd_prefix": "rm(",
     "library": "var_list.r",
     "varRefreshCmd": "cat(var_dic_list()) "
    }
   },
   "types_to_exclude": [
    "module",
    "function",
    "builtin_function_or_method",
    "instance",
    "_Feature"
   ],
   "window_display": false
  }
 },
 "nbformat": 4,
 "nbformat_minor": 2
}
