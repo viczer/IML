{
 "cells": [
  {
   "cell_type": "markdown",
   "id": "large-transcript",
   "metadata": {},
   "source": [
    "# Modélisation de la prédiction de tags pour les posts de Stack Overflow"
   ]
  },
  {
   "cell_type": "markdown",
   "id": "breeding-invalid",
   "metadata": {},
   "source": [
    "Ce notebook regroupe les travaux de prétraitement des docuements et les tests des modèles des approches supervisés et non supervisés afin de prédire les tags des posts de Stack Overflow."
   ]
  },
  {
   "cell_type": "markdown",
   "id": "covered-canyon",
   "metadata": {},
   "source": [
    "## Contexte"
   ]
  },
  {
   "cell_type": "markdown",
   "id": "sapphire-exhaust",
   "metadata": {},
   "source": [
    "Afin de permettre de faciliter le parcours des utilisateurs de l'outil communautaire Stack Overflow nous avons travaillé sur la mise à disposition d'une API de suggestion de tags."
   ]
  },
  {
   "cell_type": "markdown",
   "id": "multiple-termination",
   "metadata": {},
   "source": [
    "## Importation des données"
   ]
  },
  {
   "cell_type": "markdown",
   "id": "invisible-preparation",
   "metadata": {},
   "source": [
    "Pour les besoins du notebook nous ne conservons que les titres, corps du texte et tags des document importés. "
   ]
  },
  {
   "cell_type": "code",
   "execution_count": 1,
   "id": "experienced-budapest",
   "metadata": {},
   "outputs": [
    {
     "data": {
      "text/html": [
       "<div>\n",
       "<style scoped>\n",
       "    .dataframe tbody tr th:only-of-type {\n",
       "        vertical-align: middle;\n",
       "    }\n",
       "\n",
       "    .dataframe tbody tr th {\n",
       "        vertical-align: top;\n",
       "    }\n",
       "\n",
       "    .dataframe thead th {\n",
       "        text-align: right;\n",
       "    }\n",
       "</style>\n",
       "<table border=\"1\" class=\"dataframe\">\n",
       "  <thead>\n",
       "    <tr style=\"text-align: right;\">\n",
       "      <th></th>\n",
       "      <th>Title</th>\n",
       "      <th>Body</th>\n",
       "      <th>Tags</th>\n",
       "    </tr>\n",
       "  </thead>\n",
       "  <tbody>\n",
       "    <tr>\n",
       "      <th>0</th>\n",
       "      <td>Support for password authentication was remove...</td>\n",
       "      <td>&lt;p&gt;I got this error on my console when I tried...</td>\n",
       "      <td>&lt;git&gt;&lt;github&gt;&lt;github-api&gt;&lt;git-pull&gt;&lt;personal-a...</td>\n",
       "    </tr>\n",
       "    <tr>\n",
       "      <th>1</th>\n",
       "      <td>How can I deal with this Git warning? \"Pulling...</td>\n",
       "      <td>&lt;p&gt;After a &lt;code&gt;git pull origin master&lt;/code&gt;...</td>\n",
       "      <td>&lt;git&gt;</td>\n",
       "    </tr>\n",
       "    <tr>\n",
       "      <th>2</th>\n",
       "      <td>Xcode building for iOS Simulator, but linking ...</td>\n",
       "      <td>&lt;p&gt;I am trying to get a large (and working on ...</td>\n",
       "      <td>&lt;ios&gt;&lt;xcode&gt;&lt;xcode12&gt;&lt;xcode12beta5&gt;&lt;xcode12beta6&gt;</td>\n",
       "    </tr>\n",
       "    <tr>\n",
       "      <th>3</th>\n",
       "      <td>Error message \"error:0308010C:digital envelope...</td>\n",
       "      <td>&lt;p&gt;I created the default IntelliJ IDEA React p...</td>\n",
       "      <td>&lt;node.js&gt;&lt;reactjs&gt;&lt;webpack&gt;&lt;webstorm&gt;</td>\n",
       "    </tr>\n",
       "    <tr>\n",
       "      <th>4</th>\n",
       "      <td>Attempted import error: 'Switch' is not export...</td>\n",
       "      <td>&lt;p&gt;I don't know why I am getting this error an...</td>\n",
       "      <td>&lt;reactjs&gt;</td>\n",
       "    </tr>\n",
       "    <tr>\n",
       "      <th>5</th>\n",
       "      <td>Unable to resolve dependency tree error when i...</td>\n",
       "      <td>&lt;p&gt;When trying to install the npm packages usi...</td>\n",
       "      <td>&lt;angularjs&gt;&lt;angular&gt;&lt;typescript&gt;&lt;npm&gt;&lt;angular9&gt;</td>\n",
       "    </tr>\n",
       "    <tr>\n",
       "      <th>6</th>\n",
       "      <td>Android Studio error \"Installed Build Tools re...</td>\n",
       "      <td>&lt;p&gt;I'm on Android Studio 4.2.2. I created a ne...</td>\n",
       "      <td>&lt;android&gt;&lt;android-studio&gt;&lt;android-emulator&gt;&lt;an...</td>\n",
       "    </tr>\n",
       "    <tr>\n",
       "      <th>7</th>\n",
       "      <td>No Firebase App '[DEFAULT]' has been created -...</td>\n",
       "      <td>&lt;p&gt;I am building a Flutter application and I h...</td>\n",
       "      <td>&lt;firebase&gt;&lt;flutter&gt;&lt;android-studio&gt;&lt;dart&gt;&lt;goog...</td>\n",
       "    </tr>\n",
       "    <tr>\n",
       "      <th>8</th>\n",
       "      <td>OnActivityResult method is deprecated, what is...</td>\n",
       "      <td>&lt;p&gt;I recently discovered that &lt;code&gt;onActivity...</td>\n",
       "      <td>&lt;android&gt;&lt;android-fragments&gt;&lt;android-activity&gt;...</td>\n",
       "    </tr>\n",
       "    <tr>\n",
       "      <th>9</th>\n",
       "      <td>`npm install` fails on node-gyp rebuild with `...</td>\n",
       "      <td>&lt;p&gt;Every time I try &lt;code&gt;npm install&lt;/code&gt;. ...</td>\n",
       "      <td>&lt;node.js&gt;&lt;npm&gt;&lt;terminal&gt;&lt;macos-catalina&gt;&lt;node-...</td>\n",
       "    </tr>\n",
       "  </tbody>\n",
       "</table>\n",
       "</div>"
      ],
      "text/plain": [
       "                                               Title  \\\n",
       "0  Support for password authentication was remove...   \n",
       "1  How can I deal with this Git warning? \"Pulling...   \n",
       "2  Xcode building for iOS Simulator, but linking ...   \n",
       "3  Error message \"error:0308010C:digital envelope...   \n",
       "4  Attempted import error: 'Switch' is not export...   \n",
       "5  Unable to resolve dependency tree error when i...   \n",
       "6  Android Studio error \"Installed Build Tools re...   \n",
       "7  No Firebase App '[DEFAULT]' has been created -...   \n",
       "8  OnActivityResult method is deprecated, what is...   \n",
       "9  `npm install` fails on node-gyp rebuild with `...   \n",
       "\n",
       "                                                Body  \\\n",
       "0  <p>I got this error on my console when I tried...   \n",
       "1  <p>After a <code>git pull origin master</code>...   \n",
       "2  <p>I am trying to get a large (and working on ...   \n",
       "3  <p>I created the default IntelliJ IDEA React p...   \n",
       "4  <p>I don't know why I am getting this error an...   \n",
       "5  <p>When trying to install the npm packages usi...   \n",
       "6  <p>I'm on Android Studio 4.2.2. I created a ne...   \n",
       "7  <p>I am building a Flutter application and I h...   \n",
       "8  <p>I recently discovered that <code>onActivity...   \n",
       "9  <p>Every time I try <code>npm install</code>. ...   \n",
       "\n",
       "                                                Tags  \n",
       "0  <git><github><github-api><git-pull><personal-a...  \n",
       "1                                              <git>  \n",
       "2  <ios><xcode><xcode12><xcode12beta5><xcode12beta6>  \n",
       "3              <node.js><reactjs><webpack><webstorm>  \n",
       "4                                          <reactjs>  \n",
       "5    <angularjs><angular><typescript><npm><angular9>  \n",
       "6  <android><android-studio><android-emulator><an...  \n",
       "7  <firebase><flutter><android-studio><dart><goog...  \n",
       "8  <android><android-fragments><android-activity>...  \n",
       "9  <node.js><npm><terminal><macos-catalina><node-...  "
      ]
     },
     "execution_count": 1,
     "metadata": {},
     "output_type": "execute_result"
    }
   ],
   "source": [
    "import pandas as pd\n",
    "import numpy as np\n",
    "import IPython.display\n",
    "\n",
    "data = pd.read_csv('./data/filtered_data.csv', usecols=['Id','Title', 'Body', 'Tags'], index_col='Id')\n",
    "data.reset_index(inplace=True)\n",
    "data.drop(columns='Id', inplace=True)\n",
    "data.head(10)"
   ]
  },
  {
   "cell_type": "markdown",
   "id": "continuing-affiliate",
   "metadata": {},
   "source": [
    "## Pré-traitement"
   ]
  },
  {
   "cell_type": "markdown",
   "id": "cultural-supplier",
   "metadata": {},
   "source": [
    "### Constitution du corpus "
   ]
  },
  {
   "cell_type": "markdown",
   "id": "applicable-mayor",
   "metadata": {},
   "source": [
    "Nous commençons par créer une nouvelle variable associant le titre (Title) et le corps du texte (Body)"
   ]
  },
  {
   "cell_type": "code",
   "execution_count": 2,
   "id": "timely-cooperative",
   "metadata": {},
   "outputs": [
    {
     "name": "stdout",
     "output_type": "stream",
     "text": [
      "Dix première observations\n"
     ]
    },
    {
     "data": {
      "text/html": [
       "<div>\n",
       "<style scoped>\n",
       "    .dataframe tbody tr th:only-of-type {\n",
       "        vertical-align: middle;\n",
       "    }\n",
       "\n",
       "    .dataframe tbody tr th {\n",
       "        vertical-align: top;\n",
       "    }\n",
       "\n",
       "    .dataframe thead th {\n",
       "        text-align: right;\n",
       "    }\n",
       "</style>\n",
       "<table border=\"1\" class=\"dataframe\">\n",
       "  <thead>\n",
       "    <tr style=\"text-align: right;\">\n",
       "      <th></th>\n",
       "      <th>Title</th>\n",
       "      <th>Body</th>\n",
       "      <th>Tags</th>\n",
       "      <th>Post</th>\n",
       "    </tr>\n",
       "  </thead>\n",
       "  <tbody>\n",
       "    <tr>\n",
       "      <th>0</th>\n",
       "      <td>Support for password authentication was remove...</td>\n",
       "      <td>&lt;p&gt;I got this error on my console when I tried...</td>\n",
       "      <td>&lt;git&gt;&lt;github&gt;&lt;github-api&gt;&lt;git-pull&gt;&lt;personal-a...</td>\n",
       "      <td>Support for password authentication was remove...</td>\n",
       "    </tr>\n",
       "    <tr>\n",
       "      <th>1</th>\n",
       "      <td>How can I deal with this Git warning? \"Pulling...</td>\n",
       "      <td>&lt;p&gt;After a &lt;code&gt;git pull origin master&lt;/code&gt;...</td>\n",
       "      <td>&lt;git&gt;</td>\n",
       "      <td>How can I deal with this Git warning? \"Pulling...</td>\n",
       "    </tr>\n",
       "    <tr>\n",
       "      <th>2</th>\n",
       "      <td>Xcode building for iOS Simulator, but linking ...</td>\n",
       "      <td>&lt;p&gt;I am trying to get a large (and working on ...</td>\n",
       "      <td>&lt;ios&gt;&lt;xcode&gt;&lt;xcode12&gt;&lt;xcode12beta5&gt;&lt;xcode12beta6&gt;</td>\n",
       "      <td>Xcode building for iOS Simulator, but linking ...</td>\n",
       "    </tr>\n",
       "    <tr>\n",
       "      <th>3</th>\n",
       "      <td>Error message \"error:0308010C:digital envelope...</td>\n",
       "      <td>&lt;p&gt;I created the default IntelliJ IDEA React p...</td>\n",
       "      <td>&lt;node.js&gt;&lt;reactjs&gt;&lt;webpack&gt;&lt;webstorm&gt;</td>\n",
       "      <td>Error message \"error:0308010C:digital envelope...</td>\n",
       "    </tr>\n",
       "    <tr>\n",
       "      <th>4</th>\n",
       "      <td>Attempted import error: 'Switch' is not export...</td>\n",
       "      <td>&lt;p&gt;I don't know why I am getting this error an...</td>\n",
       "      <td>&lt;reactjs&gt;</td>\n",
       "      <td>Attempted import error: 'Switch' is not export...</td>\n",
       "    </tr>\n",
       "    <tr>\n",
       "      <th>5</th>\n",
       "      <td>Unable to resolve dependency tree error when i...</td>\n",
       "      <td>&lt;p&gt;When trying to install the npm packages usi...</td>\n",
       "      <td>&lt;angularjs&gt;&lt;angular&gt;&lt;typescript&gt;&lt;npm&gt;&lt;angular9&gt;</td>\n",
       "      <td>Unable to resolve dependency tree error when i...</td>\n",
       "    </tr>\n",
       "    <tr>\n",
       "      <th>6</th>\n",
       "      <td>Android Studio error \"Installed Build Tools re...</td>\n",
       "      <td>&lt;p&gt;I'm on Android Studio 4.2.2. I created a ne...</td>\n",
       "      <td>&lt;android&gt;&lt;android-studio&gt;&lt;android-emulator&gt;&lt;an...</td>\n",
       "      <td>Android Studio error \"Installed Build Tools re...</td>\n",
       "    </tr>\n",
       "    <tr>\n",
       "      <th>7</th>\n",
       "      <td>No Firebase App '[DEFAULT]' has been created -...</td>\n",
       "      <td>&lt;p&gt;I am building a Flutter application and I h...</td>\n",
       "      <td>&lt;firebase&gt;&lt;flutter&gt;&lt;android-studio&gt;&lt;dart&gt;&lt;goog...</td>\n",
       "      <td>No Firebase App '[DEFAULT]' has been created -...</td>\n",
       "    </tr>\n",
       "    <tr>\n",
       "      <th>8</th>\n",
       "      <td>OnActivityResult method is deprecated, what is...</td>\n",
       "      <td>&lt;p&gt;I recently discovered that &lt;code&gt;onActivity...</td>\n",
       "      <td>&lt;android&gt;&lt;android-fragments&gt;&lt;android-activity&gt;...</td>\n",
       "      <td>OnActivityResult method is deprecated, what is...</td>\n",
       "    </tr>\n",
       "    <tr>\n",
       "      <th>9</th>\n",
       "      <td>`npm install` fails on node-gyp rebuild with `...</td>\n",
       "      <td>&lt;p&gt;Every time I try &lt;code&gt;npm install&lt;/code&gt;. ...</td>\n",
       "      <td>&lt;node.js&gt;&lt;npm&gt;&lt;terminal&gt;&lt;macos-catalina&gt;&lt;node-...</td>\n",
       "      <td>`npm install` fails on node-gyp rebuild with `...</td>\n",
       "    </tr>\n",
       "  </tbody>\n",
       "</table>\n",
       "</div>"
      ],
      "text/plain": [
       "                                               Title  \\\n",
       "0  Support for password authentication was remove...   \n",
       "1  How can I deal with this Git warning? \"Pulling...   \n",
       "2  Xcode building for iOS Simulator, but linking ...   \n",
       "3  Error message \"error:0308010C:digital envelope...   \n",
       "4  Attempted import error: 'Switch' is not export...   \n",
       "5  Unable to resolve dependency tree error when i...   \n",
       "6  Android Studio error \"Installed Build Tools re...   \n",
       "7  No Firebase App '[DEFAULT]' has been created -...   \n",
       "8  OnActivityResult method is deprecated, what is...   \n",
       "9  `npm install` fails on node-gyp rebuild with `...   \n",
       "\n",
       "                                                Body  \\\n",
       "0  <p>I got this error on my console when I tried...   \n",
       "1  <p>After a <code>git pull origin master</code>...   \n",
       "2  <p>I am trying to get a large (and working on ...   \n",
       "3  <p>I created the default IntelliJ IDEA React p...   \n",
       "4  <p>I don't know why I am getting this error an...   \n",
       "5  <p>When trying to install the npm packages usi...   \n",
       "6  <p>I'm on Android Studio 4.2.2. I created a ne...   \n",
       "7  <p>I am building a Flutter application and I h...   \n",
       "8  <p>I recently discovered that <code>onActivity...   \n",
       "9  <p>Every time I try <code>npm install</code>. ...   \n",
       "\n",
       "                                                Tags  \\\n",
       "0  <git><github><github-api><git-pull><personal-a...   \n",
       "1                                              <git>   \n",
       "2  <ios><xcode><xcode12><xcode12beta5><xcode12beta6>   \n",
       "3              <node.js><reactjs><webpack><webstorm>   \n",
       "4                                          <reactjs>   \n",
       "5    <angularjs><angular><typescript><npm><angular9>   \n",
       "6  <android><android-studio><android-emulator><an...   \n",
       "7  <firebase><flutter><android-studio><dart><goog...   \n",
       "8  <android><android-fragments><android-activity>...   \n",
       "9  <node.js><npm><terminal><macos-catalina><node-...   \n",
       "\n",
       "                                                Post  \n",
       "0  Support for password authentication was remove...  \n",
       "1  How can I deal with this Git warning? \"Pulling...  \n",
       "2  Xcode building for iOS Simulator, but linking ...  \n",
       "3  Error message \"error:0308010C:digital envelope...  \n",
       "4  Attempted import error: 'Switch' is not export...  \n",
       "5  Unable to resolve dependency tree error when i...  \n",
       "6  Android Studio error \"Installed Build Tools re...  \n",
       "7  No Firebase App '[DEFAULT]' has been created -...  \n",
       "8  OnActivityResult method is deprecated, what is...  \n",
       "9  `npm install` fails on node-gyp rebuild with `...  "
      ]
     },
     "metadata": {},
     "output_type": "display_data"
    },
    {
     "name": "stdout",
     "output_type": "stream",
     "text": [
      "Premier élément de la liste corpus\n",
      "\n"
     ]
    },
    {
     "data": {
      "text/plain": [
       "'Support for password authentication was removed. Please use a personal access token instead <p>I got this error on my console when I tried to use <code>git pull</code>:</p>\\n<blockquote>\\n<p>remote: Support for password authentication was removed on August 13, 2021. Please use a personal access token instead.<br />\\nremote: Please see <a href=\"https://github.blog/2020-12-15-token-authentication-requirements-for-git-operations/\" rel=\"noreferrer\">https://github.blog/2020-12-15-token-authentication-requirements-for-git-operations/</a> for more information.<br />\\nfatal: unable to access &quot;...&quot; : The requested URL returned error: 403</p>\\n</blockquote>\\n<p>It\\'s very weird, because I just followed the documentation and created a token two weeks ago on GitHub. The token expires on Tue, Oct 26, 2021. Why has this been removed today?</p>\\n'"
      ]
     },
     "metadata": {},
     "output_type": "display_data"
    },
    {
     "name": "stdout",
     "output_type": "stream",
     "text": [
      "\n",
      "\n",
      "Premier éléments de la liste tags\n",
      "\n"
     ]
    },
    {
     "data": {
      "text/plain": [
       "'<git><github><github-api><git-pull><personal-access-token>'"
      ]
     },
     "metadata": {},
     "output_type": "display_data"
    },
    {
     "name": "stdout",
     "output_type": "stream",
     "text": [
      "Occurences dans le corpus: 18821\n",
      "Occurences dans les tags: 18821\n",
      "CPU times: total: 719 ms\n",
      "Wall time: 730 ms\n"
     ]
    }
   ],
   "source": [
    "%%time\n",
    "data['Post'] = data.apply(lambda x: x['Title'] + ' ' + x['Body'] if x['Title'] == x['Title'] else x['Body'], axis=1)\n",
    "corpus = data['Post'].to_list()\n",
    "tags = data['Tags'].to_list()\n",
    "\n",
    "print(\"Dix première observations\")\n",
    "display(data.head(10))\n",
    "\n",
    "print(\"Premier élément de la liste corpus\\n\")\n",
    "display(corpus[0])\n",
    "print(\"\\n\")\n",
    "\n",
    "print(\"Premier éléments de la liste tags\\n\")\n",
    "display(tags[0])\n",
    "\n",
    "print(f\"Occurences dans le corpus: {len(corpus)}\")\n",
    "print(f\"Occurences dans les tags: {len(tags)}\")"
   ]
  },
  {
   "cell_type": "markdown",
   "id": "accessory-rebound",
   "metadata": {},
   "source": [
    "### Nettoyage HTML"
   ]
  },
  {
   "cell_type": "markdown",
   "id": "utility-consistency",
   "metadata": {},
   "source": [
    "Nous constatons que les contenus importés comportent un nombre importante de balise HTML. Nous créeons une fonction afin de les retirer."
   ]
  },
  {
   "cell_type": "code",
   "execution_count": 3,
   "id": "wired-depth",
   "metadata": {},
   "outputs": [
    {
     "name": "stdout",
     "output_type": "stream",
     "text": [
      "Premier élément de la liste corpus sans html\n",
      "\n"
     ]
    },
    {
     "data": {
      "text/plain": [
       "'Support for password authentication was removed. Please use a personal access token instead I got this error on my console when I tried to use git pull : remote: Support for password authentication was removed on August 13, 2021. Please use a personal access token instead. remote: Please see https://github.blog/2020-12-15-token-authentication-requirements-for-git-operations/ for more information. fatal: unable to access \"...\" : The requested URL returned error: 403 It\\'s very weird, because I just followed the documentation and created a token two weeks ago on GitHub. The token expires on Tue, Oct 26, 2021. Why has this been removed today?'"
      ]
     },
     "metadata": {},
     "output_type": "display_data"
    },
    {
     "name": "stdout",
     "output_type": "stream",
     "text": [
      "\n",
      "\n",
      "Occurences dans le corpus: 18821\n",
      "CPU times: total: 1min 24s\n",
      "Wall time: 1min 24s\n"
     ]
    }
   ],
   "source": [
    "%%time\n",
    "\n",
    "def clean_html(text):\n",
    "    \"\"\"\n",
    "    Remove HTML from a text.\n",
    "    \n",
    "    Args:\n",
    "        text(String): Row text with html \n",
    "             \n",
    "    Returns:\n",
    "        cleaned String\n",
    "    \"\"\"\n",
    "    import lxml\n",
    "    import html5lib\n",
    "    from bs4 import BeautifulSoup\n",
    " \n",
    "    soup = BeautifulSoup(text, \"html5lib\")\n",
    "\n",
    "    for sent in soup(['style', 'script']):\n",
    "            sent.decompose()\n",
    "   \n",
    "        \n",
    "    return ' '.join(soup.stripped_strings)\n",
    "\n",
    "corpus_wo_html = [clean_html(text) for text in corpus]\n",
    "\n",
    "print(\"Premier élément de la liste corpus sans html\\n\")\n",
    "display(corpus_wo_html[0])\n",
    "print(\"\\n\")\n",
    "\n",
    "print(f\"Occurences dans le corpus: {len(corpus_wo_html)}\")"
   ]
  },
  {
   "cell_type": "markdown",
   "id": "direct-savannah",
   "metadata": {},
   "source": [
    "### Nettoyage du texte"
   ]
  },
  {
   "cell_type": "markdown",
   "id": "demographic-seating",
   "metadata": {},
   "source": [
    "Pour les besoin des traitemment futurs et entrainements des modèles, nous avons besoins de passer les textes en minuscule. Nous en profitons pour ne conserver que les caractères alphabétiques et ne garder que les termes de plus de trois lettres. Le filtrage sur la taille des termes permet de retirer ceux qui sont générique liés au code (if, for …). Il  reste toutefois perfectible puisqu’il élimine les occurrences de certains langages (C, C++, C#, R… ). "
   ]
  },
  {
   "cell_type": "code",
   "execution_count": 4,
   "id": "compliant-wayne",
   "metadata": {},
   "outputs": [
    {
     "name": "stdout",
     "output_type": "stream",
     "text": [
      "Premier élément de la liste cleaned_corpus\n",
      "\n"
     ]
    },
    {
     "data": {
      "text/plain": [
       "'support password authentication removed please personal access token instead this error console when tried pull remote support password authentication removed august please personal access token instead remote please https github blog token authentication requirements operations more information fatal unable access requested returned error very weird because just followed documentation created token weeks github token expires this been removed today'"
      ]
     },
     "metadata": {},
     "output_type": "display_data"
    },
    {
     "name": "stdout",
     "output_type": "stream",
     "text": [
      "\n",
      "\n",
      "Premier élément de la liste cleaned_tags\n",
      "\n"
     ]
    },
    {
     "data": {
      "text/plain": [
       "'github github pull personal access token'"
      ]
     },
     "metadata": {},
     "output_type": "display_data"
    },
    {
     "name": "stdout",
     "output_type": "stream",
     "text": [
      "\n",
      "\n",
      "Occurences dans le corpus nettoyé: 18821\n",
      "Occurences dans les tags nettoyés: 18821\n",
      "CPU times: total: 9.08 s\n",
      "Wall time: 9.11 s\n"
     ]
    }
   ],
   "source": [
    "%%time\n",
    "\n",
    "def text_cleaning(text):\n",
    "    \"\"\"\n",
    "    Remove figures, punctuation, words shorter than two letters (excepted C or R) in a lowered text. \n",
    "    \n",
    "    Args:\n",
    "        text(String): Row text to clean\n",
    "        \n",
    "    Returns:\n",
    "       res(string): Cleaned text\n",
    "    \"\"\"\n",
    "    import re\n",
    "    \n",
    "    pattern = re.compile(r'[^\\w]|[\\d_]')\n",
    "    \n",
    "    try: \n",
    "        res = re.sub(pattern,\" \", text).lower()\n",
    "    except TypeError:\n",
    "        return text\n",
    "    \n",
    "    res = res.split(\" \")\n",
    "    res = list(filter(lambda x: len(x)>3 , res))\n",
    "    res = \" \".join(res)\n",
    "    return res\n",
    "\n",
    "cleaned_corpus = [text_cleaning(text) for text in corpus_wo_html]\n",
    "cleaned_tags = [text_cleaning(text).strip() for text in tags]\n",
    "\n",
    "\n",
    "print(\"Premier élément de la liste cleaned_corpus\\n\")\n",
    "display(cleaned_corpus[0])\n",
    "print(\"\\n\")\n",
    "\n",
    "print(\"Premier élément de la liste cleaned_tags\\n\")\n",
    "display(cleaned_tags[0])\n",
    "print(\"\\n\")\n",
    "\n",
    "print(f\"Occurences dans le corpus nettoyé: {len(cleaned_corpus)}\")\n",
    "print(f\"Occurences dans les tags nettoyés: {len(cleaned_tags)}\")"
   ]
  },
  {
   "cell_type": "markdown",
   "id": "primary-naples",
   "metadata": {},
   "source": [
    "### Tokenization"
   ]
  },
  {
   "cell_type": "markdown",
   "id": "boxed-aircraft",
   "metadata": {},
   "source": [
    "La tokenisation permet de transformer les textes passés en entrée en liste de termes distincts (token).  Pendant le traitement les termes génériques (stop words) ne sont pas conservés dans la liste des tokens."
   ]
  },
  {
   "cell_type": "code",
   "execution_count": 5,
   "id": "moral-closure",
   "metadata": {},
   "outputs": [
    {
     "name": "stdout",
     "output_type": "stream",
     "text": [
      "Premier élément de la liste tokenized_corpus\n",
      "\n"
     ]
    },
    {
     "data": {
      "text/plain": [
       "['support',\n",
       " 'password',\n",
       " 'authentication',\n",
       " 'removed',\n",
       " 'please',\n",
       " 'personal',\n",
       " 'access',\n",
       " 'token',\n",
       " 'instead',\n",
       " 'error',\n",
       " 'console',\n",
       " 'tried',\n",
       " 'pull',\n",
       " 'remote',\n",
       " 'support',\n",
       " 'password',\n",
       " 'authentication',\n",
       " 'removed',\n",
       " 'august',\n",
       " 'please',\n",
       " 'personal',\n",
       " 'access',\n",
       " 'token',\n",
       " 'instead',\n",
       " 'remote',\n",
       " 'please',\n",
       " 'https',\n",
       " 'github',\n",
       " 'blog',\n",
       " 'token',\n",
       " 'authentication',\n",
       " 'requirements',\n",
       " 'operations',\n",
       " 'information',\n",
       " 'fatal',\n",
       " 'unable',\n",
       " 'access',\n",
       " 'requested',\n",
       " 'returned',\n",
       " 'error',\n",
       " 'weird',\n",
       " 'followed',\n",
       " 'documentation',\n",
       " 'created',\n",
       " 'token',\n",
       " 'weeks',\n",
       " 'github',\n",
       " 'token',\n",
       " 'expires',\n",
       " 'removed',\n",
       " 'today']"
      ]
     },
     "metadata": {},
     "output_type": "display_data"
    },
    {
     "name": "stdout",
     "output_type": "stream",
     "text": [
      "\n",
      "\n",
      "Longueur du premier éléments de liste tokenized_corpus: 51\n",
      "\n",
      "\n",
      "Premier élément de la liste tokenized_tags\n",
      "\n"
     ]
    },
    {
     "data": {
      "text/plain": [
       "['github', 'github', 'pull', 'personal', 'access', 'token']"
      ]
     },
     "metadata": {},
     "output_type": "display_data"
    },
    {
     "name": "stdout",
     "output_type": "stream",
     "text": [
      "\n",
      "\n",
      "Occurences dans le corpus tokenizé: 18821\n",
      "Occurences dans la liste des tags: 18821\n",
      "CPU times: total: 48.2 s\n",
      "Wall time: 48.5 s\n"
     ]
    }
   ],
   "source": [
    "%%time\n",
    "def tokenize(text):\n",
    "    \"\"\"\n",
    "    Tokenize words of a text.\n",
    "    \n",
    "    Args:\n",
    "    \n",
    "        text(String): Row text\n",
    "        \n",
    "    Returns\n",
    "    \n",
    "        res(list): Tokenized string.\n",
    "    \"\"\"\n",
    "    \n",
    "    from nltk.corpus import stopwords\n",
    "    from nltk import word_tokenize\n",
    "    from nltk.tokenize import sent_tokenize\n",
    "\n",
    "    stop_words = set(stopwords.words('english'))\n",
    "    \n",
    "    try:\n",
    "        res = word_tokenize(text, language='english')\n",
    "    except TypeError:\n",
    "        return text\n",
    "    \n",
    "    res = [token for token in res if token not in stop_words]\n",
    "    return res\n",
    "\n",
    "tokenized_corpus = [tokenize(text) for text in cleaned_corpus]\n",
    "tokenized_tags = [tokenize(text) for text in cleaned_tags]\n",
    "\n",
    "print(\"Premier élément de la liste tokenized_corpus\\n\")\n",
    "display(tokenized_corpus[0])\n",
    "print(\"\\n\")\n",
    "print(f\"Longueur du premier éléments de liste tokenized_corpus: {len(tokenized_corpus[0])}\")\n",
    "print(\"\\n\")\n",
    "\n",
    "print(\"Premier élément de la liste tokenized_tags\\n\")\n",
    "display(tokenized_tags[0])\n",
    "print('\\n')\n",
    "\n",
    "\n",
    "print(f\"Occurences dans le corpus tokenizé: {len(tokenized_corpus)}\")\n",
    "print(f\"Occurences dans la liste des tags: {len(tokenized_tags)}\")"
   ]
  },
  {
   "cell_type": "markdown",
   "id": "adapted-electricity",
   "metadata": {},
   "source": [
    "NLTK propose des listes de stop words génériques. Nous attirons  l’attention sur le fait que le corpus utilisé pour les travaux est de nature spécifique. En effet les posts contiennent souvent du code, des messages d’erreur de compilateurs / interpréteurs ou des logs alors qu’aucune liste de stop words mis à disposition ne porte sur le thématique. Le risque est de laisser passer des termes génériques vis-à-vis du contexte étudié. Sans allouer un important temps de travail il s’avère difficile de construire une liste de stop words spécifique exhaustive. "
   ]
  },
  {
   "cell_type": "markdown",
   "id": "honey-basement",
   "metadata": {},
   "source": [
    "### Filtrage des noms à l'aide d'un modèle de POS tagging"
   ]
  },
  {
   "cell_type": "markdown",
   "id": "unusual-meter",
   "metadata": {},
   "source": [
    "Lors de pré-traitement des posts nous cherchons avant tout à identifier à termes liés à des technologies utilisées. Ces dernières sont généralement des noms. Afin de mettre en œuvre le filtrage nous utilisons un modèle de POS. Ce dernier se base sur des chaînes de Markov . Leur principe est d’identifier la probabilité  la plus forte de la fonction grammaticale d’un terme par rapport :\n",
    "- la fonction grammaticale du terme précédent \n",
    "- A la probabilité la plus forte de l’association entre le terme et une fonction grammaticale particulière\n"
   ]
  },
  {
   "cell_type": "code",
   "execution_count": 6,
   "id": "abstract-settlement",
   "metadata": {},
   "outputs": [
    {
     "name": "stdout",
     "output_type": "stream",
     "text": [
      "Premier élément de la liste noun_corpus\n",
      "\n"
     ]
    },
    {
     "data": {
      "text/plain": [
       "['support',\n",
       " 'password',\n",
       " 'authentication',\n",
       " 'access',\n",
       " 'console',\n",
       " 'support',\n",
       " 'password',\n",
       " 'authentication',\n",
       " 'please',\n",
       " 'access',\n",
       " 'please',\n",
       " 'https',\n",
       " 'github',\n",
       " 'blog',\n",
       " 'authentication',\n",
       " 'information',\n",
       " 'fatal',\n",
       " 'access',\n",
       " 'documentation',\n",
       " 'today']"
      ]
     },
     "metadata": {},
     "output_type": "display_data"
    },
    {
     "name": "stdout",
     "output_type": "stream",
     "text": [
      "\n",
      "\n",
      "Longueur du premier éléments de liste noun_corpus: 20\n",
      "\n",
      "\n",
      "Occurences dans le corpus tokenizé: 18821\n",
      "CPU times: total: 5min 8s\n",
      "Wall time: 5min 9s\n"
     ]
    }
   ],
   "source": [
    "%%time \n",
    "def filtering_nouns(tokens):\n",
    "    \"\"\"\n",
    "    Filter singular nouns\n",
    "    \n",
    "    Args:\n",
    "        tokens(list): A list o tokens\n",
    "        \n",
    "    \n",
    "    Returns:\n",
    "    \n",
    "        res(list): Filtered token list\n",
    "    \"\"\" \n",
    "    \n",
    "    import nltk\n",
    "    \n",
    "    res = nltk.pos_tag(tokens)\n",
    "    \n",
    "    res = [token[0] for token in res if token[1] == 'NN']\n",
    "    \n",
    "    return res\n",
    "\n",
    "noun_corpus = [filtering_nouns(tokens) for tokens in tokenized_corpus]\n",
    "\n",
    "print(\"Premier élément de la liste noun_corpus\\n\")\n",
    "display(noun_corpus[0])\n",
    "print(\"\\n\")\n",
    "\n",
    "print(f\"Longueur du premier éléments de liste noun_corpus: {len(noun_corpus[0])}\")\n",
    "print(\"\\n\")\n",
    "\n",
    "\n",
    "print(f\"Occurences dans le corpus tokenizé: {len(noun_corpus)}\")"
   ]
  },
  {
   "cell_type": "markdown",
   "id": "sorted-bangladesh",
   "metadata": {},
   "source": [
    "Nous attirons une nouvelle fois l’attention sur le fait que le corpus utilisé pour les travaux est de nature spécifique. Aucun corpus mis à disposition par NLTK ne couvre le domaine étudié. Le risque est que certaines technologies, dont la dénomination ne découle pas d’un nom commun, ne soient pas retenues par  le filtre."
   ]
  },
  {
   "cell_type": "markdown",
   "id": "color-bargain",
   "metadata": {},
   "source": [
    "### Lemmatisation"
   ]
  },
  {
   "cell_type": "markdown",
   "id": "yellow-causing",
   "metadata": {},
   "source": [
    "Afin d’éviter d’utiliser de multiples déclinaisons d’un même terme (conjugaisons, féminin, pluriel …). Les deux méthodes les couramment utilisées sont le stemming et la lemmatisation. Elles consistent toutes deux à dédupliquer les déclinaisons de termes en ne conservant que leur racine. Le stemming procède par troncature simple. De manière générale cette méthode peut poser un problème car plusieurs mots termes sémantiquement différents peuvent avoir la même racine (stem). La lemmatisation  consiste à identifier la racine sémantique (lemme) d’un terme référencé dans un corpus ou un dictionnaire d’une langue. Cette méthode évite, a priori, l’écueil de diminuer le nombre de termes ayant un stem identique mais des lemmes différents. Nous retenons donc la lemmatisation.  Par contre une fois encore nous sommes confrontés à la généricité des outils mis à disposition par NLTK. A titre d’exemple, “keras” (Framework de deep learning) devient “kera” une fois lemmatisé."
   ]
  },
  {
   "cell_type": "code",
   "execution_count": 7,
   "id": "loved-improvement",
   "metadata": {},
   "outputs": [
    {
     "name": "stdout",
     "output_type": "stream",
     "text": [
      "Premier élément de la liste lemmatized_corpus\n",
      "\n"
     ]
    },
    {
     "data": {
      "text/plain": [
       "['support',\n",
       " 'password',\n",
       " 'authentication',\n",
       " 'access',\n",
       " 'console',\n",
       " 'support',\n",
       " 'password',\n",
       " 'authentication',\n",
       " 'please',\n",
       " 'access',\n",
       " 'please',\n",
       " 'http',\n",
       " 'github',\n",
       " 'blog',\n",
       " 'authentication',\n",
       " 'information',\n",
       " 'fatal',\n",
       " 'access',\n",
       " 'documentation',\n",
       " 'today']"
      ]
     },
     "metadata": {},
     "output_type": "display_data"
    },
    {
     "name": "stdout",
     "output_type": "stream",
     "text": [
      "\n",
      "\n",
      "Longueur du premier éléments de liste lemmatized_corpus: 20\n",
      "\n",
      "\n",
      "Premier élément de la liste lemmatized_tags\n",
      "\n"
     ]
    },
    {
     "data": {
      "text/plain": [
       "['github', 'github', 'pull', 'personal', 'access', 'token']"
      ]
     },
     "metadata": {},
     "output_type": "display_data"
    },
    {
     "name": "stdout",
     "output_type": "stream",
     "text": [
      "Occurences dans le corpus lemmatisé: 18821\n",
      "Occurences dans les tags lemmatisés: 18821\n",
      "CPU times: total: 13.6 s\n",
      "Wall time: 13.7 s\n"
     ]
    }
   ],
   "source": [
    "%%time\n",
    "def lemmatization(tokens):\n",
    "    \"\"\"\n",
    "    Transform tokens into lems \n",
    "    \n",
    "    Args:\n",
    "        tokens(list): List of tokens\n",
    "        \n",
    "    Returns:\n",
    "        lemmatized(list): List of lemmatized tokens\n",
    "    \"\"\"\n",
    "    import nltk\n",
    "    from nltk.stem import WordNetLemmatizer\n",
    "    \n",
    "    lemmatizer = WordNetLemmatizer()\n",
    "    lemmatized = []\n",
    "    \n",
    "    for token in tokens:\n",
    "        lemmatized.append(lemmatizer.lemmatize(token))\n",
    "        \n",
    "    return lemmatized\n",
    "\n",
    "lemmatized_corpus = [lemmatization(tokens) for tokens in noun_corpus]\n",
    "lemmatized_tags = [lemmatization(tokens) for tokens in tokenized_tags]\n",
    "\n",
    "tags_wo_blanks = []\n",
    "for tokens in lemmatized_tags:\n",
    "    tokens = [token for token in tokens if len(token)>1]\n",
    "    tags_wo_blanks.append(tokens)\n",
    "\n",
    "print(\"Premier élément de la liste lemmatized_corpus\\n\")\n",
    "display(lemmatized_corpus[0])\n",
    "print(\"\\n\")\n",
    "\n",
    "print(f\"Longueur du premier éléments de liste lemmatized_corpus: {len(lemmatized_corpus[0])}\")\n",
    "print(\"\\n\")\n",
    "\n",
    "print(\"Premier élément de la liste lemmatized_tags\\n\")\n",
    "display(tags_wo_blanks[0])\n",
    "\n",
    "\n",
    "print(f\"Occurences dans le corpus lemmatisé: {len(lemmatized_corpus)}\")\n",
    "print(f\"Occurences dans les tags lemmatisés: {len(tags_wo_blanks)}\")"
   ]
  },
  {
   "cell_type": "markdown",
   "id": "governmental-paraguay",
   "metadata": {},
   "source": [
    "### Filtrage des valeurs vides"
   ]
  },
  {
   "cell_type": "markdown",
   "id": "reliable-butter",
   "metadata": {},
   "source": [
    "Les premiers traitements on généré des docuements vides. Nous décidons de filtrer le corpus pour les éliminer."
   ]
  },
  {
   "cell_type": "code",
   "execution_count": 8,
   "id": "victorian-continent",
   "metadata": {},
   "outputs": [
    {
     "name": "stdout",
     "output_type": "stream",
     "text": [
      "Observations restante du corpus original: 18821\n",
      "observations restantes du corpus traité: 18599\n"
     ]
    },
    {
     "data": {
      "text/html": [
       "<div>\n",
       "<style scoped>\n",
       "    .dataframe tbody tr th:only-of-type {\n",
       "        vertical-align: middle;\n",
       "    }\n",
       "\n",
       "    .dataframe tbody tr th {\n",
       "        vertical-align: top;\n",
       "    }\n",
       "\n",
       "    .dataframe thead th {\n",
       "        text-align: right;\n",
       "    }\n",
       "</style>\n",
       "<table border=\"1\" class=\"dataframe\">\n",
       "  <thead>\n",
       "    <tr style=\"text-align: right;\">\n",
       "      <th></th>\n",
       "      <th>Post</th>\n",
       "      <th>splitted_text</th>\n",
       "      <th>splitted_tags</th>\n",
       "    </tr>\n",
       "  </thead>\n",
       "  <tbody>\n",
       "    <tr>\n",
       "      <th>0</th>\n",
       "      <td>Support for password authentication was remove...</td>\n",
       "      <td>[support, password, authentication, access, co...</td>\n",
       "      <td>[github, github, pull, personal, access, token]</td>\n",
       "    </tr>\n",
       "    <tr>\n",
       "      <th>2</th>\n",
       "      <td>Xcode building for iOS Simulator, but linking ...</td>\n",
       "      <td>[xcode, building, simulator, file, architectur...</td>\n",
       "      <td>[xcode, xcode, xcode, beta, xcode, beta]</td>\n",
       "    </tr>\n",
       "    <tr>\n",
       "      <th>3</th>\n",
       "      <td>Error message \"error:0308010C:digital envelope...</td>\n",
       "      <td>[error, message, error, envelope, default, int...</td>\n",
       "      <td>[node, reactjs, webpack, webstorm]</td>\n",
       "    </tr>\n",
       "    <tr>\n",
       "      <th>4</th>\n",
       "      <td>Attempted import error: 'Switch' is not export...</td>\n",
       "      <td>[import, error, switch, router, error, answer,...</td>\n",
       "      <td>[reactjs]</td>\n",
       "    </tr>\n",
       "    <tr>\n",
       "      <th>5</th>\n",
       "      <td>Unable to resolve dependency tree error when i...</td>\n",
       "      <td>[resolve, dependency, error, installing, insta...</td>\n",
       "      <td>[angularjs, angular, typescript, angular]</td>\n",
       "    </tr>\n",
       "    <tr>\n",
       "      <th>6</th>\n",
       "      <td>Android Studio error \"Installed Build Tools re...</td>\n",
       "      <td>[studio, error, revision, studio, project, any...</td>\n",
       "      <td>[android, android, studio, android, emulator, ...</td>\n",
       "    </tr>\n",
       "    <tr>\n",
       "      <th>7</th>\n",
       "      <td>No Firebase App '[DEFAULT]' has been created -...</td>\n",
       "      <td>[firebase, default, firebase, initializeapp, f...</td>\n",
       "      <td>[firebase, flutter, android, studio, dart, goo...</td>\n",
       "    </tr>\n",
       "    <tr>\n",
       "      <th>8</th>\n",
       "      <td>OnActivityResult method is deprecated, what is...</td>\n",
       "      <td>[onactivityresult, method, onactivityresult, a...</td>\n",
       "      <td>[android, android, fragment, android, activity...</td>\n",
       "    </tr>\n",
       "    <tr>\n",
       "      <th>9</th>\n",
       "      <td>`npm install` fails on node-gyp rebuild with `...</td>\n",
       "      <td>[install, version, time, install, error, versi...</td>\n",
       "      <td>[node, terminal, macos, catalina, node]</td>\n",
       "    </tr>\n",
       "    <tr>\n",
       "      <th>10</th>\n",
       "      <td>TypeError: this.getOptions is not a function &lt;...</td>\n",
       "      <td>[typeerror, error, bootstrap, error, online, n...</td>\n",
       "      <td>[webpack, sas, loader]</td>\n",
       "    </tr>\n",
       "  </tbody>\n",
       "</table>\n",
       "</div>"
      ],
      "text/plain": [
       "                                                 Post  \\\n",
       "0   Support for password authentication was remove...   \n",
       "2   Xcode building for iOS Simulator, but linking ...   \n",
       "3   Error message \"error:0308010C:digital envelope...   \n",
       "4   Attempted import error: 'Switch' is not export...   \n",
       "5   Unable to resolve dependency tree error when i...   \n",
       "6   Android Studio error \"Installed Build Tools re...   \n",
       "7   No Firebase App '[DEFAULT]' has been created -...   \n",
       "8   OnActivityResult method is deprecated, what is...   \n",
       "9   `npm install` fails on node-gyp rebuild with `...   \n",
       "10  TypeError: this.getOptions is not a function <...   \n",
       "\n",
       "                                        splitted_text  \\\n",
       "0   [support, password, authentication, access, co...   \n",
       "2   [xcode, building, simulator, file, architectur...   \n",
       "3   [error, message, error, envelope, default, int...   \n",
       "4   [import, error, switch, router, error, answer,...   \n",
       "5   [resolve, dependency, error, installing, insta...   \n",
       "6   [studio, error, revision, studio, project, any...   \n",
       "7   [firebase, default, firebase, initializeapp, f...   \n",
       "8   [onactivityresult, method, onactivityresult, a...   \n",
       "9   [install, version, time, install, error, versi...   \n",
       "10  [typeerror, error, bootstrap, error, online, n...   \n",
       "\n",
       "                                        splitted_tags  \n",
       "0     [github, github, pull, personal, access, token]  \n",
       "2            [xcode, xcode, xcode, beta, xcode, beta]  \n",
       "3                  [node, reactjs, webpack, webstorm]  \n",
       "4                                           [reactjs]  \n",
       "5           [angularjs, angular, typescript, angular]  \n",
       "6   [android, android, studio, android, emulator, ...  \n",
       "7   [firebase, flutter, android, studio, dart, goo...  \n",
       "8   [android, android, fragment, android, activity...  \n",
       "9             [node, terminal, macos, catalina, node]  \n",
       "10                             [webpack, sas, loader]  "
      ]
     },
     "execution_count": 8,
     "metadata": {},
     "output_type": "execute_result"
    }
   ],
   "source": [
    "print(f\"Observations restante du corpus original: {data.shape[0]}\")\n",
    "\n",
    "joined_corpus = [\" \".join(text) for text in lemmatized_corpus]\n",
    "corpus_df = pd.DataFrame(joined_corpus, columns=['preprocessed_text'])\n",
    "corpus_df['len_text'] = corpus_df['preprocessed_text'].apply(lambda x: len(x))\n",
    "\n",
    "joined_tags = [\" \".join(tags) for tags in tags_wo_blanks]\n",
    "tag_df = pd.DataFrame(joined_tags, columns=['preprocessed_tags'])\n",
    "tag_df['len_tags'] = tag_df['preprocessed_tags'].apply(lambda x: len(x))\n",
    "\n",
    "corpus_tag_df = pd.concat([corpus_df, tag_df], axis=1)\n",
    "\n",
    "empty_data_idx = corpus_tag_df[(corpus_tag_df['len_text']==0) | (corpus_tag_df['len_tags']==0)].index\n",
    "\n",
    "corpus_tag_df.drop(index=empty_data_idx, inplace=True)\n",
    "data.drop(index=empty_data_idx, inplace=True)\n",
    "\n",
    "print(f\"observations restantes du corpus traité: {corpus_tag_df.shape[0]}\")\n",
    "\n",
    "corpus_tag_df['splitted_text'] = corpus_tag_df['preprocessed_text'].apply(lambda x: x.split(' ') )\n",
    "corpus_tag_df['splitted_tags'] = corpus_tag_df['preprocessed_tags'].apply(lambda x: x.split(' ') )\n",
    "\n",
    "filtered_corpus = corpus_tag_df['splitted_text'].to_list()\n",
    "filtered_tags = corpus_tag_df['splitted_tags'].to_list()\n",
    "filtered_original_posts = data['Post'].to_list()\n",
    "\n",
    "filtered_tokenized_vs_original = pd.concat([data['Post'],\n",
    "                                            corpus_tag_df['splitted_text'], \n",
    "                                            corpus_tag_df['splitted_tags']],\n",
    "                                            axis=1)\n",
    "\n",
    "filtered_tokenized_vs_original.to_csv(\"./data/cleaned_corpus.csv\", index=False)\n",
    "filtered_tokenized_vs_original.to_pickle('./data/cleaned_corpus.pkl')\n",
    "\n",
    "filtered_tokenized_vs_original.head(10)"
   ]
  },
  {
   "cell_type": "markdown",
   "id": "dimensional-senator",
   "metadata": {},
   "source": [
    "### Fréquence de distribution tokens"
   ]
  },
  {
   "cell_type": "markdown",
   "id": "hybrid-fashion",
   "metadata": {},
   "source": [
    "Nous observons à présent la fréquence de distribution des tokens."
   ]
  },
  {
   "cell_type": "code",
   "execution_count": 9,
   "id": "systematic-brown",
   "metadata": {},
   "outputs": [
    {
     "name": "stdout",
     "output_type": "stream",
     "text": [
      "Nombre de tokens du corpus 65060\n",
      "Affichage des 20 tokens les plus utilisés\n"
     ]
    },
    {
     "data": {
      "text/html": [
       "<div>\n",
       "<style scoped>\n",
       "    .dataframe tbody tr th:only-of-type {\n",
       "        vertical-align: middle;\n",
       "    }\n",
       "\n",
       "    .dataframe tbody tr th {\n",
       "        vertical-align: top;\n",
       "    }\n",
       "\n",
       "    .dataframe thead th {\n",
       "        text-align: right;\n",
       "    }\n",
       "</style>\n",
       "<table border=\"1\" class=\"dataframe\">\n",
       "  <thead>\n",
       "    <tr style=\"text-align: right;\">\n",
       "      <th></th>\n",
       "      <th>Frequency</th>\n",
       "    </tr>\n",
       "    <tr>\n",
       "      <th>Word</th>\n",
       "      <th></th>\n",
       "    </tr>\n",
       "  </thead>\n",
       "  <tbody>\n",
       "    <tr>\n",
       "      <th>error</th>\n",
       "      <td>21798</td>\n",
       "    </tr>\n",
       "    <tr>\n",
       "      <th>java</th>\n",
       "      <td>18797</td>\n",
       "    </tr>\n",
       "    <tr>\n",
       "      <th>file</th>\n",
       "      <td>14427</td>\n",
       "    </tr>\n",
       "    <tr>\n",
       "      <th>import</th>\n",
       "      <td>14177</td>\n",
       "    </tr>\n",
       "    <tr>\n",
       "      <th>name</th>\n",
       "      <td>13849</td>\n",
       "    </tr>\n",
       "    <tr>\n",
       "      <th>version</th>\n",
       "      <td>12759</td>\n",
       "    </tr>\n",
       "    <tr>\n",
       "      <th>code</th>\n",
       "      <td>11539</td>\n",
       "    </tr>\n",
       "    <tr>\n",
       "      <th>http</th>\n",
       "      <td>11237</td>\n",
       "    </tr>\n",
       "    <tr>\n",
       "      <th>class</th>\n",
       "      <td>10976</td>\n",
       "    </tr>\n",
       "    <tr>\n",
       "      <th>python</th>\n",
       "      <td>8605</td>\n",
       "    </tr>\n",
       "    <tr>\n",
       "      <th>return</th>\n",
       "      <td>7962</td>\n",
       "    </tr>\n",
       "    <tr>\n",
       "      <th>value</th>\n",
       "      <td>7898</td>\n",
       "    </tr>\n",
       "    <tr>\n",
       "      <th>line</th>\n",
       "      <td>7532</td>\n",
       "    </tr>\n",
       "    <tr>\n",
       "      <th>type</th>\n",
       "      <td>7459</td>\n",
       "    </tr>\n",
       "    <tr>\n",
       "      <th>function</th>\n",
       "      <td>7322</td>\n",
       "    </tr>\n",
       "    <tr>\n",
       "      <th>core</th>\n",
       "      <td>7318</td>\n",
       "    </tr>\n",
       "    <tr>\n",
       "      <th>test</th>\n",
       "      <td>6953</td>\n",
       "    </tr>\n",
       "    <tr>\n",
       "      <th>module</th>\n",
       "      <td>6701</td>\n",
       "    </tr>\n",
       "    <tr>\n",
       "      <th>const</th>\n",
       "      <td>6526</td>\n",
       "    </tr>\n",
       "    <tr>\n",
       "      <th>project</th>\n",
       "      <td>6414</td>\n",
       "    </tr>\n",
       "  </tbody>\n",
       "</table>\n",
       "</div>"
      ],
      "text/plain": [
       "          Frequency\n",
       "Word               \n",
       "error         21798\n",
       "java          18797\n",
       "file          14427\n",
       "import        14177\n",
       "name          13849\n",
       "version       12759\n",
       "code          11539\n",
       "http          11237\n",
       "class         10976\n",
       "python         8605\n",
       "return         7962\n",
       "value          7898\n",
       "line           7532\n",
       "type           7459\n",
       "function       7322\n",
       "core           7318\n",
       "test           6953\n",
       "module         6701\n",
       "const          6526\n",
       "project        6414"
      ]
     },
     "metadata": {},
     "output_type": "display_data"
    },
    {
     "name": "stdout",
     "output_type": "stream",
     "text": [
      "CPU times: total: 1.67 s\n",
      "Wall time: 1.66 s\n"
     ]
    }
   ],
   "source": [
    "%%time\n",
    "def build_word_distribution(corpus):\n",
    "    \"\"\"\n",
    "    Build corpus word distribution\n",
    "    \n",
    "    Args:\n",
    "        Corpus(List of lists): Original corpus\n",
    "    \n",
    "    Returns:\n",
    "        \n",
    "        word_dist_df(DataFrame): Word distribution of the corpus\n",
    "    \"\"\"\n",
    "    \n",
    "    from nltk import FreqDist\n",
    "    word_corpus = [token for token_list in corpus for token in token_list]\n",
    "    word_dist = FreqDist(word_corpus)\n",
    "    word_dist_df = pd.DataFrame(word_dist.items(), columns=['Word', 'Frequency']).set_index('Word')\n",
    "    word_dist_df.sort_values(\"Frequency\", ascending=False, inplace=True)\n",
    "\n",
    "    return word_dist_df\n",
    "\n",
    "word_dist = build_word_distribution(filtered_corpus)\n",
    "\n",
    "print(f\"Nombre de tokens du corpus {word_dist.shape[0]}\")\n",
    "print(\"Affichage des 20 tokens les plus utilisés\")\n",
    "display(word_dist.head(20))"
   ]
  },
  {
   "cell_type": "markdown",
   "id": "essential-chocolate",
   "metadata": {},
   "source": [
    "Nous constatons un nombre important de termes génériques tels que : error, class, value, return ..."
   ]
  },
  {
   "cell_type": "markdown",
   "id": "quick-public",
   "metadata": {},
   "source": [
    "### Fréquence de distribution des tags"
   ]
  },
  {
   "cell_type": "markdown",
   "id": "backed-courtesy",
   "metadata": {},
   "source": [
    "Nous réalisons le même traitement sur les tags."
   ]
  },
  {
   "cell_type": "code",
   "execution_count": 10,
   "id": "latin-situation",
   "metadata": {},
   "outputs": [
    {
     "name": "stdout",
     "output_type": "stream",
     "text": [
      "Top 20 des tags les plus utilisés\n"
     ]
    },
    {
     "data": {
      "text/html": [
       "<div>\n",
       "<style scoped>\n",
       "    .dataframe tbody tr th:only-of-type {\n",
       "        vertical-align: middle;\n",
       "    }\n",
       "\n",
       "    .dataframe tbody tr th {\n",
       "        vertical-align: top;\n",
       "    }\n",
       "\n",
       "    .dataframe thead th {\n",
       "        text-align: right;\n",
       "    }\n",
       "</style>\n",
       "<table border=\"1\" class=\"dataframe\">\n",
       "  <thead>\n",
       "    <tr style=\"text-align: right;\">\n",
       "      <th></th>\n",
       "      <th>Frequency</th>\n",
       "    </tr>\n",
       "    <tr>\n",
       "      <th>Word</th>\n",
       "      <th></th>\n",
       "    </tr>\n",
       "  </thead>\n",
       "  <tbody>\n",
       "    <tr>\n",
       "      <th>python</th>\n",
       "      <td>3701</td>\n",
       "    </tr>\n",
       "    <tr>\n",
       "      <th>android</th>\n",
       "      <td>2789</td>\n",
       "    </tr>\n",
       "    <tr>\n",
       "      <th>javascript</th>\n",
       "      <td>2092</td>\n",
       "    </tr>\n",
       "    <tr>\n",
       "      <th>reactjs</th>\n",
       "      <td>1912</td>\n",
       "    </tr>\n",
       "    <tr>\n",
       "      <th>react</th>\n",
       "      <td>1531</td>\n",
       "    </tr>\n",
       "    <tr>\n",
       "      <th>flutter</th>\n",
       "      <td>1464</td>\n",
       "    </tr>\n",
       "    <tr>\n",
       "      <th>java</th>\n",
       "      <td>1225</td>\n",
       "    </tr>\n",
       "    <tr>\n",
       "      <th>studio</th>\n",
       "      <td>1108</td>\n",
       "    </tr>\n",
       "    <tr>\n",
       "      <th>docker</th>\n",
       "      <td>1025</td>\n",
       "    </tr>\n",
       "    <tr>\n",
       "      <th>node</th>\n",
       "      <td>1014</td>\n",
       "    </tr>\n",
       "    <tr>\n",
       "      <th>google</th>\n",
       "      <td>1008</td>\n",
       "    </tr>\n",
       "    <tr>\n",
       "      <th>spring</th>\n",
       "      <td>981</td>\n",
       "    </tr>\n",
       "    <tr>\n",
       "      <th>angular</th>\n",
       "      <td>913</td>\n",
       "    </tr>\n",
       "    <tr>\n",
       "      <th>core</th>\n",
       "      <td>836</td>\n",
       "    </tr>\n",
       "    <tr>\n",
       "      <th>typescript</th>\n",
       "      <td>826</td>\n",
       "    </tr>\n",
       "    <tr>\n",
       "      <th>visual</th>\n",
       "      <td>747</td>\n",
       "    </tr>\n",
       "    <tr>\n",
       "      <th>azure</th>\n",
       "      <td>710</td>\n",
       "    </tr>\n",
       "    <tr>\n",
       "      <th>amazon</th>\n",
       "      <td>695</td>\n",
       "    </tr>\n",
       "    <tr>\n",
       "      <th>native</th>\n",
       "      <td>594</td>\n",
       "    </tr>\n",
       "    <tr>\n",
       "      <th>dart</th>\n",
       "      <td>571</td>\n",
       "    </tr>\n",
       "  </tbody>\n",
       "</table>\n",
       "</div>"
      ],
      "text/plain": [
       "            Frequency\n",
       "Word                 \n",
       "python           3701\n",
       "android          2789\n",
       "javascript       2092\n",
       "reactjs          1912\n",
       "react            1531\n",
       "flutter          1464\n",
       "java             1225\n",
       "studio           1108\n",
       "docker           1025\n",
       "node             1014\n",
       "google           1008\n",
       "spring            981\n",
       "angular           913\n",
       "core              836\n",
       "typescript        826\n",
       "visual            747\n",
       "azure             710\n",
       "amazon            695\n",
       "native            594\n",
       "dart              571"
      ]
     },
     "metadata": {},
     "output_type": "display_data"
    },
    {
     "name": "stdout",
     "output_type": "stream",
     "text": [
      "Nombre de tags: 4302\n"
     ]
    }
   ],
   "source": [
    "tag_dist = build_word_distribution(filtered_tags)\n",
    "print(\"Top 20 des tags les plus utilisés\")\n",
    "display(tag_dist.head(20))\n",
    "print(f\"Nombre de tags: {len(tag_dist)}\")\n",
    "first_200_tags = tag_dist[0:200].index.to_list()"
   ]
  },
  {
   "cell_type": "markdown",
   "id": "overall-breath",
   "metadata": {},
   "source": [
    "### filtrage top 200 tags"
   ]
  },
  {
   "cell_type": "markdown",
   "id": "judicial-calvin",
   "metadata": {},
   "source": [
    "Pour les besoin des entrainements des modèles supervisés, nous avons besoin limiter le nombre de tags. Nous décidons de ne retenir que les 200 premiers.Du nous avons du à nouveau filtrer les documents qui ne sont pas liés aux 200 premiers tags."
   ]
  },
  {
   "cell_type": "code",
   "execution_count": 11,
   "id": "sorted-skating",
   "metadata": {},
   "outputs": [
    {
     "name": "stdout",
     "output_type": "stream",
     "text": [
      "Observations restantes dans le corpus original: 18599\n",
      "Observations restantes dans le coprus traité: 17517\n"
     ]
    }
   ],
   "source": [
    "print(f\"Observations restantes dans le corpus original: {data.shape[0]}\")\n",
    "filtered_corpus_tag_df = corpus_tag_df.copy()\n",
    "filtered_corpus_tag_df['tags_in_top200'] = filtered_corpus_tag_df['splitted_tags'].apply(lambda tags: [tag for tag in tags if tag in first_200_tags])\n",
    "\n",
    "filtered_corpus_tag_df['len_tags_in_top200'] = filtered_corpus_tag_df['tags_in_top200'].apply(lambda x: len(x))\n",
    "missing_filtered_data = filtered_corpus_tag_df[filtered_corpus_tag_df['len_tags_in_top200'] == 0].index\n",
    "\n",
    "filtered_corpus_tag_df.drop(index=missing_filtered_data, inplace=True)\n",
    "data.drop(index=missing_filtered_data, inplace=True)\n",
    "print(f\"Observations restantes dans le coprus traité: {filtered_corpus_tag_df.shape[0]}\")\n",
    "\n",
    "top200_corpus = filtered_corpus_tag_df['splitted_text'].to_list()\n",
    "top200_joined_corpus = filtered_corpus_tag_df['preprocessed_text'].to_list()\n",
    "top200_tags = filtered_corpus_tag_df['tags_in_top200'].to_list()"
   ]
  },
  {
   "cell_type": "markdown",
   "id": "subjective-stylus",
   "metadata": {},
   "source": [
    "### Fréquences de distribution des tokens après filtrage du top 200 tags"
   ]
  },
  {
   "cell_type": "markdown",
   "id": "decent-marijuana",
   "metadata": {},
   "source": [
    "Nous souhaitons à nouveau appréhender la distribution des tokens sur le corpus filtré."
   ]
  },
  {
   "cell_type": "code",
   "execution_count": 12,
   "id": "front-radio",
   "metadata": {},
   "outputs": [
    {
     "name": "stdout",
     "output_type": "stream",
     "text": [
      "Nombre de tokens du corpus 62025\n",
      "Affichage des 20 tokens les plus utilisés\n"
     ]
    },
    {
     "data": {
      "text/html": [
       "<div>\n",
       "<style scoped>\n",
       "    .dataframe tbody tr th:only-of-type {\n",
       "        vertical-align: middle;\n",
       "    }\n",
       "\n",
       "    .dataframe tbody tr th {\n",
       "        vertical-align: top;\n",
       "    }\n",
       "\n",
       "    .dataframe thead th {\n",
       "        text-align: right;\n",
       "    }\n",
       "</style>\n",
       "<table border=\"1\" class=\"dataframe\">\n",
       "  <thead>\n",
       "    <tr style=\"text-align: right;\">\n",
       "      <th></th>\n",
       "      <th>Frequency</th>\n",
       "    </tr>\n",
       "    <tr>\n",
       "      <th>Word</th>\n",
       "      <th></th>\n",
       "    </tr>\n",
       "  </thead>\n",
       "  <tbody>\n",
       "    <tr>\n",
       "      <th>error</th>\n",
       "      <td>20696</td>\n",
       "    </tr>\n",
       "    <tr>\n",
       "      <th>java</th>\n",
       "      <td>18354</td>\n",
       "    </tr>\n",
       "    <tr>\n",
       "      <th>import</th>\n",
       "      <td>13976</td>\n",
       "    </tr>\n",
       "    <tr>\n",
       "      <th>file</th>\n",
       "      <td>13815</td>\n",
       "    </tr>\n",
       "    <tr>\n",
       "      <th>name</th>\n",
       "      <td>13307</td>\n",
       "    </tr>\n",
       "    <tr>\n",
       "      <th>version</th>\n",
       "      <td>12101</td>\n",
       "    </tr>\n",
       "    <tr>\n",
       "      <th>code</th>\n",
       "      <td>10925</td>\n",
       "    </tr>\n",
       "    <tr>\n",
       "      <th>http</th>\n",
       "      <td>10734</td>\n",
       "    </tr>\n",
       "    <tr>\n",
       "      <th>class</th>\n",
       "      <td>10580</td>\n",
       "    </tr>\n",
       "    <tr>\n",
       "      <th>python</th>\n",
       "      <td>8489</td>\n",
       "    </tr>\n",
       "    <tr>\n",
       "      <th>value</th>\n",
       "      <td>7662</td>\n",
       "    </tr>\n",
       "    <tr>\n",
       "      <th>return</th>\n",
       "      <td>7570</td>\n",
       "    </tr>\n",
       "    <tr>\n",
       "      <th>line</th>\n",
       "      <td>7236</td>\n",
       "    </tr>\n",
       "    <tr>\n",
       "      <th>type</th>\n",
       "      <td>7123</td>\n",
       "    </tr>\n",
       "    <tr>\n",
       "      <th>core</th>\n",
       "      <td>7115</td>\n",
       "    </tr>\n",
       "    <tr>\n",
       "      <th>function</th>\n",
       "      <td>6976</td>\n",
       "    </tr>\n",
       "    <tr>\n",
       "      <th>test</th>\n",
       "      <td>6719</td>\n",
       "    </tr>\n",
       "    <tr>\n",
       "      <th>module</th>\n",
       "      <td>6540</td>\n",
       "    </tr>\n",
       "    <tr>\n",
       "      <th>const</th>\n",
       "      <td>6263</td>\n",
       "    </tr>\n",
       "    <tr>\n",
       "      <th>project</th>\n",
       "      <td>6169</td>\n",
       "    </tr>\n",
       "  </tbody>\n",
       "</table>\n",
       "</div>"
      ],
      "text/plain": [
       "          Frequency\n",
       "Word               \n",
       "error         20696\n",
       "java          18354\n",
       "import        13976\n",
       "file          13815\n",
       "name          13307\n",
       "version       12101\n",
       "code          10925\n",
       "http          10734\n",
       "class         10580\n",
       "python         8489\n",
       "value          7662\n",
       "return         7570\n",
       "line           7236\n",
       "type           7123\n",
       "core           7115\n",
       "function       6976\n",
       "test           6719\n",
       "module         6540\n",
       "const          6263\n",
       "project        6169"
      ]
     },
     "metadata": {},
     "output_type": "display_data"
    },
    {
     "name": "stdout",
     "output_type": "stream",
     "text": [
      "Nombre des tokens ayant plus de 1000 occurences sur le corpus filtré\n"
     ]
    },
    {
     "data": {
      "text/plain": [
       "239"
      ]
     },
     "execution_count": 12,
     "metadata": {},
     "output_type": "execute_result"
    }
   ],
   "source": [
    "word_dist_top200 = build_word_distribution(top200_corpus)\n",
    "print(f\"Nombre de tokens du corpus {word_dist_top200.shape[0]}\")\n",
    "print(\"Affichage des 20 tokens les plus utilisés\")\n",
    "display(word_dist_top200.head(20))\n",
    "print(\"Nombre des tokens ayant plus de 1000 occurences sur le corpus filtré\")\n",
    "word_dist_top200[word_dist_top200[\"Frequency\"]>=1000].shape[0]"
   ]
  },
  {
   "cell_type": "markdown",
   "id": "numerical-prisoner",
   "metadata": {},
   "source": [
    "Nous constaton que le filtrage par top 200 tags a changé le classement des tokens les plus représenté. De plus un filtrage par fréquence des token a drastiquement le nombre de tokens retenus."
   ]
  },
  {
   "cell_type": "markdown",
   "id": "specific-consultation",
   "metadata": {},
   "source": [
    "### Fréquences de distribution des tags après filtrage du top 200 tags"
   ]
  },
  {
   "cell_type": "markdown",
   "id": "developing-trust",
   "metadata": {},
   "source": [
    "Nous réalisons le même traitement sur les tags."
   ]
  },
  {
   "cell_type": "code",
   "execution_count": 13,
   "id": "confirmed-continuity",
   "metadata": {},
   "outputs": [
    {
     "name": "stdout",
     "output_type": "stream",
     "text": [
      "Top 20 des tags les plus utilisés\n"
     ]
    },
    {
     "data": {
      "text/html": [
       "<div>\n",
       "<style scoped>\n",
       "    .dataframe tbody tr th:only-of-type {\n",
       "        vertical-align: middle;\n",
       "    }\n",
       "\n",
       "    .dataframe tbody tr th {\n",
       "        vertical-align: top;\n",
       "    }\n",
       "\n",
       "    .dataframe thead th {\n",
       "        text-align: right;\n",
       "    }\n",
       "</style>\n",
       "<table border=\"1\" class=\"dataframe\">\n",
       "  <thead>\n",
       "    <tr style=\"text-align: right;\">\n",
       "      <th></th>\n",
       "      <th>Frequency</th>\n",
       "    </tr>\n",
       "    <tr>\n",
       "      <th>Word</th>\n",
       "      <th></th>\n",
       "    </tr>\n",
       "  </thead>\n",
       "  <tbody>\n",
       "    <tr>\n",
       "      <th>python</th>\n",
       "      <td>3701</td>\n",
       "    </tr>\n",
       "    <tr>\n",
       "      <th>android</th>\n",
       "      <td>2789</td>\n",
       "    </tr>\n",
       "    <tr>\n",
       "      <th>javascript</th>\n",
       "      <td>2092</td>\n",
       "    </tr>\n",
       "    <tr>\n",
       "      <th>reactjs</th>\n",
       "      <td>1912</td>\n",
       "    </tr>\n",
       "    <tr>\n",
       "      <th>react</th>\n",
       "      <td>1531</td>\n",
       "    </tr>\n",
       "    <tr>\n",
       "      <th>flutter</th>\n",
       "      <td>1464</td>\n",
       "    </tr>\n",
       "    <tr>\n",
       "      <th>java</th>\n",
       "      <td>1225</td>\n",
       "    </tr>\n",
       "    <tr>\n",
       "      <th>studio</th>\n",
       "      <td>1108</td>\n",
       "    </tr>\n",
       "    <tr>\n",
       "      <th>docker</th>\n",
       "      <td>1025</td>\n",
       "    </tr>\n",
       "    <tr>\n",
       "      <th>node</th>\n",
       "      <td>1014</td>\n",
       "    </tr>\n",
       "    <tr>\n",
       "      <th>google</th>\n",
       "      <td>1008</td>\n",
       "    </tr>\n",
       "    <tr>\n",
       "      <th>spring</th>\n",
       "      <td>981</td>\n",
       "    </tr>\n",
       "    <tr>\n",
       "      <th>angular</th>\n",
       "      <td>913</td>\n",
       "    </tr>\n",
       "    <tr>\n",
       "      <th>core</th>\n",
       "      <td>836</td>\n",
       "    </tr>\n",
       "    <tr>\n",
       "      <th>typescript</th>\n",
       "      <td>826</td>\n",
       "    </tr>\n",
       "    <tr>\n",
       "      <th>visual</th>\n",
       "      <td>747</td>\n",
       "    </tr>\n",
       "    <tr>\n",
       "      <th>azure</th>\n",
       "      <td>710</td>\n",
       "    </tr>\n",
       "    <tr>\n",
       "      <th>amazon</th>\n",
       "      <td>695</td>\n",
       "    </tr>\n",
       "    <tr>\n",
       "      <th>native</th>\n",
       "      <td>594</td>\n",
       "    </tr>\n",
       "    <tr>\n",
       "      <th>dart</th>\n",
       "      <td>571</td>\n",
       "    </tr>\n",
       "  </tbody>\n",
       "</table>\n",
       "</div>"
      ],
      "text/plain": [
       "            Frequency\n",
       "Word                 \n",
       "python           3701\n",
       "android          2789\n",
       "javascript       2092\n",
       "reactjs          1912\n",
       "react            1531\n",
       "flutter          1464\n",
       "java             1225\n",
       "studio           1108\n",
       "docker           1025\n",
       "node             1014\n",
       "google           1008\n",
       "spring            981\n",
       "angular           913\n",
       "core              836\n",
       "typescript        826\n",
       "visual            747\n",
       "azure             710\n",
       "amazon            695\n",
       "native            594\n",
       "dart              571"
      ]
     },
     "metadata": {},
     "output_type": "display_data"
    },
    {
     "name": "stdout",
     "output_type": "stream",
     "text": [
      "Nombre de tags: 200\n"
     ]
    }
   ],
   "source": [
    "tag_dist_top_200 = build_word_distribution(top200_tags)\n",
    "print(\"Top 20 des tags les plus utilisés\")\n",
    "display(tag_dist_top_200.head(20))\n",
    "print(f\"Nombre de tags: {len(tag_dist_top_200)}\")"
   ]
  },
  {
   "cell_type": "markdown",
   "id": "silver-complaint",
   "metadata": {},
   "source": [
    "### TF-IDF"
   ]
  },
  {
   "cell_type": "markdown",
   "id": "about-excerpt",
   "metadata": {},
   "source": [
    "Afin de pouvoir entraîner les modèles nous avons besoin de transformer les listes de tokens lemmatisés en vecteurs. Deux méthodes sont couramment utilisées :\n",
    "- Bag of words : Chaque liste de token (appelée document) est transformée en un vecteur indiquant la fréquence brute de chaque terme du corpus dans la liste. \n",
    "- TF-IDF : Dans cette méthode, la fréquence brute d’un token  est remplacée par un indicateur composé de sa fréquence d’apparition du token dans le document et la fréquence inverse du nombre de documents où le token apparaît. Tel que TF-IDF=TF ×log⁡〖|D|/|{d_j ∶ t_i∈d_j }| 〗 avec |D| : le nombre total de documents dans le corpus et |{d_j ∶ t_i∈d_j }| : le nombre de documents ou le token apparaît. Cette méthode permet de minorer les tokens présents dans un nombre élevé de documents et de normaliser la taille des documents. \n",
    "Les documents contenant des termes très génériques et de longueurs très variables, nous avons décidé d’utiliser une vectorisation par TF-IDF pour la suite des travaux. Afin de de ne garder que les tokens les plus représentatifs, nous avons entrainé les modèles de vectorisation sur des dictionnaire de correspondance (vocabulary) ne comportant que des termes dont la fréquence est supérieure à 1000 occurrences dans le corpus."
   ]
  },
  {
   "cell_type": "code",
   "execution_count": 14,
   "id": "cc46417f",
   "metadata": {},
   "outputs": [],
   "source": [
    "import pickle"
   ]
  },
  {
   "cell_type": "code",
   "execution_count": 15,
   "id": "municipal-limit",
   "metadata": {},
   "outputs": [
    {
     "name": "stdout",
     "output_type": "stream",
     "text": [
      "Affichage des 10 premiers posts vectorisés via le modèle de TF-IDF\n"
     ]
    },
    {
     "data": {
      "text/html": [
       "<div>\n",
       "<style scoped>\n",
       "    .dataframe tbody tr th:only-of-type {\n",
       "        vertical-align: middle;\n",
       "    }\n",
       "\n",
       "    .dataframe tbody tr th {\n",
       "        vertical-align: top;\n",
       "    }\n",
       "\n",
       "    .dataframe thead th {\n",
       "        text-align: right;\n",
       "    }\n",
       "</style>\n",
       "<table border=\"1\" class=\"dataframe\">\n",
       "  <thead>\n",
       "    <tr style=\"text-align: right;\">\n",
       "      <th></th>\n",
       "      <th>error</th>\n",
       "      <th>java</th>\n",
       "      <th>import</th>\n",
       "      <th>file</th>\n",
       "      <th>name</th>\n",
       "      <th>version</th>\n",
       "      <th>code</th>\n",
       "      <th>http</th>\n",
       "      <th>class</th>\n",
       "      <th>python</th>\n",
       "      <th>...</th>\n",
       "      <th>null</th>\n",
       "      <th>window</th>\n",
       "      <th>pas</th>\n",
       "      <th>androidx</th>\n",
       "      <th>loss</th>\n",
       "      <th>render</th>\n",
       "      <th>screen</th>\n",
       "      <th>document</th>\n",
       "      <th>scala</th>\n",
       "      <th>account</th>\n",
       "    </tr>\n",
       "  </thead>\n",
       "  <tbody>\n",
       "    <tr>\n",
       "      <th>0</th>\n",
       "      <td>0.000000</td>\n",
       "      <td>0.0</td>\n",
       "      <td>0.000000</td>\n",
       "      <td>0.000000</td>\n",
       "      <td>0.0</td>\n",
       "      <td>0.000000</td>\n",
       "      <td>0.000000</td>\n",
       "      <td>0.131632</td>\n",
       "      <td>0.000000</td>\n",
       "      <td>0.0</td>\n",
       "      <td>...</td>\n",
       "      <td>0.0</td>\n",
       "      <td>0.0</td>\n",
       "      <td>0.0</td>\n",
       "      <td>0.0</td>\n",
       "      <td>0.0</td>\n",
       "      <td>0.0</td>\n",
       "      <td>0.0</td>\n",
       "      <td>0.0</td>\n",
       "      <td>0.0</td>\n",
       "      <td>0.0</td>\n",
       "    </tr>\n",
       "    <tr>\n",
       "      <th>1</th>\n",
       "      <td>0.250326</td>\n",
       "      <td>0.0</td>\n",
       "      <td>0.000000</td>\n",
       "      <td>0.321832</td>\n",
       "      <td>0.0</td>\n",
       "      <td>0.000000</td>\n",
       "      <td>0.000000</td>\n",
       "      <td>0.000000</td>\n",
       "      <td>0.000000</td>\n",
       "      <td>0.0</td>\n",
       "      <td>...</td>\n",
       "      <td>0.0</td>\n",
       "      <td>0.0</td>\n",
       "      <td>0.0</td>\n",
       "      <td>0.0</td>\n",
       "      <td>0.0</td>\n",
       "      <td>0.0</td>\n",
       "      <td>0.0</td>\n",
       "      <td>0.0</td>\n",
       "      <td>0.0</td>\n",
       "      <td>0.0</td>\n",
       "    </tr>\n",
       "    <tr>\n",
       "      <th>2</th>\n",
       "      <td>0.178157</td>\n",
       "      <td>0.0</td>\n",
       "      <td>0.000000</td>\n",
       "      <td>0.000000</td>\n",
       "      <td>0.0</td>\n",
       "      <td>0.000000</td>\n",
       "      <td>0.000000</td>\n",
       "      <td>0.000000</td>\n",
       "      <td>0.000000</td>\n",
       "      <td>0.0</td>\n",
       "      <td>...</td>\n",
       "      <td>0.0</td>\n",
       "      <td>0.0</td>\n",
       "      <td>0.0</td>\n",
       "      <td>0.0</td>\n",
       "      <td>0.0</td>\n",
       "      <td>0.0</td>\n",
       "      <td>0.0</td>\n",
       "      <td>0.0</td>\n",
       "      <td>0.0</td>\n",
       "      <td>0.0</td>\n",
       "    </tr>\n",
       "    <tr>\n",
       "      <th>3</th>\n",
       "      <td>0.155747</td>\n",
       "      <td>0.0</td>\n",
       "      <td>0.438626</td>\n",
       "      <td>0.000000</td>\n",
       "      <td>0.0</td>\n",
       "      <td>0.000000</td>\n",
       "      <td>0.086517</td>\n",
       "      <td>0.000000</td>\n",
       "      <td>0.000000</td>\n",
       "      <td>0.0</td>\n",
       "      <td>...</td>\n",
       "      <td>0.0</td>\n",
       "      <td>0.0</td>\n",
       "      <td>0.0</td>\n",
       "      <td>0.0</td>\n",
       "      <td>0.0</td>\n",
       "      <td>0.0</td>\n",
       "      <td>0.0</td>\n",
       "      <td>0.0</td>\n",
       "      <td>0.0</td>\n",
       "      <td>0.0</td>\n",
       "    </tr>\n",
       "    <tr>\n",
       "      <th>4</th>\n",
       "      <td>0.332952</td>\n",
       "      <td>0.0</td>\n",
       "      <td>0.000000</td>\n",
       "      <td>0.000000</td>\n",
       "      <td>0.0</td>\n",
       "      <td>0.000000</td>\n",
       "      <td>0.000000</td>\n",
       "      <td>0.221629</td>\n",
       "      <td>0.000000</td>\n",
       "      <td>0.0</td>\n",
       "      <td>...</td>\n",
       "      <td>0.0</td>\n",
       "      <td>0.0</td>\n",
       "      <td>0.0</td>\n",
       "      <td>0.0</td>\n",
       "      <td>0.0</td>\n",
       "      <td>0.0</td>\n",
       "      <td>0.0</td>\n",
       "      <td>0.0</td>\n",
       "      <td>0.0</td>\n",
       "      <td>0.0</td>\n",
       "    </tr>\n",
       "    <tr>\n",
       "      <th>5</th>\n",
       "      <td>0.142333</td>\n",
       "      <td>0.0</td>\n",
       "      <td>0.000000</td>\n",
       "      <td>0.000000</td>\n",
       "      <td>0.0</td>\n",
       "      <td>0.388253</td>\n",
       "      <td>0.079066</td>\n",
       "      <td>0.000000</td>\n",
       "      <td>0.000000</td>\n",
       "      <td>0.0</td>\n",
       "      <td>...</td>\n",
       "      <td>0.0</td>\n",
       "      <td>0.0</td>\n",
       "      <td>0.0</td>\n",
       "      <td>0.0</td>\n",
       "      <td>0.0</td>\n",
       "      <td>0.0</td>\n",
       "      <td>0.0</td>\n",
       "      <td>0.0</td>\n",
       "      <td>0.0</td>\n",
       "      <td>0.0</td>\n",
       "    </tr>\n",
       "    <tr>\n",
       "      <th>6</th>\n",
       "      <td>0.000000</td>\n",
       "      <td>0.0</td>\n",
       "      <td>0.000000</td>\n",
       "      <td>0.000000</td>\n",
       "      <td>0.0</td>\n",
       "      <td>0.000000</td>\n",
       "      <td>0.016161</td>\n",
       "      <td>0.000000</td>\n",
       "      <td>0.041632</td>\n",
       "      <td>0.0</td>\n",
       "      <td>...</td>\n",
       "      <td>0.0</td>\n",
       "      <td>0.0</td>\n",
       "      <td>0.0</td>\n",
       "      <td>0.0</td>\n",
       "      <td>0.0</td>\n",
       "      <td>0.0</td>\n",
       "      <td>0.0</td>\n",
       "      <td>0.0</td>\n",
       "      <td>0.0</td>\n",
       "      <td>0.0</td>\n",
       "    </tr>\n",
       "    <tr>\n",
       "      <th>7</th>\n",
       "      <td>0.000000</td>\n",
       "      <td>0.0</td>\n",
       "      <td>0.000000</td>\n",
       "      <td>0.000000</td>\n",
       "      <td>0.0</td>\n",
       "      <td>0.000000</td>\n",
       "      <td>0.000000</td>\n",
       "      <td>0.000000</td>\n",
       "      <td>0.000000</td>\n",
       "      <td>0.0</td>\n",
       "      <td>...</td>\n",
       "      <td>0.0</td>\n",
       "      <td>0.0</td>\n",
       "      <td>0.0</td>\n",
       "      <td>0.0</td>\n",
       "      <td>0.0</td>\n",
       "      <td>0.0</td>\n",
       "      <td>0.0</td>\n",
       "      <td>0.0</td>\n",
       "      <td>0.0</td>\n",
       "      <td>0.0</td>\n",
       "    </tr>\n",
       "    <tr>\n",
       "      <th>8</th>\n",
       "      <td>0.218544</td>\n",
       "      <td>0.0</td>\n",
       "      <td>0.000000</td>\n",
       "      <td>0.000000</td>\n",
       "      <td>0.0</td>\n",
       "      <td>0.372587</td>\n",
       "      <td>0.060700</td>\n",
       "      <td>0.000000</td>\n",
       "      <td>0.000000</td>\n",
       "      <td>0.0</td>\n",
       "      <td>...</td>\n",
       "      <td>0.0</td>\n",
       "      <td>0.0</td>\n",
       "      <td>0.0</td>\n",
       "      <td>0.0</td>\n",
       "      <td>0.0</td>\n",
       "      <td>0.0</td>\n",
       "      <td>0.0</td>\n",
       "      <td>0.0</td>\n",
       "      <td>0.0</td>\n",
       "      <td>0.0</td>\n",
       "    </tr>\n",
       "    <tr>\n",
       "      <th>9</th>\n",
       "      <td>0.187290</td>\n",
       "      <td>0.0</td>\n",
       "      <td>0.000000</td>\n",
       "      <td>0.000000</td>\n",
       "      <td>0.0</td>\n",
       "      <td>0.000000</td>\n",
       "      <td>0.000000</td>\n",
       "      <td>0.083113</td>\n",
       "      <td>0.000000</td>\n",
       "      <td>0.0</td>\n",
       "      <td>...</td>\n",
       "      <td>0.0</td>\n",
       "      <td>0.0</td>\n",
       "      <td>0.0</td>\n",
       "      <td>0.0</td>\n",
       "      <td>0.0</td>\n",
       "      <td>0.0</td>\n",
       "      <td>0.0</td>\n",
       "      <td>0.0</td>\n",
       "      <td>0.0</td>\n",
       "      <td>0.0</td>\n",
       "    </tr>\n",
       "  </tbody>\n",
       "</table>\n",
       "<p>10 rows × 239 columns</p>\n",
       "</div>"
      ],
      "text/plain": [
       "      error  java    import      file  name   version      code      http  \\\n",
       "0  0.000000   0.0  0.000000  0.000000   0.0  0.000000  0.000000  0.131632   \n",
       "1  0.250326   0.0  0.000000  0.321832   0.0  0.000000  0.000000  0.000000   \n",
       "2  0.178157   0.0  0.000000  0.000000   0.0  0.000000  0.000000  0.000000   \n",
       "3  0.155747   0.0  0.438626  0.000000   0.0  0.000000  0.086517  0.000000   \n",
       "4  0.332952   0.0  0.000000  0.000000   0.0  0.000000  0.000000  0.221629   \n",
       "5  0.142333   0.0  0.000000  0.000000   0.0  0.388253  0.079066  0.000000   \n",
       "6  0.000000   0.0  0.000000  0.000000   0.0  0.000000  0.016161  0.000000   \n",
       "7  0.000000   0.0  0.000000  0.000000   0.0  0.000000  0.000000  0.000000   \n",
       "8  0.218544   0.0  0.000000  0.000000   0.0  0.372587  0.060700  0.000000   \n",
       "9  0.187290   0.0  0.000000  0.000000   0.0  0.000000  0.000000  0.083113   \n",
       "\n",
       "      class  python  ...  null  window  pas  androidx  loss  render  screen  \\\n",
       "0  0.000000     0.0  ...   0.0     0.0  0.0       0.0   0.0     0.0     0.0   \n",
       "1  0.000000     0.0  ...   0.0     0.0  0.0       0.0   0.0     0.0     0.0   \n",
       "2  0.000000     0.0  ...   0.0     0.0  0.0       0.0   0.0     0.0     0.0   \n",
       "3  0.000000     0.0  ...   0.0     0.0  0.0       0.0   0.0     0.0     0.0   \n",
       "4  0.000000     0.0  ...   0.0     0.0  0.0       0.0   0.0     0.0     0.0   \n",
       "5  0.000000     0.0  ...   0.0     0.0  0.0       0.0   0.0     0.0     0.0   \n",
       "6  0.041632     0.0  ...   0.0     0.0  0.0       0.0   0.0     0.0     0.0   \n",
       "7  0.000000     0.0  ...   0.0     0.0  0.0       0.0   0.0     0.0     0.0   \n",
       "8  0.000000     0.0  ...   0.0     0.0  0.0       0.0   0.0     0.0     0.0   \n",
       "9  0.000000     0.0  ...   0.0     0.0  0.0       0.0   0.0     0.0     0.0   \n",
       "\n",
       "   document  scala  account  \n",
       "0       0.0    0.0      0.0  \n",
       "1       0.0    0.0      0.0  \n",
       "2       0.0    0.0      0.0  \n",
       "3       0.0    0.0      0.0  \n",
       "4       0.0    0.0      0.0  \n",
       "5       0.0    0.0      0.0  \n",
       "6       0.0    0.0      0.0  \n",
       "7       0.0    0.0      0.0  \n",
       "8       0.0    0.0      0.0  \n",
       "9       0.0    0.0      0.0  \n",
       "\n",
       "[10 rows x 239 columns]"
      ]
     },
     "metadata": {},
     "output_type": "display_data"
    },
    {
     "name": "stdout",
     "output_type": "stream",
     "text": [
      " Nombre d'observations: 17517, nombre de variables: 239\n",
      "CPU times: total: 1.67 s\n",
      "Wall time: 1.72 s\n"
     ]
    }
   ],
   "source": [
    "\n",
    "%%time\n",
    "from sklearn.feature_extraction.text import TfidfVectorizer\n",
    "vocabulary = list(word_dist_top200[word_dist_top200[\"Frequency\"]>=1000].index)\n",
    "tfidf_vectorizer = TfidfVectorizer(vocabulary=vocabulary)\n",
    "X = tfidf_vectorizer.fit_transform(top200_joined_corpus)\n",
    "tfidf_data = pd.DataFrame(X.toarray(), columns=vocabulary)\n",
    "print(\"Affichage des 10 premiers posts vectorisés via le modèle de TF-IDF\")\n",
    "display(tfidf_data.head(10))\n",
    "print(f\" Nombre d'observations: {tfidf_data.shape[0]}, nombre de variables: {tfidf_data.shape[1]}\")\n",
    "\n",
    "filename_tfidf_model = './models/tfidf_model.pkl'\n",
    "pickle.dump(tfidf_vectorizer, open(filename_tfidf_model, 'wb'))\n",
    "\n",
    "filename_vocabulary = \"./models/vocabulary.pkl\"\n",
    "pickle.dump(vocabulary, open(filename_vocabulary, 'wb'))"
   ]
  },
  {
   "cell_type": "markdown",
   "id": "lesser-appraisal",
   "metadata": {},
   "source": [
    "## Entrainement des modèles en approche supervisée."
   ]
  },
  {
   "cell_type": "markdown",
   "id": "psychological-interest",
   "metadata": {},
   "source": [
    "### Dédoublonnage des labels"
   ]
  },
  {
   "cell_type": "markdown",
   "id": "attended-account",
   "metadata": {},
   "source": [
    "Le dédoublonnage des tags – label s’avère nécessaire après le pré-traitement des documents. En effet, il n’est pas rare que les utilisateurs spécifient plusieurs versions d’une même technologie dans leurs tags. Après traitement préalable, notamment avec la suppression des caractères numérique, les tags-label peuvent contenir des doublons pour un même document. "
   ]
  },
  {
   "cell_type": "code",
   "execution_count": 16,
   "id": "complimentary-nylon",
   "metadata": {},
   "outputs": [
    {
     "name": "stdout",
     "output_type": "stream",
     "text": [
      "Affichage de la première occurence de dedup_tags\n"
     ]
    },
    {
     "data": {
      "text/plain": [
       "{'github'}"
      ]
     },
     "metadata": {},
     "output_type": "display_data"
    }
   ],
   "source": [
    "dedup_tags = []\n",
    "for tags in top200_tags:\n",
    "    dedup_tags.append(set(tags))\n",
    "\n",
    "print('Affichage de la première occurence de dedup_tags')\n",
    "display(dedup_tags[0])"
   ]
  },
  {
   "cell_type": "markdown",
   "id": "considered-microwave",
   "metadata": {},
   "source": [
    "### Partition des données"
   ]
  },
  {
   "cell_type": "markdown",
   "id": "quiet-uncle",
   "metadata": {},
   "source": [
    "Nous conservons 80% des données pour le jeu d’entraînement et 20% pour le jeu de test. "
   ]
  },
  {
   "cell_type": "code",
   "execution_count": 17,
   "id": "running-tanzania",
   "metadata": {},
   "outputs": [],
   "source": [
    "from sklearn.model_selection import train_test_split\n",
    "X_train, X_test, y_train, y_test = train_test_split(tfidf_data, dedup_tags, test_size=0.2, random_state=42)"
   ]
  },
  {
   "cell_type": "markdown",
   "id": "found-paintball",
   "metadata": {},
   "source": [
    "### Réduction des données"
   ]
  },
  {
   "cell_type": "markdown",
   "id": "single-weight",
   "metadata": {},
   "source": [
    "La vectorisation a transformé les documents en un vecteur de  456 composantes. Afin de casser les corrélations entre celles-ci et optimiser le temps d’entrainement des modèles en réduisant les dimensions nous réalisons une ACP (Analyse en Composantes Principales)."
   ]
  },
  {
   "cell_type": "code",
   "execution_count": 18,
   "id": "ceramic-simon",
   "metadata": {},
   "outputs": [
    {
     "data": {
      "image/png": "[encoded data removed]",
      "text/plain": [
       "<Figure size 432x288 with 1 Axes>"
      ]
     },
     "metadata": {
      "needs_background": "light"
     },
     "output_type": "display_data"
    }
   ],
   "source": [
    "from sklearn.decomposition import PCA\n",
    "import matplotlib.pyplot as plt\n",
    "\n",
    "pca = PCA(random_state=42)\n",
    "pca.fit(X_train)\n",
    "\n",
    "def display_scree_plot(pca):\n",
    "    scree = pca.explained_variance_ratio_*100\n",
    "    plt.bar(np.arange(len(scree))+1, scree)\n",
    "    plt.plot(np.arange(len(scree))+1, scree.cumsum(),c=\"red\",marker='o')\n",
    "    plt.xlabel(\"rang de l'axe d'inertie\")\n",
    "    plt.ylabel(\"pourcentage d'inertie\")\n",
    "    plt.title(\"Eboulis des valeurs propres\")\n",
    "    plt.show(block=False)\n",
    "\n",
    "display_scree_plot(pca)"
   ]
  },
  {
   "cell_type": "markdown",
   "id": "previous-british",
   "metadata": {},
   "source": [
    "A défaut d’un coude significatif dans la visualisation l’éboulis des composantes principales, nous utilisons un hyper paramètre consistant à retenir un nombre de vecteurs permettant de conserver 85% d’inertie."
   ]
  },
  {
   "cell_type": "code",
   "execution_count": 19,
   "id": "continued-insertion",
   "metadata": {},
   "outputs": [
    {
     "name": "stdout",
     "output_type": "stream",
     "text": [
      "Nombre de composantes principales: 159\n"
     ]
    }
   ],
   "source": [
    "import pickle \n",
    "\n",
    "pca = PCA(n_components=0.85, random_state=42)\n",
    "pca.fit(X_train)\n",
    "X_train_transformed = pca.transform(X_train)\n",
    "X_test_transformed = pca.transform(X_test)\n",
    "print(f\"Nombre de composantes principales: {pca.components_.shape[0]}\")\n",
    "\n",
    "filename_pca_model = './models/pca_model.pkl'\n",
    "pickle.dump(pca, open(filename_pca_model, 'wb'))"
   ]
  },
  {
   "cell_type": "markdown",
   "id": "electronic-bulgarian",
   "metadata": {},
   "source": [
    "### Vectorisaton des labels"
   ]
  },
  {
   "cell_type": "markdown",
   "id": "colored-pathology",
   "metadata": {},
   "source": [
    "A l’image des documents nous avons besoin de vectoriser les tags – labels afin d’entrainer les modèles. Scikit-learn fournit un module permettant de prendre en charge l’opération."
   ]
  },
  {
   "cell_type": "code",
   "execution_count": 20,
   "id": "alternative-dressing",
   "metadata": {},
   "outputs": [
    {
     "name": "stdout",
     "output_type": "stream",
     "text": [
      "Affichage des classes du modèle de vectorisation\n"
     ]
    },
    {
     "data": {
      "text/plain": [
       "array(['python', 'android', 'javascript', 'reactjs', 'react', 'flutter',\n",
       "       'java', 'studio', 'docker', 'node', 'google', 'spring', 'angular',\n",
       "       'core', 'typescript', 'visual', 'azure', 'amazon', 'native',\n",
       "       'dart', 'laravel', 'code', 'firebase', 'kubernetes', 'kotlin',\n",
       "       'service', 'boot', 'cloud', 'window', 'swift', 'next', 'github',\n",
       "       'macos', 'xcode', 'html', 'compose', 'linux', 'tensorflow',\n",
       "       'gradle', 'material', 'panda', 'django', 'hook', 'ubuntu',\n",
       "       'jetpack', 'swiftui', 'apache', 'testing', 'server', 'json',\n",
       "       'data', 'webpack', 'blazor', 'framework', 'router', 'selenium',\n",
       "       'redux', 'navigation', 'chrome', 'mysql', 'apple', 'postgresql',\n",
       "       'learning', 'discord', 'jestjs', 'vuejs', 'pytorch', 'kera',\n",
       "       'function', 'mongodb', 'authentication', 'rust', 'jupyter',\n",
       "       'express', 'form', 'devops', 'gitlab', 'terraform', 'powershell',\n",
       "       'ruby', 'image', 'pipeline', 'maven', 'http', 'component',\n",
       "       'action', 'library', 'entity', 'opencv', 'bootstrap', 'platform',\n",
       "       'spark', 'nestjs', 'module', 'eslint', 'plotly', 'build',\n",
       "       'dependency', 'array', 'numpy', 'nginx', 'unit', 'machine',\n",
       "       'kafka', 'package', 'rest', 'fastapi', 'string', 'xamarin',\n",
       "       'database', 'plugin', 'axios', 'side', 'security', 'lambda',\n",
       "       'notebook', 'algorithm', 'storage', 'matplotlib', 'bash', 'file',\n",
       "       'vscode', 'tailwind', 'anaconda', 'error', 'language', 'jenkins',\n",
       "       'rail', 'subsystem', 'request', 'dockerfile', 'deep', 'flask',\n",
       "       'intellij', 'async', 'oauth', 'dataframe', 'play', 'swagger',\n",
       "       'pyspark', 'await', 'conda', 'sas', 'type', 'layout', 'excel',\n",
       "       'client', 'colaboratory', 'firestore', 'homebrew', 'variable',\n",
       "       'idea', 'manager', 'unity', 'provider', 'mobile', 'nuxt', 'list',\n",
       "       'graphql', 'ionic', 'model', 'script', 'sheet', 'apollo', 'jquery',\n",
       "       'text', 'terminal', 'scikit', 'notification', 'expo', 'create',\n",
       "       'learn', 'environment', 'yaml', 'install', 'permission', 'push',\n",
       "       'apps', 'messaging', 'performance', 'multithreading', 'wordpress',\n",
       "       'cocoapods', 'ingres', 'eclipse', 'debugging', 'symfony',\n",
       "       'mongoose', 'vuetify', 'state', 'asynchronous', 'network',\n",
       "       'processing', 'setting', 'elasticsearch', 'ecmascript', 'engine',\n",
       "       'cors', 'event', 'class'], dtype=object)"
      ]
     },
     "metadata": {},
     "output_type": "display_data"
    }
   ],
   "source": [
    "from sklearn.preprocessing import MultiLabelBinarizer\n",
    "import pickle \n",
    "\n",
    "mlb = MultiLabelBinarizer(classes=first_200_tags)\n",
    "train_labels = mlb.fit_transform(y_train)\n",
    "test_labels = mlb.transform(y_test)\n",
    "\n",
    "print(\"Affichage des classes du modèle de vectorisation\")\n",
    "display(mlb.classes_)\n",
    "\n",
    "filename_mlb_model = './models/mlb_model.pkl'\n",
    "pickle.dump(mlb, open(filename_mlb_model,'wb'))"
   ]
  },
  {
   "cell_type": "markdown",
   "id": "valuable-runner",
   "metadata": {},
   "source": [
    "### Fonction d'évaluation des modèles"
   ]
  },
  {
   "cell_type": "markdown",
   "id": "dynamic-crystal",
   "metadata": {},
   "source": [
    "Afin de comparer les modèles nous avons évalué quatre indicateurs :\n",
    "- Précision : capacité à prédire correctement les tags associés à chaque document\n",
    "- Recall : capacité à retourner pour chaque tags tous les documents qui y sont associés\n",
    "- F1 Score : moyenne harmonique de ces deux indicateurs\n",
    "\n",
    "Etant face à une classification multi-classes nous utilisons les version micro de ces indicateurs. Concrètement, cette version des indicateurs est calculée par classe puis agrégés là où les indicateurs macro sont calculés globalement. Lors de l’évaluation nous nous intéressons à la précision et au temps d’entraînement. Dans le cadre d’une API de suggestion de tags, la capacité d’un modèle à retourner tous les documents associés à chaque terme n’est pas essentielle. Le recall et le F1 score seront toutefois été observés pour affiner l’analyse. \n"
   ]
  },
  {
   "cell_type": "code",
   "execution_count": 21,
   "id": "hourly-excellence",
   "metadata": {},
   "outputs": [],
   "source": [
    "from sklearn.metrics import accuracy_score, precision_score, recall_score, f1_score, confusion_matrix, hamming_loss\n",
    "\n",
    "models_performance = {}\n",
    "\n",
    "def metrics_report(model_name, test_labels, predictions, performances):\n",
    "    \"\"\"\n",
    "    Compute performance metrics of a model and store them in a dictionary\n",
    "    \n",
    "    Args:\n",
    "        model_name(string): name of the evaluated model\n",
    "        test_labels(array): labels related to predictors\n",
    "        preductions(array): predicted results\n",
    "        performances(dict): used dictionary to store metrics\n",
    "    Returns:\n",
    "        performances(dict): used dictionary to store metrics filed with models ones\n",
    "    \"\"\"    \n",
    "    accuracy = accuracy_score(test_labels, predictions)\n",
    "    macro_precision = precision_score(test_labels, predictions, average='macro')\n",
    "    macro_recall = recall_score(test_labels, predictions, average='macro')\n",
    "    macro_f1 = f1_score(test_labels, predictions, average='macro')\n",
    "    micro_precision = precision_score(test_labels, predictions, average='micro')\n",
    "    micro_recall = recall_score(test_labels, predictions, average='micro')\n",
    "    micro_f1 = f1_score(test_labels, predictions, average='micro')\n",
    "    hamLoss = hamming_loss(test_labels, predictions)\n",
    "    print(\"------\" + model_name + \" Model Metrics-----\")\n",
    "    print(\"Accuracy: {:.4f}\\nHamming Loss: {:.4f}\\nPrecision:\\n  - Macro: {:.4f}\\n  - Micro: {:.4f}\\nRecall:\\n  - Macro: {:.4f}\\n  - Micro: {:.4f}\\nF1-measure:\\n  - Macro: {:.4f}\\n  - Micro: {:.4f}\"\\\n",
    "          .format(accuracy, hamLoss, macro_precision, micro_precision, macro_recall, micro_recall, macro_f1, micro_f1))\n",
    "    \n",
    "    performances[model_name] = {}\n",
    "    performances[model_name][\"micro_precision\"] =  micro_precision\n",
    "    performances[model_name][\"micro_recall\"] = micro_recall\n",
    "    performances[model_name][\"micro_f1\"] = micro_f1\n",
    "    \n",
    "    return performances"
   ]
  },
  {
   "cell_type": "markdown",
   "id": "center-entity",
   "metadata": {},
   "source": [
    "### KNN"
   ]
  },
  {
   "cell_type": "code",
   "execution_count": 22,
   "id": "employed-meaning",
   "metadata": {},
   "outputs": [
    {
     "name": "stderr",
     "output_type": "stream",
     "text": [
      "c:\\Python3\\lib\\site-packages\\sklearn\\metrics\\_classification.py:1318: UndefinedMetricWarning: Precision is ill-defined and being set to 0.0 in labels with no predicted samples. Use `zero_division` parameter to control this behavior.\n",
      "  _warn_prf(average, modifier, msg_start, len(result))\n"
     ]
    },
    {
     "name": "stdout",
     "output_type": "stream",
     "text": [
      "------knn Model Metrics-----\n",
      "Accuracy: 0.0776\n",
      "Hamming Loss: 0.0109\n",
      "Precision:\n",
      "  - Macro: 0.3155\n",
      "  - Micro: 0.6586\n",
      "Recall:\n",
      "  - Macro: 0.1080\n",
      "  - Micro: 0.2274\n",
      "F1-measure:\n",
      "  - Macro: 0.1457\n",
      "  - Micro: 0.3381\n",
      "CPU times: total: 42.8 s\n",
      "Wall time: 40.5 s\n"
     ]
    },
    {
     "data": {
      "text/plain": [
       "{'knn': {'micro_precision': 0.6585940127817019,\n",
       "  'micro_recall': 0.22740998838559814,\n",
       "  'micro_f1': 0.3380816714150048}}"
      ]
     },
     "execution_count": 22,
     "metadata": {},
     "output_type": "execute_result"
    }
   ],
   "source": [
    "%%time\n",
    "from sklearn.neighbors import KNeighborsClassifier\n",
    "knn_clf = KNeighborsClassifier()\n",
    "knn_clf.fit(X_train_transformed, train_labels)\n",
    "knn_predictions = knn_clf.predict(X_test_transformed)\n",
    "metrics_report(\"knn\", test_labels, knn_predictions, models_performance)"
   ]
  },
  {
   "cell_type": "markdown",
   "id": "piano-liabilities",
   "metadata": {},
   "source": [
    "### SVM"
   ]
  },
  {
   "cell_type": "code",
   "execution_count": 23,
   "id": "upper-needle",
   "metadata": {},
   "outputs": [
    {
     "name": "stderr",
     "output_type": "stream",
     "text": [
      "c:\\Python3\\lib\\site-packages\\sklearn\\metrics\\_classification.py:1318: UndefinedMetricWarning: Precision is ill-defined and being set to 0.0 in labels with no predicted samples. Use `zero_division` parameter to control this behavior.\n",
      "  _warn_prf(average, modifier, msg_start, len(result))\n"
     ]
    },
    {
     "name": "stdout",
     "output_type": "stream",
     "text": [
      "------svm Model Metrics-----\n",
      "Accuracy: 0.0999\n",
      "Hamming Loss: 0.0100\n",
      "Precision:\n",
      "  - Macro: 0.2798\n",
      "  - Micro: 0.7990\n",
      "Recall:\n",
      "  - Macro: 0.1000\n",
      "  - Micro: 0.2520\n",
      "F1-measure:\n",
      "  - Macro: 0.1287\n",
      "  - Micro: 0.3832\n",
      "CPU times: total: 3.41 s\n",
      "Wall time: 31.9 s\n"
     ]
    },
    {
     "data": {
      "text/plain": [
       "{'knn': {'micro_precision': 0.6585940127817019,\n",
       "  'micro_recall': 0.22740998838559814,\n",
       "  'micro_f1': 0.3380816714150048},\n",
       " 'svm': {'micro_precision': 0.7989690721649485,\n",
       "  'micro_recall': 0.25203252032520324,\n",
       "  'micro_f1': 0.3831891223733004}}"
      ]
     },
     "execution_count": 23,
     "metadata": {},
     "output_type": "execute_result"
    }
   ],
   "source": [
    "%%time\n",
    "from sklearn.svm import LinearSVC\n",
    "from sklearn.multiclass import OneVsRestClassifier\n",
    "\n",
    "svm_clf = OneVsRestClassifier(LinearSVC(), n_jobs=-1)\n",
    "svm_clf.fit(X_train_transformed, train_labels)\n",
    "\n",
    "svm_preds = svm_clf.predict(X_test_transformed)\n",
    "metrics_report(\"svm\", test_labels, svm_preds, models_performance)"
   ]
  },
  {
   "cell_type": "markdown",
   "id": "loved-silly",
   "metadata": {},
   "source": [
    "### Random Forest"
   ]
  },
  {
   "cell_type": "code",
   "execution_count": 24,
   "id": "tropical-board",
   "metadata": {},
   "outputs": [
    {
     "name": "stderr",
     "output_type": "stream",
     "text": [
      "c:\\Python3\\lib\\site-packages\\sklearn\\metrics\\_classification.py:1318: UndefinedMetricWarning: Precision is ill-defined and being set to 0.0 in labels with no predicted samples. Use `zero_division` parameter to control this behavior.\n",
      "  _warn_prf(average, modifier, msg_start, len(result))\n"
     ]
    },
    {
     "name": "stdout",
     "output_type": "stream",
     "text": [
      "------Random Forest Model Metrics-----\n",
      "Accuracy: 0.0505\n",
      "Hamming Loss: 0.0110\n",
      "Precision:\n",
      "  - Macro: 0.1664\n",
      "  - Micro: 0.8458\n",
      "Recall:\n",
      "  - Macro: 0.0341\n",
      "  - Micro: 0.1325\n",
      "F1-measure:\n",
      "  - Macro: 0.0510\n",
      "  - Micro: 0.2291\n",
      "CPU times: total: 21min 18s\n",
      "Wall time: 3min 8s\n"
     ]
    },
    {
     "data": {
      "text/plain": [
       "{'knn': {'micro_precision': 0.6585940127817019,\n",
       "  'micro_recall': 0.22740998838559814,\n",
       "  'micro_f1': 0.3380816714150048},\n",
       " 'svm': {'micro_precision': 0.7989690721649485,\n",
       "  'micro_recall': 0.25203252032520324,\n",
       "  'micro_f1': 0.3831891223733004},\n",
       " 'Random Forest': {'micro_precision': 0.8458117123795404,\n",
       "  'micro_recall': 0.13252032520325202,\n",
       "  'micro_f1': 0.22913947183452152}}"
      ]
     },
     "execution_count": 24,
     "metadata": {},
     "output_type": "execute_result"
    }
   ],
   "source": [
    "%%time\n",
    "from sklearn.ensemble import RandomForestClassifier\n",
    "rf_clf = RandomForestClassifier(n_jobs=-1)\n",
    "rf_clf.fit(X_train_transformed, train_labels)\n",
    "rf_preds = rf_clf.predict(X_test_transformed)\n",
    "metrics_report(\"Random Forest\", test_labels, rf_preds, models_performance)"
   ]
  },
  {
   "cell_type": "markdown",
   "id": "rapid-compression",
   "metadata": {},
   "source": [
    "### Gradient boosting"
   ]
  },
  {
   "cell_type": "code",
   "execution_count": 25,
   "id": "considerable-grocery",
   "metadata": {},
   "outputs": [
    {
     "data": {
      "text/plain": [
       "'%%time\\nfrom sklearn.ensemble import GradientBoostingClassifier\\nfrom sklearn.multiclass import OneVsRestClassifier\\n\\ngb_clf = OneVsRestClassifier(GradientBoostingClassifier())\\ngb_clf.fit(X_train_transformed, train_labels)\\ngb_preds = gb_clf.predict(X_test_transformed)\\nmetrics_report(\"Gradient Boosting\", test_labels, gb_preds, models_performance)'"
      ]
     },
     "execution_count": 25,
     "metadata": {},
     "output_type": "execute_result"
    }
   ],
   "source": [
    "'''%%time\n",
    "from sklearn.ensemble import GradientBoostingClassifier\n",
    "from sklearn.multiclass import OneVsRestClassifier\n",
    "\n",
    "gb_clf = OneVsRestClassifier(GradientBoostingClassifier())\n",
    "gb_clf.fit(X_train_transformed, train_labels)\n",
    "gb_preds = gb_clf.predict(X_test_transformed)\n",
    "metrics_report(\"Gradient Boosting\", test_labels, gb_preds, models_performance)'''"
   ]
  },
  {
   "cell_type": "markdown",
   "id": "short-walker",
   "metadata": {},
   "source": [
    "### Synthèse des résultats"
   ]
  },
  {
   "cell_type": "code",
   "execution_count": 26,
   "id": "clear-programming",
   "metadata": {},
   "outputs": [
    {
     "data": {
      "text/html": [
       "<div>\n",
       "<style scoped>\n",
       "    .dataframe tbody tr th:only-of-type {\n",
       "        vertical-align: middle;\n",
       "    }\n",
       "\n",
       "    .dataframe tbody tr th {\n",
       "        vertical-align: top;\n",
       "    }\n",
       "\n",
       "    .dataframe thead th {\n",
       "        text-align: right;\n",
       "    }\n",
       "</style>\n",
       "<table border=\"1\" class=\"dataframe\">\n",
       "  <thead>\n",
       "    <tr style=\"text-align: right;\">\n",
       "      <th></th>\n",
       "      <th>micro_precision</th>\n",
       "      <th>micro_recall</th>\n",
       "      <th>micro_f1</th>\n",
       "    </tr>\n",
       "  </thead>\n",
       "  <tbody>\n",
       "    <tr>\n",
       "      <th>knn</th>\n",
       "      <td>0.658594</td>\n",
       "      <td>0.227410</td>\n",
       "      <td>0.338082</td>\n",
       "    </tr>\n",
       "    <tr>\n",
       "      <th>svm</th>\n",
       "      <td>0.798969</td>\n",
       "      <td>0.252033</td>\n",
       "      <td>0.383189</td>\n",
       "    </tr>\n",
       "    <tr>\n",
       "      <th>Random Forest</th>\n",
       "      <td>0.845812</td>\n",
       "      <td>0.132520</td>\n",
       "      <td>0.229139</td>\n",
       "    </tr>\n",
       "  </tbody>\n",
       "</table>\n",
       "</div>"
      ],
      "text/plain": [
       "               micro_precision  micro_recall  micro_f1\n",
       "knn                   0.658594      0.227410  0.338082\n",
       "svm                   0.798969      0.252033  0.383189\n",
       "Random Forest         0.845812      0.132520  0.229139"
      ]
     },
     "execution_count": 26,
     "metadata": {},
     "output_type": "execute_result"
    }
   ],
   "source": [
    "result_df = pd.DataFrame.from_dict(models_performance, orient=\"index\")\n",
    "result_df"
   ]
  },
  {
   "cell_type": "markdown",
   "id": "surprising-shanghai",
   "metadata": {},
   "source": [
    "Si la Random Forest offre la meilleur précision (7 points supérieure à la SVM), le modèle a un ordre de grandeur de temps d’entrainement significativement plus grand (8 fois plus long que la SVM). Si ce critère n’est pas pénalisant à l’échelle des données utilisée pour les travaux, il pourrait le devenir à une échelle plus importante. Pour cette raison nous avons sélectionné la SVM pour cette approche.\n",
    "\n",
    "A noter que pour les besoins de l’approche supervisée, nous avons besoins d’entraîner et de maintenir quatre modèles : un vectoriseur de documents, une ACP, un vectoriseur de tags et le modèle supervisé. Il a également été nécessaire de nettoyer les tags et supprimer les documents ne correspondant pas au top 200 tags. \n",
    "\n",
    "Nous sauvegardons le modèle de SVM retenu.\n"
   ]
  },
  {
   "cell_type": "code",
   "execution_count": 27,
   "id": "manual-static",
   "metadata": {},
   "outputs": [],
   "source": [
    "import pickle\n",
    "filename_svm_model = './models/svm_model.pkl'\n",
    "pickle.dump(svm_clf, open(filename_svm_model,'wb'))"
   ]
  },
  {
   "cell_type": "markdown",
   "id": "racial-julian",
   "metadata": {},
   "source": [
    "### Fonction de prédiction"
   ]
  },
  {
   "cell_type": "markdown",
   "id": "piano-rolling",
   "metadata": {},
   "source": [
    " Afin de filtrer les tags suggérés nous avons également ajouté un filtre à la fonction de prédiction. Celui-ci consiste à parcourir le document ayant servi à la prédiction et de ne garder que les tags prédits y figurant. "
   ]
  },
  {
   "cell_type": "code",
   "execution_count": 28,
   "id": "disturbed-mediterranean",
   "metadata": {},
   "outputs": [
    {
     "name": "stdout",
     "output_type": "stream",
     "text": [
      "CPU times: total: 0 ns\n",
      "Wall time: 0 ns\n"
     ]
    }
   ],
   "source": [
    "%%time\n",
    "def predict_supervised_tags(supervised_model, mlb_model, text):\n",
    "    \"\"\"\n",
    "    Predict tags according to a lemmatized text using a supervied model.\n",
    "    \n",
    "    Args:\n",
    "        supervised_model(): Used mode to get prediction\n",
    "        mlb_model(): Used model to detransform\n",
    "    Returns:\n",
    "        res(list): List of predicted tags\n",
    "    \"\"\"\n",
    "    res = tfidf_vectorizer.transform(text)\n",
    "    res = pd.DataFrame(res.toarray(), columns=vocabulary)\n",
    "    res = pca.transform(res)\n",
    "    res = supervised_model.predict(res)\n",
    "    res = mlb.inverse_transform(res)\n",
    "    res = list({tag for tag_list in res for tag in tag_list if (len(tag_list) != 0)})\n",
    "    res = [tag for tag  in res if tag in text]\n",
    "    \n",
    "    return res"
   ]
  },
  {
   "cell_type": "markdown",
   "id": "legendary-finland",
   "metadata": {},
   "source": [
    "### Fonction de vérification"
   ]
  },
  {
   "cell_type": "markdown",
   "id": "indonesian-premium",
   "metadata": {},
   "source": [
    "Afin de comparer les tags prédits et les tags renseignés par les utilisateurs, nous réalisons une fonction de vérification."
   ]
  },
  {
   "cell_type": "code",
   "execution_count": 29,
   "id": "lesbian-sussex",
   "metadata": {},
   "outputs": [
    {
     "name": "stdout",
     "output_type": "stream",
     "text": [
      "Publication originale: \n",
      "\n",
      "Support for password authentication was removed. Please use a personal access token instead <p>I got this error on my console when I tried to use <code>git pull</code>:</p>\n",
      "<blockquote>\n",
      "<p>remote: Support for password authentication was removed on August 13, 2021. Please use a personal access token instead.<br />\n",
      "remote: Please see <a href=\"https://github.blog/2020-12-15-token-authentication-requirements-for-git-operations/\" rel=\"noreferrer\">https://github.blog/2020-12-15-token-authentication-requirements-for-git-operations/</a> for more information.<br />\n",
      "fatal: unable to access &quot;...&quot; : The requested URL returned error: 403</p>\n",
      "</blockquote>\n",
      "<p>It's very weird, because I just followed the documentation and created a token two weeks ago on GitHub. The token expires on Tue, Oct 26, 2021. Why has this been removed today?</p>\n",
      "\n",
      "\n",
      "\n",
      "Liste des tags pré-traités utilisés par l'utilisateur: ['github', 'github', 'pull', 'personal', 'access', 'token']\n",
      "\n",
      "\n",
      "Liste des tags prédits par le modèle: ['github']\n"
     ]
    }
   ],
   "source": [
    "def check_tag_predction(original_text, original_tags, preprocessed_text, model):\n",
    "    \"\"\"\n",
    "    Check original tags vs predicted tags for a post.\n",
    "    \n",
    "    Args:\n",
    "        post(list) : original text\n",
    "        original_tags(list) : preprocessed_tags\n",
    "    \"\"\"\n",
    "    \n",
    "    predicted_tags = predict_supervised_tags(model, mlb, preprocessed_text)\n",
    "    print(\"Publication originale: \\n\")\n",
    "    print(f\"{original_text}\")\n",
    "    print(\"\\n\")\n",
    "    print(f\"Liste des tags pré-traités utilisés par l'utilisateur: {original_tags}\")\n",
    "    print(\"\\n\")\n",
    "    print(f\"Liste des tags prédits par le modèle: {predicted_tags}\")\n",
    "\n",
    "check_tag_predction(filtered_tokenized_vs_original.loc[0,'Post'], \n",
    "                filtered_tokenized_vs_original.loc[0,'splitted_tags'],\n",
    "                filtered_tokenized_vs_original.loc[0,'splitted_text'],\n",
    "                svm_clf)"
   ]
  },
  {
   "cell_type": "markdown",
   "id": "crude-charge",
   "metadata": {},
   "source": [
    "## Méthode non supervisée"
   ]
  },
  {
   "cell_type": "markdown",
   "id": "fitted-producer",
   "metadata": {},
   "source": [
    "Nous allons utiliser un modèle LDA (Latent Dirichlet Allocation) pour cette approche. Le modèle permet de générer à partir d'un nombre k restreint de topics, une distribution de topic par document et une distribution de topic par token. Nous utilisons le module LdaMulticore de Gensim qui permet de paralléliser les calculs."
   ]
  },
  {
   "cell_type": "markdown",
   "id": "young-professor",
   "metadata": {},
   "source": [
    "### Recherche du modèle ayant l'indice de cohérence maximum"
   ]
  },
  {
   "cell_type": "markdown",
   "id": "rising-manner",
   "metadata": {},
   "source": [
    "Le modèle nécessité de définir le nombre de topics que nous souhaitons générer. Pour se faire nous observons le score de cohérence pour un ensemble de modèles LDA entrainés avec de 2 à 50 topics en hyperparamètre. L’indicateur mesure le degré de similitude sémantique des mots les plus représentés pour chaque topic. Il détermine ainsi si chaque topic est cohérent d’un point de vue sémantique ou s’il est un amalgame aléatoire de mots. Plus le score est élevé et plus le topic est cohérent. Voici diagramme d’évolution du score de cohérence par nombre de topics."
   ]
  },
  {
   "cell_type": "code",
   "execution_count": 30,
   "id": "6ac67d7a",
   "metadata": {},
   "outputs": [],
   "source": [
    "\t\n",
    "from collections.abc import Mapping"
   ]
  },
  {
   "cell_type": "code",
   "execution_count": 31,
   "id": "experimental-alpha",
   "metadata": {},
   "outputs": [
    {
     "data": {
      "image/png": "[encoded data removed]",
      "text/plain": [
       "<Figure size 432x288 with 1 Axes>"
      ]
     },
     "metadata": {
      "needs_background": "light"
     },
     "output_type": "display_data"
    },
    {
     "name": "stdout",
     "output_type": "stream",
     "text": [
      "Num Topics = 2  has Coherence Value of 0.5272\n",
      "Num Topics = 3  has Coherence Value of 0.5456\n",
      "Num Topics = 4  has Coherence Value of 0.58\n",
      "Num Topics = 5  has Coherence Value of 0.5477\n",
      "Num Topics = 6  has Coherence Value of 0.5604\n",
      "Num Topics = 7  has Coherence Value of 0.5623\n",
      "Num Topics = 8  has Coherence Value of 0.5532\n",
      "Num Topics = 9  has Coherence Value of 0.5511\n",
      "Num Topics = 10  has Coherence Value of 0.5543\n",
      "Num Topics = 11  has Coherence Value of 0.5401\n",
      "Num Topics = 12  has Coherence Value of 0.5571\n",
      "Num Topics = 13  has Coherence Value of 0.5557\n",
      "Num Topics = 14  has Coherence Value of 0.5488\n",
      "Num Topics = 15  has Coherence Value of 0.5453\n",
      "Num Topics = 16  has Coherence Value of 0.5488\n",
      "Num Topics = 17  has Coherence Value of 0.5472\n",
      "Num Topics = 18  has Coherence Value of 0.5508\n",
      "Num Topics = 19  has Coherence Value of 0.5487\n",
      "Num Topics = 20  has Coherence Value of 0.5436\n",
      "Num Topics = 21  has Coherence Value of 0.549\n",
      "Num Topics = 22  has Coherence Value of 0.5457\n",
      "Num Topics = 23  has Coherence Value of 0.5454\n",
      "Num Topics = 24  has Coherence Value of 0.5385\n",
      "Num Topics = 25  has Coherence Value of 0.5403\n",
      "Num Topics = 26  has Coherence Value of 0.5404\n",
      "Num Topics = 27  has Coherence Value of 0.5301\n",
      "Num Topics = 28  has Coherence Value of 0.5442\n",
      "Num Topics = 29  has Coherence Value of 0.5475\n",
      "Num Topics = 30  has Coherence Value of 0.5429\n",
      "Num Topics = 31  has Coherence Value of 0.5407\n",
      "Num Topics = 32  has Coherence Value of 0.541\n",
      "Num Topics = 33  has Coherence Value of 0.5503\n",
      "Num Topics = 34  has Coherence Value of 0.5385\n",
      "Num Topics = 35  has Coherence Value of 0.5485\n",
      "Num Topics = 36  has Coherence Value of 0.5467\n",
      "Num Topics = 37  has Coherence Value of 0.5436\n",
      "Num Topics = 38  has Coherence Value of 0.5408\n",
      "Num Topics = 39  has Coherence Value of 0.5445\n",
      "Num Topics = 40  has Coherence Value of 0.5397\n",
      "Num Topics = 41  has Coherence Value of 0.5476\n",
      "Num Topics = 42  has Coherence Value of 0.5413\n",
      "Num Topics = 43  has Coherence Value of 0.5418\n",
      "Num Topics = 44  has Coherence Value of 0.5371\n",
      "Num Topics = 45  has Coherence Value of 0.5445\n",
      "Num Topics = 46  has Coherence Value of 0.5331\n",
      "Num Topics = 47  has Coherence Value of 0.5379\n",
      "Num Topics = 48  has Coherence Value of 0.543\n",
      "Num Topics = 49  has Coherence Value of 0.5423\n",
      "Num Topics = 50  has Coherence Value of 0.5513\n",
      "CPU times: total: 30min 33s\n",
      "Wall time: 1h 18min 2s\n"
     ]
    }
   ],
   "source": [
    "%%time \n",
    "\n",
    "import gensim\n",
    "from gensim.models import TfidfModel\n",
    "import gensim.corpora as corpora\n",
    "from gensim import models\n",
    "from gensim.utils import simple_preprocess\n",
    "from gensim.models.ldamulticore import LdaMulticore\n",
    "from gensim.models import CoherenceModel\n",
    "import logging\n",
    "logging.basicConfig(format='%(asctime)s : %(levelname)s : %(message)s', level=logging.ERROR)\n",
    "import warnings\n",
    "warnings.filterwarnings(\"ignore\",category=DeprecationWarning)\n",
    "import matplotlib.pyplot as plt\n",
    "\n",
    "\n",
    "def compute_coherence_values(dictionary, corpus, texts, limit, start=2, step=3):\n",
    "    \"\"\"\n",
    "    Compute c_v coherence for various number of topics\n",
    "\n",
    "    Args:\n",
    "  \n",
    "        dictionary : Gensim dictionary\n",
    "        corpus : Gensim corpus\n",
    "        texts : List of input texts\n",
    "        limit : Max num of topics\n",
    "\n",
    "    Returns:\n",
    "    \n",
    "        model_list : List of LDA topic models\n",
    "        coherence_values : Coherence values corresponding to the LDA model with respective number of topics\n",
    "    \"\"\"\n",
    "    coherence_values = []\n",
    "    model_list = []\n",
    "    \n",
    "    \n",
    "    for num_topics in range(start, limit, step):\n",
    "        \n",
    "        model = LdaMulticore(corpus=corpus,\n",
    "                            id2word=dictionary,\n",
    "                            num_topics=num_topics, \n",
    "                            random_state=42,\n",
    "                            passes=10,\n",
    "                            workers=7)\n",
    "\n",
    "        model_list.append(model)\n",
    "        coherencemodel = CoherenceModel(model=model, texts=texts, dictionary=dictionary, coherence='c_v')\n",
    "        coherence_values.append(coherencemodel.get_coherence())\n",
    "\n",
    "    return model_list, coherence_values\n",
    "\n",
    "data = pd.read_pickle(\"./data/cleaned_corpus.pkl\")\n",
    "texts = data['splitted_text'].to_list()\n",
    "id2word = corpora.Dictionary(texts)\n",
    "id2word.filter_extremes(no_below=1000)\n",
    "bow_corpus = [id2word.doc2bow(text) for text in texts]\n",
    "tfidf = TfidfModel(bow_corpus)\n",
    "tfidf_corpus = [tfidf[text] for text in bow_corpus]\n",
    "\n",
    "model_list, coherence_values = compute_coherence_values(dictionary=id2word, corpus=tfidf_corpus, texts=texts, start=2, limit=51, step=1)\n",
    "\n",
    "\n",
    "limit=51; start=2; step=1;\n",
    "x = range(start, limit, step)\n",
    "plt.plot(x, coherence_values)\n",
    "plt.xlabel(\"Num Topics\")\n",
    "plt.ylabel(\"Coherence score\")\n",
    "plt.legend((\"coherence_values\"), loc='best')\n",
    "plt.show()\n",
    "\n",
    "for m, cv in zip(x, coherence_values):\n",
    "    print(\"Num Topics =\", m, \" has Coherence Value of\", round(cv, 4))"
   ]
  },
  {
   "cell_type": "markdown",
   "id": "present-stevens",
   "metadata": {},
   "source": [
    "L’entrainement de l’ensemble des modèles a pris 1 h 18 minutes et 2 seconds soit environs 30 secondes par modèle.  Nous constatons que la cohérence maximale (0.5513) est atteinte avec 50 topics."
   ]
  },
  {
   "cell_type": "markdown",
   "id": "instant-dominican",
   "metadata": {},
   "source": [
    "### Indices de log perplexité, de cohérence et du top 20 des tags les plus représentés par topic. "
   ]
  },
  {
   "cell_type": "code",
   "execution_count": 32,
   "id": "geological-sculpture",
   "metadata": {},
   "outputs": [
    {
     "name": "stdout",
     "output_type": "stream",
     "text": [
      "\n",
      "Perplexity:  -5.241664715215457\n",
      "\n",
      "Coherence Score:  0.5622517062404714\n",
      "[(0,\n",
      "  '0.060*\"python\" + 0.052*\"file\" + 0.043*\"command\" + 0.039*\"error\" + '\n",
      "  '0.038*\"line\" + 0.037*\"install\" + 0.033*\"version\" + 0.033*\"project\" + '\n",
      "  '0.028*\"studio\" + 0.026*\"path\" + 0.025*\"script\" + 0.025*\"environment\" + '\n",
      "  '0.024*\"package\" + 0.021*\"build\" + 0.020*\"code\" + 0.019*\"module\" + '\n",
      "  '0.018*\"help\" + 0.016*\"anyone\" + 0.015*\"problem\" + 0.015*\"test\" + '\n",
      "  '0.015*\"process\" + 0.014*\"root\" + 0.014*\"issue\" + 0.013*\"http\" + '\n",
      "  '0.013*\"please\" + 0.013*\"image\" + 0.012*\"system\" + 0.012*\"home\" + '\n",
      "  '0.012*\"import\" + 0.012*\"name\"'),\n",
      " (1,\n",
      "  '0.061*\"time\" + 0.052*\"size\" + 0.042*\"page\" + 0.037*\"number\" + 0.036*\"code\" '\n",
      "  '+ 0.033*\"message\" + 0.032*\"work\" + 0.032*\"example\" + 0.030*\"user\" + '\n",
      "  '0.027*\"question\" + 0.027*\"something\" + 0.025*\"problem\" + 0.024*\"create\" + '\n",
      "  '0.023*\"solution\" + 0.022*\"text\" + 0.022*\"context\" + 0.020*\"application\" + '\n",
      "  '0.017*\"change\" + 0.016*\"function\" + 0.016*\"case\" + 0.016*\"class\" + '\n",
      "  '0.015*\"error\" + 0.014*\"help\" + 0.013*\"anyone\" + 0.013*\"issue\" + '\n",
      "  '0.013*\"name\" + 0.013*\"source\" + 0.012*\"return\" + 0.012*\"output\" + '\n",
      "  '0.012*\"value\"'),\n",
      " (2,\n",
      "  '0.121*\"java\" + 0.073*\"version\" + 0.061*\"android\" + 0.049*\"system\" + '\n",
      "  '0.039*\"google\" + 0.036*\"core\" + 0.025*\"application\" + 0.025*\"error\" + '\n",
      "  '0.024*\"class\" + 0.023*\"project\" + 0.022*\"exception\" + 0.017*\"studio\" + '\n",
      "  '0.017*\"name\" + 0.017*\"service\" + 0.017*\"start\" + 0.016*\"method\" + '\n",
      "  '0.015*\"http\" + 0.014*\"file\" + 0.013*\"server\" + 0.013*\"build\" + '\n",
      "  '0.013*\"configuration\" + 0.012*\"code\" + 0.012*\"test\" + 0.011*\"problem\" + '\n",
      "  '0.011*\"issue\" + 0.010*\"string\" + 0.009*\"help\" + 0.009*\"path\" + '\n",
      "  '0.009*\"message\" + 0.008*\"import\"'),\n",
      " (3,\n",
      "  '0.073*\"react\" + 0.072*\"import\" + 0.050*\"component\" + 0.045*\"index\" + '\n",
      "  '0.038*\"export\" + 0.038*\"const\" + 0.034*\"module\" + 0.029*\"html\" + '\n",
      "  '0.029*\"default\" + 0.027*\"node\" + 0.023*\"page\" + 0.023*\"path\" + '\n",
      "  '0.020*\"config\" + 0.019*\"error\" + 0.017*\"name\" + 0.017*\"home\" + 0.017*\"file\" '\n",
      "  '+ 0.017*\"function\" + 0.016*\"http\" + 0.016*\"return\" + 0.015*\"json\" + '\n",
      "  '0.015*\"script\" + 0.013*\"project\" + 0.012*\"code\" + 0.012*\"class\" + '\n",
      "  '0.011*\"type\" + 0.011*\"test\" + 0.010*\"server\" + 0.010*\"content\" + '\n",
      "  '0.010*\"core\"'),\n",
      " (4,\n",
      "  '0.056*\"request\" + 0.055*\"client\" + 0.046*\"http\" + 0.043*\"response\" + '\n",
      "  '0.041*\"access\" + 0.033*\"service\" + 0.030*\"github\" + 0.030*\"server\" + '\n",
      "  '0.026*\"post\" + 0.025*\"json\" + 0.025*\"status\" + 0.024*\"error\" + 0.024*\"name\" '\n",
      "  '+ 0.020*\"configuration\" + 0.019*\"node\" + 0.018*\"application\" + 0.016*\"user\" '\n",
      "  '+ 0.015*\"config\" + 0.015*\"code\" + 0.014*\"file\" + 0.013*\"message\" + '\n",
      "  '0.013*\"example\" + 0.012*\"return\" + 0.012*\"class\" + 0.011*\"test\" + '\n",
      "  '0.010*\"project\" + 0.010*\"default\" + 0.010*\"type\" + 0.010*\"body\" + '\n",
      "  '0.010*\"function\"'),\n",
      " (5,\n",
      "  '0.079*\"value\" + 0.058*\"list\" + 0.045*\"print\" + 0.044*\"name\" + 0.040*\"input\" '\n",
      "  '+ 0.039*\"type\" + 0.036*\"import\" + 0.031*\"result\" + 0.031*\"string\" + '\n",
      "  '0.029*\"output\" + 0.024*\"class\" + 0.023*\"json\" + 0.022*\"return\" + '\n",
      "  '0.022*\"test\" + 0.021*\"code\" + 0.021*\"file\" + 0.019*\"python\" + 0.018*\"none\" '\n",
      "  '+ 0.018*\"line\" + 0.018*\"error\" + 0.017*\"example\" + 0.015*\"text\" + '\n",
      "  '0.015*\"function\" + 0.014*\"package\" + 0.014*\"module\" + 0.012*\"number\" + '\n",
      "  '0.012*\"index\" + 0.010*\"size\" + 0.010*\"case\" + 0.010*\"create\"'),\n",
      " (6,\n",
      "  '0.057*\"image\" + 0.056*\"function\" + 0.053*\"const\" + 0.048*\"state\" + '\n",
      "  '0.047*\"button\" + 0.045*\"class\" + 0.035*\"return\" + 0.030*\"container\" + '\n",
      "  '0.025*\"value\" + 0.023*\"text\" + 0.023*\"name\" + 0.022*\"console\" + '\n",
      "  '0.021*\"component\" + 0.020*\"type\" + 0.019*\"body\" + 0.019*\"test\" + '\n",
      "  '0.018*\"method\" + 0.018*\"react\" + 0.018*\"import\" + 0.017*\"code\" + '\n",
      "  '0.015*\"input\" + 0.015*\"error\" + 0.014*\"number\" + 0.013*\"export\" + '\n",
      "  '0.012*\"example\" + 0.012*\"response\" + 0.012*\"change\" + 0.011*\"result\" + '\n",
      "  '0.011*\"call\" + 0.010*\"case\"')]\n",
      "CPU times: total: 13.7 s\n",
      "Wall time: 24.6 s\n"
     ]
    }
   ],
   "source": [
    "%%time\n",
    "from pprint import pprint\n",
    "optimal_model = model_list[5]\n",
    "\n",
    "print('\\nPerplexity: ', optimal_model.log_perplexity(tfidf_corpus))\n",
    "\n",
    "coherence_model_lda = CoherenceModel(model=optimal_model, texts=texts, dictionary=id2word, coherence='c_v')\n",
    "coherence_lda = coherence_model_lda.get_coherence()\n",
    "print('\\nCoherence Score: ', coherence_lda)\n",
    "\n",
    "model_topics = optimal_model.show_topics(formatted=False)\n",
    "pprint(optimal_model.print_topics(num_words=30))"
   ]
  },
  {
   "cell_type": "markdown",
   "id": "complex-artwork",
   "metadata": {},
   "source": [
    "Nous constatons un nombre important de tags génériques dans ceux les plus représentés."
   ]
  },
  {
   "cell_type": "markdown",
   "id": "worthy-christopher",
   "metadata": {},
   "source": [
    "### Test du topic dominant, des mots clés associés des documents du corpus"
   ]
  },
  {
   "cell_type": "code",
   "execution_count": 33,
   "id": "impressed-salmon",
   "metadata": {},
   "outputs": [
    {
     "name": "stderr",
     "output_type": "stream",
     "text": [
      "<timed exec>:16: FutureWarning: The frame.append method is deprecated and will be removed from pandas in a future version. Use pandas.concat instead.\n",
      "<timed exec>:16: FutureWarning: The frame.append method is deprecated and will be removed from pandas in a future version. Use pandas.concat instead.\n"
     ]
    },
    {
     "name": "stdout",
     "output_type": "stream",
     "text": [
      "CPU times: total: 18min 6s\n",
      "Wall time: 18min 36s\n"
     ]
    },
    {
     "data": {
      "text/html": [
       "<div>\n",
       "<style scoped>\n",
       "    .dataframe tbody tr th:only-of-type {\n",
       "        vertical-align: middle;\n",
       "    }\n",
       "\n",
       "    .dataframe tbody tr th {\n",
       "        vertical-align: top;\n",
       "    }\n",
       "\n",
       "    .dataframe thead th {\n",
       "        text-align: right;\n",
       "    }\n",
       "</style>\n",
       "<table border=\"1\" class=\"dataframe\">\n",
       "  <thead>\n",
       "    <tr style=\"text-align: right;\">\n",
       "      <th></th>\n",
       "      <th>Document_No</th>\n",
       "      <th>Dominant_Topic</th>\n",
       "      <th>Topic_Perc_Contrib</th>\n",
       "      <th>Keywords</th>\n",
       "      <th>Text</th>\n",
       "      <th>Original_keywords</th>\n",
       "    </tr>\n",
       "  </thead>\n",
       "  <tbody>\n",
       "    <tr>\n",
       "      <th>0</th>\n",
       "      <td>0.0</td>\n",
       "      <td>4.0</td>\n",
       "      <td>0.7100</td>\n",
       "      <td>request, client, http, response, access, servi...</td>\n",
       "      <td>Support for password authentication was remove...</td>\n",
       "      <td>[github, github, pull, personal, access, token]</td>\n",
       "    </tr>\n",
       "    <tr>\n",
       "      <th>1</th>\n",
       "      <td>1.0</td>\n",
       "      <td>0.0</td>\n",
       "      <td>0.7297</td>\n",
       "      <td>python, file, command, error, line, install, v...</td>\n",
       "      <td>NaN</td>\n",
       "      <td>NaN</td>\n",
       "    </tr>\n",
       "    <tr>\n",
       "      <th>2</th>\n",
       "      <td>2.0</td>\n",
       "      <td>3.0</td>\n",
       "      <td>0.6589</td>\n",
       "      <td>react, import, component, index, export, const...</td>\n",
       "      <td>Xcode building for iOS Simulator, but linking ...</td>\n",
       "      <td>[xcode, xcode, xcode, beta, xcode, beta]</td>\n",
       "    </tr>\n",
       "    <tr>\n",
       "      <th>3</th>\n",
       "      <td>3.0</td>\n",
       "      <td>3.0</td>\n",
       "      <td>0.7698</td>\n",
       "      <td>react, import, component, index, export, const...</td>\n",
       "      <td>Error message \"error:0308010C:digital envelope...</td>\n",
       "      <td>[node, reactjs, webpack, webstorm]</td>\n",
       "    </tr>\n",
       "    <tr>\n",
       "      <th>4</th>\n",
       "      <td>4.0</td>\n",
       "      <td>0.0</td>\n",
       "      <td>0.7535</td>\n",
       "      <td>python, file, command, error, line, install, v...</td>\n",
       "      <td>Attempted import error: 'Switch' is not export...</td>\n",
       "      <td>[reactjs]</td>\n",
       "    </tr>\n",
       "    <tr>\n",
       "      <th>5</th>\n",
       "      <td>5.0</td>\n",
       "      <td>0.0</td>\n",
       "      <td>0.7580</td>\n",
       "      <td>python, file, command, error, line, install, v...</td>\n",
       "      <td>Unable to resolve dependency tree error when i...</td>\n",
       "      <td>[angularjs, angular, typescript, angular]</td>\n",
       "    </tr>\n",
       "    <tr>\n",
       "      <th>6</th>\n",
       "      <td>6.0</td>\n",
       "      <td>2.0</td>\n",
       "      <td>0.5548</td>\n",
       "      <td>java, version, android, system, google, core, ...</td>\n",
       "      <td>Android Studio error \"Installed Build Tools re...</td>\n",
       "      <td>[android, android, studio, android, emulator, ...</td>\n",
       "    </tr>\n",
       "    <tr>\n",
       "      <th>7</th>\n",
       "      <td>7.0</td>\n",
       "      <td>6.0</td>\n",
       "      <td>0.5703</td>\n",
       "      <td>image, function, const, state, button, class, ...</td>\n",
       "      <td>No Firebase App '[DEFAULT]' has been created -...</td>\n",
       "      <td>[firebase, flutter, android, studio, dart, goo...</td>\n",
       "    </tr>\n",
       "    <tr>\n",
       "      <th>8</th>\n",
       "      <td>8.0</td>\n",
       "      <td>0.0</td>\n",
       "      <td>0.7827</td>\n",
       "      <td>python, file, command, error, line, install, v...</td>\n",
       "      <td>OnActivityResult method is deprecated, what is...</td>\n",
       "      <td>[android, android, fragment, android, activity...</td>\n",
       "    </tr>\n",
       "    <tr>\n",
       "      <th>9</th>\n",
       "      <td>9.0</td>\n",
       "      <td>3.0</td>\n",
       "      <td>0.7331</td>\n",
       "      <td>react, import, component, index, export, const...</td>\n",
       "      <td>`npm install` fails on node-gyp rebuild with `...</td>\n",
       "      <td>[node, terminal, macos, catalina, node]</td>\n",
       "    </tr>\n",
       "  </tbody>\n",
       "</table>\n",
       "</div>"
      ],
      "text/plain": [
       "   Document_No  Dominant_Topic  Topic_Perc_Contrib  \\\n",
       "0          0.0             4.0              0.7100   \n",
       "1          1.0             0.0              0.7297   \n",
       "2          2.0             3.0              0.6589   \n",
       "3          3.0             3.0              0.7698   \n",
       "4          4.0             0.0              0.7535   \n",
       "5          5.0             0.0              0.7580   \n",
       "6          6.0             2.0              0.5548   \n",
       "7          7.0             6.0              0.5703   \n",
       "8          8.0             0.0              0.7827   \n",
       "9          9.0             3.0              0.7331   \n",
       "\n",
       "                                            Keywords  \\\n",
       "0  request, client, http, response, access, servi...   \n",
       "1  python, file, command, error, line, install, v...   \n",
       "2  react, import, component, index, export, const...   \n",
       "3  react, import, component, index, export, const...   \n",
       "4  python, file, command, error, line, install, v...   \n",
       "5  python, file, command, error, line, install, v...   \n",
       "6  java, version, android, system, google, core, ...   \n",
       "7  image, function, const, state, button, class, ...   \n",
       "8  python, file, command, error, line, install, v...   \n",
       "9  react, import, component, index, export, const...   \n",
       "\n",
       "                                                Text  \\\n",
       "0  Support for password authentication was remove...   \n",
       "1                                                NaN   \n",
       "2  Xcode building for iOS Simulator, but linking ...   \n",
       "3  Error message \"error:0308010C:digital envelope...   \n",
       "4  Attempted import error: 'Switch' is not export...   \n",
       "5  Unable to resolve dependency tree error when i...   \n",
       "6  Android Studio error \"Installed Build Tools re...   \n",
       "7  No Firebase App '[DEFAULT]' has been created -...   \n",
       "8  OnActivityResult method is deprecated, what is...   \n",
       "9  `npm install` fails on node-gyp rebuild with `...   \n",
       "\n",
       "                                   Original_keywords  \n",
       "0    [github, github, pull, personal, access, token]  \n",
       "1                                                NaN  \n",
       "2           [xcode, xcode, xcode, beta, xcode, beta]  \n",
       "3                 [node, reactjs, webpack, webstorm]  \n",
       "4                                          [reactjs]  \n",
       "5          [angularjs, angular, typescript, angular]  \n",
       "6  [android, android, studio, android, emulator, ...  \n",
       "7  [firebase, flutter, android, studio, dart, goo...  \n",
       "8  [android, android, fragment, android, activity...  \n",
       "9            [node, terminal, macos, catalina, node]  "
      ]
     },
     "execution_count": 33,
     "metadata": {},
     "output_type": "execute_result"
    }
   ],
   "source": [
    "%%time\n",
    "\n",
    "original_post = data['Post']\n",
    "original_cleaned_keywords = data['splitted_tags']\n",
    "\n",
    "def format_topics_sentences(ldamodel, corpus, texts):\n",
    "    # Init output\n",
    "    sent_topics_df = pd.DataFrame()\n",
    "\n",
    "    # Get main topic in each document\n",
    "    for i, row in enumerate(ldamodel[corpus]):\n",
    "        row = sorted(row, key=lambda x: (x[1]), reverse=True)\n",
    "        # Get the Dominant topic, Perc Contribution and Keywords for each document\n",
    "        for j, (topic_num, prop_topic) in enumerate(row):\n",
    "            if j == 0:  # => dominant topic\n",
    "                wp = ldamodel.show_topic(topic_num)\n",
    "                topic_keywords = \", \".join([word for word, prop in wp])\n",
    "                sent_topics_df = sent_topics_df.append(pd.Series([int(topic_num), round(prop_topic,4), topic_keywords]), ignore_index=True)\n",
    "            else:\n",
    "                break\n",
    "    sent_topics_df.columns = ['Dominant_Topic', 'Perc_Contribution', 'Topic_Keywords']\n",
    "\n",
    "    # Add original text to the end of the output\n",
    "    contents = pd.Series(texts)\n",
    "    sent_topics_df = pd.concat([sent_topics_df, contents], axis=1)\n",
    "    return(sent_topics_df)\n",
    "\n",
    "df_topic_sents_keywords = format_topics_sentences(ldamodel=optimal_model, corpus=tfidf_corpus, texts=original_post)\n",
    "\n",
    "# Format\n",
    "df_dominant_topic = df_topic_sents_keywords.reset_index()\n",
    "df_dominant_topic = pd.concat([df_dominant_topic, original_cleaned_keywords], axis=1)\n",
    "df_dominant_topic.columns = ['Document_No', 'Dominant_Topic', 'Topic_Perc_Contrib', 'Keywords', 'Text', 'Original_keywords']\n",
    "\n",
    "# Show\n",
    "df_dominant_topic.head(10)"
   ]
  },
  {
   "cell_type": "markdown",
   "id": "reported-spiritual",
   "metadata": {},
   "source": [
    "### Document le plus significatif par topic"
   ]
  },
  {
   "cell_type": "code",
   "execution_count": 34,
   "id": "industrial-pointer",
   "metadata": {},
   "outputs": [
    {
     "name": "stdout",
     "output_type": "stream",
     "text": [
      "CPU times: total: 78.1 ms\n",
      "Wall time: 93 ms\n"
     ]
    },
    {
     "data": {
      "text/html": [
       "<div>\n",
       "<style scoped>\n",
       "    .dataframe tbody tr th:only-of-type {\n",
       "        vertical-align: middle;\n",
       "    }\n",
       "\n",
       "    .dataframe tbody tr th {\n",
       "        vertical-align: top;\n",
       "    }\n",
       "\n",
       "    .dataframe thead th {\n",
       "        text-align: right;\n",
       "    }\n",
       "</style>\n",
       "<table border=\"1\" class=\"dataframe\">\n",
       "  <thead>\n",
       "    <tr style=\"text-align: right;\">\n",
       "      <th></th>\n",
       "      <th>Topic_Num</th>\n",
       "      <th>Topic_Perc_Contrib</th>\n",
       "      <th>Keywords</th>\n",
       "      <th>Text</th>\n",
       "    </tr>\n",
       "  </thead>\n",
       "  <tbody>\n",
       "    <tr>\n",
       "      <th>0</th>\n",
       "      <td>0.0</td>\n",
       "      <td>0.8513</td>\n",
       "      <td>python, file, command, error, line, install, v...</td>\n",
       "      <td>pyarrow.lib.ArrowInvalid: ('Could not convert ...</td>\n",
       "    </tr>\n",
       "    <tr>\n",
       "      <th>1</th>\n",
       "      <td>1.0</td>\n",
       "      <td>0.8367</td>\n",
       "      <td>time, size, page, number, code, message, work,...</td>\n",
       "      <td>How to execute slickNext method in react-slick...</td>\n",
       "    </tr>\n",
       "    <tr>\n",
       "      <th>2</th>\n",
       "      <td>2.0</td>\n",
       "      <td>0.8493</td>\n",
       "      <td>java, version, android, system, google, core, ...</td>\n",
       "      <td>Pandas DataFrame to Excel cell alignment &lt;p&gt;I ...</td>\n",
       "    </tr>\n",
       "    <tr>\n",
       "      <th>3</th>\n",
       "      <td>3.0</td>\n",
       "      <td>0.8443</td>\n",
       "      <td>react, import, component, index, export, const...</td>\n",
       "      <td>Timestamp object has no attribute dt &lt;p&gt;I am t...</td>\n",
       "    </tr>\n",
       "    <tr>\n",
       "      <th>4</th>\n",
       "      <td>4.0</td>\n",
       "      <td>0.8636</td>\n",
       "      <td>request, client, http, response, access, servi...</td>\n",
       "      <td>how to fix npm audit error with loadVirtual an...</td>\n",
       "    </tr>\n",
       "    <tr>\n",
       "      <th>5</th>\n",
       "      <td>5.0</td>\n",
       "      <td>0.8368</td>\n",
       "      <td>value, list, print, name, input, type, import,...</td>\n",
       "      <td>Using Flutter Downloader plugin, after downloa...</td>\n",
       "    </tr>\n",
       "    <tr>\n",
       "      <th>6</th>\n",
       "      <td>6.0</td>\n",
       "      <td>0.8382</td>\n",
       "      <td>image, function, const, state, button, class, ...</td>\n",
       "      <td>Forcing a function to wait until another funct...</td>\n",
       "    </tr>\n",
       "  </tbody>\n",
       "</table>\n",
       "</div>"
      ],
      "text/plain": [
       "   Topic_Num  Topic_Perc_Contrib  \\\n",
       "0        0.0              0.8513   \n",
       "1        1.0              0.8367   \n",
       "2        2.0              0.8493   \n",
       "3        3.0              0.8443   \n",
       "4        4.0              0.8636   \n",
       "5        5.0              0.8368   \n",
       "6        6.0              0.8382   \n",
       "\n",
       "                                            Keywords  \\\n",
       "0  python, file, command, error, line, install, v...   \n",
       "1  time, size, page, number, code, message, work,...   \n",
       "2  java, version, android, system, google, core, ...   \n",
       "3  react, import, component, index, export, const...   \n",
       "4  request, client, http, response, access, servi...   \n",
       "5  value, list, print, name, input, type, import,...   \n",
       "6  image, function, const, state, button, class, ...   \n",
       "\n",
       "                                                Text  \n",
       "0  pyarrow.lib.ArrowInvalid: ('Could not convert ...  \n",
       "1  How to execute slickNext method in react-slick...  \n",
       "2  Pandas DataFrame to Excel cell alignment <p>I ...  \n",
       "3  Timestamp object has no attribute dt <p>I am t...  \n",
       "4  how to fix npm audit error with loadVirtual an...  \n",
       "5  Using Flutter Downloader plugin, after downloa...  \n",
       "6  Forcing a function to wait until another funct...  "
      ]
     },
     "execution_count": 34,
     "metadata": {},
     "output_type": "execute_result"
    }
   ],
   "source": [
    "%%time\n",
    "\n",
    "sent_topics_sorteddf = pd.DataFrame()\n",
    "\n",
    "sent_topics_outdf_grpd = df_topic_sents_keywords.groupby('Dominant_Topic')\n",
    "\n",
    "for i, grp in sent_topics_outdf_grpd:\n",
    "    sent_topics_sorteddf = pd.concat([sent_topics_sorteddf, \n",
    "                                             grp.sort_values(['Perc_Contribution'], ascending=[0]).head(1)], \n",
    "                                            axis=0)\n",
    "\n",
    "# Reset Index    \n",
    "sent_topics_sorteddf.reset_index(drop=True, inplace=True)\n",
    "\n",
    "# Format\n",
    "sent_topics_sorteddf.columns = ['Topic_Num', \"Topic_Perc_Contrib\", \"Keywords\", \"Text\"]\n",
    "\n",
    "# Show\n",
    "sent_topics_sorteddf"
   ]
  },
  {
   "cell_type": "markdown",
   "id": "loved-damages",
   "metadata": {},
   "source": [
    "### Répartition des topics"
   ]
  },
  {
   "cell_type": "markdown",
   "id": "excess-bacteria",
   "metadata": {},
   "source": [
    "Nous appréhendons tout d'abord la répartition des topics à l'aide d'un tableau;"
   ]
  },
  {
   "cell_type": "code",
   "execution_count": 35,
   "id": "regular-extreme",
   "metadata": {},
   "outputs": [
    {
     "name": "stdout",
     "output_type": "stream",
     "text": [
      "CPU times: total: 0 ns\n",
      "Wall time: 26 ms\n"
     ]
    },
    {
     "data": {
      "text/html": [
       "<div>\n",
       "<style scoped>\n",
       "    .dataframe tbody tr th:only-of-type {\n",
       "        vertical-align: middle;\n",
       "    }\n",
       "\n",
       "    .dataframe tbody tr th {\n",
       "        vertical-align: top;\n",
       "    }\n",
       "\n",
       "    .dataframe thead th {\n",
       "        text-align: right;\n",
       "    }\n",
       "</style>\n",
       "<table border=\"1\" class=\"dataframe\">\n",
       "  <thead>\n",
       "    <tr style=\"text-align: right;\">\n",
       "      <th></th>\n",
       "      <th>Dominant_Topic</th>\n",
       "      <th>Topic_Keywords</th>\n",
       "      <th>Num_Documents</th>\n",
       "      <th>Perc_Documents</th>\n",
       "    </tr>\n",
       "  </thead>\n",
       "  <tbody>\n",
       "    <tr>\n",
       "      <th>0.0</th>\n",
       "      <td>0.0</td>\n",
       "      <td>python, file, command, error, line, install, v...</td>\n",
       "      <td>4191</td>\n",
       "      <td>0.2253</td>\n",
       "    </tr>\n",
       "    <tr>\n",
       "      <th>1.0</th>\n",
       "      <td>1.0</td>\n",
       "      <td>time, size, page, number, code, message, work,...</td>\n",
       "      <td>2438</td>\n",
       "      <td>0.1311</td>\n",
       "    </tr>\n",
       "    <tr>\n",
       "      <th>2.0</th>\n",
       "      <td>2.0</td>\n",
       "      <td>java, version, android, system, google, core, ...</td>\n",
       "      <td>2268</td>\n",
       "      <td>0.1219</td>\n",
       "    </tr>\n",
       "    <tr>\n",
       "      <th>3.0</th>\n",
       "      <td>3.0</td>\n",
       "      <td>react, import, component, index, export, const...</td>\n",
       "      <td>2310</td>\n",
       "      <td>0.1242</td>\n",
       "    </tr>\n",
       "    <tr>\n",
       "      <th>4.0</th>\n",
       "      <td>4.0</td>\n",
       "      <td>request, client, http, response, access, servi...</td>\n",
       "      <td>2654</td>\n",
       "      <td>0.1427</td>\n",
       "    </tr>\n",
       "    <tr>\n",
       "      <th>5.0</th>\n",
       "      <td>5.0</td>\n",
       "      <td>value, list, print, name, input, type, import,...</td>\n",
       "      <td>2370</td>\n",
       "      <td>0.1274</td>\n",
       "    </tr>\n",
       "    <tr>\n",
       "      <th>6.0</th>\n",
       "      <td>6.0</td>\n",
       "      <td>image, function, const, state, button, class, ...</td>\n",
       "      <td>2368</td>\n",
       "      <td>0.1273</td>\n",
       "    </tr>\n",
       "  </tbody>\n",
       "</table>\n",
       "</div>"
      ],
      "text/plain": [
       "     Dominant_Topic                                     Topic_Keywords  \\\n",
       "0.0             0.0  python, file, command, error, line, install, v...   \n",
       "1.0             1.0  time, size, page, number, code, message, work,...   \n",
       "2.0             2.0  java, version, android, system, google, core, ...   \n",
       "3.0             3.0  react, import, component, index, export, const...   \n",
       "4.0             4.0  request, client, http, response, access, servi...   \n",
       "5.0             5.0  value, list, print, name, input, type, import,...   \n",
       "6.0             6.0  image, function, const, state, button, class, ...   \n",
       "\n",
       "     Num_Documents  Perc_Documents  \n",
       "0.0           4191          0.2253  \n",
       "1.0           2438          0.1311  \n",
       "2.0           2268          0.1219  \n",
       "3.0           2310          0.1242  \n",
       "4.0           2654          0.1427  \n",
       "5.0           2370          0.1274  \n",
       "6.0           2368          0.1273  "
      ]
     },
     "execution_count": 35,
     "metadata": {},
     "output_type": "execute_result"
    }
   ],
   "source": [
    "%%time \n",
    "# Number of Documents for Each Topic\n",
    "topic_counts = df_topic_sents_keywords['Dominant_Topic'].value_counts()\n",
    "\n",
    "# Percentage of Documents for Each Topic\n",
    "topic_contribution = round(topic_counts/topic_counts.sum(), 4)\n",
    "\n",
    "# Topic Number and Keywords\n",
    "topic_num_keywords = sent_topics_sorteddf[[\"Topic_Num\",\"Keywords\"]]\n",
    "\n",
    "# Concatenate Column wise\n",
    "df_dominant_topics_prop = pd.concat([topic_num_keywords, topic_counts, topic_contribution], axis=1)\n",
    "\n",
    "# Change Column names\n",
    "df_dominant_topics_prop.columns = ['Dominant_Topic', 'Topic_Keywords', 'Num_Documents', 'Perc_Documents']\n",
    "\n",
    "# Show\n",
    "df_dominant_topics_prop"
   ]
  },
  {
   "cell_type": "markdown",
   "id": "unavailable-usage",
   "metadata": {},
   "source": [
    "Nous ajoutons une visualisation spaciale des topics."
   ]
  },
  {
   "cell_type": "code",
   "execution_count": 36,
   "id": "planned-christopher",
   "metadata": {},
   "outputs": [
    {
     "data": {
      "text/html": [
       "<style> .jp-icon-warn0 path {fill: var(--jp-warn-color0);} .bp3-button-text path { fill: var(--jp-inverse-layout-color3);} .jp-icon-brand0 path { fill: var(--jp-brand-color0);} text.terms { fill: #616161;} </style>"
      ],
      "text/plain": [
       "<IPython.core.display.HTML object>"
      ]
     },
     "metadata": {},
     "output_type": "display_data"
    },
    {
     "name": "stderr",
     "output_type": "stream",
     "text": [
      "c:\\Python3\\lib\\site-packages\\past\\builtins\\misc.py:45: DeprecationWarning: the imp module is deprecated in favour of importlib and slated for removal in Python 3.12; see the module's documentation for alternative uses\n",
      "  from imp import reload\n",
      "c:\\Python3\\lib\\site-packages\\pyLDAvis\\_prepare.py:247: FutureWarning: In a future version of pandas all arguments of DataFrame.drop except for the argument 'labels' will be keyword-only.\n",
      "  by='saliency', ascending=False).head(R).drop('saliency', 1)\n"
     ]
    },
    {
     "data": {
      "text/html": [
       "\n",
       "<link rel=\"stylesheet\" type=\"text/css\" href=\"https://cdn.jsdelivr.net/gh/bmabey/pyLDAvis@3.3.1/pyLDAvis/js/ldavis.v1.0.0.css\">\n",
       "\n",
       "\n",
       "<div id=\"ldavis_el1276021913758572803419859548\"></div>\n",
       "<script type=\"text/javascript\">\n",
       "\n",
       "var ldavis_el1276021913758572803419859548_data = {\"mdsDat\": {\"x\": [-0.1267493398580777, -0.04314675094431712, 0.05376577168262481, 0.14725679455001658, 0.06872588695802291, -0.14805856844971343, 0.04820620606144375], \"y\": [-0.01282734442375639, -0.043509042221906886, -0.1286599733843884, -0.01875017678608839, 0.07780556664507919, 0.02671355831749354, 0.09922741185356694], \"topics\": [1, 2, 3, 4, 5, 6, 7], \"cluster\": [1, 1, 1, 1, 1, 1, 1], \"Freq\": [19.295284957961922, 15.51729623767219, 14.212570174208668, 13.386716416171582, 12.87446265602239, 12.639577501341922, 12.074092056621323]}, \"tinfo\": {\"Term\": [\"java\", \"react\", \"android\", \"value\", \"const\", \"version\", \"component\", \"request\", \"client\", \"python\", \"size\", \"list\", \"time\", \"import\", \"button\", \"system\", \"state\", \"image\", \"print\", \"page\", \"export\", \"response\", \"install\", \"index\", \"input\", \"function\", \"studio\", \"number\", \"command\", \"google\", \"install\", \"command\", \"python\", \"environment\", \"studio\", \"line\", \"build\", \"script\", \"root\", \"file\", \"project\", \"package\", \"process\", \"path\", \"anyone\", \"help\", \"please\", \"home\", \"error\", \"version\", \"module\", \"issue\", \"config\", \"source\", \"problem\", \"target\", \"call\", \"node\", \"system\", \"solution\", \"output\", \"code\", \"test\", \"image\", \"http\", \"import\", \"name\", \"client\", \"request\", \"response\", \"access\", \"github\", \"post\", \"status\", \"service\", \"configuration\", \"server\", \"http\", \"json\", \"node\", \"config\", \"body\", \"user\", \"application\", \"content\", \"name\", \"message\", \"method\", \"target\", \"exception\", \"example\", \"process\", \"error\", \"call\", \"source\", \"default\", \"case\", \"return\", \"code\", \"test\", \"core\", \"file\", \"create\", \"class\", \"project\", \"type\", \"function\", \"react\", \"export\", \"component\", \"index\", \"html\", \"import\", \"module\", \"node\", \"default\", \"const\", \"config\", \"home\", \"page\", \"path\", \"content\", \"script\", \"console\", \"root\", \"json\", \"process\", \"return\", \"function\", \"change\", \"http\", \"start\", \"server\", \"create\", \"project\", \"body\", \"core\", \"name\", \"error\", \"file\", \"type\", \"class\", \"code\", \"test\", \"state\", \"button\", \"image\", \"const\", \"container\", \"function\", \"console\", \"body\", \"class\", \"text\", \"return\", \"method\", \"component\", \"input\", \"call\", \"export\", \"number\", \"case\", \"content\", \"type\", \"value\", \"change\", \"result\", \"test\", \"react\", \"context\", \"post\", \"response\", \"target\", \"name\", \"code\", \"import\", \"example\", \"error\", \"print\", \"list\", \"input\", \"value\", \"string\", \"result\", \"output\", \"none\", \"type\", \"name\", \"json\", \"text\", \"test\", \"import\", \"return\", \"case\", \"call\", \"line\", \"number\", \"example\", \"package\", \"class\", \"target\", \"module\", \"python\", \"index\", \"code\", \"question\", \"exception\", \"size\", \"file\", \"function\", \"error\", \"create\", \"java\", \"android\", \"google\", \"system\", \"version\", \"exception\", \"core\", \"start\", \"studio\", \"application\", \"configuration\", \"service\", \"method\", \"build\", \"project\", \"string\", \"class\", \"server\", \"issue\", \"source\", \"environment\", \"context\", \"error\", \"content\", \"console\", \"home\", \"problem\", \"help\", \"target\", \"http\", \"test\", \"name\", \"file\", \"code\", \"path\", \"message\", \"import\", \"size\", \"time\", \"number\", \"page\", \"question\", \"context\", \"something\", \"solution\", \"user\", \"work\", \"message\", \"example\", \"case\", \"text\", \"create\", \"problem\", \"change\", \"source\", \"code\", \"anyone\", \"application\", \"issue\", \"please\", \"help\", \"output\", \"start\", \"method\", \"google\", \"function\", \"none\", \"button\", \"class\", \"return\", \"error\", \"name\", \"value\"], \"Freq\": [709.0, 601.0, 379.0, 775.0, 627.0, 859.0, 465.0, 471.0, 463.0, 710.0, 435.0, 511.0, 571.0, 993.0, 415.0, 471.0, 397.0, 603.0, 372.0, 457.0, 351.0, 428.0, 375.0, 461.0, 389.0, 714.0, 345.0, 389.0, 495.0, 361.0, 313.7329425719209, 365.8981302375345, 514.0087913273586, 209.0536791577271, 234.68429678214065, 327.0834880341182, 180.98765206156673, 211.40306576805364, 122.94281606531806, 443.7755733443346, 276.35165590115696, 204.28563172993836, 124.65071971825219, 222.07024885485583, 134.83785914482124, 152.16187244642572, 111.8143959357592, 104.97577633392726, 334.887316118667, 277.29163850428733, 157.7611628683835, 116.50045727608098, 92.26350815568887, 72.84670459281202, 128.1464868093677, 63.18882580773405, 62.62900045522216, 94.34710881978523, 105.1391548656327, 69.71200714371035, 88.53857103267238, 170.135062321663, 124.91361660077072, 110.8782363950199, 111.98509606728189, 104.61038496921047, 100.58017275240898, 378.73052407702204, 383.2851053805701, 291.11886404500945, 280.0581308613054, 207.30676656423694, 176.9997007264505, 169.32897704266364, 222.74799872560197, 136.81437315391753, 206.72672130081233, 311.23455166383167, 170.57601961615674, 131.80499318063193, 101.74162222964752, 69.85146261789416, 112.26077019866948, 123.36127471381067, 55.64847597815825, 164.55823778890078, 90.40100657603962, 64.37312721412904, 43.685424347024366, 46.74770547230871, 89.28421383991312, 47.35259826970655, 167.19908475048598, 44.844665086302044, 44.45117524798846, 70.90200375069197, 43.73161205203522, 85.15073887939053, 99.81330464179436, 77.25826201486181, 63.859645461081854, 98.79354682507048, 62.45733046637462, 85.1021259379396, 71.58830747053142, 70.1294863764056, 67.00457877155272, 458.83386900509277, 238.92387061897327, 314.60074442087955, 283.15052539940945, 183.78482118222843, 450.20573510149507, 214.2276697611815, 166.92930005723076, 181.62226064838669, 236.426246772953, 124.85132986348155, 105.89714752431289, 141.8461118597981, 141.7375763000362, 61.14381309590454, 90.7810288472353, 57.767987550734446, 44.95635177876547, 95.00112998378478, 46.047030376280254, 98.84391030186254, 103.40060810105344, 51.52718703419616, 100.43457192465127, 39.71865397645967, 61.226806418487826, 59.34578768637048, 79.46546213309178, 33.989709748380506, 59.82282292676999, 108.4319332556964, 118.39102702155246, 105.86153648010222, 67.44875780176923, 75.33205651511015, 76.47030978858416, 66.58898545932371, 281.3253051122873, 278.02478923401196, 337.34045678442953, 314.6039820919718, 177.76082049278915, 328.24902998328633, 129.48568245210703, 112.02096787739596, 266.56489956874236, 137.4502305365892, 204.41285358794178, 108.90676595241086, 125.80742063481587, 88.54597538229032, 62.033617346143146, 77.62899253964764, 82.73397179570551, 60.8897535711961, 50.043357841132774, 119.69449101880545, 149.27846477657278, 68.48204716777332, 67.03117832702092, 109.67825991897965, 106.1949226503206, 46.882989286658436, 47.37570424613183, 68.92604197299092, 38.248566538414494, 134.36077309030978, 102.01970647329844, 106.15167198137125, 70.41878861991495, 87.85778123762262, 253.38677732278038, 329.67249564997877, 226.86745079167758, 445.6167580766065, 174.0938564268463, 178.40089653837632, 165.73487433881002, 103.4977106030096, 223.03393349051217, 246.67971700323287, 130.72907474663722, 87.19061698323789, 126.48424853992645, 202.05616529498965, 126.6164610096417, 56.63146909630457, 53.359413801526294, 101.1545596078184, 70.2062579367928, 96.14969918697012, 78.4398985474882, 136.52748461421922, 43.74889972930602, 77.18360017543499, 106.80382510595251, 66.78425551250444, 120.00326024157532, 45.40867745564017, 37.36324711031353, 57.562348608149925, 119.09620474710175, 82.42018362581213, 100.41291493668434, 56.26427502496596, 672.6022882828028, 336.92929197197054, 217.922872449256, 271.4081451761944, 405.40230010856123, 124.89264814104631, 201.4377821043641, 93.2530014047217, 96.49813459148214, 141.5188109442052, 70.90222526271431, 95.30587321656832, 87.11305183399224, 71.29108189137675, 125.36494637037363, 56.78110447650883, 133.93205982209759, 72.983588443209, 60.31486378286236, 44.43317862774095, 41.63004534224686, 38.5008997654332, 138.72251921666037, 31.356625561137086, 37.66930956331812, 38.32247224521445, 62.96306261298655, 52.071608270561114, 30.407857800193565, 81.34570403465285, 66.61493536389027, 96.02389718619952, 77.51695665978336, 68.65546178014978, 51.82885351373955, 48.71784493556665, 46.779327470495915, 277.14219563470084, 323.5546140673627, 195.909358771669, 220.71811813948722, 144.99157092668148, 115.33297152686703, 141.3050696142133, 120.67841774661088, 159.16181078208965, 170.39238112344802, 174.72902194358275, 168.07053780363043, 85.92408212247027, 117.90916084169986, 126.45197079244035, 132.4195820265526, 92.0672372644212, 67.77972076588587, 193.2439759944932, 71.6311913503585, 108.68735525759259, 71.03679280366528, 58.21199828872932, 75.64752719402414, 63.21286987599116, 42.21140041272004, 51.807117195138815, 49.15856963445036, 86.11820965262739, 33.30673484381814, 47.58795636907962, 82.89865652184751, 66.24414991200315, 81.88694866949889, 69.94884356049896, 62.8846648788403], \"Total\": [709.0, 601.0, 379.0, 775.0, 627.0, 859.0, 465.0, 471.0, 463.0, 710.0, 435.0, 511.0, 571.0, 993.0, 415.0, 471.0, 397.0, 603.0, 372.0, 457.0, 351.0, 428.0, 375.0, 461.0, 389.0, 714.0, 345.0, 389.0, 495.0, 361.0, 375.3468897625952, 495.6086553543319, 710.2222945948209, 299.12654509507877, 345.76047351971204, 551.3519219934856, 310.6356500516086, 394.4554752593761, 244.40023750664184, 939.8428335698795, 614.7090173593737, 457.27819397238744, 291.45424317087355, 522.9746249745015, 345.1255387464961, 440.0204188104754, 326.0271154318644, 316.32999687205887, 1029.3575919511716, 859.7134558102252, 509.88540732536035, 388.11401498020416, 368.31334824104914, 290.9891960368326, 520.584147395895, 257.225449110085, 278.89478412513523, 420.23825358518036, 471.23157915072886, 327.6059838574686, 416.9567418779223, 830.3410812415582, 607.0125558141013, 603.0360447357496, 736.7345868087654, 993.3241805808971, 920.5835746372474, 463.0035959351651, 471.60290400600434, 428.8243487922079, 436.820281578204, 334.15771177036646, 285.54474980899784, 288.5120112036307, 401.20051153111876, 288.87307051521077, 464.21859409040627, 736.7345868087654, 536.2013833418603, 420.23825358518036, 368.31334824104914, 264.310382000962, 441.4320765318405, 537.2044248035106, 246.8057420761206, 920.5835746372474, 516.2728180764345, 368.5644179205338, 257.225449110085, 281.02296291038886, 540.5677472387073, 291.45424317087355, 1029.3575919511716, 278.89478412513523, 290.9891960368326, 468.31853539493954, 294.9464725567527, 626.273779054689, 830.3410812415582, 607.0125558141013, 466.5438167943125, 939.8428335698795, 456.2202760247492, 801.1702404331711, 614.7090173593737, 615.1063607779457, 714.3610054829883, 601.7132564344068, 351.7314341040424, 465.85678240948846, 461.56118491700624, 315.9882757862461, 993.3241805808971, 509.88540732536035, 420.23825358518036, 468.31853539493954, 627.1400874742335, 368.31334824104914, 316.32999687205887, 457.4547360081759, 522.9746249745015, 246.8057420761206, 394.4554752593761, 299.8688172710368, 244.40023750664184, 536.2013833418603, 291.45424317087355, 626.273779054689, 714.3610054829883, 364.21896641843773, 736.7345868087654, 291.67439662230925, 464.21859409040627, 456.2202760247492, 614.7090173593737, 264.310382000962, 466.5438167943125, 920.5835746372474, 1029.3575919511716, 939.8428335698795, 615.1063607779457, 801.1702404331711, 830.3410812415582, 607.0125558141013, 397.6679568805322, 415.691423985196, 603.0360447357496, 627.1400874742335, 362.79968461547895, 714.3610054829883, 299.8688172710368, 264.310382000962, 801.1702404331711, 417.455949798543, 626.273779054689, 368.5644179205338, 465.85678240948846, 389.3768449353964, 278.89478412513523, 351.7314341040424, 389.7762806665433, 294.9464725567527, 246.8057420761206, 615.1063607779457, 775.5977718997132, 364.21896641843773, 368.346558070677, 607.0125558141013, 601.7132564344068, 278.2189046160732, 285.54474980899784, 428.8243487922079, 257.225449110085, 920.5835746372474, 830.3410812415582, 993.3241805808971, 540.5677472387073, 1029.3575919511716, 372.9707835335819, 511.68487103125454, 389.3768449353964, 775.5977718997132, 338.5938201912765, 368.346558070677, 416.9567418779223, 283.68681989446895, 615.1063607779457, 920.5835746372474, 536.2013833418603, 417.455949798543, 607.0125558141013, 993.3241805808971, 626.273779054689, 294.9464725567527, 278.89478412513523, 551.3519219934856, 389.7762806665433, 540.5677472387073, 457.27819397238744, 801.1702404331711, 257.225449110085, 509.88540732536035, 710.2222945948209, 461.56118491700624, 830.3410812415582, 330.21984387387636, 281.02296291038886, 435.8573740336215, 939.8428335698795, 714.3610054829883, 1029.3575919511716, 456.2202760247492, 709.2431340831922, 379.7703341833611, 361.75485656644787, 471.23157915072886, 859.7134558102252, 281.02296291038886, 466.5438167943125, 291.67439662230925, 345.76047351971204, 537.2044248035106, 288.87307051521077, 401.20051153111876, 368.5644179205338, 310.6356500516086, 614.7090173593737, 338.5938201912765, 801.1702404331711, 464.21859409040627, 388.11401498020416, 290.9891960368326, 299.12654509507877, 278.2189046160732, 1029.3575919511716, 246.8057420761206, 299.8688172710368, 316.32999687205887, 520.584147395895, 440.0204188104754, 257.225449110085, 736.7345868087654, 607.0125558141013, 920.5835746372474, 939.8428335698795, 830.3410812415582, 522.9746249745015, 516.2728180764345, 993.3241805808971, 435.8573740336215, 571.2773405256368, 389.7762806665433, 457.4547360081759, 330.21984387387636, 278.2189046160732, 377.0074957924877, 327.6059838574686, 441.4320765318405, 493.55653394277397, 516.2728180764345, 540.5677472387073, 294.9464725567527, 417.455949798543, 456.2202760247492, 520.584147395895, 364.21896641843773, 290.9891960368326, 830.3410812415582, 345.1255387464961, 537.2044248035106, 388.11401498020416, 326.0271154318644, 440.0204188104754, 416.9567418779223, 291.67439662230925, 368.5644179205338, 361.75485656644787, 714.3610054829883, 283.68681989446895, 415.691423985196, 801.1702404331711, 626.273779054689, 1029.3575919511716, 920.5835746372474, 775.5977718997132], \"Category\": [\"Default\", \"Default\", \"Default\", \"Default\", \"Default\", \"Default\", \"Default\", \"Default\", \"Default\", \"Default\", \"Default\", \"Default\", \"Default\", \"Default\", \"Default\", \"Default\", \"Default\", \"Default\", \"Default\", \"Default\", \"Default\", \"Default\", \"Default\", \"Default\", \"Default\", \"Default\", \"Default\", \"Default\", \"Default\", \"Default\", \"Topic1\", \"Topic1\", \"Topic1\", \"Topic1\", \"Topic1\", \"Topic1\", \"Topic1\", \"Topic1\", \"Topic1\", \"Topic1\", \"Topic1\", \"Topic1\", \"Topic1\", \"Topic1\", \"Topic1\", \"Topic1\", \"Topic1\", \"Topic1\", \"Topic1\", \"Topic1\", \"Topic1\", \"Topic1\", \"Topic1\", \"Topic1\", \"Topic1\", \"Topic1\", \"Topic1\", \"Topic1\", \"Topic1\", \"Topic1\", \"Topic1\", \"Topic1\", \"Topic1\", \"Topic1\", \"Topic1\", \"Topic1\", \"Topic1\", \"Topic2\", \"Topic2\", \"Topic2\", \"Topic2\", \"Topic2\", \"Topic2\", \"Topic2\", \"Topic2\", \"Topic2\", \"Topic2\", \"Topic2\", \"Topic2\", \"Topic2\", \"Topic2\", \"Topic2\", \"Topic2\", \"Topic2\", \"Topic2\", \"Topic2\", \"Topic2\", \"Topic2\", \"Topic2\", \"Topic2\", \"Topic2\", \"Topic2\", \"Topic2\", \"Topic2\", \"Topic2\", \"Topic2\", \"Topic2\", \"Topic2\", \"Topic2\", \"Topic2\", \"Topic2\", \"Topic2\", \"Topic2\", \"Topic2\", \"Topic2\", \"Topic2\", \"Topic2\", \"Topic3\", \"Topic3\", \"Topic3\", \"Topic3\", \"Topic3\", \"Topic3\", \"Topic3\", \"Topic3\", \"Topic3\", \"Topic3\", \"Topic3\", \"Topic3\", \"Topic3\", \"Topic3\", \"Topic3\", \"Topic3\", \"Topic3\", \"Topic3\", \"Topic3\", \"Topic3\", \"Topic3\", \"Topic3\", \"Topic3\", \"Topic3\", \"Topic3\", \"Topic3\", \"Topic3\", \"Topic3\", \"Topic3\", \"Topic3\", \"Topic3\", \"Topic3\", \"Topic3\", \"Topic3\", \"Topic3\", \"Topic3\", \"Topic3\", \"Topic4\", \"Topic4\", \"Topic4\", \"Topic4\", \"Topic4\", \"Topic4\", \"Topic4\", \"Topic4\", \"Topic4\", \"Topic4\", \"Topic4\", \"Topic4\", \"Topic4\", \"Topic4\", \"Topic4\", \"Topic4\", \"Topic4\", \"Topic4\", \"Topic4\", \"Topic4\", \"Topic4\", \"Topic4\", \"Topic4\", \"Topic4\", \"Topic4\", \"Topic4\", \"Topic4\", \"Topic4\", \"Topic4\", \"Topic4\", \"Topic4\", \"Topic4\", \"Topic4\", \"Topic4\", \"Topic5\", \"Topic5\", \"Topic5\", \"Topic5\", \"Topic5\", \"Topic5\", \"Topic5\", \"Topic5\", \"Topic5\", \"Topic5\", \"Topic5\", \"Topic5\", \"Topic5\", \"Topic5\", \"Topic5\", \"Topic5\", \"Topic5\", \"Topic5\", \"Topic5\", \"Topic5\", \"Topic5\", \"Topic5\", \"Topic5\", \"Topic5\", \"Topic5\", \"Topic5\", \"Topic5\", \"Topic5\", \"Topic5\", \"Topic5\", \"Topic5\", \"Topic5\", \"Topic5\", \"Topic5\", \"Topic6\", \"Topic6\", \"Topic6\", \"Topic6\", \"Topic6\", \"Topic6\", \"Topic6\", \"Topic6\", \"Topic6\", \"Topic6\", \"Topic6\", \"Topic6\", \"Topic6\", \"Topic6\", \"Topic6\", \"Topic6\", \"Topic6\", \"Topic6\", \"Topic6\", \"Topic6\", \"Topic6\", \"Topic6\", \"Topic6\", \"Topic6\", \"Topic6\", \"Topic6\", \"Topic6\", \"Topic6\", \"Topic6\", \"Topic6\", \"Topic6\", \"Topic6\", \"Topic6\", \"Topic6\", \"Topic6\", \"Topic6\", \"Topic6\", \"Topic7\", \"Topic7\", \"Topic7\", \"Topic7\", \"Topic7\", \"Topic7\", \"Topic7\", \"Topic7\", \"Topic7\", \"Topic7\", \"Topic7\", \"Topic7\", \"Topic7\", \"Topic7\", \"Topic7\", \"Topic7\", \"Topic7\", \"Topic7\", \"Topic7\", \"Topic7\", \"Topic7\", \"Topic7\", \"Topic7\", \"Topic7\", \"Topic7\", \"Topic7\", \"Topic7\", \"Topic7\", \"Topic7\", \"Topic7\", \"Topic7\", \"Topic7\", \"Topic7\", \"Topic7\", \"Topic7\", \"Topic7\"], \"logprob\": [30.0, 29.0, 28.0, 27.0, 26.0, 25.0, 24.0, 23.0, 22.0, 21.0, 20.0, 19.0, 18.0, 17.0, 16.0, 15.0, 14.0, 13.0, 12.0, 11.0, 10.0, 9.0, 8.0, 7.0, 6.0, 5.0, 4.0, 3.0, 2.0, 1.0, -3.2992, -3.1453, -2.8055, -3.7051, -3.5895, -3.2575, -3.8493, -3.6939, -4.236, -2.9524, -3.426, -3.7282, -4.2222, -3.6447, -4.1436, -4.0228, -4.3309, -4.394, -3.2339, -3.4226, -3.9866, -4.2898, -4.523, -4.7593, -4.1945, -4.9016, -4.9105, -4.5007, -4.3924, -4.8033, -4.5643, -3.9111, -4.2201, -4.3393, -4.3293, -4.3975, -4.4367, -2.893, -2.881, -3.1561, -3.1948, -3.4956, -3.6536, -3.6979, -3.4237, -3.9112, -3.4984, -3.0892, -3.6906, -3.9485, -4.2074, -4.5834, -4.109, -4.0147, -4.8107, -3.7265, -4.3255, -4.6651, -5.0528, -4.985, -4.338, -4.9722, -3.7106, -5.0266, -5.0354, -4.5685, -5.0517, -4.3854, -4.2265, -4.4826, -4.6731, -4.2368, -4.6953, -4.3859, -4.5589, -4.5794, -4.625, -2.6133, -3.2658, -2.9907, -3.096, -3.5282, -2.6323, -3.3749, -3.6244, -3.54, -3.2763, -3.9148, -4.0795, -3.7872, -3.788, -4.6287, -4.2335, -4.6855, -4.9363, -4.1881, -4.9123, -4.1484, -4.1034, -4.7999, -4.1325, -5.0601, -4.6274, -4.6586, -4.3666, -5.2159, -4.6506, -4.0558, -3.968, -4.0798, -4.5306, -4.4201, -4.4051, -4.5434, -3.0426, -3.0544, -2.861, -2.9308, -3.5017, -2.8883, -3.8185, -3.9634, -3.0965, -3.7588, -3.362, -3.9916, -3.8473, -4.1986, -4.5544, -4.3302, -4.2665, -4.573, -4.7692, -3.8972, -3.6763, -4.4555, -4.4769, -3.9845, -4.0168, -4.8344, -4.824, -4.4491, -5.038, -3.7816, -4.0569, -4.0172, -4.4276, -4.2064, -3.1082, -2.845, -3.2187, -2.5436, -3.4835, -3.459, -3.5327, -4.0035, -3.2358, -3.135, -3.77, -4.175, -3.803, -3.3345, -3.8019, -4.6065, -4.666, -4.0264, -4.3916, -4.0772, -4.2807, -3.7266, -4.8646, -4.2969, -3.9721, -4.4416, -3.8556, -4.8274, -5.0224, -4.5902, -3.8631, -4.2312, -4.0338, -4.613, -2.1135, -2.8048, -3.2405, -3.021, -2.6198, -3.7972, -3.3192, -4.0894, -4.0551, -3.6722, -4.3634, -4.0676, -4.1575, -4.3579, -3.7934, -4.5855, -3.7273, -4.3344, -4.5251, -4.8307, -4.8958, -4.974, -3.6922, -5.1792, -4.9958, -4.9786, -4.4821, -4.672, -5.21, -4.226, -4.4257, -4.0601, -4.2742, -4.3956, -4.6767, -4.7386, -4.7792, -2.9544, -2.7995, -3.3012, -3.182, -3.6022, -3.8311, -3.628, -3.7858, -3.509, -3.4408, -3.4157, -3.4545, -4.1254, -3.809, -3.739, -3.6929, -4.0564, -4.3626, -3.3149, -4.3074, -3.8904, -4.3157, -4.5148, -4.2528, -4.4324, -4.8362, -4.6314, -4.6838, -4.1232, -5.0731, -4.7163, -4.1613, -4.3855, -4.1736, -4.3311, -4.4376], \"loglift\": [30.0, 29.0, 28.0, 27.0, 26.0, 25.0, 24.0, 23.0, 22.0, 21.0, 20.0, 19.0, 18.0, 17.0, 16.0, 15.0, 14.0, 13.0, 12.0, 11.0, 10.0, 9.0, 8.0, 7.0, 6.0, 5.0, 4.0, 3.0, 2.0, 1.0, 1.466, 1.3419, 1.322, 1.287, 1.2578, 1.1232, 1.1051, 1.0216, 0.9582, 0.8949, 0.8458, 0.8395, 0.7959, 0.7888, 0.7055, 0.5834, 0.5752, 0.5423, 0.5224, 0.5138, 0.4722, 0.4419, 0.261, 0.2604, 0.2435, 0.2415, 0.1517, 0.1515, 0.1452, 0.0979, 0.0958, 0.0601, 0.0644, -0.0482, -0.2386, -0.6055, -0.5687, 1.6623, 1.6559, 1.4759, 1.4187, 1.3858, 1.385, 1.3303, 1.2748, 1.1159, 1.0543, 1.0015, 0.7179, 0.7037, 0.5767, 0.5325, 0.494, 0.392, 0.3737, 0.1415, 0.1208, 0.1183, 0.0903, 0.0695, 0.0624, 0.046, 0.0457, 0.0356, -0.0157, -0.0246, -0.0455, -0.1321, -0.2553, -0.1982, -0.1254, -0.3895, -0.1253, -0.379, -0.287, -0.3082, -0.5034, 1.68, 1.5643, 1.5585, 1.4624, 1.4091, 1.1597, 1.0839, 1.0278, 1.0038, 0.9755, 0.8692, 0.8567, 0.7801, 0.6455, 0.5557, 0.482, 0.3041, 0.2579, 0.2204, 0.1058, 0.1048, 0.0183, -0.0046, -0.0417, -0.0428, -0.0747, -0.0886, -0.0948, -0.1, -0.1029, -0.1878, -0.2117, -0.2325, -0.2594, -0.4131, -0.4339, -0.259, 1.6648, 1.6087, 1.43, 1.3211, 1.2975, 1.2333, 1.1711, 1.1525, 0.9105, 0.9, 0.8913, 0.7918, 0.7018, 0.5299, 0.5077, 0.5, 0.461, 0.4332, 0.4152, 0.3741, 0.3631, 0.3397, 0.307, 0.2999, 0.2764, 0.2302, 0.2146, 0.1829, 0.1051, 0.0864, -0.0858, -0.2253, -0.0273, -0.4501, 1.6633, 1.6103, 1.5097, 1.4957, 1.3847, 1.3249, 1.1273, 1.0416, 1.0355, 0.733, 0.6385, 0.4838, 0.4815, 0.4574, 0.4513, 0.3997, 0.3961, 0.3542, 0.3358, 0.3232, 0.287, 0.2804, 0.2784, 0.1619, 0.1553, 0.1168, 0.1156, 0.0659, 0.0322, 0.0255, -0.0159, -0.1096, -0.2775, -0.043, 2.0153, 1.9486, 1.5615, 1.5166, 1.3166, 1.2574, 1.2285, 0.928, 0.7921, 0.7344, 0.6637, 0.631, 0.6259, 0.5965, 0.4784, 0.2827, 0.2796, 0.2182, 0.2066, 0.189, 0.0963, 0.0906, 0.0641, 0.0052, -0.0062, -0.0424, -0.0441, -0.0659, -0.0669, -0.1352, -0.1413, -0.1921, -0.4269, -0.4244, -0.2432, -0.2923, -0.9873, 1.6613, 1.5456, 1.4262, 1.3853, 1.291, 1.2335, 1.1328, 1.1154, 1.094, 1.0506, 1.0307, 0.9459, 0.8808, 0.8498, 0.831, 0.7451, 0.7389, 0.6571, 0.6562, 0.5417, 0.5162, 0.416, 0.3912, 0.3534, 0.2276, 0.1812, 0.152, 0.1182, -0.0016, -0.028, -0.0533, -0.1543, -0.1323, -0.4172, -0.4631, -0.3982]}, \"token.table\": {\"Topic\": [1, 2, 3, 4, 5, 6, 7, 1, 2, 3, 4, 5, 6, 7, 1, 2, 3, 4, 5, 6, 7, 1, 2, 3, 4, 5, 6, 7, 1, 2, 3, 4, 5, 6, 7, 1, 2, 3, 4, 5, 6, 7, 1, 2, 3, 4, 5, 6, 7, 1, 2, 3, 4, 5, 6, 7, 1, 2, 3, 4, 5, 6, 7, 1, 2, 3, 4, 5, 6, 7, 1, 2, 3, 4, 5, 6, 7, 1, 2, 3, 4, 5, 6, 7, 1, 2, 3, 4, 5, 6, 7, 1, 2, 3, 4, 5, 6, 7, 1, 2, 3, 4, 5, 6, 7, 1, 2, 3, 4, 5, 6, 7, 1, 2, 3, 4, 5, 6, 7, 1, 2, 3, 4, 5, 6, 7, 1, 2, 3, 4, 5, 6, 7, 1, 2, 3, 4, 5, 6, 7, 1, 2, 3, 4, 5, 6, 7, 1, 2, 3, 4, 5, 6, 7, 1, 2, 3, 4, 5, 6, 7, 1, 2, 3, 4, 5, 6, 7, 1, 2, 3, 4, 5, 6, 7, 1, 2, 3, 4, 5, 6, 7, 1, 2, 3, 4, 5, 6, 7, 1, 2, 3, 4, 5, 6, 7, 1, 2, 3, 4, 5, 6, 7, 1, 2, 3, 4, 5, 6, 7, 1, 2, 3, 4, 5, 6, 7, 1, 2, 3, 4, 5, 6, 7, 1, 2, 3, 4, 5, 6, 7, 1, 2, 3, 4, 5, 6, 7, 1, 2, 3, 4, 5, 6, 7, 1, 2, 3, 4, 5, 6, 7, 1, 2, 3, 4, 5, 6, 7, 1, 2, 3, 4, 5, 6, 7, 1, 2, 3, 4, 5, 6, 7, 1, 2, 3, 4, 5, 6, 7, 1, 2, 3, 4, 5, 6, 7, 1, 2, 3, 4, 5, 6, 7, 1, 2, 3, 4, 5, 6, 7, 1, 2, 3, 4, 5, 6, 7, 1, 2, 3, 4, 5, 6, 7, 1, 2, 3, 4, 5, 6, 7, 1, 2, 3, 4, 5, 6, 7, 1, 2, 3, 4, 5, 6, 7, 1, 2, 3, 4, 5, 6, 7, 1, 2, 3, 4, 5, 6, 7, 1, 2, 3, 4, 5, 6, 7, 1, 2, 3, 4, 5, 6, 7, 1, 2, 3, 4, 5, 6, 7, 1, 2, 3, 4, 5, 6, 7, 1, 2, 3, 4, 5, 6, 7, 1, 2, 3, 4, 5, 6, 7, 1, 2, 3, 4, 5, 6, 7, 1, 2, 3, 4, 5, 6, 7, 1, 2, 3, 4, 5, 6, 7, 1, 2, 3, 4, 5, 6, 7, 1, 2, 3, 4, 5, 6, 7, 1, 2, 3, 4, 5, 6, 7, 1, 2, 3, 4, 5, 6, 7, 1, 2, 3, 4, 5, 6, 7, 1, 2, 3, 4, 5, 6, 7, 1, 2, 3, 4, 5, 6, 7, 1, 2, 3, 4, 5, 6, 7, 1, 2, 3, 4, 5, 6, 7, 1, 2, 3, 4, 5, 6, 7, 1, 2, 3, 4, 5, 6, 7, 1, 2, 3, 4, 5, 6, 7, 1, 2, 3, 4, 5, 6, 7, 1, 2, 3, 4, 5, 6, 7, 1, 2, 3, 4, 5, 6, 7, 1, 2, 3, 4, 5, 6, 7, 1, 2, 3, 4, 5, 6, 7, 1, 2, 3, 4, 5, 6, 7, 1, 2, 3, 4, 5, 6, 7, 1, 2, 3, 4, 5, 6, 7, 1, 2, 3, 4, 5, 6, 7, 1, 2, 3, 4, 5, 6, 7, 1, 2, 3, 4, 5, 6, 7, 1, 2, 3, 4, 5, 6, 7, 1, 2, 3, 4, 5, 6, 7, 1, 2, 3, 5, 6, 7, 1, 2, 3, 4, 5, 6, 7, 1, 2, 3, 4, 5, 6, 7, 1, 2, 3, 4, 5, 6, 7, 1, 2, 3, 4, 5, 6, 7, 1, 2, 3, 4, 5, 6, 7, 1, 2, 3, 4, 5, 6, 7, 1, 2, 3, 4, 5, 6, 7, 1, 2, 3, 4, 5, 6, 7, 1, 2, 3, 4, 5, 6, 7, 1, 2, 3, 4, 5, 6, 7], \"Freq\": [0.10072792371505918, 0.6409958781867402, 0.03891760688990922, 0.03204979390933701, 0.045785419870481445, 0.07554594278629438, 0.06409958781867402, 0.0789951117812045, 0.010532681570827266, 0.005266340785413633, 0.0026331703927068165, 0.005266340785413633, 0.8873784223421972, 0.010532681570827266, 0.3911620116271984, 0.0695399131781686, 0.0695399131781686, 0.06374492041332121, 0.1043098697672529, 0.09561738061998182, 0.2086197395345058, 0.1340271909084422, 0.22896311780192208, 0.09121294936824538, 0.04467573030281407, 0.035368286489727806, 0.2643314042916499, 0.20290227512528056, 0.007566861297157524, 0.2648401454005133, 0.1286366420516779, 0.4237442326408213, 0.03783430648578762, 0.030267445188630095, 0.10593605816020532, 0.5826761994958689, 0.05794569939737922, 0.06438411044153247, 0.009657616566229871, 0.012876822088306495, 0.22856359206744029, 0.038630466264919484, 0.009622522306696545, 0.004811261153348272, 0.09863085364363959, 0.6687653003154099, 0.028867566920089634, 0.07457454787689823, 0.11547026768035853, 0.22589163937799925, 0.1613511709842852, 0.06095488681628551, 0.2223060578005707, 0.19003582360371366, 0.06095488681628551, 0.07888279470342831, 0.07458980542907434, 0.14917961085814868, 0.05085668551982341, 0.20681718778061522, 0.19325540497532898, 0.03729490271453717, 0.2915783303136542, 0.20592008356268648, 0.06589442674005967, 0.14277125793679596, 0.18670087576350242, 0.09884164011008952, 0.046675218940875604, 0.2525953025035621, 0.02621165757310939, 0.10609480446258562, 0.09361306276110497, 0.3332625034295337, 0.17099986131028508, 0.16725533879984086, 0.10359845612228949, 0.030237346152189357, 0.8185681565485547, 0.051835450546610325, 0.010799052197210484, 0.012958862636652581, 0.058314881864936614, 0.019438293954978873, 0.20473514299185272, 0.120432437054031, 0.09152865216106357, 0.12284108579511162, 0.14451892446483722, 0.08309838156728139, 0.23243460351427983, 0.7384858921366716, 0.09079744575450881, 0.022194931184435485, 0.014124047117368036, 0.020177210167668623, 0.06658479355330646, 0.048425304402404695, 0.002146582464309813, 0.012879494785858876, 0.676173476257591, 0.2704693905030364, 0.019319242178788314, 0.012879494785858876, 0.008586329857239252, 0.24978730865814014, 0.2769381030775032, 0.33938493024203825, 0.016290476651617834, 0.024435714977426755, 0.07602222437421656, 0.01900555609355414, 0.13500739245248003, 0.47425673758948117, 0.06231110420883694, 0.010385184034806157, 0.03115555210441847, 0.2457826888237457, 0.04154073613922463, 0.04001749868227808, 0.13005687071740374, 0.19341791029767738, 0.4301881108344893, 0.03334791556856506, 0.12672207916054723, 0.05002187335284759, 0.0015945400716248835, 0.060592522721745576, 0.3763114569034725, 0.5022801225618383, 0.030296261360872788, 0.004783620214874651, 0.02391810107437325, 0.18743125444574535, 0.13230441490287906, 0.06890854942858285, 0.4906288719315099, 0.011025367908573256, 0.05512683954286628, 0.05512683954286628, 0.03646592629609157, 0.22689909695345867, 0.24715794489573176, 0.20258847942273095, 0.04456946547300081, 0.1256048572420932, 0.11750131806518395, 0.03594292060706461, 0.09704588563907444, 0.061102965032009834, 0.16893172685320365, 0.08626300945695506, 0.14017739036755197, 0.413343586981243, 0.13717896946904776, 0.13717896946904776, 0.12860528387723227, 0.012860528387723226, 0.09216712011201646, 0.4308277009887281, 0.062159220540662266, 0.16439427167400025, 0.13589926458384022, 0.1293234937168802, 0.07233347953656011, 0.1227477228499202, 0.09644463938208014, 0.2761823764123204, 0.11317083564780189, 0.1516062137923384, 0.3886243790169801, 0.1259826283626474, 0.0747354575032654, 0.08541195143230332, 0.06192366478841991, 0.6987009458942147, 0.08691973489593101, 0.030087600540899196, 0.020058400360599464, 0.016715333633832888, 0.14040880252419624, 0.006686133453533155, 0.3254456979959701, 0.16223710915022987, 0.1146346040702223, 0.08549021320491154, 0.09714796955103584, 0.13503567767593982, 0.0796613350318494, 0.06659664803143148, 0.16464171318881668, 0.0758461824802414, 0.12949348228333896, 0.1775910614171506, 0.07214636870071743, 0.31078435748001354, 0.1708045474394418, 0.16724611936778674, 0.017792140358275185, 0.03914270878820541, 0.13166183865123637, 0.44480350895687965, 0.028467424573240297, 0.031273861058281734, 0.019901547946179286, 0.6794957084481213, 0.22176010568599774, 0.028430782780256122, 0.011372313112102449, 0.008529234834076837, 0.4724194132688331, 0.10533676106669926, 0.11278481487949618, 0.05213637668957842, 0.1266169148175476, 0.0829925996283085, 0.048944353626951174, 0.05039468801304455, 0.09379011380205513, 0.14418480181509968, 0.4591516018966281, 0.11478790047415703, 0.015398376892874724, 0.1203873102533842, 0.20349672506355224, 0.619467971884637, 0.06284457685786173, 0.008977796693980246, 0.020948192285953907, 0.056859379061874896, 0.023940791183947322, 0.06910757256249288, 0.09398629868499031, 0.046993149342495155, 0.011057211609998861, 0.04146454353749573, 0.6026180327449379, 0.13545084222248605, 0.3454385149009848, 0.09545011595948265, 0.06817865425677333, 0.09545011595948265, 0.10454060319371909, 0.11817633404507376, 0.1727192574504924, 0.3319318466103856, 0.08851515909610283, 0.33509310229238926, 0.056902602276066104, 0.018967534092022034, 0.12012771591613955, 0.050580090912058756, 0.0664581619294182, 0.10443425446051431, 0.5823000854768071, 0.09810490570533163, 0.028482069398322086, 0.0221527206431394, 0.09810490570533163, 0.1520221827580248, 0.42213302533701524, 0.13573409174823642, 0.06922438679160058, 0.035290863854541464, 0.1099446143160715, 0.07465375046153003, 0.18406859916415147, 0.0746224050665479, 0.05306482138065628, 0.5588389001650365, 0.02819068635847365, 0.05472309704880179, 0.048089994376219754, 0.10570567197769805, 0.0432889894765811, 0.45302430847584874, 0.10671239266319993, 0.203357578471381, 0.04731587221858865, 0.041275548105577334, 0.04766431996216459, 0.049830879960444795, 0.613136479513299, 0.04766431996216459, 0.14515951988477396, 0.006499679994840625, 0.08882895992948854, 0.023113855169002766, 0.02825026742878116, 0.04622771033800553, 0.22857034556013847, 0.5829827914848476, 0.015409236779335178, 0.07961439002656508, 0.8365594828788997, 0.05061984132069775, 0.039963032621603486, 0.002664202174773566, 0.01332101087386783, 0.05328404349547132, 0.005328404349547132, 0.3014578074588922, 0.12109843547493962, 0.11079218564728517, 0.06699062387975382, 0.059260936509013006, 0.15459374741481652, 0.18293593444086623, 0.009869676086534973, 0.014099537266478534, 0.0028199074532957065, 0.0014099537266478532, 0.0211493058997178, 0.9488988580340053, 0.0014099537266478532, 0.13800784984700534, 0.31891003140321506, 0.1771722396684528, 0.06527398303574576, 0.24431119364807702, 0.05035421548471816, 0.007459883775513802, 0.593087621455437, 0.04715681393835279, 0.03446074864725781, 0.036274472260271376, 0.18318608491437044, 0.04171564309931208, 0.06348032645547491, 0.05472118013489149, 0.06058416372077272, 0.03908655723920821, 0.06840147516861436, 0.6449281944469354, 0.05472118013489149, 0.08012744234037682, 0.17045251448231688, 0.17432643526600589, 0.06004577214717981, 0.08135233645746942, 0.08135233645746942, 0.09491105920038098, 0.3389680685727892, 0.02441906912983795, 0.17364671381218097, 0.03798521864641459, 0.2957420594613707, 0.09224981671272114, 0.23605100158843353, 0.14108795497239704, 0.30987354752668855, 0.029418374765191952, 0.41970214665007183, 0.0196122498434613, 0.15101432379465202, 0.054914299561691644, 0.01568979987476904, 0.10971301550736302, 0.17923413424470197, 0.11731688786925946, 0.1455598423563034, 0.2683080676269175, 0.10428167810600841, 0.07603872361896447, 0.22368263526239557, 0.3141075303684704, 0.3973936179661709, 0.016657217519540097, 0.01903682002233154, 0.026175627530705865, 0.0023796025027914424, 0.1727256839715991, 0.11985047459253816, 0.06345025125487315, 0.06345025125487315, 0.36307643773621856, 0.09870039084091378, 0.11632546063393409, 0.0179590199486473, 0.03848361417567279, 0.025655742783781858, 0.21294266510538942, 0.179590199486473, 0.020524594227025485, 0.5028525585621244, 0.21345139929661494, 0.03597495493763173, 0.0935348828378425, 0.04796660658350897, 0.3981228346431245, 0.06235658855856167, 0.15109481073805328, 0.4461179270934543, 0.09622151368682348, 0.1180900395247379, 0.05029760942720318, 0.17057450153573253, 0.08747410335165771, 0.0306159361730802, 0.017488069026914653, 0.0765103019927516, 0.31041322522773507, 0.08744034513457326, 0.013116051770185988, 0.013116051770185988, 0.48310790686851723, 0.42449478310888217, 0.09943121045793636, 0.2715236900966724, 0.034418495927747206, 0.05927629854223129, 0.09943121045793636, 0.011472831975915735, 0.3435297087226679, 0.14722701802400054, 0.06747904992766691, 0.0828151976385003, 0.07974796809633362, 0.10428580443366704, 0.1778993134456673, 0.06653948291015396, 0.6198678144788027, 0.03151870243112556, 0.1645976682514335, 0.04902909267063976, 0.02801662438322272, 0.04202493657483408, 0.05094232802899764, 0.06971055414494413, 0.008043525478262785, 0.0670293789855232, 0.678337315333495, 0.013405875797104642, 0.112609356695679, 0.2458776369589646, 0.1037296280920632, 0.086441356743386, 0.08452043770464408, 0.10180870905332129, 0.1210178994407404, 0.25356131311393226, 0.42888378854966647, 0.16126030449467457, 0.15782923418627726, 0.058328195242754635, 0.03431070308397332, 0.10636317956031728, 0.054897124934357305, 0.4489929254423866, 0.11712858924583999, 0.12851609097807443, 0.021148217502721108, 0.03253571923495555, 0.2033482452184722, 0.04555000692893777, 0.7237170726852992, 0.030976217118826036, 0.008448059214225282, 0.028160197380750943, 0.15065705598701754, 0.002816019738075094, 0.05491238489246433, 0.11810313863177646, 0.0908485681782896, 0.04845256969508778, 0.10296171060206154, 0.13627285226743438, 0.06359399772480272, 0.43910141286173304, 0.014957290542893492, 0.019943054057191323, 0.7628218176875681, 0.17616364417185668, 0.009971527028595661, 0.00664768468573044, 0.00664768468573044, 0.01908385195161015, 0.812123921940743, 0.02332470794085685, 0.0720945518171939, 0.01060213997311675, 0.04452898788709035, 0.01908385195161015, 0.013991742812410527, 0.6785995264019106, 0.07229067119745439, 0.16090504234272107, 0.027983485624821055, 0.027983485624821055, 0.018655657083214035, 0.05972636235623171, 0.10316371679712749, 0.0407225197883398, 0.1818939217212511, 0.48324056815496563, 0.05701152770367572, 0.07058570096645565, 0.03193491515833287, 0.1357233894229147, 0.1580778300337477, 0.3257361346149953, 0.20278671125541373, 0.03991864394791609, 0.10538522002249848, 0.5032728333443511, 0.1268411205989828, 0.18412420732110407, 0.06137473577370136, 0.05728308672212127, 0.05728308672212127, 0.012274947154740272, 0.5349146183387515, 0.06337850928184259, 0.23069777378590706, 0.07858935150948482, 0.045632526682926666, 0.012675701856368519, 0.035491965197831855, 0.16371597555008546, 0.44591061761668016, 0.13140361195467384, 0.019387418157246962, 0.006462472719082321, 0.15725350283100314, 0.07539551505596041, 0.06729801987778813, 0.5558317938054353, 0.03489526956626052, 0.05732794285885656, 0.03738778882099341, 0.23678932919962492, 0.009970077018931576, 0.027531942132690255, 0.029826270643747776, 0.03441492766586282, 0.1193050825749911, 0.13307105364133623, 0.020648956599517692, 0.6355289975629335, 0.21367131080992366, 0.08241607702668484, 0.06715384054026172, 0.07020628783754634, 0.09767831351310796, 0.10073076081039258, 0.3693461229714395, 0.16975789795762272, 0.10875115337910204, 0.07426908035645993, 0.10875115337910204, 0.11405608769027775, 0.04774440880058139, 0.37399786893788756, 0.25086842052637537, 0.15120836305699337, 0.09622350376354123, 0.05154830558761138, 0.06529452041097442, 0.15120836305699337, 0.23368565199717156, 0.17485250879267328, 0.1302822614533644, 0.13713922258248884, 0.03771328621018443, 0.054855689032995536, 0.31884869250428655, 0.1439961837116133, 0.04274923263456994, 0.02263194668888997, 0.09304244749876987, 0.7066196688420091, 0.05280787560740993, 0.03771991114814995, 0.04526389337777994, 0.11784604688781197, 0.5857641742364772, 0.04505878263357517, 0.10744786628006386, 0.038126662228409755, 0.08665150506456763, 0.017330301012913527, 0.011813564694536783, 0.08860173520902588, 0.04725425877814713, 0.09450851755629426, 0.5138900642123501, 0.16834329689714916, 0.0738347793408549, 0.6796612626301326, 0.011568702342640555, 0.0028921755856601387, 0.0057843511713202775, 0.2776488562233733, 0.02024522909962097, 0.22282038098812249, 0.0763955591959277, 0.010610494332767737, 0.012732593199321286, 0.04668617506417804, 0.5750887928360113, 0.055174570530392236, 0.2449213334759806, 0.17105616941179597, 0.07386516406418463, 0.14773032812836925, 0.17105616941179597, 0.11662920641713362, 0.07386516406418463, 0.20592654765164606, 0.12685075335341398, 0.11037662954128229, 0.18121536193344853, 0.20757396003285922, 0.11037662954128229, 0.057659433342460896, 0.023954623247856036, 0.03353647254699845, 0.09102756834185294, 0.3281783384956277, 0.20840522225634753, 0.03114101022221285, 0.2826645543247012, 0.11378011237097728, 0.09102408989678182, 0.043761581681145106, 0.04551204494839091, 0.08927362662953602, 0.050763434750128324, 0.5671500985876405, 0.06665513903667963, 0.11380145689189207, 0.10892425159652526, 0.19508821181467212, 0.36253892695559903, 0.06665513903667963, 0.08453822511969125, 0.10873700066637038, 0.25371966822153086, 0.07702204213867903, 0.09967558394417285, 0.06796062541648148, 0.03171495852769136, 0.3601913147073519, 0.01676126527305307, 0.046415811525377736, 0.055441108210867854, 0.19210988659114675, 0.575040331675513, 0.03223320244817898, 0.08122767016941104, 0.322200377495482, 0.069790695486386, 0.05350619987289593, 0.011631782581064334, 0.034895347743193, 0.47108719453310555, 0.03605852600129943, 0.18437604153073803, 0.09927940697808971, 0.11346217940353108, 0.10535773801756458, 0.07496608282019018, 0.07496608282019018, 0.3444387589035765], \"Term\": [\"access\", \"access\", \"access\", \"access\", \"access\", \"access\", \"access\", \"android\", \"android\", \"android\", \"android\", \"android\", \"android\", \"android\", \"anyone\", \"anyone\", \"anyone\", \"anyone\", \"anyone\", \"anyone\", \"anyone\", \"application\", \"application\", \"application\", \"application\", \"application\", \"application\", \"application\", \"body\", \"body\", \"body\", \"body\", \"body\", \"body\", \"body\", \"build\", \"build\", \"build\", \"build\", \"build\", \"build\", \"build\", \"button\", \"button\", \"button\", \"button\", \"button\", \"button\", \"button\", \"call\", \"call\", \"call\", \"call\", \"call\", \"call\", \"call\", \"case\", \"case\", \"case\", \"case\", \"case\", \"case\", \"case\", \"change\", \"change\", \"change\", \"change\", \"change\", \"change\", \"change\", \"class\", \"class\", \"class\", \"class\", \"class\", \"class\", \"class\", \"client\", \"client\", \"client\", \"client\", \"client\", \"client\", \"client\", \"code\", \"code\", \"code\", \"code\", \"code\", \"code\", \"code\", \"command\", \"command\", \"command\", \"command\", \"command\", \"command\", \"command\", \"component\", \"component\", \"component\", \"component\", \"component\", \"component\", \"component\", \"config\", \"config\", \"config\", \"config\", \"config\", \"config\", \"config\", \"configuration\", \"configuration\", \"configuration\", \"configuration\", \"configuration\", \"configuration\", \"configuration\", \"console\", \"console\", \"console\", \"console\", \"console\", \"console\", \"console\", \"const\", \"const\", \"const\", \"const\", \"const\", \"const\", \"const\", \"container\", \"container\", \"container\", \"container\", \"container\", \"container\", \"container\", \"content\", \"content\", \"content\", \"content\", \"content\", \"content\", \"content\", \"context\", \"context\", \"context\", \"context\", \"context\", \"context\", \"context\", \"core\", \"core\", \"core\", \"core\", \"core\", \"core\", \"core\", \"create\", \"create\", \"create\", \"create\", \"create\", \"create\", \"create\", \"default\", \"default\", \"default\", \"default\", \"default\", \"default\", \"default\", \"environment\", \"environment\", \"environment\", \"environment\", \"environment\", \"environment\", \"environment\", \"error\", \"error\", \"error\", \"error\", \"error\", \"error\", \"error\", \"example\", \"example\", \"example\", \"example\", \"example\", \"example\", \"example\", \"exception\", \"exception\", \"exception\", \"exception\", \"exception\", \"exception\", \"exception\", \"export\", \"export\", \"export\", \"export\", \"export\", \"export\", \"export\", \"file\", \"file\", \"file\", \"file\", \"file\", \"file\", \"file\", \"function\", \"function\", \"function\", \"function\", \"function\", \"function\", \"function\", \"github\", \"github\", \"github\", \"github\", \"github\", \"github\", \"github\", \"google\", \"google\", \"google\", \"google\", \"google\", \"google\", \"google\", \"help\", \"help\", \"help\", \"help\", \"help\", \"help\", \"help\", \"home\", \"home\", \"home\", \"home\", \"home\", \"home\", \"home\", \"html\", \"html\", \"html\", \"html\", \"html\", \"html\", \"html\", \"http\", \"http\", \"http\", \"http\", \"http\", \"http\", \"http\", \"image\", \"image\", \"image\", \"image\", \"image\", \"image\", \"image\", \"import\", \"import\", \"import\", \"import\", \"import\", \"import\", \"import\", \"index\", \"index\", \"index\", \"index\", \"index\", \"index\", \"index\", \"input\", \"input\", \"input\", \"input\", \"input\", \"input\", \"input\", \"install\", \"install\", \"install\", \"install\", \"install\", \"install\", \"install\", \"issue\", \"issue\", \"issue\", \"issue\", \"issue\", \"issue\", \"issue\", \"java\", \"java\", \"java\", \"java\", \"java\", \"java\", \"java\", \"json\", \"json\", \"json\", \"json\", \"json\", \"json\", \"json\", \"line\", \"line\", \"line\", \"line\", \"line\", \"line\", \"line\", \"list\", \"list\", \"list\", \"list\", \"list\", \"list\", \"list\", \"message\", \"message\", \"message\", \"message\", \"message\", \"message\", \"message\", \"method\", \"method\", \"method\", \"method\", \"method\", \"method\", \"method\", \"module\", \"module\", \"module\", \"module\", \"module\", \"module\", \"module\", \"name\", \"name\", \"name\", \"name\", \"name\", \"name\", \"name\", \"node\", \"node\", \"node\", \"node\", \"node\", \"node\", \"node\", \"none\", \"none\", \"none\", \"none\", \"none\", \"none\", \"none\", \"number\", \"number\", \"number\", \"number\", \"number\", \"number\", \"number\", \"output\", \"output\", \"output\", \"output\", \"output\", \"output\", \"output\", \"package\", \"package\", \"package\", \"package\", \"package\", \"package\", \"package\", \"page\", \"page\", \"page\", \"page\", \"page\", \"page\", \"page\", \"path\", \"path\", \"path\", \"path\", \"path\", \"path\", \"path\", \"please\", \"please\", \"please\", \"please\", \"please\", \"please\", \"please\", \"post\", \"post\", \"post\", \"post\", \"post\", \"post\", \"post\", \"print\", \"print\", \"print\", \"print\", \"print\", \"print\", \"print\", \"problem\", \"problem\", \"problem\", \"problem\", \"problem\", \"problem\", \"problem\", \"process\", \"process\", \"process\", \"process\", \"process\", \"process\", \"process\", \"project\", \"project\", \"project\", \"project\", \"project\", \"project\", \"project\", \"python\", \"python\", \"python\", \"python\", \"python\", \"python\", \"python\", \"question\", \"question\", \"question\", \"question\", \"question\", \"question\", \"question\", \"react\", \"react\", \"react\", \"react\", \"react\", \"react\", \"react\", \"request\", \"request\", \"request\", \"request\", \"request\", \"request\", \"request\", \"response\", \"response\", \"response\", \"response\", \"response\", \"response\", \"response\", \"result\", \"result\", \"result\", \"result\", \"result\", \"result\", \"result\", \"return\", \"return\", \"return\", \"return\", \"return\", \"return\", \"return\", \"root\", \"root\", \"root\", \"root\", \"root\", \"root\", \"root\", \"script\", \"script\", \"script\", \"script\", \"script\", \"script\", \"script\", \"server\", \"server\", \"server\", \"server\", \"server\", \"server\", \"server\", \"service\", \"service\", \"service\", \"service\", \"service\", \"service\", \"service\", \"size\", \"size\", \"size\", \"size\", \"size\", \"size\", \"size\", \"solution\", \"solution\", \"solution\", \"solution\", \"solution\", \"solution\", \"solution\", \"something\", \"something\", \"something\", \"something\", \"something\", \"something\", \"something\", \"source\", \"source\", \"source\", \"source\", \"source\", \"source\", \"source\", \"start\", \"start\", \"start\", \"start\", \"start\", \"start\", \"start\", \"state\", \"state\", \"state\", \"state\", \"state\", \"state\", \"state\", \"status\", \"status\", \"status\", \"status\", \"status\", \"status\", \"status\", \"string\", \"string\", \"string\", \"string\", \"string\", \"string\", \"string\", \"studio\", \"studio\", \"studio\", \"studio\", \"studio\", \"studio\", \"system\", \"system\", \"system\", \"system\", \"system\", \"system\", \"system\", \"target\", \"target\", \"target\", \"target\", \"target\", \"target\", \"target\", \"test\", \"test\", \"test\", \"test\", \"test\", \"test\", \"test\", \"text\", \"text\", \"text\", \"text\", \"text\", \"text\", \"text\", \"time\", \"time\", \"time\", \"time\", \"time\", \"time\", \"time\", \"type\", \"type\", \"type\", \"type\", \"type\", \"type\", \"type\", \"user\", \"user\", \"user\", \"user\", \"user\", \"user\", \"user\", \"value\", \"value\", \"value\", \"value\", \"value\", \"value\", \"value\", \"version\", \"version\", \"version\", \"version\", \"version\", \"version\", \"version\", \"work\", \"work\", \"work\", \"work\", \"work\", \"work\", \"work\"]}, \"R\": 30, \"lambda.step\": 0.01, \"plot.opts\": {\"xlab\": \"PC1\", \"ylab\": \"PC2\"}, \"topic.order\": [1, 5, 4, 7, 6, 3, 2]};\n",
       "\n",
       "function LDAvis_load_lib(url, callback){\n",
       "  var s = document.createElement('script');\n",
       "  s.src = url;\n",
       "  s.async = true;\n",
       "  s.onreadystatechange = s.onload = callback;\n",
       "  s.onerror = function(){console.warn(\"failed to load library \" + url);};\n",
       "  document.getElementsByTagName(\"head\")[0].appendChild(s);\n",
       "}\n",
       "\n",
       "if(typeof(LDAvis) !== \"undefined\"){\n",
       "   // already loaded: just create the visualization\n",
       "   !function(LDAvis){\n",
       "       new LDAvis(\"#\" + \"ldavis_el1276021913758572803419859548\", ldavis_el1276021913758572803419859548_data);\n",
       "   }(LDAvis);\n",
       "}else if(typeof define === \"function\" && define.amd){\n",
       "   // require.js is available: use it to load d3/LDAvis\n",
       "   require.config({paths: {d3: \"https://d3js.org/d3.v5\"}});\n",
       "   require([\"d3\"], function(d3){\n",
       "      window.d3 = d3;\n",
       "      LDAvis_load_lib(\"https://cdn.jsdelivr.net/gh/bmabey/pyLDAvis@3.3.1/pyLDAvis/js/ldavis.v3.0.0.js\", function(){\n",
       "        new LDAvis(\"#\" + \"ldavis_el1276021913758572803419859548\", ldavis_el1276021913758572803419859548_data);\n",
       "      });\n",
       "    });\n",
       "}else{\n",
       "    // require.js not available: dynamically load d3 & LDAvis\n",
       "    LDAvis_load_lib(\"https://d3js.org/d3.v5.js\", function(){\n",
       "         LDAvis_load_lib(\"https://cdn.jsdelivr.net/gh/bmabey/pyLDAvis@3.3.1/pyLDAvis/js/ldavis.v3.0.0.js\", function(){\n",
       "                 new LDAvis(\"#\" + \"ldavis_el1276021913758572803419859548\", ldavis_el1276021913758572803419859548_data);\n",
       "            })\n",
       "         });\n",
       "}\n",
       "</script>"
      ],
      "text/plain": [
       "<IPython.core.display.HTML object>"
      ]
     },
     "metadata": {},
     "output_type": "display_data"
    },
    {
     "name": "stdout",
     "output_type": "stream",
     "text": [
      "CPU times: total: 9.56 s\n",
      "Wall time: 23.5 s\n"
     ]
    }
   ],
   "source": [
    "%%time\n",
    "\n",
    "from IPython.display import HTML\n",
    "css_str = '<style> \\\n",
    ".jp-icon-warn0 path {fill: var(--jp-warn-color0);} \\\n",
    ".bp3-button-text path { fill: var(--jp-inverse-layout-color3);} \\\n",
    ".jp-icon-brand0 path { fill: var(--jp-brand-color0);} \\\n",
    "text.terms { fill: #616161;} \\\n",
    "</style>'\n",
    "display(HTML(css_str))\n",
    "\n",
    "import pyLDAvis\n",
    "import pyLDAvis.gensim_models  # don't skip this\n",
    "import matplotlib.pyplot as plt\n",
    "%matplotlib inline\n",
    "pyLDAvis.enable_notebook()\n",
    "vis = pyLDAvis.gensim_models.prepare(optimal_model, tfidf_corpus, id2word)\n",
    "pyLDAvis.save_html(vis, 'lda_tfidf.html')\n",
    "display(HTML('lda_tfidf.html'))"
   ]
  },
  {
   "cell_type": "markdown",
   "id": "younger-renaissance",
   "metadata": {},
   "source": [
    "En observant le tableau et le diagramme nous voyons que les documents sont répartis de manière assez égale hormis le topic 6 (sous-représenté à 12.6% of tokens) et le topic 1 (sur-représenté à 19.3% of tokens). Hormis le topic 1, des noms de technologies font partie des dix mots clés les plus représentés. \n",
    "\n",
    "Nous constatons cependant un nombre important de mots clés génériques associés à chaque topic comme par exemple error, number ou class. Enfin, les topics 7 et 5 ont de petites zones de recoupement."
   ]
  },
  {
   "cell_type": "markdown",
   "id": "disciplinary-chassis",
   "metadata": {},
   "source": [
    "### Fonction de prédiction"
   ]
  },
  {
   "cell_type": "markdown",
   "id": "latter-trance",
   "metadata": {},
   "source": [
    "La fonction de prédiction des tags que nous avons construisons retourne les 20 mots les plus représentés du topic le plus représenté du texte soumis au modèle. A l’image de l’approche supervisée nous filtrons les résultats en ne gardant que les mots clés présents dans le texte soumis. \n",
    "\n",
    "A noter que l’approche non supervisée ne nécessite que de maintenir, en plus du TF-IDF le modèle LDA ainsi qu’un vocabulary (dictionnaire de correspondance) lié au corpus."
   ]
  },
  {
   "cell_type": "code",
   "execution_count": 37,
   "id": "featured-review",
   "metadata": {},
   "outputs": [],
   "source": [
    "lda_model = optimal_model\n",
    "def predict_unsupervised_tags(text):\n",
    "    \"\"\"\n",
    "    Predict tags of a preprocessed text\n",
    "    \n",
    "    Args:\n",
    "        text(list): preprocessed text\n",
    "        \n",
    "    Returns:\n",
    "        relevant_tags(list): list of tags\n",
    "    \"\"\"\n",
    "    \n",
    "    corpus_new = id2word.doc2bow(text)\n",
    "    topics = lda_model.get_document_topics(corpus_new)\n",
    "    \n",
    "    #find most relevant topic according to probability\n",
    "    relevant_topic = topics[0][0]\n",
    "    relevant_topic_prob = topics[0][1]\n",
    "    \n",
    "    for i in range(len(topics)):\n",
    "        if topics[i][1] > relevant_topic_prob:\n",
    "            relevant_topic = topics[i][0]\n",
    "            relevant_topic_prob = topics[i][1]\n",
    "            \n",
    "    #retrieve associated to topic tags present in submited text\n",
    "    potential_tags = lda_model.get_topic_terms(topicid=relevant_topic, topn=20)\n",
    "    \n",
    "    relevant_tags = [id2word[tag[0]] for tag in potential_tags if id2word[tag[0]] in text]\n",
    "    \n",
    "    return relevant_tags"
   ]
  },
  {
   "cell_type": "markdown",
   "id": "lesser-spotlight",
   "metadata": {},
   "source": [
    "### Fonction de vérification"
   ]
  },
  {
   "cell_type": "markdown",
   "id": "ahead-juvenile",
   "metadata": {},
   "source": [
    "Nous mettons à jour la fonction de vérification afin de comparer pour un document les tags renseignés par les utilisateurs et ceux prédit par les approches supervisées et non supervisée. \n",
    "\n",
    "Nous la testons sur les premiers documents du corpus."
   ]
  },
  {
   "cell_type": "code",
   "execution_count": 38,
   "id": "ordered-consortium",
   "metadata": {},
   "outputs": [
    {
     "name": "stdout",
     "output_type": "stream",
     "text": [
      "Test des 10 premiers documents du corpus\n",
      "\n",
      "Document 0:\n",
      "\n",
      "\n",
      "Publication originale: \n",
      "\n",
      "Support for password authentication was removed. Please use a personal access token instead <p>I got this error on my console when I tried to use <code>git pull</code>:</p>\n",
      "<blockquote>\n",
      "<p>remote: Support for password authentication was removed on August 13, 2021. Please use a personal access token instead.<br />\n",
      "remote: Please see <a href=\"https://github.blog/2020-12-15-token-authentication-requirements-for-git-operations/\" rel=\"noreferrer\">https://github.blog/2020-12-15-token-authentication-requirements-for-git-operations/</a> for more information.<br />\n",
      "fatal: unable to access &quot;...&quot; : The requested URL returned error: 403</p>\n",
      "</blockquote>\n",
      "<p>It's very weird, because I just followed the documentation and created a token two weeks ago on GitHub. The token expires on Tue, Oct 26, 2021. Why has this been removed today?</p>\n",
      "\n",
      "\n",
      "\n",
      "Liste des tags pré-traités utilisés par l'utilisateur: ['github', 'github', 'pull', 'personal', 'access', 'token']\n",
      "\n",
      "\n",
      "Liste des tags prédits par le modèle supervisé: ['github']\n",
      "\n",
      "\n",
      "Liste des tags prédits par le modèle non supervisé: ['http', 'access', 'github']\n",
      "----------------------------------------------------------------------------------------------------\n",
      "\n",
      "Document 1:\n",
      "\n",
      "\n"
     ]
    },
    {
     "ename": "KeyError",
     "evalue": "1",
     "output_type": "error",
     "traceback": [
      "\u001b[1;31m---------------------------------------------------------------------------\u001b[0m",
      "\u001b[1;31mKeyError\u001b[0m                                  Traceback (most recent call last)",
      "File \u001b[1;32mc:\\Python3\\lib\\site-packages\\pandas\\core\\indexes\\base.py:3621\u001b[0m, in \u001b[0;36mIndex.get_loc\u001b[1;34m(self, key, method, tolerance)\u001b[0m\n\u001b[0;32m   <a href='file:///c%3A/Python3/lib/site-packages/pandas/core/indexes/base.py?line=3619'>3620</a>\u001b[0m \u001b[39mtry\u001b[39;00m:\n\u001b[1;32m-> <a href='file:///c%3A/Python3/lib/site-packages/pandas/core/indexes/base.py?line=3620'>3621</a>\u001b[0m     \u001b[39mreturn\u001b[39;00m \u001b[39mself\u001b[39;49m\u001b[39m.\u001b[39;49m_engine\u001b[39m.\u001b[39;49mget_loc(casted_key)\n\u001b[0;32m   <a href='file:///c%3A/Python3/lib/site-packages/pandas/core/indexes/base.py?line=3621'>3622</a>\u001b[0m \u001b[39mexcept\u001b[39;00m \u001b[39mKeyError\u001b[39;00m \u001b[39mas\u001b[39;00m err:\n",
      "File \u001b[1;32mc:\\Python3\\lib\\site-packages\\pandas\\_libs\\index.pyx:136\u001b[0m, in \u001b[0;36mpandas._libs.index.IndexEngine.get_loc\u001b[1;34m()\u001b[0m\n",
      "File \u001b[1;32mc:\\Python3\\lib\\site-packages\\pandas\\_libs\\index.pyx:163\u001b[0m, in \u001b[0;36mpandas._libs.index.IndexEngine.get_loc\u001b[1;34m()\u001b[0m\n",
      "File \u001b[1;32mpandas\\_libs\\hashtable_class_helper.pxi:2131\u001b[0m, in \u001b[0;36mpandas._libs.hashtable.Int64HashTable.get_item\u001b[1;34m()\u001b[0m\n",
      "File \u001b[1;32mpandas\\_libs\\hashtable_class_helper.pxi:2140\u001b[0m, in \u001b[0;36mpandas._libs.hashtable.Int64HashTable.get_item\u001b[1;34m()\u001b[0m\n",
      "\u001b[1;31mKeyError\u001b[0m: 1",
      "\nThe above exception was the direct cause of the following exception:\n",
      "\u001b[1;31mKeyError\u001b[0m                                  Traceback (most recent call last)",
      "\u001b[1;32mc:\\Users\\victo\\Desktop\\Project 5\\P5_draft\\P5_02_testdesmodels_draft.ipynb Cell 114'\u001b[0m in \u001b[0;36m<module>\u001b[1;34m\u001b[0m\n\u001b[0;32m     <a href='vscode-notebook-cell:/c%3A/Users/victo/Desktop/Project%205/P5_draft/P5_02_testdesmodels_draft.ipynb#ch0000115?line=22'>23</a>\u001b[0m \u001b[39mprint\u001b[39m(\u001b[39mf\u001b[39m\u001b[39m\"\u001b[39m\u001b[39mDocument \u001b[39m\u001b[39m{\u001b[39;00mi\u001b[39m}\u001b[39;00m\u001b[39m:\u001b[39m\u001b[39m\"\u001b[39m)\n\u001b[0;32m     <a href='vscode-notebook-cell:/c%3A/Users/victo/Desktop/Project%205/P5_draft/P5_02_testdesmodels_draft.ipynb#ch0000115?line=23'>24</a>\u001b[0m \u001b[39mprint\u001b[39m(\u001b[39m\"\u001b[39m\u001b[39m\\n\u001b[39;00m\u001b[39m\"\u001b[39m)\n\u001b[1;32m---> <a href='vscode-notebook-cell:/c%3A/Users/victo/Desktop/Project%205/P5_draft/P5_02_testdesmodels_draft.ipynb#ch0000115?line=24'>25</a>\u001b[0m check_tag_predction(filtered_tokenized_vs_original\u001b[39m.\u001b[39;49mloc[i,\u001b[39m'\u001b[39;49m\u001b[39mPost\u001b[39;49m\u001b[39m'\u001b[39;49m], \n\u001b[0;32m     <a href='vscode-notebook-cell:/c%3A/Users/victo/Desktop/Project%205/P5_draft/P5_02_testdesmodels_draft.ipynb#ch0000115?line=25'>26</a>\u001b[0m                 filtered_tokenized_vs_original\u001b[39m.\u001b[39mloc[i,\u001b[39m'\u001b[39m\u001b[39msplitted_tags\u001b[39m\u001b[39m'\u001b[39m],\n\u001b[0;32m     <a href='vscode-notebook-cell:/c%3A/Users/victo/Desktop/Project%205/P5_draft/P5_02_testdesmodels_draft.ipynb#ch0000115?line=26'>27</a>\u001b[0m                 filtered_tokenized_vs_original\u001b[39m.\u001b[39mloc[i,\u001b[39m'\u001b[39m\u001b[39msplitted_text\u001b[39m\u001b[39m'\u001b[39m],\n\u001b[0;32m     <a href='vscode-notebook-cell:/c%3A/Users/victo/Desktop/Project%205/P5_draft/P5_02_testdesmodels_draft.ipynb#ch0000115?line=27'>28</a>\u001b[0m                 svm_clf)\n\u001b[0;32m     <a href='vscode-notebook-cell:/c%3A/Users/victo/Desktop/Project%205/P5_draft/P5_02_testdesmodels_draft.ipynb#ch0000115?line=28'>29</a>\u001b[0m \u001b[39mprint\u001b[39m(\u001b[39m\"\u001b[39m\u001b[39m-\u001b[39m\u001b[39m\"\u001b[39m\u001b[39m*\u001b[39m\u001b[39m100\u001b[39m \u001b[39m+\u001b[39m \u001b[39m\"\u001b[39m\u001b[39m\\n\u001b[39;00m\u001b[39m\"\u001b[39m)\n",
      "File \u001b[1;32mc:\\Python3\\lib\\site-packages\\pandas\\core\\indexing.py:960\u001b[0m, in \u001b[0;36m_LocationIndexer.__getitem__\u001b[1;34m(self, key)\u001b[0m\n\u001b[0;32m    <a href='file:///c%3A/Python3/lib/site-packages/pandas/core/indexing.py?line=957'>958</a>\u001b[0m     key \u001b[39m=\u001b[39m \u001b[39mtuple\u001b[39m(com\u001b[39m.\u001b[39mapply_if_callable(x, \u001b[39mself\u001b[39m\u001b[39m.\u001b[39mobj) \u001b[39mfor\u001b[39;00m x \u001b[39min\u001b[39;00m key)\n\u001b[0;32m    <a href='file:///c%3A/Python3/lib/site-packages/pandas/core/indexing.py?line=958'>959</a>\u001b[0m     \u001b[39mif\u001b[39;00m \u001b[39mself\u001b[39m\u001b[39m.\u001b[39m_is_scalar_access(key):\n\u001b[1;32m--> <a href='file:///c%3A/Python3/lib/site-packages/pandas/core/indexing.py?line=959'>960</a>\u001b[0m         \u001b[39mreturn\u001b[39;00m \u001b[39mself\u001b[39;49m\u001b[39m.\u001b[39;49mobj\u001b[39m.\u001b[39;49m_get_value(\u001b[39m*\u001b[39;49mkey, takeable\u001b[39m=\u001b[39;49m\u001b[39mself\u001b[39;49m\u001b[39m.\u001b[39;49m_takeable)\n\u001b[0;32m    <a href='file:///c%3A/Python3/lib/site-packages/pandas/core/indexing.py?line=960'>961</a>\u001b[0m     \u001b[39mreturn\u001b[39;00m \u001b[39mself\u001b[39m\u001b[39m.\u001b[39m_getitem_tuple(key)\n\u001b[0;32m    <a href='file:///c%3A/Python3/lib/site-packages/pandas/core/indexing.py?line=961'>962</a>\u001b[0m \u001b[39melse\u001b[39;00m:\n\u001b[0;32m    <a href='file:///c%3A/Python3/lib/site-packages/pandas/core/indexing.py?line=962'>963</a>\u001b[0m     \u001b[39m# we by definition only have the 0th axis\u001b[39;00m\n",
      "File \u001b[1;32mc:\\Python3\\lib\\site-packages\\pandas\\core\\frame.py:3622\u001b[0m, in \u001b[0;36mDataFrame._get_value\u001b[1;34m(self, index, col, takeable)\u001b[0m\n\u001b[0;32m   <a href='file:///c%3A/Python3/lib/site-packages/pandas/core/frame.py?line=3615'>3616</a>\u001b[0m engine \u001b[39m=\u001b[39m \u001b[39mself\u001b[39m\u001b[39m.\u001b[39mindex\u001b[39m.\u001b[39m_engine\n\u001b[0;32m   <a href='file:///c%3A/Python3/lib/site-packages/pandas/core/frame.py?line=3617'>3618</a>\u001b[0m \u001b[39mif\u001b[39;00m \u001b[39mnot\u001b[39;00m \u001b[39misinstance\u001b[39m(\u001b[39mself\u001b[39m\u001b[39m.\u001b[39mindex, MultiIndex):\n\u001b[0;32m   <a href='file:///c%3A/Python3/lib/site-packages/pandas/core/frame.py?line=3618'>3619</a>\u001b[0m     \u001b[39m# CategoricalIndex: Trying to use the engine fastpath may give incorrect\u001b[39;00m\n\u001b[0;32m   <a href='file:///c%3A/Python3/lib/site-packages/pandas/core/frame.py?line=3619'>3620</a>\u001b[0m     \u001b[39m#  results if our categories are integers that dont match our codes\u001b[39;00m\n\u001b[0;32m   <a href='file:///c%3A/Python3/lib/site-packages/pandas/core/frame.py?line=3620'>3621</a>\u001b[0m     \u001b[39m# IntervalIndex: IntervalTree has no get_loc\u001b[39;00m\n\u001b[1;32m-> <a href='file:///c%3A/Python3/lib/site-packages/pandas/core/frame.py?line=3621'>3622</a>\u001b[0m     row \u001b[39m=\u001b[39m \u001b[39mself\u001b[39;49m\u001b[39m.\u001b[39;49mindex\u001b[39m.\u001b[39;49mget_loc(index)\n\u001b[0;32m   <a href='file:///c%3A/Python3/lib/site-packages/pandas/core/frame.py?line=3622'>3623</a>\u001b[0m     \u001b[39mreturn\u001b[39;00m series\u001b[39m.\u001b[39m_values[row]\n\u001b[0;32m   <a href='file:///c%3A/Python3/lib/site-packages/pandas/core/frame.py?line=3624'>3625</a>\u001b[0m \u001b[39m# For MultiIndex going through engine effectively restricts us to\u001b[39;00m\n\u001b[0;32m   <a href='file:///c%3A/Python3/lib/site-packages/pandas/core/frame.py?line=3625'>3626</a>\u001b[0m \u001b[39m#  same-length tuples; see test_get_set_value_no_partial_indexing\u001b[39;00m\n",
      "File \u001b[1;32mc:\\Python3\\lib\\site-packages\\pandas\\core\\indexes\\base.py:3623\u001b[0m, in \u001b[0;36mIndex.get_loc\u001b[1;34m(self, key, method, tolerance)\u001b[0m\n\u001b[0;32m   <a href='file:///c%3A/Python3/lib/site-packages/pandas/core/indexes/base.py?line=3620'>3621</a>\u001b[0m     \u001b[39mreturn\u001b[39;00m \u001b[39mself\u001b[39m\u001b[39m.\u001b[39m_engine\u001b[39m.\u001b[39mget_loc(casted_key)\n\u001b[0;32m   <a href='file:///c%3A/Python3/lib/site-packages/pandas/core/indexes/base.py?line=3621'>3622</a>\u001b[0m \u001b[39mexcept\u001b[39;00m \u001b[39mKeyError\u001b[39;00m \u001b[39mas\u001b[39;00m err:\n\u001b[1;32m-> <a href='file:///c%3A/Python3/lib/site-packages/pandas/core/indexes/base.py?line=3622'>3623</a>\u001b[0m     \u001b[39mraise\u001b[39;00m \u001b[39mKeyError\u001b[39;00m(key) \u001b[39mfrom\u001b[39;00m \u001b[39merr\u001b[39;00m\n\u001b[0;32m   <a href='file:///c%3A/Python3/lib/site-packages/pandas/core/indexes/base.py?line=3623'>3624</a>\u001b[0m \u001b[39mexcept\u001b[39;00m \u001b[39mTypeError\u001b[39;00m:\n\u001b[0;32m   <a href='file:///c%3A/Python3/lib/site-packages/pandas/core/indexes/base.py?line=3624'>3625</a>\u001b[0m     \u001b[39m# If we have a listlike key, _check_indexing_error will raise\u001b[39;00m\n\u001b[0;32m   <a href='file:///c%3A/Python3/lib/site-packages/pandas/core/indexes/base.py?line=3625'>3626</a>\u001b[0m     \u001b[39m#  InvalidIndexError. Otherwise we fall through and re-raise\u001b[39;00m\n\u001b[0;32m   <a href='file:///c%3A/Python3/lib/site-packages/pandas/core/indexes/base.py?line=3626'>3627</a>\u001b[0m     \u001b[39m#  the TypeError.\u001b[39;00m\n\u001b[0;32m   <a href='file:///c%3A/Python3/lib/site-packages/pandas/core/indexes/base.py?line=3627'>3628</a>\u001b[0m     \u001b[39mself\u001b[39m\u001b[39m.\u001b[39m_check_indexing_error(key)\n",
      "\u001b[1;31mKeyError\u001b[0m: 1"
     ]
    }
   ],
   "source": [
    "def check_tag_predction(original_text, original_tags, preprocessed_text, supervised_model):\n",
    "    \"\"\"\n",
    "    Check original tags vs predicted tags for a post.\n",
    "    \n",
    "    Args:\n",
    "        post(list) : original text\n",
    "        original_tags(list) : preprocessed_tags\n",
    "    \"\"\"\n",
    "    \n",
    "    predicted_supervised_tags = predict_supervised_tags(supervised_model, mlb, preprocessed_text)\n",
    "    predicted_unsupervised_tags = predict_unsupervised_tags(preprocessed_text)\n",
    "    print(\"Publication originale: \\n\")\n",
    "    print(f\"{original_text}\")\n",
    "    print(\"\\n\")\n",
    "    print(f\"Liste des tags pré-traités utilisés par l'utilisateur: {original_tags}\")\n",
    "    print(\"\\n\")\n",
    "    print(f\"Liste des tags prédits par le modèle supervisé: {predicted_supervised_tags}\")\n",
    "    print(\"\\n\")\n",
    "    print(f\"Liste des tags prédits par le modèle non supervisé: {predicted_unsupervised_tags}\")\n",
    "\n",
    "print(\"Test des 10 premiers documents du corpus\\n\")\n",
    "for i in range(10):\n",
    "    print(f\"Document {i}:\")\n",
    "    print(\"\\n\")\n",
    "    check_tag_predction(filtered_tokenized_vs_original.loc[i,'Post'], \n",
    "                    filtered_tokenized_vs_original.loc[i,'splitted_tags'],\n",
    "                    filtered_tokenized_vs_original.loc[i,'splitted_text'],\n",
    "                    svm_clf)\n",
    "    print(\"-\"*100 + \"\\n\")"
   ]
  },
  {
   "cell_type": "code",
   "execution_count": null,
   "id": "recovered-makeup",
   "metadata": {},
   "outputs": [],
   "source": [
    "import pickle \n",
    "\n",
    "filename_model = './models/lda_model.pkl'\n",
    "pickle.dump(lda_model, open(filename_model,'wb'))\n",
    "\n",
    "filename_dictionary = './models/dictionary.pkl'\n",
    "pickle.dump(id2word, open(filename_dictionary,'wb'))"
   ]
  },
  {
   "cell_type": "code",
   "execution_count": null,
   "id": "worth-brother",
   "metadata": {},
   "outputs": [],
   "source": []
  }
 ],
 "metadata": {
  "interpreter": {
   "hash": "3bd13bc16400e16874b7ce28af58a129343287e94248a182c1f06fbb6b76ef8e"
  },
  "kernelspec": {
   "display_name": "Python 3.10.2 64-bit",
   "language": "python",
   "name": "python3"
  },
  "language_info": {
   "codemirror_mode": {
    "name": "ipython",
    "version": 3
   },
   "file_extension": ".py",
   "mimetype": "text/x-python",
   "name": "python",
   "nbconvert_exporter": "python",
   "pygments_lexer": "ipython3",
   "version": "3.10.2"
  }
 },
 "nbformat": 4,
 "nbformat_minor": 5
}
